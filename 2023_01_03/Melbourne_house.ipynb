{
 "cells": [
  {
   "cell_type": "markdown",
   "source": [
    "# Data Analysis for Melbourne Houses\n",
    "This data analysis project aims to conduct statistics and analysis of houses in the Melbourne area, digging into the relationship between different suburb, house properties, year of construction, sellers and other information and house prices, as well as possible time series based trend analysis and prediction of house prices. The analysis of this project will be based on time and space dimensions, statistical analysis and exploratory analysis of Melbourne houses, which will provide data support for the decision-making of sellers, buyers, real estate agents and other stakeholders."
   ],
   "metadata": {
    "collapsed": false
   }
  },
  {
   "cell_type": "markdown",
   "source": [
    "## Data Source\n",
    "- melb_data.csv\n",
    "- suburb-10-vic.geojson"
   ],
   "metadata": {
    "collapsed": false
   }
  },
  {
   "cell_type": "markdown",
   "source": [
    "## Changes Log\n",
    "- 2023-01-05: started project"
   ],
   "metadata": {
    "collapsed": false
   }
  },
  {
   "cell_type": "code",
   "execution_count": 81,
   "outputs": [],
   "source": [
    "## load packages\n",
    "\n",
    "import pandas as pd\n",
    "import numpy as np\n",
    "import seaborn as sns\n",
    "import matplotlib.pyplot as plt\n",
    "import re\n",
    "import plotly\n",
    "\n",
    "import warnings\n",
    "\n",
    "warnings.filterwarnings('ignore')"
   ],
   "metadata": {
    "collapsed": false
   }
  },
  {
   "cell_type": "code",
   "execution_count": 82,
   "outputs": [
    {
     "data": {
      "text/plain": "       Suburb           Address  Rooms Type      Price Method SellerG  \\\n0  Abbotsford      85 Turner St      2    h  1480000.0      S  Biggin   \n1  Abbotsford   25 Bloomburg St      2    h  1035000.0      S  Biggin   \n2  Abbotsford      5 Charles St      3    h  1465000.0     SP  Biggin   \n3  Abbotsford  40 Federation La      3    h   850000.0     PI  Biggin   \n4  Abbotsford       55a Park St      4    h  1600000.0     VB  Nelson   \n\n        Date  Distance  Postcode  ...  Bathroom  Car  Landsize  BuildingArea  \\\n0  3/12/2016       2.5    3067.0  ...       1.0  1.0     202.0           NaN   \n1  4/02/2016       2.5    3067.0  ...       1.0  0.0     156.0          79.0   \n2  4/03/2017       2.5    3067.0  ...       2.0  0.0     134.0         150.0   \n3  4/03/2017       2.5    3067.0  ...       2.0  1.0      94.0           NaN   \n4  4/06/2016       2.5    3067.0  ...       1.0  2.0     120.0         142.0   \n\n   YearBuilt  CouncilArea Lattitude  Longtitude             Regionname  \\\n0        NaN        Yarra  -37.7996    144.9984  Northern Metropolitan   \n1     1900.0        Yarra  -37.8079    144.9934  Northern Metropolitan   \n2     1900.0        Yarra  -37.8093    144.9944  Northern Metropolitan   \n3        NaN        Yarra  -37.7969    144.9969  Northern Metropolitan   \n4     2014.0        Yarra  -37.8072    144.9941  Northern Metropolitan   \n\n  Propertycount  \n0        4019.0  \n1        4019.0  \n2        4019.0  \n3        4019.0  \n4        4019.0  \n\n[5 rows x 21 columns]",
      "text/html": "<div>\n<style scoped>\n    .dataframe tbody tr th:only-of-type {\n        vertical-align: middle;\n    }\n\n    .dataframe tbody tr th {\n        vertical-align: top;\n    }\n\n    .dataframe thead th {\n        text-align: right;\n    }\n</style>\n<table border=\"1\" class=\"dataframe\">\n  <thead>\n    <tr style=\"text-align: right;\">\n      <th></th>\n      <th>Suburb</th>\n      <th>Address</th>\n      <th>Rooms</th>\n      <th>Type</th>\n      <th>Price</th>\n      <th>Method</th>\n      <th>SellerG</th>\n      <th>Date</th>\n      <th>Distance</th>\n      <th>Postcode</th>\n      <th>...</th>\n      <th>Bathroom</th>\n      <th>Car</th>\n      <th>Landsize</th>\n      <th>BuildingArea</th>\n      <th>YearBuilt</th>\n      <th>CouncilArea</th>\n      <th>Lattitude</th>\n      <th>Longtitude</th>\n      <th>Regionname</th>\n      <th>Propertycount</th>\n    </tr>\n  </thead>\n  <tbody>\n    <tr>\n      <th>0</th>\n      <td>Abbotsford</td>\n      <td>85 Turner St</td>\n      <td>2</td>\n      <td>h</td>\n      <td>1480000.0</td>\n      <td>S</td>\n      <td>Biggin</td>\n      <td>3/12/2016</td>\n      <td>2.5</td>\n      <td>3067.0</td>\n      <td>...</td>\n      <td>1.0</td>\n      <td>1.0</td>\n      <td>202.0</td>\n      <td>NaN</td>\n      <td>NaN</td>\n      <td>Yarra</td>\n      <td>-37.7996</td>\n      <td>144.9984</td>\n      <td>Northern Metropolitan</td>\n      <td>4019.0</td>\n    </tr>\n    <tr>\n      <th>1</th>\n      <td>Abbotsford</td>\n      <td>25 Bloomburg St</td>\n      <td>2</td>\n      <td>h</td>\n      <td>1035000.0</td>\n      <td>S</td>\n      <td>Biggin</td>\n      <td>4/02/2016</td>\n      <td>2.5</td>\n      <td>3067.0</td>\n      <td>...</td>\n      <td>1.0</td>\n      <td>0.0</td>\n      <td>156.0</td>\n      <td>79.0</td>\n      <td>1900.0</td>\n      <td>Yarra</td>\n      <td>-37.8079</td>\n      <td>144.9934</td>\n      <td>Northern Metropolitan</td>\n      <td>4019.0</td>\n    </tr>\n    <tr>\n      <th>2</th>\n      <td>Abbotsford</td>\n      <td>5 Charles St</td>\n      <td>3</td>\n      <td>h</td>\n      <td>1465000.0</td>\n      <td>SP</td>\n      <td>Biggin</td>\n      <td>4/03/2017</td>\n      <td>2.5</td>\n      <td>3067.0</td>\n      <td>...</td>\n      <td>2.0</td>\n      <td>0.0</td>\n      <td>134.0</td>\n      <td>150.0</td>\n      <td>1900.0</td>\n      <td>Yarra</td>\n      <td>-37.8093</td>\n      <td>144.9944</td>\n      <td>Northern Metropolitan</td>\n      <td>4019.0</td>\n    </tr>\n    <tr>\n      <th>3</th>\n      <td>Abbotsford</td>\n      <td>40 Federation La</td>\n      <td>3</td>\n      <td>h</td>\n      <td>850000.0</td>\n      <td>PI</td>\n      <td>Biggin</td>\n      <td>4/03/2017</td>\n      <td>2.5</td>\n      <td>3067.0</td>\n      <td>...</td>\n      <td>2.0</td>\n      <td>1.0</td>\n      <td>94.0</td>\n      <td>NaN</td>\n      <td>NaN</td>\n      <td>Yarra</td>\n      <td>-37.7969</td>\n      <td>144.9969</td>\n      <td>Northern Metropolitan</td>\n      <td>4019.0</td>\n    </tr>\n    <tr>\n      <th>4</th>\n      <td>Abbotsford</td>\n      <td>55a Park St</td>\n      <td>4</td>\n      <td>h</td>\n      <td>1600000.0</td>\n      <td>VB</td>\n      <td>Nelson</td>\n      <td>4/06/2016</td>\n      <td>2.5</td>\n      <td>3067.0</td>\n      <td>...</td>\n      <td>1.0</td>\n      <td>2.0</td>\n      <td>120.0</td>\n      <td>142.0</td>\n      <td>2014.0</td>\n      <td>Yarra</td>\n      <td>-37.8072</td>\n      <td>144.9941</td>\n      <td>Northern Metropolitan</td>\n      <td>4019.0</td>\n    </tr>\n  </tbody>\n</table>\n<p>5 rows × 21 columns</p>\n</div>"
     },
     "execution_count": 82,
     "metadata": {},
     "output_type": "execute_result"
    }
   ],
   "source": [
    "## load data\n",
    "file = '/Users/lq/PycharmProjects/DA_Course/DataSource/DataSource_Melbourne_house/melb_data.csv'\n",
    "houses = pd.read_csv(file)\n",
    "\n",
    "houses.head()"
   ],
   "metadata": {
    "collapsed": false
   }
  },
  {
   "cell_type": "markdown",
   "source": [
    "## Step 1: Problem Statement and Usecases Analysis"
   ],
   "metadata": {
    "collapsed": false
   }
  },
  {
   "cell_type": "markdown",
   "source": [
    "### 1.1 Problem Statement\n",
    "\n",
    "1. Research the current state of the housing market in Melbourne, including prices, house types and areas.\n",
    "\n",
    "2. Understand the distribution of housing and the factors influencing the different levels of sparsity of housing in different areas.\n",
    "\n",
    "3. Identify the best areas to invest in, sell and build homes by comparing and compiling statistics on the price differences between homes in different areas and properties.\n",
    "\n",
    "4. Study housing market trends and forecast future price and type trends in the housing market."
   ],
   "metadata": {
    "collapsed": false
   }
  },
  {
   "cell_type": "markdown",
   "source": [
    "### 1.2 Usecases (User Stories)\n",
    "1. As a real estate agent, I want to be aware of trends in the Melbourne housing market, including changes in prices, house types and areas, so that I can provide a better service to my clients.\n",
    "\n",
    "2. As a home buyer, I want to be able to know the trends in the Melbourne housing market, including how prices have changed over the last few years, so that I can decide whether to buy now.\n",
    "\n",
    "3. As a home buyer, I want to be able to know the price differences between areas so that I can compare prices in different areas and choose the most affordable option.\n",
    "\n",
    "4. As an investor, I want to be able to know the price difference between areas so that I can compare the return on investment in different areas and choose the best value option.\n",
    "\n",
    "5. As a real estate agent, I want to be able to know the price differences between areas so that I can provide my clients with up-to-date information on the housing market and help them make informed decisions.\n",
    "\n",
    "6. As a real estate agent, I want to be able to predict future developments in the housing market, including changes in price and demand, so that I can provide better service to my clients.\n",
    "\n",
    "7. As a home buyer, I want to be able to predict future developments in the housing market so that I can decide whether to buy a home now."
   ],
   "metadata": {
    "collapsed": false
   }
  },
  {
   "cell_type": "markdown",
   "source": [
    "## Step 2: Data Preprocessing"
   ],
   "metadata": {
    "collapsed": false
   }
  },
  {
   "cell_type": "markdown",
   "source": [
    "### 2.1 Data Overview"
   ],
   "metadata": {
    "collapsed": false
   }
  },
  {
   "cell_type": "code",
   "execution_count": 83,
   "outputs": [
    {
     "name": "stdout",
     "output_type": "stream",
     "text": [
      "<class 'pandas.core.frame.DataFrame'>\n",
      "RangeIndex: 13580 entries, 0 to 13579\n",
      "Data columns (total 21 columns):\n",
      " #   Column         Non-Null Count  Dtype  \n",
      "---  ------         --------------  -----  \n",
      " 0   Suburb         13580 non-null  object \n",
      " 1   Address        13580 non-null  object \n",
      " 2   Rooms          13580 non-null  int64  \n",
      " 3   Type           13580 non-null  object \n",
      " 4   Price          13580 non-null  float64\n",
      " 5   Method         13580 non-null  object \n",
      " 6   SellerG        13580 non-null  object \n",
      " 7   Date           13580 non-null  object \n",
      " 8   Distance       13580 non-null  float64\n",
      " 9   Postcode       13580 non-null  float64\n",
      " 10  Bedroom2       13580 non-null  float64\n",
      " 11  Bathroom       13580 non-null  float64\n",
      " 12  Car            13518 non-null  float64\n",
      " 13  Landsize       13580 non-null  float64\n",
      " 14  BuildingArea   7130 non-null   float64\n",
      " 15  YearBuilt      8205 non-null   float64\n",
      " 16  CouncilArea    12211 non-null  object \n",
      " 17  Lattitude      13580 non-null  float64\n",
      " 18  Longtitude     13580 non-null  float64\n",
      " 19  Regionname     13580 non-null  object \n",
      " 20  Propertycount  13580 non-null  float64\n",
      "dtypes: float64(12), int64(1), object(8)\n",
      "memory usage: 2.2+ MB\n"
     ]
    }
   ],
   "source": [
    "houses.info()"
   ],
   "metadata": {
    "collapsed": false
   }
  },
  {
   "cell_type": "code",
   "execution_count": 84,
   "outputs": [
    {
     "data": {
      "text/plain": "              Rooms         Price      Distance      Postcode      Bedroom2  \\\ncount  13580.000000  1.358000e+04  13580.000000  13580.000000  13580.000000   \nmean       2.937997  1.075684e+06     10.137776   3105.301915      2.914728   \nstd        0.955748  6.393107e+05      5.868725     90.676964      0.965921   \nmin        1.000000  8.500000e+04      0.000000   3000.000000      0.000000   \n25%        2.000000  6.500000e+05      6.100000   3044.000000      2.000000   \n50%        3.000000  9.030000e+05      9.200000   3084.000000      3.000000   \n75%        3.000000  1.330000e+06     13.000000   3148.000000      3.000000   \nmax       10.000000  9.000000e+06     48.100000   3977.000000     20.000000   \n\n           Bathroom           Car       Landsize  BuildingArea    YearBuilt  \\\ncount  13580.000000  13518.000000   13580.000000   7130.000000  8205.000000   \nmean       1.534242      1.610075     558.416127    151.967650  1964.684217   \nstd        0.691712      0.962634    3990.669241    541.014538    37.273762   \nmin        0.000000      0.000000       0.000000      0.000000  1196.000000   \n25%        1.000000      1.000000     177.000000     93.000000  1940.000000   \n50%        1.000000      2.000000     440.000000    126.000000  1970.000000   \n75%        2.000000      2.000000     651.000000    174.000000  1999.000000   \nmax        8.000000     10.000000  433014.000000  44515.000000  2018.000000   \n\n          Lattitude    Longtitude  Propertycount  \ncount  13580.000000  13580.000000   13580.000000  \nmean     -37.809203    144.995216    7454.417378  \nstd        0.079260      0.103916    4378.581772  \nmin      -38.182550    144.431810     249.000000  \n25%      -37.856822    144.929600    4380.000000  \n50%      -37.802355    145.000100    6555.000000  \n75%      -37.756400    145.058305   10331.000000  \nmax      -37.408530    145.526350   21650.000000  ",
      "text/html": "<div>\n<style scoped>\n    .dataframe tbody tr th:only-of-type {\n        vertical-align: middle;\n    }\n\n    .dataframe tbody tr th {\n        vertical-align: top;\n    }\n\n    .dataframe thead th {\n        text-align: right;\n    }\n</style>\n<table border=\"1\" class=\"dataframe\">\n  <thead>\n    <tr style=\"text-align: right;\">\n      <th></th>\n      <th>Rooms</th>\n      <th>Price</th>\n      <th>Distance</th>\n      <th>Postcode</th>\n      <th>Bedroom2</th>\n      <th>Bathroom</th>\n      <th>Car</th>\n      <th>Landsize</th>\n      <th>BuildingArea</th>\n      <th>YearBuilt</th>\n      <th>Lattitude</th>\n      <th>Longtitude</th>\n      <th>Propertycount</th>\n    </tr>\n  </thead>\n  <tbody>\n    <tr>\n      <th>count</th>\n      <td>13580.000000</td>\n      <td>1.358000e+04</td>\n      <td>13580.000000</td>\n      <td>13580.000000</td>\n      <td>13580.000000</td>\n      <td>13580.000000</td>\n      <td>13518.000000</td>\n      <td>13580.000000</td>\n      <td>7130.000000</td>\n      <td>8205.000000</td>\n      <td>13580.000000</td>\n      <td>13580.000000</td>\n      <td>13580.000000</td>\n    </tr>\n    <tr>\n      <th>mean</th>\n      <td>2.937997</td>\n      <td>1.075684e+06</td>\n      <td>10.137776</td>\n      <td>3105.301915</td>\n      <td>2.914728</td>\n      <td>1.534242</td>\n      <td>1.610075</td>\n      <td>558.416127</td>\n      <td>151.967650</td>\n      <td>1964.684217</td>\n      <td>-37.809203</td>\n      <td>144.995216</td>\n      <td>7454.417378</td>\n    </tr>\n    <tr>\n      <th>std</th>\n      <td>0.955748</td>\n      <td>6.393107e+05</td>\n      <td>5.868725</td>\n      <td>90.676964</td>\n      <td>0.965921</td>\n      <td>0.691712</td>\n      <td>0.962634</td>\n      <td>3990.669241</td>\n      <td>541.014538</td>\n      <td>37.273762</td>\n      <td>0.079260</td>\n      <td>0.103916</td>\n      <td>4378.581772</td>\n    </tr>\n    <tr>\n      <th>min</th>\n      <td>1.000000</td>\n      <td>8.500000e+04</td>\n      <td>0.000000</td>\n      <td>3000.000000</td>\n      <td>0.000000</td>\n      <td>0.000000</td>\n      <td>0.000000</td>\n      <td>0.000000</td>\n      <td>0.000000</td>\n      <td>1196.000000</td>\n      <td>-38.182550</td>\n      <td>144.431810</td>\n      <td>249.000000</td>\n    </tr>\n    <tr>\n      <th>25%</th>\n      <td>2.000000</td>\n      <td>6.500000e+05</td>\n      <td>6.100000</td>\n      <td>3044.000000</td>\n      <td>2.000000</td>\n      <td>1.000000</td>\n      <td>1.000000</td>\n      <td>177.000000</td>\n      <td>93.000000</td>\n      <td>1940.000000</td>\n      <td>-37.856822</td>\n      <td>144.929600</td>\n      <td>4380.000000</td>\n    </tr>\n    <tr>\n      <th>50%</th>\n      <td>3.000000</td>\n      <td>9.030000e+05</td>\n      <td>9.200000</td>\n      <td>3084.000000</td>\n      <td>3.000000</td>\n      <td>1.000000</td>\n      <td>2.000000</td>\n      <td>440.000000</td>\n      <td>126.000000</td>\n      <td>1970.000000</td>\n      <td>-37.802355</td>\n      <td>145.000100</td>\n      <td>6555.000000</td>\n    </tr>\n    <tr>\n      <th>75%</th>\n      <td>3.000000</td>\n      <td>1.330000e+06</td>\n      <td>13.000000</td>\n      <td>3148.000000</td>\n      <td>3.000000</td>\n      <td>2.000000</td>\n      <td>2.000000</td>\n      <td>651.000000</td>\n      <td>174.000000</td>\n      <td>1999.000000</td>\n      <td>-37.756400</td>\n      <td>145.058305</td>\n      <td>10331.000000</td>\n    </tr>\n    <tr>\n      <th>max</th>\n      <td>10.000000</td>\n      <td>9.000000e+06</td>\n      <td>48.100000</td>\n      <td>3977.000000</td>\n      <td>20.000000</td>\n      <td>8.000000</td>\n      <td>10.000000</td>\n      <td>433014.000000</td>\n      <td>44515.000000</td>\n      <td>2018.000000</td>\n      <td>-37.408530</td>\n      <td>145.526350</td>\n      <td>21650.000000</td>\n    </tr>\n  </tbody>\n</table>\n</div>"
     },
     "execution_count": 84,
     "metadata": {},
     "output_type": "execute_result"
    }
   ],
   "source": [
    "houses.describe()"
   ],
   "metadata": {
    "collapsed": false
   }
  },
  {
   "cell_type": "markdown",
   "source": [
    "### 2.2 FillNa"
   ],
   "metadata": {
    "collapsed": false
   }
  },
  {
   "cell_type": "code",
   "execution_count": 85,
   "outputs": [
    {
     "data": {
      "text/plain": "Index(['Car', 'BuildingArea', 'YearBuilt', 'CouncilArea'], dtype='object')"
     },
     "execution_count": 85,
     "metadata": {},
     "output_type": "execute_result"
    }
   ],
   "source": [
    "columns_with_na = houses.columns[houses.isnull().any()]\n",
    "columns_with_na"
   ],
   "metadata": {
    "collapsed": false
   }
  },
  {
   "cell_type": "code",
   "execution_count": 86,
   "outputs": [
    {
     "name": "stdout",
     "output_type": "stream",
     "text": [
      "<class 'pandas.core.frame.DataFrame'>\n",
      "RangeIndex: 13580 entries, 0 to 13579\n",
      "Data columns (total 4 columns):\n",
      " #   Column        Non-Null Count  Dtype  \n",
      "---  ------        --------------  -----  \n",
      " 0   Car           13518 non-null  float64\n",
      " 1   BuildingArea  7130 non-null   float64\n",
      " 2   YearBuilt     8205 non-null   float64\n",
      " 3   CouncilArea   12211 non-null  object \n",
      "dtypes: float64(3), object(1)\n",
      "memory usage: 424.5+ KB\n"
     ]
    }
   ],
   "source": [
    "houses[columns_with_na].info()"
   ],
   "metadata": {
    "collapsed": false
   }
  },
  {
   "cell_type": "code",
   "execution_count": 87,
   "outputs": [],
   "source": [
    "## global setting of plot styles\n",
    "\n",
    "sns.set_style(\"whitegrid\")\n",
    "sns.set_context(\"notebook\")\n",
    "sns.set_palette(\"deep\")"
   ],
   "metadata": {
    "collapsed": false
   }
  },
  {
   "cell_type": "markdown",
   "source": [
    "#### 2.2.1 FillNa in Col Car\n",
    "Check the percentage of null values in the car column and determine if the null values need to be filled by plotting the countplot and distplot."
   ],
   "metadata": {
    "collapsed": false
   }
  },
  {
   "cell_type": "code",
   "execution_count": 88,
   "outputs": [
    {
     "data": {
      "text/plain": "count    13518.000000\nmean         1.610075\nstd          0.962634\nmin          0.000000\n25%          1.000000\n50%          2.000000\n75%          2.000000\nmax         10.000000\nName: Car, dtype: float64"
     },
     "execution_count": 88,
     "metadata": {},
     "output_type": "execute_result"
    }
   ],
   "source": [
    "houses['Car'].describe()"
   ],
   "metadata": {
    "collapsed": false
   }
  },
  {
   "cell_type": "code",
   "execution_count": 89,
   "outputs": [
    {
     "data": {
      "text/plain": "Type\nh    60\nu     2\nName: Car, dtype: int64"
     },
     "execution_count": 89,
     "metadata": {},
     "output_type": "execute_result"
    }
   ],
   "source": [
    "null_car_rows = houses[houses['Car'].isnull()]\n",
    "\n",
    "null_car_rows.groupby('Type')['Car'].size()"
   ],
   "metadata": {
    "collapsed": false
   }
  },
  {
   "cell_type": "markdown",
   "source": [
    "我试图寻找Car列中空值的情况，并且尝试发现一些规律。我对所有Car为nan的rows进行了提取，并且观察到Car为nan时，Type值几乎都为h，因此我对Type列进行分组，并且观察到当Type为h时，几乎是所有的Car都为nan。我认为h代表的很有可能是house，这就说明在数据记录时，house的车位很可能并未被实际标记，因此我们考虑对house的车位数进行填充。"
   ],
   "metadata": {
    "collapsed": false
   }
  },
  {
   "cell_type": "code",
   "execution_count": 90,
   "outputs": [],
   "source": [
    "h_type = houses.loc[houses['Type'] == 'h']\n",
    "h_type['Car'] = pd.to_numeric(h_type['Car'], errors='coerce')\n",
    "\n",
    "counts = h_type['Car'].value_counts(ascending=False)"
   ],
   "metadata": {
    "collapsed": false
   }
  },
  {
   "cell_type": "code",
   "execution_count": 91,
   "outputs": [
    {
     "data": {
      "text/plain": "<AxesSubplot:xlabel='Car', ylabel='count'>"
     },
     "execution_count": 91,
     "metadata": {},
     "output_type": "execute_result"
    },
    {
     "data": {
      "text/plain": "<Figure size 640x480 with 1 Axes>",
      "image/png": "[encoded data removed]"
     },
     "metadata": {},
     "output_type": "display_data"
    }
   ],
   "source": [
    "sns.countplot(x='Car', data=h_type)"
   ],
   "metadata": {
    "collapsed": false
   }
  },
  {
   "cell_type": "markdown",
   "source": [
    "因此，在没有什么好办法找到Car数量的reference的情况下，选择type为h的情况下，Car数量最多的那个进行填充"
   ],
   "metadata": {
    "collapsed": false
   }
  },
  {
   "cell_type": "code",
   "execution_count": 102,
   "outputs": [],
   "source": [
    "houses['Car'].fillna(2.0, inplace=True)"
   ],
   "metadata": {
    "collapsed": false
   }
  },
  {
   "cell_type": "code",
   "execution_count": 103,
   "outputs": [
    {
     "data": {
      "text/plain": "<Figure size 1200x800 with 4 Axes>",
      "image/png": "[encoded data removed]"
     },
     "metadata": {},
     "output_type": "display_data"
    }
   ],
   "source": [
    "def car_plot_with_na_cols():\n",
    "    # make a plot with 2x2 subplots\n",
    "    fig, ax = plt.subplots(figsize=(12, 8), nrows=2, ncols=2)\n",
    "    sns.countplot(x='Car', data=houses, ax=ax[0, 0])\n",
    "    try:\n",
    "        sns.distplot(houses['Car'], rug=True, ax=ax[0, 1])\n",
    "    except ValueError:\n",
    "        pass\n",
    "    sns.boxplot(x='Car', data=houses, ax=ax[1, 0])\n",
    "\n",
    "    # remove all the x labels and y labels\n",
    "    for i in ax.flat:\n",
    "        i.set_xlabel('')\n",
    "        i.set_ylabel('')\n",
    "\n",
    "    # hide last empty subplot\n",
    "    ax[1, 1].axis(\"off\")\n",
    "\n",
    "    return None\n",
    "\n",
    "\n",
    "car_plot_with_na_cols()"
   ],
   "metadata": {
    "collapsed": false
   }
  },
  {
   "cell_type": "markdown",
   "source": [
    "#### 2.2.2 FillNa in Col BuildingArea"
   ],
   "metadata": {
    "collapsed": false
   }
  },
  {
   "cell_type": "code",
   "execution_count": 105,
   "outputs": [
    {
     "data": {
      "text/plain": "               Suburb             Address  Rooms Type      Price Method  \\\n0          Abbotsford        85 Turner St      2    h  1480000.0      S   \n3          Abbotsford    40 Federation La      3    h   850000.0     PI   \n5          Abbotsford      129 Charles St      2    h   941000.0      S   \n8          Abbotsford  6/241 Nicholson St      1    u   300000.0      S   \n10         Abbotsford  411/8 Grosvenor St      2    u   700000.0     VB   \n...               ...                 ...    ...  ...        ...    ...   \n13569  Wantirna South        12 Armagh Cr      4    h  1323000.0      S   \n13570  Wantirna South       34 Fewster Dr      3    h   970000.0      S   \n13574     Westmeadows          9 Black St      3    h   582000.0      S   \n13575   Wheelers Hill        12 Strada Cr      4    h  1245000.0      S   \n13577    Williamstown         83 Power St      3    h  1170000.0      S   \n\n      SellerG        Date  Distance  Postcode  ...  Bathroom  Car  Landsize  \\\n0      Biggin   3/12/2016       2.5    3067.0  ...       1.0  1.0     202.0   \n3      Biggin   4/03/2017       2.5    3067.0  ...       2.0  1.0      94.0   \n5      Jellis   7/05/2016       2.5    3067.0  ...       1.0  0.0     181.0   \n8      Biggin   8/10/2016       2.5    3067.0  ...       1.0  1.0       0.0   \n10     Jellis  12/11/2016       2.5    3067.0  ...       2.0  1.0       0.0   \n...       ...         ...       ...       ...  ...       ...  ...       ...   \n13569   Barry  26/08/2017      14.7    3152.0  ...       2.0  2.0     551.0   \n13570   Barry  26/08/2017      14.7    3152.0  ...       2.0  2.0     674.0   \n13574     Red  26/08/2017      16.5    3049.0  ...       2.0  2.0     256.0   \n13575   Barry  26/08/2017      16.7    3150.0  ...       2.0  2.0     652.0   \n13577   Raine  26/08/2017       6.8    3016.0  ...       2.0  4.0     436.0   \n\n       BuildingArea  YearBuilt  CouncilArea Lattitude  Longtitude  \\\n0               NaN        NaN        Yarra -37.79960   144.99840   \n3               NaN        NaN        Yarra -37.79690   144.99690   \n5               NaN        NaN        Yarra -37.80410   144.99530   \n8               NaN        NaN        Yarra -37.80080   144.99730   \n10              NaN        NaN        Yarra -37.81100   145.00670   \n...             ...        ...          ...       ...         ...   \n13569           NaN        NaN          NaN -37.87608   145.22390   \n13570           NaN        NaN          NaN -37.88360   145.22805   \n13574           NaN        NaN          NaN -37.67917   144.89390   \n13575           NaN     1981.0          NaN -37.90562   145.16761   \n13577           NaN     1997.0          NaN -37.85274   144.88738   \n\n                       Regionname Propertycount  \n0           Northern Metropolitan        4019.0  \n3           Northern Metropolitan        4019.0  \n5           Northern Metropolitan        4019.0  \n8           Northern Metropolitan        4019.0  \n10          Northern Metropolitan        4019.0  \n...                           ...           ...  \n13569        Eastern Metropolitan        7082.0  \n13570        Eastern Metropolitan        7082.0  \n13574       Northern Metropolitan        2474.0  \n13575  South-Eastern Metropolitan        7392.0  \n13577        Western Metropolitan        6380.0  \n\n[6450 rows x 21 columns]",
      "text/html": "<div>\n<style scoped>\n    .dataframe tbody tr th:only-of-type {\n        vertical-align: middle;\n    }\n\n    .dataframe tbody tr th {\n        vertical-align: top;\n    }\n\n    .dataframe thead th {\n        text-align: right;\n    }\n</style>\n<table border=\"1\" class=\"dataframe\">\n  <thead>\n    <tr style=\"text-align: right;\">\n      <th></th>\n      <th>Suburb</th>\n      <th>Address</th>\n      <th>Rooms</th>\n      <th>Type</th>\n      <th>Price</th>\n      <th>Method</th>\n      <th>SellerG</th>\n      <th>Date</th>\n      <th>Distance</th>\n      <th>Postcode</th>\n      <th>...</th>\n      <th>Bathroom</th>\n      <th>Car</th>\n      <th>Landsize</th>\n      <th>BuildingArea</th>\n      <th>YearBuilt</th>\n      <th>CouncilArea</th>\n      <th>Lattitude</th>\n      <th>Longtitude</th>\n      <th>Regionname</th>\n      <th>Propertycount</th>\n    </tr>\n  </thead>\n  <tbody>\n    <tr>\n      <th>0</th>\n      <td>Abbotsford</td>\n      <td>85 Turner St</td>\n      <td>2</td>\n      <td>h</td>\n      <td>1480000.0</td>\n      <td>S</td>\n      <td>Biggin</td>\n      <td>3/12/2016</td>\n      <td>2.5</td>\n      <td>3067.0</td>\n      <td>...</td>\n      <td>1.0</td>\n      <td>1.0</td>\n      <td>202.0</td>\n      <td>NaN</td>\n      <td>NaN</td>\n      <td>Yarra</td>\n      <td>-37.79960</td>\n      <td>144.99840</td>\n      <td>Northern Metropolitan</td>\n      <td>4019.0</td>\n    </tr>\n    <tr>\n      <th>3</th>\n      <td>Abbotsford</td>\n      <td>40 Federation La</td>\n      <td>3</td>\n      <td>h</td>\n      <td>850000.0</td>\n      <td>PI</td>\n      <td>Biggin</td>\n      <td>4/03/2017</td>\n      <td>2.5</td>\n      <td>3067.0</td>\n      <td>...</td>\n      <td>2.0</td>\n      <td>1.0</td>\n      <td>94.0</td>\n      <td>NaN</td>\n      <td>NaN</td>\n      <td>Yarra</td>\n      <td>-37.79690</td>\n      <td>144.99690</td>\n      <td>Northern Metropolitan</td>\n      <td>4019.0</td>\n    </tr>\n    <tr>\n      <th>5</th>\n      <td>Abbotsford</td>\n      <td>129 Charles St</td>\n      <td>2</td>\n      <td>h</td>\n      <td>941000.0</td>\n      <td>S</td>\n      <td>Jellis</td>\n      <td>7/05/2016</td>\n      <td>2.5</td>\n      <td>3067.0</td>\n      <td>...</td>\n      <td>1.0</td>\n      <td>0.0</td>\n      <td>181.0</td>\n      <td>NaN</td>\n      <td>NaN</td>\n      <td>Yarra</td>\n      <td>-37.80410</td>\n      <td>144.99530</td>\n      <td>Northern Metropolitan</td>\n      <td>4019.0</td>\n    </tr>\n    <tr>\n      <th>8</th>\n      <td>Abbotsford</td>\n      <td>6/241 Nicholson St</td>\n      <td>1</td>\n      <td>u</td>\n      <td>300000.0</td>\n      <td>S</td>\n      <td>Biggin</td>\n      <td>8/10/2016</td>\n      <td>2.5</td>\n      <td>3067.0</td>\n      <td>...</td>\n      <td>1.0</td>\n      <td>1.0</td>\n      <td>0.0</td>\n      <td>NaN</td>\n      <td>NaN</td>\n      <td>Yarra</td>\n      <td>-37.80080</td>\n      <td>144.99730</td>\n      <td>Northern Metropolitan</td>\n      <td>4019.0</td>\n    </tr>\n    <tr>\n      <th>10</th>\n      <td>Abbotsford</td>\n      <td>411/8 Grosvenor St</td>\n      <td>2</td>\n      <td>u</td>\n      <td>700000.0</td>\n      <td>VB</td>\n      <td>Jellis</td>\n      <td>12/11/2016</td>\n      <td>2.5</td>\n      <td>3067.0</td>\n      <td>...</td>\n      <td>2.0</td>\n      <td>1.0</td>\n      <td>0.0</td>\n      <td>NaN</td>\n      <td>NaN</td>\n      <td>Yarra</td>\n      <td>-37.81100</td>\n      <td>145.00670</td>\n      <td>Northern Metropolitan</td>\n      <td>4019.0</td>\n    </tr>\n    <tr>\n      <th>...</th>\n      <td>...</td>\n      <td>...</td>\n      <td>...</td>\n      <td>...</td>\n      <td>...</td>\n      <td>...</td>\n      <td>...</td>\n      <td>...</td>\n      <td>...</td>\n      <td>...</td>\n      <td>...</td>\n      <td>...</td>\n      <td>...</td>\n      <td>...</td>\n      <td>...</td>\n      <td>...</td>\n      <td>...</td>\n      <td>...</td>\n      <td>...</td>\n      <td>...</td>\n      <td>...</td>\n    </tr>\n    <tr>\n      <th>13569</th>\n      <td>Wantirna South</td>\n      <td>12 Armagh Cr</td>\n      <td>4</td>\n      <td>h</td>\n      <td>1323000.0</td>\n      <td>S</td>\n      <td>Barry</td>\n      <td>26/08/2017</td>\n      <td>14.7</td>\n      <td>3152.0</td>\n      <td>...</td>\n      <td>2.0</td>\n      <td>2.0</td>\n      <td>551.0</td>\n      <td>NaN</td>\n      <td>NaN</td>\n      <td>NaN</td>\n      <td>-37.87608</td>\n      <td>145.22390</td>\n      <td>Eastern Metropolitan</td>\n      <td>7082.0</td>\n    </tr>\n    <tr>\n      <th>13570</th>\n      <td>Wantirna South</td>\n      <td>34 Fewster Dr</td>\n      <td>3</td>\n      <td>h</td>\n      <td>970000.0</td>\n      <td>S</td>\n      <td>Barry</td>\n      <td>26/08/2017</td>\n      <td>14.7</td>\n      <td>3152.0</td>\n      <td>...</td>\n      <td>2.0</td>\n      <td>2.0</td>\n      <td>674.0</td>\n      <td>NaN</td>\n      <td>NaN</td>\n      <td>NaN</td>\n      <td>-37.88360</td>\n      <td>145.22805</td>\n      <td>Eastern Metropolitan</td>\n      <td>7082.0</td>\n    </tr>\n    <tr>\n      <th>13574</th>\n      <td>Westmeadows</td>\n      <td>9 Black St</td>\n      <td>3</td>\n      <td>h</td>\n      <td>582000.0</td>\n      <td>S</td>\n      <td>Red</td>\n      <td>26/08/2017</td>\n      <td>16.5</td>\n      <td>3049.0</td>\n      <td>...</td>\n      <td>2.0</td>\n      <td>2.0</td>\n      <td>256.0</td>\n      <td>NaN</td>\n      <td>NaN</td>\n      <td>NaN</td>\n      <td>-37.67917</td>\n      <td>144.89390</td>\n      <td>Northern Metropolitan</td>\n      <td>2474.0</td>\n    </tr>\n    <tr>\n      <th>13575</th>\n      <td>Wheelers Hill</td>\n      <td>12 Strada Cr</td>\n      <td>4</td>\n      <td>h</td>\n      <td>1245000.0</td>\n      <td>S</td>\n      <td>Barry</td>\n      <td>26/08/2017</td>\n      <td>16.7</td>\n      <td>3150.0</td>\n      <td>...</td>\n      <td>2.0</td>\n      <td>2.0</td>\n      <td>652.0</td>\n      <td>NaN</td>\n      <td>1981.0</td>\n      <td>NaN</td>\n      <td>-37.90562</td>\n      <td>145.16761</td>\n      <td>South-Eastern Metropolitan</td>\n      <td>7392.0</td>\n    </tr>\n    <tr>\n      <th>13577</th>\n      <td>Williamstown</td>\n      <td>83 Power St</td>\n      <td>3</td>\n      <td>h</td>\n      <td>1170000.0</td>\n      <td>S</td>\n      <td>Raine</td>\n      <td>26/08/2017</td>\n      <td>6.8</td>\n      <td>3016.0</td>\n      <td>...</td>\n      <td>2.0</td>\n      <td>4.0</td>\n      <td>436.0</td>\n      <td>NaN</td>\n      <td>1997.0</td>\n      <td>NaN</td>\n      <td>-37.85274</td>\n      <td>144.88738</td>\n      <td>Western Metropolitan</td>\n      <td>6380.0</td>\n    </tr>\n  </tbody>\n</table>\n<p>6450 rows × 21 columns</p>\n</div>"
     },
     "execution_count": 105,
     "metadata": {},
     "output_type": "execute_result"
    }
   ],
   "source": [
    "houses[houses['BuildingArea'].isnull()]"
   ],
   "metadata": {
    "collapsed": false
   }
  },
  {
   "cell_type": "code",
   "execution_count": null,
   "outputs": [],
   "source": [],
   "metadata": {
    "collapsed": false
   }
  },
  {
   "cell_type": "code",
   "execution_count": null,
   "outputs": [],
   "source": [],
   "metadata": {
    "collapsed": false
   }
  },
  {
   "cell_type": "code",
   "execution_count": null,
   "outputs": [],
   "source": [],
   "metadata": {
    "collapsed": false
   }
  },
  {
   "cell_type": "code",
   "execution_count": null,
   "outputs": [],
   "source": [],
   "metadata": {
    "collapsed": false
   }
  },
  {
   "cell_type": "code",
   "execution_count": null,
   "outputs": [],
   "source": [],
   "metadata": {
    "collapsed": false
   }
  },
  {
   "cell_type": "code",
   "execution_count": null,
   "outputs": [],
   "source": [],
   "metadata": {
    "collapsed": false
   }
  },
  {
   "cell_type": "markdown",
   "source": [
    "### 3. Datatype Cleanup"
   ],
   "metadata": {
    "collapsed": false
   }
  },
  {
   "cell_type": "code",
   "execution_count": null,
   "outputs": [],
   "source": [],
   "metadata": {
    "collapsed": false
   }
  },
  {
   "cell_type": "code",
   "execution_count": 108,
   "outputs": [
    {
     "data": {
      "text/plain": "Suburb            object\nAddress           object\nRooms              int64\nType              object\nPrice            float64\nMethod            object\nSellerG           object\nDate              object\nDistance         float64\nPostcode         float64\nBedroom2         float64\nBathroom         float64\nCar              float64\nLandsize         float64\nBuildingArea     float64\nYearBuilt        float64\nCouncilArea       object\nLattitude        float64\nLongtitude       float64\nRegionname        object\nPropertycount    float64\ndtype: object"
     },
     "execution_count": 108,
     "metadata": {},
     "output_type": "execute_result"
    }
   ],
   "source": [
    "houses.dtypes"
   ],
   "metadata": {
    "collapsed": false
   }
  },
  {
   "cell_type": "code",
   "execution_count": 111,
   "outputs": [
    {
     "data": {
      "text/plain": "0       2016-03-12\n1       2016-04-02\n2       2017-04-03\n3       2017-04-03\n4       2016-04-06\n           ...    \n13575   2017-08-26\n13576   2017-08-26\n13577   2017-08-26\n13578   2017-08-26\n13579   2017-08-26\nName: Date, Length: 13580, dtype: datetime64[ns]"
     },
     "execution_count": 111,
     "metadata": {},
     "output_type": "execute_result"
    }
   ],
   "source": [
    "houses['Date'] = pd.to_datetime(houses['Date'], infer_datetime_format=True)\n",
    "houses['Date']"
   ],
   "metadata": {
    "collapsed": false
   }
  },
  {
   "cell_type": "markdown",
   "source": [
    "### 4. Save Preprocessed Data"
   ],
   "metadata": {
    "collapsed": false
   }
  },
  {
   "cell_type": "code",
   "execution_count": 113,
   "outputs": [],
   "source": [
    "houses.to_csv('/Users/lq/PycharmProjects/DA_Course/DataSource/DataSource_Melbourne_house/melb_data_cleaned.csv', index = False)"
   ],
   "metadata": {
    "collapsed": false
   }
  },
  {
   "cell_type": "markdown",
   "source": [
    "### 5. Using Data to Analyze"
   ],
   "metadata": {
    "collapsed": false
   }
  },
  {
   "cell_type": "code",
   "execution_count": 114,
   "outputs": [],
   "source": [
    "houses = pd.read_csv('/Users/lq/PycharmProjects/DA_Course/DataSource/DataSource_Melbourne_house/melb_data_cleaned.csv')"
   ],
   "metadata": {
    "collapsed": false
   }
  },
  {
   "cell_type": "code",
   "execution_count": 115,
   "outputs": [
    {
     "data": {
      "text/plain": "              Suburb           Address  Rooms Type      Price Method  \\\n0         Abbotsford      85 Turner St      2    h  1480000.0      S   \n1         Abbotsford   25 Bloomburg St      2    h  1035000.0      S   \n2         Abbotsford      5 Charles St      3    h  1465000.0     SP   \n3         Abbotsford  40 Federation La      3    h   850000.0     PI   \n4         Abbotsford       55a Park St      4    h  1600000.0     VB   \n...              ...               ...    ...  ...        ...    ...   \n13575  Wheelers Hill      12 Strada Cr      4    h  1245000.0      S   \n13576   Williamstown     77 Merrett Dr      3    h  1031000.0     SP   \n13577   Williamstown       83 Power St      3    h  1170000.0      S   \n13578   Williamstown      96 Verdon St      4    h  2500000.0     PI   \n13579     Yarraville        6 Agnes St      4    h  1285000.0     SP   \n\n        SellerG        Date  Distance  Postcode  ...  Bathroom  Car  Landsize  \\\n0        Biggin  2016-03-12       2.5    3067.0  ...       1.0  1.0     202.0   \n1        Biggin  2016-04-02       2.5    3067.0  ...       1.0  0.0     156.0   \n2        Biggin  2017-04-03       2.5    3067.0  ...       2.0  0.0     134.0   \n3        Biggin  2017-04-03       2.5    3067.0  ...       2.0  1.0      94.0   \n4        Nelson  2016-04-06       2.5    3067.0  ...       1.0  2.0     120.0   \n...         ...         ...       ...       ...  ...       ...  ...       ...   \n13575     Barry  2017-08-26      16.7    3150.0  ...       2.0  2.0     652.0   \n13576  Williams  2017-08-26       6.8    3016.0  ...       2.0  2.0     333.0   \n13577     Raine  2017-08-26       6.8    3016.0  ...       2.0  4.0     436.0   \n13578   Sweeney  2017-08-26       6.8    3016.0  ...       1.0  5.0     866.0   \n13579   Village  2017-08-26       6.3    3013.0  ...       1.0  1.0     362.0   \n\n       BuildingArea  YearBuilt  CouncilArea Lattitude  Longtitude  \\\n0               NaN        NaN        Yarra -37.79960   144.99840   \n1              79.0     1900.0        Yarra -37.80790   144.99340   \n2             150.0     1900.0        Yarra -37.80930   144.99440   \n3               NaN        NaN        Yarra -37.79690   144.99690   \n4             142.0     2014.0        Yarra -37.80720   144.99410   \n...             ...        ...          ...       ...         ...   \n13575           NaN     1981.0          NaN -37.90562   145.16761   \n13576         133.0     1995.0          NaN -37.85927   144.87904   \n13577           NaN     1997.0          NaN -37.85274   144.88738   \n13578         157.0     1920.0          NaN -37.85908   144.89299   \n13579         112.0     1920.0          NaN -37.81188   144.88449   \n\n                       Regionname Propertycount  \n0           Northern Metropolitan        4019.0  \n1           Northern Metropolitan        4019.0  \n2           Northern Metropolitan        4019.0  \n3           Northern Metropolitan        4019.0  \n4           Northern Metropolitan        4019.0  \n...                           ...           ...  \n13575  South-Eastern Metropolitan        7392.0  \n13576        Western Metropolitan        6380.0  \n13577        Western Metropolitan        6380.0  \n13578        Western Metropolitan        6380.0  \n13579        Western Metropolitan        6543.0  \n\n[13580 rows x 21 columns]",
      "text/html": "<div>\n<style scoped>\n    .dataframe tbody tr th:only-of-type {\n        vertical-align: middle;\n    }\n\n    .dataframe tbody tr th {\n        vertical-align: top;\n    }\n\n    .dataframe thead th {\n        text-align: right;\n    }\n</style>\n<table border=\"1\" class=\"dataframe\">\n  <thead>\n    <tr style=\"text-align: right;\">\n      <th></th>\n      <th>Suburb</th>\n      <th>Address</th>\n      <th>Rooms</th>\n      <th>Type</th>\n      <th>Price</th>\n      <th>Method</th>\n      <th>SellerG</th>\n      <th>Date</th>\n      <th>Distance</th>\n      <th>Postcode</th>\n      <th>...</th>\n      <th>Bathroom</th>\n      <th>Car</th>\n      <th>Landsize</th>\n      <th>BuildingArea</th>\n      <th>YearBuilt</th>\n      <th>CouncilArea</th>\n      <th>Lattitude</th>\n      <th>Longtitude</th>\n      <th>Regionname</th>\n      <th>Propertycount</th>\n    </tr>\n  </thead>\n  <tbody>\n    <tr>\n      <th>0</th>\n      <td>Abbotsford</td>\n      <td>85 Turner St</td>\n      <td>2</td>\n      <td>h</td>\n      <td>1480000.0</td>\n      <td>S</td>\n      <td>Biggin</td>\n      <td>2016-03-12</td>\n      <td>2.5</td>\n      <td>3067.0</td>\n      <td>...</td>\n      <td>1.0</td>\n      <td>1.0</td>\n      <td>202.0</td>\n      <td>NaN</td>\n      <td>NaN</td>\n      <td>Yarra</td>\n      <td>-37.79960</td>\n      <td>144.99840</td>\n      <td>Northern Metropolitan</td>\n      <td>4019.0</td>\n    </tr>\n    <tr>\n      <th>1</th>\n      <td>Abbotsford</td>\n      <td>25 Bloomburg St</td>\n      <td>2</td>\n      <td>h</td>\n      <td>1035000.0</td>\n      <td>S</td>\n      <td>Biggin</td>\n      <td>2016-04-02</td>\n      <td>2.5</td>\n      <td>3067.0</td>\n      <td>...</td>\n      <td>1.0</td>\n      <td>0.0</td>\n      <td>156.0</td>\n      <td>79.0</td>\n      <td>1900.0</td>\n      <td>Yarra</td>\n      <td>-37.80790</td>\n      <td>144.99340</td>\n      <td>Northern Metropolitan</td>\n      <td>4019.0</td>\n    </tr>\n    <tr>\n      <th>2</th>\n      <td>Abbotsford</td>\n      <td>5 Charles St</td>\n      <td>3</td>\n      <td>h</td>\n      <td>1465000.0</td>\n      <td>SP</td>\n      <td>Biggin</td>\n      <td>2017-04-03</td>\n      <td>2.5</td>\n      <td>3067.0</td>\n      <td>...</td>\n      <td>2.0</td>\n      <td>0.0</td>\n      <td>134.0</td>\n      <td>150.0</td>\n      <td>1900.0</td>\n      <td>Yarra</td>\n      <td>-37.80930</td>\n      <td>144.99440</td>\n      <td>Northern Metropolitan</td>\n      <td>4019.0</td>\n    </tr>\n    <tr>\n      <th>3</th>\n      <td>Abbotsford</td>\n      <td>40 Federation La</td>\n      <td>3</td>\n      <td>h</td>\n      <td>850000.0</td>\n      <td>PI</td>\n      <td>Biggin</td>\n      <td>2017-04-03</td>\n      <td>2.5</td>\n      <td>3067.0</td>\n      <td>...</td>\n      <td>2.0</td>\n      <td>1.0</td>\n      <td>94.0</td>\n      <td>NaN</td>\n      <td>NaN</td>\n      <td>Yarra</td>\n      <td>-37.79690</td>\n      <td>144.99690</td>\n      <td>Northern Metropolitan</td>\n      <td>4019.0</td>\n    </tr>\n    <tr>\n      <th>4</th>\n      <td>Abbotsford</td>\n      <td>55a Park St</td>\n      <td>4</td>\n      <td>h</td>\n      <td>1600000.0</td>\n      <td>VB</td>\n      <td>Nelson</td>\n      <td>2016-04-06</td>\n      <td>2.5</td>\n      <td>3067.0</td>\n      <td>...</td>\n      <td>1.0</td>\n      <td>2.0</td>\n      <td>120.0</td>\n      <td>142.0</td>\n      <td>2014.0</td>\n      <td>Yarra</td>\n      <td>-37.80720</td>\n      <td>144.99410</td>\n      <td>Northern Metropolitan</td>\n      <td>4019.0</td>\n    </tr>\n    <tr>\n      <th>...</th>\n      <td>...</td>\n      <td>...</td>\n      <td>...</td>\n      <td>...</td>\n      <td>...</td>\n      <td>...</td>\n      <td>...</td>\n      <td>...</td>\n      <td>...</td>\n      <td>...</td>\n      <td>...</td>\n      <td>...</td>\n      <td>...</td>\n      <td>...</td>\n      <td>...</td>\n      <td>...</td>\n      <td>...</td>\n      <td>...</td>\n      <td>...</td>\n      <td>...</td>\n      <td>...</td>\n    </tr>\n    <tr>\n      <th>13575</th>\n      <td>Wheelers Hill</td>\n      <td>12 Strada Cr</td>\n      <td>4</td>\n      <td>h</td>\n      <td>1245000.0</td>\n      <td>S</td>\n      <td>Barry</td>\n      <td>2017-08-26</td>\n      <td>16.7</td>\n      <td>3150.0</td>\n      <td>...</td>\n      <td>2.0</td>\n      <td>2.0</td>\n      <td>652.0</td>\n      <td>NaN</td>\n      <td>1981.0</td>\n      <td>NaN</td>\n      <td>-37.90562</td>\n      <td>145.16761</td>\n      <td>South-Eastern Metropolitan</td>\n      <td>7392.0</td>\n    </tr>\n    <tr>\n      <th>13576</th>\n      <td>Williamstown</td>\n      <td>77 Merrett Dr</td>\n      <td>3</td>\n      <td>h</td>\n      <td>1031000.0</td>\n      <td>SP</td>\n      <td>Williams</td>\n      <td>2017-08-26</td>\n      <td>6.8</td>\n      <td>3016.0</td>\n      <td>...</td>\n      <td>2.0</td>\n      <td>2.0</td>\n      <td>333.0</td>\n      <td>133.0</td>\n      <td>1995.0</td>\n      <td>NaN</td>\n      <td>-37.85927</td>\n      <td>144.87904</td>\n      <td>Western Metropolitan</td>\n      <td>6380.0</td>\n    </tr>\n    <tr>\n      <th>13577</th>\n      <td>Williamstown</td>\n      <td>83 Power St</td>\n      <td>3</td>\n      <td>h</td>\n      <td>1170000.0</td>\n      <td>S</td>\n      <td>Raine</td>\n      <td>2017-08-26</td>\n      <td>6.8</td>\n      <td>3016.0</td>\n      <td>...</td>\n      <td>2.0</td>\n      <td>4.0</td>\n      <td>436.0</td>\n      <td>NaN</td>\n      <td>1997.0</td>\n      <td>NaN</td>\n      <td>-37.85274</td>\n      <td>144.88738</td>\n      <td>Western Metropolitan</td>\n      <td>6380.0</td>\n    </tr>\n    <tr>\n      <th>13578</th>\n      <td>Williamstown</td>\n      <td>96 Verdon St</td>\n      <td>4</td>\n      <td>h</td>\n      <td>2500000.0</td>\n      <td>PI</td>\n      <td>Sweeney</td>\n      <td>2017-08-26</td>\n      <td>6.8</td>\n      <td>3016.0</td>\n      <td>...</td>\n      <td>1.0</td>\n      <td>5.0</td>\n      <td>866.0</td>\n      <td>157.0</td>\n      <td>1920.0</td>\n      <td>NaN</td>\n      <td>-37.85908</td>\n      <td>144.89299</td>\n      <td>Western Metropolitan</td>\n      <td>6380.0</td>\n    </tr>\n    <tr>\n      <th>13579</th>\n      <td>Yarraville</td>\n      <td>6 Agnes St</td>\n      <td>4</td>\n      <td>h</td>\n      <td>1285000.0</td>\n      <td>SP</td>\n      <td>Village</td>\n      <td>2017-08-26</td>\n      <td>6.3</td>\n      <td>3013.0</td>\n      <td>...</td>\n      <td>1.0</td>\n      <td>1.0</td>\n      <td>362.0</td>\n      <td>112.0</td>\n      <td>1920.0</td>\n      <td>NaN</td>\n      <td>-37.81188</td>\n      <td>144.88449</td>\n      <td>Western Metropolitan</td>\n      <td>6543.0</td>\n    </tr>\n  </tbody>\n</table>\n<p>13580 rows × 21 columns</p>\n</div>"
     },
     "execution_count": 115,
     "metadata": {},
     "output_type": "execute_result"
    }
   ],
   "source": [
    "houses"
   ],
   "metadata": {
    "collapsed": false
   }
  },
  {
   "cell_type": "code",
   "execution_count": 116,
   "outputs": [
    {
     "data": {
      "text/plain": "Price            1.000000\nRooms            0.496634\nBedroom2         0.475951\nBathroom         0.467038\nCar              0.239109\nLongtitude       0.203656\nPostcode         0.107867\nBuildingArea     0.090981\nLandsize         0.037507\nPropertycount   -0.042153\nDistance        -0.162522\nLattitude       -0.212934\nYearBuilt       -0.323617\nName: Price, dtype: float64"
     },
     "execution_count": 116,
     "metadata": {},
     "output_type": "execute_result"
    }
   ],
   "source": [
    "correlation = houses.corr()\n",
    "correlation['Price'].sort_values(ascending=False)"
   ],
   "metadata": {
    "collapsed": false
   }
  },
  {
   "cell_type": "code",
   "execution_count": null,
   "outputs": [],
   "source": [],
   "metadata": {
    "collapsed": false
   }
  }
 ],
 "metadata": {
  "kernelspec": {
   "display_name": "Python 3",
   "language": "python",
   "name": "python3"
  },
  "language_info": {
   "codemirror_mode": {
    "name": "ipython",
    "version": 2
   },
   "file_extension": ".py",
   "mimetype": "text/x-python",
   "name": "python",
   "nbconvert_exporter": "python",
   "pygments_lexer": "ipython2",
   "version": "2.7.6"
  }
 },
 "nbformat": 4,
 "nbformat_minor": 0
}
