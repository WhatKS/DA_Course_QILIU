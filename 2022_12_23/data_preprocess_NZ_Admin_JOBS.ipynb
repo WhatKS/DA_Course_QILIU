{
 "cells": [
  {
   "cell_type": "markdown",
   "source": [
    "## 1. 导入相关包"
   ],
   "metadata": {
    "collapsed": false
   }
  },
  {
   "cell_type": "code",
   "execution_count": 1,
   "outputs": [],
   "source": [
    "import pandas as pd\n",
    "import numpy as np\n",
    "import matplotlib.pyplot as plt\n",
    "import re\n",
    "from datetime import datetime, timedelta\n",
    "\n",
    "%matplotlib inline"
   ],
   "metadata": {
    "collapsed": false
   }
  },
  {
   "cell_type": "markdown",
   "source": [
    "## 2. 读取文件，对文件进行相关信息的查看"
   ],
   "metadata": {
    "collapsed": false
   }
  },
  {
   "cell_type": "code",
   "execution_count": 2,
   "outputs": [],
   "source": [
    "jobs = pd.read_excel('DataSource_NZSeek/NZ_Admin_JOBS.xlsx', header=None, skiprows=1)"
   ],
   "metadata": {
    "collapsed": false
   }
  },
  {
   "cell_type": "code",
   "execution_count": 5,
   "outputs": [
    {
     "data": {
      "text/plain": "                                      0  \\\n0                         Administrator   \n1                          Receptionist   \n2          Prosecutions Support Officer   \n3  Early Childhood Centre Administrator   \n4        Business Support Administrator   \n\n                                                   1  \\\n0  https://www.seek.co.nz/job/50582301?type=promo...   \n1  https://www.seek.co.nz/job/50620889?type=promo...   \n2  https://www.seek.co.nz/job/50622169?type=stand...   \n3  https://www.seek.co.nz/job/50639620?type=stand...   \n4  https://www.seek.co.nz/job/50622432?type=stand...   \n\n                                          2  \\\n0                                       NaN   \n1                      Avenues Orthodontics   \n2                        New Zealand Police   \n3  Kew Pacific Island Early Learning Centre   \n4                                       NaN   \n\n                                                   3  \\\n0  location: Bay of PlentyBay of Plentyarea: Taur...   \n1  location: Bay of PlentyBay of Plentyarea: Taur...   \n2                         location: AucklandAuckland   \n3  location: SouthlandSouthlandarea: Invercargill...   \n4  location: CanterburyCanterburyarea: Christchur...   \n\n                                4  \\\n0  Featured,at,Private Advertiser   \n1                     Featured,at   \n2                       4d ago,at   \n3                       1h ago,at   \n4    4d ago,at,Private Advertiser   \n\n                                                   5  \n0  classification: Administration & Office Suppor...  \n1  classification: Administration & Office Suppor...  \n2  classification: Administration & Office Suppor...  \n3  classification: Administration & Office Suppor...  \n4  classification: Administration & Office Suppor...  ",
      "text/html": "<div>\n<style scoped>\n    .dataframe tbody tr th:only-of-type {\n        vertical-align: middle;\n    }\n\n    .dataframe tbody tr th {\n        vertical-align: top;\n    }\n\n    .dataframe thead th {\n        text-align: right;\n    }\n</style>\n<table border=\"1\" class=\"dataframe\">\n  <thead>\n    <tr style=\"text-align: right;\">\n      <th></th>\n      <th>0</th>\n      <th>1</th>\n      <th>2</th>\n      <th>3</th>\n      <th>4</th>\n      <th>5</th>\n    </tr>\n  </thead>\n  <tbody>\n    <tr>\n      <th>0</th>\n      <td>Administrator</td>\n      <td>https://www.seek.co.nz/job/50582301?type=promo...</td>\n      <td>NaN</td>\n      <td>location: Bay of PlentyBay of Plentyarea: Taur...</td>\n      <td>Featured,at,Private Advertiser</td>\n      <td>classification: Administration &amp; Office Suppor...</td>\n    </tr>\n    <tr>\n      <th>1</th>\n      <td>Receptionist</td>\n      <td>https://www.seek.co.nz/job/50620889?type=promo...</td>\n      <td>Avenues Orthodontics</td>\n      <td>location: Bay of PlentyBay of Plentyarea: Taur...</td>\n      <td>Featured,at</td>\n      <td>classification: Administration &amp; Office Suppor...</td>\n    </tr>\n    <tr>\n      <th>2</th>\n      <td>Prosecutions Support Officer</td>\n      <td>https://www.seek.co.nz/job/50622169?type=stand...</td>\n      <td>New Zealand Police</td>\n      <td>location: AucklandAuckland</td>\n      <td>4d ago,at</td>\n      <td>classification: Administration &amp; Office Suppor...</td>\n    </tr>\n    <tr>\n      <th>3</th>\n      <td>Early Childhood Centre Administrator</td>\n      <td>https://www.seek.co.nz/job/50639620?type=stand...</td>\n      <td>Kew Pacific Island Early Learning Centre</td>\n      <td>location: SouthlandSouthlandarea: Invercargill...</td>\n      <td>1h ago,at</td>\n      <td>classification: Administration &amp; Office Suppor...</td>\n    </tr>\n    <tr>\n      <th>4</th>\n      <td>Business Support Administrator</td>\n      <td>https://www.seek.co.nz/job/50622432?type=stand...</td>\n      <td>NaN</td>\n      <td>location: CanterburyCanterburyarea: Christchur...</td>\n      <td>4d ago,at,Private Advertiser</td>\n      <td>classification: Administration &amp; Office Suppor...</td>\n    </tr>\n  </tbody>\n</table>\n</div>"
     },
     "execution_count": 5,
     "metadata": {},
     "output_type": "execute_result"
    }
   ],
   "source": [
    "jobs.head()"
   ],
   "metadata": {
    "collapsed": false
   }
  },
  {
   "cell_type": "code",
   "execution_count": 3,
   "outputs": [
    {
     "name": "stdout",
     "output_type": "stream",
     "text": [
      "<class 'pandas.core.frame.DataFrame'>\n",
      "RangeIndex: 2708 entries, 0 to 2707\n",
      "Data columns (total 6 columns):\n",
      " #   Column  Non-Null Count  Dtype \n",
      "---  ------  --------------  ----- \n",
      " 0   0       2708 non-null   object\n",
      " 1   1       2708 non-null   object\n",
      " 2   2       2686 non-null   object\n",
      " 3   3       2708 non-null   object\n",
      " 4   4       2708 non-null   object\n",
      " 5   5       2708 non-null   object\n",
      "dtypes: object(6)\n",
      "memory usage: 127.1+ KB\n"
     ]
    }
   ],
   "source": [
    "jobs.info()"
   ],
   "metadata": {
    "collapsed": false
   }
  },
  {
   "cell_type": "code",
   "execution_count": 4,
   "outputs": [
    {
     "data": {
      "text/plain": "                          0  \\\ncount                  2708   \nunique                  548   \ntop     Executive Assistant   \nfreq                    301   \n\n                                                        1  \\\ncount                                                2708   \nunique                                               2708   \ntop     https://www.seek.co.nz/job/50582301?type=promo...   \nfreq                                                    1   \n\n                                                        2  \\\ncount                                                2686   \nunique                                                475   \ntop     Beyond Recruitment - Winner – Best Innovation ...   \nfreq                                                  285   \n\n                                                        3           4  \\\ncount                                                2708        2708   \nunique                                                147          54   \ntop     location: AucklandAucklandarea: Auckland Centr...  27d ago,at   \nfreq                                                  654         572   \n\n                                                        5  \ncount                                                2708  \nunique                                                 93  \ntop     classification: Administration & Office Suppor...  \nfreq                                                  715  ",
      "text/html": "<div>\n<style scoped>\n    .dataframe tbody tr th:only-of-type {\n        vertical-align: middle;\n    }\n\n    .dataframe tbody tr th {\n        vertical-align: top;\n    }\n\n    .dataframe thead th {\n        text-align: right;\n    }\n</style>\n<table border=\"1\" class=\"dataframe\">\n  <thead>\n    <tr style=\"text-align: right;\">\n      <th></th>\n      <th>0</th>\n      <th>1</th>\n      <th>2</th>\n      <th>3</th>\n      <th>4</th>\n      <th>5</th>\n    </tr>\n  </thead>\n  <tbody>\n    <tr>\n      <th>count</th>\n      <td>2708</td>\n      <td>2708</td>\n      <td>2686</td>\n      <td>2708</td>\n      <td>2708</td>\n      <td>2708</td>\n    </tr>\n    <tr>\n      <th>unique</th>\n      <td>548</td>\n      <td>2708</td>\n      <td>475</td>\n      <td>147</td>\n      <td>54</td>\n      <td>93</td>\n    </tr>\n    <tr>\n      <th>top</th>\n      <td>Executive Assistant</td>\n      <td>https://www.seek.co.nz/job/50582301?type=promo...</td>\n      <td>Beyond Recruitment - Winner – Best Innovation ...</td>\n      <td>location: AucklandAucklandarea: Auckland Centr...</td>\n      <td>27d ago,at</td>\n      <td>classification: Administration &amp; Office Suppor...</td>\n    </tr>\n    <tr>\n      <th>freq</th>\n      <td>301</td>\n      <td>1</td>\n      <td>285</td>\n      <td>654</td>\n      <td>572</td>\n      <td>715</td>\n    </tr>\n  </tbody>\n</table>\n</div>"
     },
     "execution_count": 4,
     "metadata": {},
     "output_type": "execute_result"
    }
   ],
   "source": [
    "jobs.describe()"
   ],
   "metadata": {
    "collapsed": false
   }
  },
  {
   "cell_type": "code",
   "execution_count": 6,
   "outputs": [
    {
     "data": {
      "text/plain": "Int64Index([0, 1, 2, 3, 4, 5], dtype='int64')"
     },
     "execution_count": 6,
     "metadata": {},
     "output_type": "execute_result"
    }
   ],
   "source": [
    "jobs.columns"
   ],
   "metadata": {
    "collapsed": false
   }
  },
  {
   "cell_type": "code",
   "execution_count": 7,
   "outputs": [
    {
     "data": {
      "text/plain": "0    object\n1    object\n2    object\n3    object\n4    object\n5    object\ndtype: object"
     },
     "execution_count": 7,
     "metadata": {},
     "output_type": "execute_result"
    }
   ],
   "source": [
    "jobs.dtypes"
   ],
   "metadata": {
    "collapsed": false
   }
  },
  {
   "cell_type": "code",
   "execution_count": 8,
   "outputs": [],
   "source": [
    "# 对列名进行重命名\n",
    "jobs.columns = ['Name', 'Link', 'Department', 'LocationArea', 'ReleaseTime', 'Classification']"
   ],
   "metadata": {
    "collapsed": false
   }
  },
  {
   "cell_type": "code",
   "execution_count": 9,
   "outputs": [
    {
     "data": {
      "text/plain": "                                      Name  \\\n0                            Administrator   \n1                             Receptionist   \n2             Prosecutions Support Officer   \n3     Early Childhood Centre Administrator   \n4           Business Support Administrator   \n...                                    ...   \n2703                   Key Account Manager   \n2704                   Executive Assistant   \n2705                Temporary Office Roles   \n2706                Temporary Office Roles   \n2707                   Executive Assistant   \n\n                                                   Link  \\\n0     https://www.seek.co.nz/job/50582301?type=promo...   \n1     https://www.seek.co.nz/job/50620889?type=promo...   \n2     https://www.seek.co.nz/job/50622169?type=stand...   \n3     https://www.seek.co.nz/job/50639620?type=stand...   \n4     https://www.seek.co.nz/job/50622432?type=stand...   \n...                                                 ...   \n2703  https://www.seek.co.nz/job/50490062?type=stand...   \n2704  https://www.seek.co.nz/job/50488000?type=stand...   \n2705  https://www.seek.co.nz/job/50524865?type=stand...   \n2706  https://www.seek.co.nz/job/50477118?type=stand...   \n2707  https://www.seek.co.nz/job/50496571?type=stand...   \n\n                                    Department  \\\n0                                          NaN   \n1                         Avenues Orthodontics   \n2                           New Zealand Police   \n3     Kew Pacific Island Early Learning Centre   \n4                                          NaN   \n...                                        ...   \n2703                     Hays Talent Solutions   \n2704                    one eighty recruitment   \n2705                     Asset Recruitment Ltd   \n2706                     Asset Recruitment Ltd   \n2707                    Alpha Recruitment - NZ   \n\n                                           LocationArea  \\\n0     location: Bay of PlentyBay of Plentyarea: Taur...   \n1     location: Bay of PlentyBay of Plentyarea: Taur...   \n2                            location: AucklandAuckland   \n3     location: SouthlandSouthlandarea: Invercargill...   \n4     location: CanterburyCanterburyarea: Christchur...   \n...                                                 ...   \n2703  location: AucklandAucklandarea: Auckland Centr...   \n2704  location: WellingtonWellingtonarea: Wellington...   \n2705  location: WaikatoWaikatoarea: HamiltonHamilton...   \n2706  location: WaikatoWaikatoarea: HamiltonHamilton...   \n2707                     location: WellingtonWellington   \n\n                         ReleaseTime  \\\n0     Featured,at,Private Advertiser   \n1                        Featured,at   \n2                          4d ago,at   \n3                          1h ago,at   \n4       4d ago,at,Private Advertiser   \n...                              ...   \n2703                      27d ago,at   \n2704                      27d ago,at   \n2705                      20d ago,at   \n2706                      28d ago,at   \n2707                      26d ago,at   \n\n                                         Classification  \n0     classification: Administration & Office Suppor...  \n1     classification: Administration & Office Suppor...  \n2     classification: Administration & Office Suppor...  \n3     classification: Administration & Office Suppor...  \n4     classification: Administration & Office Suppor...  \n...                                                 ...  \n2703  classification: Administration & Office Suppor...  \n2704                            Competitive hourly rate  \n2705                        Competitive hourly rates $$  \n2706                        Competitive hourly rates $$  \n2707  classification: Administration & Office Suppor...  \n\n[2708 rows x 6 columns]",
      "text/html": "<div>\n<style scoped>\n    .dataframe tbody tr th:only-of-type {\n        vertical-align: middle;\n    }\n\n    .dataframe tbody tr th {\n        vertical-align: top;\n    }\n\n    .dataframe thead th {\n        text-align: right;\n    }\n</style>\n<table border=\"1\" class=\"dataframe\">\n  <thead>\n    <tr style=\"text-align: right;\">\n      <th></th>\n      <th>Name</th>\n      <th>Link</th>\n      <th>Department</th>\n      <th>LocationArea</th>\n      <th>ReleaseTime</th>\n      <th>Classification</th>\n    </tr>\n  </thead>\n  <tbody>\n    <tr>\n      <th>0</th>\n      <td>Administrator</td>\n      <td>https://www.seek.co.nz/job/50582301?type=promo...</td>\n      <td>NaN</td>\n      <td>location: Bay of PlentyBay of Plentyarea: Taur...</td>\n      <td>Featured,at,Private Advertiser</td>\n      <td>classification: Administration &amp; Office Suppor...</td>\n    </tr>\n    <tr>\n      <th>1</th>\n      <td>Receptionist</td>\n      <td>https://www.seek.co.nz/job/50620889?type=promo...</td>\n      <td>Avenues Orthodontics</td>\n      <td>location: Bay of PlentyBay of Plentyarea: Taur...</td>\n      <td>Featured,at</td>\n      <td>classification: Administration &amp; Office Suppor...</td>\n    </tr>\n    <tr>\n      <th>2</th>\n      <td>Prosecutions Support Officer</td>\n      <td>https://www.seek.co.nz/job/50622169?type=stand...</td>\n      <td>New Zealand Police</td>\n      <td>location: AucklandAuckland</td>\n      <td>4d ago,at</td>\n      <td>classification: Administration &amp; Office Suppor...</td>\n    </tr>\n    <tr>\n      <th>3</th>\n      <td>Early Childhood Centre Administrator</td>\n      <td>https://www.seek.co.nz/job/50639620?type=stand...</td>\n      <td>Kew Pacific Island Early Learning Centre</td>\n      <td>location: SouthlandSouthlandarea: Invercargill...</td>\n      <td>1h ago,at</td>\n      <td>classification: Administration &amp; Office Suppor...</td>\n    </tr>\n    <tr>\n      <th>4</th>\n      <td>Business Support Administrator</td>\n      <td>https://www.seek.co.nz/job/50622432?type=stand...</td>\n      <td>NaN</td>\n      <td>location: CanterburyCanterburyarea: Christchur...</td>\n      <td>4d ago,at,Private Advertiser</td>\n      <td>classification: Administration &amp; Office Suppor...</td>\n    </tr>\n    <tr>\n      <th>...</th>\n      <td>...</td>\n      <td>...</td>\n      <td>...</td>\n      <td>...</td>\n      <td>...</td>\n      <td>...</td>\n    </tr>\n    <tr>\n      <th>2703</th>\n      <td>Key Account Manager</td>\n      <td>https://www.seek.co.nz/job/50490062?type=stand...</td>\n      <td>Hays Talent Solutions</td>\n      <td>location: AucklandAucklandarea: Auckland Centr...</td>\n      <td>27d ago,at</td>\n      <td>classification: Administration &amp; Office Suppor...</td>\n    </tr>\n    <tr>\n      <th>2704</th>\n      <td>Executive Assistant</td>\n      <td>https://www.seek.co.nz/job/50488000?type=stand...</td>\n      <td>one eighty recruitment</td>\n      <td>location: WellingtonWellingtonarea: Wellington...</td>\n      <td>27d ago,at</td>\n      <td>Competitive hourly rate</td>\n    </tr>\n    <tr>\n      <th>2705</th>\n      <td>Temporary Office Roles</td>\n      <td>https://www.seek.co.nz/job/50524865?type=stand...</td>\n      <td>Asset Recruitment Ltd</td>\n      <td>location: WaikatoWaikatoarea: HamiltonHamilton...</td>\n      <td>20d ago,at</td>\n      <td>Competitive hourly rates $$</td>\n    </tr>\n    <tr>\n      <th>2706</th>\n      <td>Temporary Office Roles</td>\n      <td>https://www.seek.co.nz/job/50477118?type=stand...</td>\n      <td>Asset Recruitment Ltd</td>\n      <td>location: WaikatoWaikatoarea: HamiltonHamilton...</td>\n      <td>28d ago,at</td>\n      <td>Competitive hourly rates $$</td>\n    </tr>\n    <tr>\n      <th>2707</th>\n      <td>Executive Assistant</td>\n      <td>https://www.seek.co.nz/job/50496571?type=stand...</td>\n      <td>Alpha Recruitment - NZ</td>\n      <td>location: WellingtonWellington</td>\n      <td>26d ago,at</td>\n      <td>classification: Administration &amp; Office Suppor...</td>\n    </tr>\n  </tbody>\n</table>\n<p>2708 rows × 6 columns</p>\n</div>"
     },
     "execution_count": 9,
     "metadata": {},
     "output_type": "execute_result"
    }
   ],
   "source": [
    "jobs"
   ],
   "metadata": {
    "collapsed": false
   }
  },
  {
   "cell_type": "markdown",
   "source": [
    "## 3. 处理Name列"
   ],
   "metadata": {
    "collapsed": false
   }
  },
  {
   "cell_type": "code",
   "execution_count": 10,
   "outputs": [
    {
     "data": {
      "text/plain": "0                              Administrator\n1                               Receptionist\n2               Prosecutions Support Officer\n3       Early Childhood Centre Administrator\n4             Business Support Administrator\n                        ...                 \n2703                     Key Account Manager\n2704                     Executive Assistant\n2705                  Temporary Office Roles\n2706                  Temporary Office Roles\n2707                     Executive Assistant\nName: Name, Length: 2708, dtype: object"
     },
     "execution_count": 10,
     "metadata": {},
     "output_type": "execute_result"
    }
   ],
   "source": [
    "# 提取Name列\n",
    "jobs_name = jobs['Name']\n",
    "jobs_name"
   ],
   "metadata": {
    "collapsed": false
   }
  },
  {
   "cell_type": "code",
   "execution_count": 11,
   "outputs": [
    {
     "data": {
      "text/plain": "False"
     },
     "execution_count": 11,
     "metadata": {},
     "output_type": "execute_result"
    }
   ],
   "source": [
    "# 检查是否有空值\n",
    "jobs_name.isnull().any()"
   ],
   "metadata": {
    "collapsed": false
   }
  },
  {
   "cell_type": "code",
   "execution_count": 13,
   "outputs": [
    {
     "data": {
      "text/plain": "0                              Administrator\n1                               Receptionist\n2               Prosecutions Support Officer\n3       Early Childhood Centre Administrator\n4             Business Support Administrator\n                        ...                 \n2703                     Key Account Manager\n2704                     Executive Assistant\n2705                  Temporary Office Roles\n2706                  Temporary Office Roles\n2707                     Executive Assistant\nName: Name, Length: 2708, dtype: object"
     },
     "execution_count": 13,
     "metadata": {},
     "output_type": "execute_result"
    }
   ],
   "source": [
    "# 统一处理为首字母大写\n",
    "jobs_name = jobs_name.str.title()\n",
    "jobs_name"
   ],
   "metadata": {
    "collapsed": false
   }
  },
  {
   "cell_type": "code",
   "execution_count": 14,
   "outputs": [
    {
     "data": {
      "text/plain": "                                      Name  \\\n0                            Administrator   \n1                             Receptionist   \n2             Prosecutions Support Officer   \n3     Early Childhood Centre Administrator   \n4           Business Support Administrator   \n...                                    ...   \n2703                   Key Account Manager   \n2704                   Executive Assistant   \n2705                Temporary Office Roles   \n2706                Temporary Office Roles   \n2707                   Executive Assistant   \n\n                                                   Link  \\\n0     https://www.seek.co.nz/job/50582301?type=promo...   \n1     https://www.seek.co.nz/job/50620889?type=promo...   \n2     https://www.seek.co.nz/job/50622169?type=stand...   \n3     https://www.seek.co.nz/job/50639620?type=stand...   \n4     https://www.seek.co.nz/job/50622432?type=stand...   \n...                                                 ...   \n2703  https://www.seek.co.nz/job/50490062?type=stand...   \n2704  https://www.seek.co.nz/job/50488000?type=stand...   \n2705  https://www.seek.co.nz/job/50524865?type=stand...   \n2706  https://www.seek.co.nz/job/50477118?type=stand...   \n2707  https://www.seek.co.nz/job/50496571?type=stand...   \n\n                                    Department  \\\n0                                          NaN   \n1                         Avenues Orthodontics   \n2                           New Zealand Police   \n3     Kew Pacific Island Early Learning Centre   \n4                                          NaN   \n...                                        ...   \n2703                     Hays Talent Solutions   \n2704                    one eighty recruitment   \n2705                     Asset Recruitment Ltd   \n2706                     Asset Recruitment Ltd   \n2707                    Alpha Recruitment - NZ   \n\n                                           LocationArea  \\\n0     location: Bay of PlentyBay of Plentyarea: Taur...   \n1     location: Bay of PlentyBay of Plentyarea: Taur...   \n2                            location: AucklandAuckland   \n3     location: SouthlandSouthlandarea: Invercargill...   \n4     location: CanterburyCanterburyarea: Christchur...   \n...                                                 ...   \n2703  location: AucklandAucklandarea: Auckland Centr...   \n2704  location: WellingtonWellingtonarea: Wellington...   \n2705  location: WaikatoWaikatoarea: HamiltonHamilton...   \n2706  location: WaikatoWaikatoarea: HamiltonHamilton...   \n2707                     location: WellingtonWellington   \n\n                         ReleaseTime  \\\n0     Featured,at,Private Advertiser   \n1                        Featured,at   \n2                          4d ago,at   \n3                          1h ago,at   \n4       4d ago,at,Private Advertiser   \n...                              ...   \n2703                      27d ago,at   \n2704                      27d ago,at   \n2705                      20d ago,at   \n2706                      28d ago,at   \n2707                      26d ago,at   \n\n                                         Classification  \n0     classification: Administration & Office Suppor...  \n1     classification: Administration & Office Suppor...  \n2     classification: Administration & Office Suppor...  \n3     classification: Administration & Office Suppor...  \n4     classification: Administration & Office Suppor...  \n...                                                 ...  \n2703  classification: Administration & Office Suppor...  \n2704                            Competitive hourly rate  \n2705                        Competitive hourly rates $$  \n2706                        Competitive hourly rates $$  \n2707  classification: Administration & Office Suppor...  \n\n[2708 rows x 6 columns]",
      "text/html": "<div>\n<style scoped>\n    .dataframe tbody tr th:only-of-type {\n        vertical-align: middle;\n    }\n\n    .dataframe tbody tr th {\n        vertical-align: top;\n    }\n\n    .dataframe thead th {\n        text-align: right;\n    }\n</style>\n<table border=\"1\" class=\"dataframe\">\n  <thead>\n    <tr style=\"text-align: right;\">\n      <th></th>\n      <th>Name</th>\n      <th>Link</th>\n      <th>Department</th>\n      <th>LocationArea</th>\n      <th>ReleaseTime</th>\n      <th>Classification</th>\n    </tr>\n  </thead>\n  <tbody>\n    <tr>\n      <th>0</th>\n      <td>Administrator</td>\n      <td>https://www.seek.co.nz/job/50582301?type=promo...</td>\n      <td>NaN</td>\n      <td>location: Bay of PlentyBay of Plentyarea: Taur...</td>\n      <td>Featured,at,Private Advertiser</td>\n      <td>classification: Administration &amp; Office Suppor...</td>\n    </tr>\n    <tr>\n      <th>1</th>\n      <td>Receptionist</td>\n      <td>https://www.seek.co.nz/job/50620889?type=promo...</td>\n      <td>Avenues Orthodontics</td>\n      <td>location: Bay of PlentyBay of Plentyarea: Taur...</td>\n      <td>Featured,at</td>\n      <td>classification: Administration &amp; Office Suppor...</td>\n    </tr>\n    <tr>\n      <th>2</th>\n      <td>Prosecutions Support Officer</td>\n      <td>https://www.seek.co.nz/job/50622169?type=stand...</td>\n      <td>New Zealand Police</td>\n      <td>location: AucklandAuckland</td>\n      <td>4d ago,at</td>\n      <td>classification: Administration &amp; Office Suppor...</td>\n    </tr>\n    <tr>\n      <th>3</th>\n      <td>Early Childhood Centre Administrator</td>\n      <td>https://www.seek.co.nz/job/50639620?type=stand...</td>\n      <td>Kew Pacific Island Early Learning Centre</td>\n      <td>location: SouthlandSouthlandarea: Invercargill...</td>\n      <td>1h ago,at</td>\n      <td>classification: Administration &amp; Office Suppor...</td>\n    </tr>\n    <tr>\n      <th>4</th>\n      <td>Business Support Administrator</td>\n      <td>https://www.seek.co.nz/job/50622432?type=stand...</td>\n      <td>NaN</td>\n      <td>location: CanterburyCanterburyarea: Christchur...</td>\n      <td>4d ago,at,Private Advertiser</td>\n      <td>classification: Administration &amp; Office Suppor...</td>\n    </tr>\n    <tr>\n      <th>...</th>\n      <td>...</td>\n      <td>...</td>\n      <td>...</td>\n      <td>...</td>\n      <td>...</td>\n      <td>...</td>\n    </tr>\n    <tr>\n      <th>2703</th>\n      <td>Key Account Manager</td>\n      <td>https://www.seek.co.nz/job/50490062?type=stand...</td>\n      <td>Hays Talent Solutions</td>\n      <td>location: AucklandAucklandarea: Auckland Centr...</td>\n      <td>27d ago,at</td>\n      <td>classification: Administration &amp; Office Suppor...</td>\n    </tr>\n    <tr>\n      <th>2704</th>\n      <td>Executive Assistant</td>\n      <td>https://www.seek.co.nz/job/50488000?type=stand...</td>\n      <td>one eighty recruitment</td>\n      <td>location: WellingtonWellingtonarea: Wellington...</td>\n      <td>27d ago,at</td>\n      <td>Competitive hourly rate</td>\n    </tr>\n    <tr>\n      <th>2705</th>\n      <td>Temporary Office Roles</td>\n      <td>https://www.seek.co.nz/job/50524865?type=stand...</td>\n      <td>Asset Recruitment Ltd</td>\n      <td>location: WaikatoWaikatoarea: HamiltonHamilton...</td>\n      <td>20d ago,at</td>\n      <td>Competitive hourly rates $$</td>\n    </tr>\n    <tr>\n      <th>2706</th>\n      <td>Temporary Office Roles</td>\n      <td>https://www.seek.co.nz/job/50477118?type=stand...</td>\n      <td>Asset Recruitment Ltd</td>\n      <td>location: WaikatoWaikatoarea: HamiltonHamilton...</td>\n      <td>28d ago,at</td>\n      <td>Competitive hourly rates $$</td>\n    </tr>\n    <tr>\n      <th>2707</th>\n      <td>Executive Assistant</td>\n      <td>https://www.seek.co.nz/job/50496571?type=stand...</td>\n      <td>Alpha Recruitment - NZ</td>\n      <td>location: WellingtonWellington</td>\n      <td>26d ago,at</td>\n      <td>classification: Administration &amp; Office Suppor...</td>\n    </tr>\n  </tbody>\n</table>\n<p>2708 rows × 6 columns</p>\n</div>"
     },
     "execution_count": 14,
     "metadata": {},
     "output_type": "execute_result"
    }
   ],
   "source": [
    "jobs['Name'] = jobs_name\n",
    "jobs"
   ],
   "metadata": {
    "collapsed": false
   }
  },
  {
   "cell_type": "markdown",
   "source": [
    "## 4. 处理Link列"
   ],
   "metadata": {
    "collapsed": false
   }
  },
  {
   "cell_type": "code",
   "execution_count": 15,
   "outputs": [
    {
     "data": {
      "text/plain": "0       https://www.seek.co.nz/job/50582301?type=promo...\n1       https://www.seek.co.nz/job/50620889?type=promo...\n2       https://www.seek.co.nz/job/50622169?type=stand...\n3       https://www.seek.co.nz/job/50639620?type=stand...\n4       https://www.seek.co.nz/job/50622432?type=stand...\n                              ...                        \n2703    https://www.seek.co.nz/job/50490062?type=stand...\n2704    https://www.seek.co.nz/job/50488000?type=stand...\n2705    https://www.seek.co.nz/job/50524865?type=stand...\n2706    https://www.seek.co.nz/job/50477118?type=stand...\n2707    https://www.seek.co.nz/job/50496571?type=stand...\nName: Link, Length: 2708, dtype: object"
     },
     "execution_count": 15,
     "metadata": {},
     "output_type": "execute_result"
    }
   ],
   "source": [
    "jobs_link = jobs['Link']\n",
    "jobs_link"
   ],
   "metadata": {
    "collapsed": false
   }
  },
  {
   "cell_type": "markdown",
   "source": [
    "观察发现，Link列中包含了job_id和job_type两个有效信息，因此我们选择使用正则进行提取"
   ],
   "metadata": {
    "collapsed": false
   }
  },
  {
   "cell_type": "code",
   "execution_count": 16,
   "outputs": [
    {
     "data": {
      "text/plain": "0       50582301\n1       50620889\n2       50622169\n3       50639620\n4       50622432\n          ...   \n2703    50490062\n2704    50488000\n2705    50524865\n2706    50477118\n2707    50496571\nName: Link, Length: 2708, dtype: object"
     },
     "execution_count": 16,
     "metadata": {},
     "output_type": "execute_result"
    }
   ],
   "source": [
    "jobs_id = jobs_link.apply(lambda x: re.search(r'\\d+', x).group())\n",
    "jobs_id"
   ],
   "metadata": {
    "collapsed": false
   }
  },
  {
   "cell_type": "code",
   "execution_count": 17,
   "outputs": [
    {
     "data": {
      "text/plain": "0       promoted\n1       promoted\n2       standard\n3       standard\n4       standout\n          ...   \n2703    standout\n2704    standout\n2705    standout\n2706    standout\n2707    standout\nName: Link, Length: 2708, dtype: object"
     },
     "execution_count": 17,
     "metadata": {},
     "output_type": "execute_result"
    }
   ],
   "source": [
    "jobs_type = jobs_link.apply(lambda x: re.search(r'type=(\\w+)', x).group(1))\n",
    "jobs_type"
   ],
   "metadata": {
    "collapsed": false
   }
  },
  {
   "cell_type": "code",
   "execution_count": 18,
   "outputs": [
    {
     "data": {
      "text/plain": "count         2708\nunique           3\ntop       standout\nfreq          1877\nName: Link, dtype: object"
     },
     "execution_count": 18,
     "metadata": {},
     "output_type": "execute_result"
    }
   ],
   "source": [
    "# 使用describe()函数查看type种类，发现有3种type\n",
    "jobs_type.describe()"
   ],
   "metadata": {
    "collapsed": false
   }
  },
  {
   "cell_type": "code",
   "execution_count": 19,
   "outputs": [],
   "source": [
    "jobs.insert(jobs.columns.get_loc('Link'), 'JobId', jobs_id)\n",
    "jobs.insert(jobs.columns.get_loc('Link'), 'JobType', jobs_type)"
   ],
   "metadata": {
    "collapsed": false
   }
  },
  {
   "cell_type": "code",
   "execution_count": 20,
   "outputs": [
    {
     "data": {
      "text/plain": "                                      Name     JobId   JobType  \\\n0                            Administrator  50582301  promoted   \n1                             Receptionist  50620889  promoted   \n2             Prosecutions Support Officer  50622169  standard   \n3     Early Childhood Centre Administrator  50639620  standard   \n4           Business Support Administrator  50622432  standout   \n...                                    ...       ...       ...   \n2703                   Key Account Manager  50490062  standout   \n2704                   Executive Assistant  50488000  standout   \n2705                Temporary Office Roles  50524865  standout   \n2706                Temporary Office Roles  50477118  standout   \n2707                   Executive Assistant  50496571  standout   \n\n                                                   Link  \\\n0     https://www.seek.co.nz/job/50582301?type=promo...   \n1     https://www.seek.co.nz/job/50620889?type=promo...   \n2     https://www.seek.co.nz/job/50622169?type=stand...   \n3     https://www.seek.co.nz/job/50639620?type=stand...   \n4     https://www.seek.co.nz/job/50622432?type=stand...   \n...                                                 ...   \n2703  https://www.seek.co.nz/job/50490062?type=stand...   \n2704  https://www.seek.co.nz/job/50488000?type=stand...   \n2705  https://www.seek.co.nz/job/50524865?type=stand...   \n2706  https://www.seek.co.nz/job/50477118?type=stand...   \n2707  https://www.seek.co.nz/job/50496571?type=stand...   \n\n                                    Department  \\\n0                                          NaN   \n1                         Avenues Orthodontics   \n2                           New Zealand Police   \n3     Kew Pacific Island Early Learning Centre   \n4                                          NaN   \n...                                        ...   \n2703                     Hays Talent Solutions   \n2704                    one eighty recruitment   \n2705                     Asset Recruitment Ltd   \n2706                     Asset Recruitment Ltd   \n2707                    Alpha Recruitment - NZ   \n\n                                           LocationArea  \\\n0     location: Bay of PlentyBay of Plentyarea: Taur...   \n1     location: Bay of PlentyBay of Plentyarea: Taur...   \n2                            location: AucklandAuckland   \n3     location: SouthlandSouthlandarea: Invercargill...   \n4     location: CanterburyCanterburyarea: Christchur...   \n...                                                 ...   \n2703  location: AucklandAucklandarea: Auckland Centr...   \n2704  location: WellingtonWellingtonarea: Wellington...   \n2705  location: WaikatoWaikatoarea: HamiltonHamilton...   \n2706  location: WaikatoWaikatoarea: HamiltonHamilton...   \n2707                     location: WellingtonWellington   \n\n                         ReleaseTime  \\\n0     Featured,at,Private Advertiser   \n1                        Featured,at   \n2                          4d ago,at   \n3                          1h ago,at   \n4       4d ago,at,Private Advertiser   \n...                              ...   \n2703                      27d ago,at   \n2704                      27d ago,at   \n2705                      20d ago,at   \n2706                      28d ago,at   \n2707                      26d ago,at   \n\n                                         Classification  \n0     classification: Administration & Office Suppor...  \n1     classification: Administration & Office Suppor...  \n2     classification: Administration & Office Suppor...  \n3     classification: Administration & Office Suppor...  \n4     classification: Administration & Office Suppor...  \n...                                                 ...  \n2703  classification: Administration & Office Suppor...  \n2704                            Competitive hourly rate  \n2705                        Competitive hourly rates $$  \n2706                        Competitive hourly rates $$  \n2707  classification: Administration & Office Suppor...  \n\n[2708 rows x 8 columns]",
      "text/html": "<div>\n<style scoped>\n    .dataframe tbody tr th:only-of-type {\n        vertical-align: middle;\n    }\n\n    .dataframe tbody tr th {\n        vertical-align: top;\n    }\n\n    .dataframe thead th {\n        text-align: right;\n    }\n</style>\n<table border=\"1\" class=\"dataframe\">\n  <thead>\n    <tr style=\"text-align: right;\">\n      <th></th>\n      <th>Name</th>\n      <th>JobId</th>\n      <th>JobType</th>\n      <th>Link</th>\n      <th>Department</th>\n      <th>LocationArea</th>\n      <th>ReleaseTime</th>\n      <th>Classification</th>\n    </tr>\n  </thead>\n  <tbody>\n    <tr>\n      <th>0</th>\n      <td>Administrator</td>\n      <td>50582301</td>\n      <td>promoted</td>\n      <td>https://www.seek.co.nz/job/50582301?type=promo...</td>\n      <td>NaN</td>\n      <td>location: Bay of PlentyBay of Plentyarea: Taur...</td>\n      <td>Featured,at,Private Advertiser</td>\n      <td>classification: Administration &amp; Office Suppor...</td>\n    </tr>\n    <tr>\n      <th>1</th>\n      <td>Receptionist</td>\n      <td>50620889</td>\n      <td>promoted</td>\n      <td>https://www.seek.co.nz/job/50620889?type=promo...</td>\n      <td>Avenues Orthodontics</td>\n      <td>location: Bay of PlentyBay of Plentyarea: Taur...</td>\n      <td>Featured,at</td>\n      <td>classification: Administration &amp; Office Suppor...</td>\n    </tr>\n    <tr>\n      <th>2</th>\n      <td>Prosecutions Support Officer</td>\n      <td>50622169</td>\n      <td>standard</td>\n      <td>https://www.seek.co.nz/job/50622169?type=stand...</td>\n      <td>New Zealand Police</td>\n      <td>location: AucklandAuckland</td>\n      <td>4d ago,at</td>\n      <td>classification: Administration &amp; Office Suppor...</td>\n    </tr>\n    <tr>\n      <th>3</th>\n      <td>Early Childhood Centre Administrator</td>\n      <td>50639620</td>\n      <td>standard</td>\n      <td>https://www.seek.co.nz/job/50639620?type=stand...</td>\n      <td>Kew Pacific Island Early Learning Centre</td>\n      <td>location: SouthlandSouthlandarea: Invercargill...</td>\n      <td>1h ago,at</td>\n      <td>classification: Administration &amp; Office Suppor...</td>\n    </tr>\n    <tr>\n      <th>4</th>\n      <td>Business Support Administrator</td>\n      <td>50622432</td>\n      <td>standout</td>\n      <td>https://www.seek.co.nz/job/50622432?type=stand...</td>\n      <td>NaN</td>\n      <td>location: CanterburyCanterburyarea: Christchur...</td>\n      <td>4d ago,at,Private Advertiser</td>\n      <td>classification: Administration &amp; Office Suppor...</td>\n    </tr>\n    <tr>\n      <th>...</th>\n      <td>...</td>\n      <td>...</td>\n      <td>...</td>\n      <td>...</td>\n      <td>...</td>\n      <td>...</td>\n      <td>...</td>\n      <td>...</td>\n    </tr>\n    <tr>\n      <th>2703</th>\n      <td>Key Account Manager</td>\n      <td>50490062</td>\n      <td>standout</td>\n      <td>https://www.seek.co.nz/job/50490062?type=stand...</td>\n      <td>Hays Talent Solutions</td>\n      <td>location: AucklandAucklandarea: Auckland Centr...</td>\n      <td>27d ago,at</td>\n      <td>classification: Administration &amp; Office Suppor...</td>\n    </tr>\n    <tr>\n      <th>2704</th>\n      <td>Executive Assistant</td>\n      <td>50488000</td>\n      <td>standout</td>\n      <td>https://www.seek.co.nz/job/50488000?type=stand...</td>\n      <td>one eighty recruitment</td>\n      <td>location: WellingtonWellingtonarea: Wellington...</td>\n      <td>27d ago,at</td>\n      <td>Competitive hourly rate</td>\n    </tr>\n    <tr>\n      <th>2705</th>\n      <td>Temporary Office Roles</td>\n      <td>50524865</td>\n      <td>standout</td>\n      <td>https://www.seek.co.nz/job/50524865?type=stand...</td>\n      <td>Asset Recruitment Ltd</td>\n      <td>location: WaikatoWaikatoarea: HamiltonHamilton...</td>\n      <td>20d ago,at</td>\n      <td>Competitive hourly rates $$</td>\n    </tr>\n    <tr>\n      <th>2706</th>\n      <td>Temporary Office Roles</td>\n      <td>50477118</td>\n      <td>standout</td>\n      <td>https://www.seek.co.nz/job/50477118?type=stand...</td>\n      <td>Asset Recruitment Ltd</td>\n      <td>location: WaikatoWaikatoarea: HamiltonHamilton...</td>\n      <td>28d ago,at</td>\n      <td>Competitive hourly rates $$</td>\n    </tr>\n    <tr>\n      <th>2707</th>\n      <td>Executive Assistant</td>\n      <td>50496571</td>\n      <td>standout</td>\n      <td>https://www.seek.co.nz/job/50496571?type=stand...</td>\n      <td>Alpha Recruitment - NZ</td>\n      <td>location: WellingtonWellington</td>\n      <td>26d ago,at</td>\n      <td>classification: Administration &amp; Office Suppor...</td>\n    </tr>\n  </tbody>\n</table>\n<p>2708 rows × 8 columns</p>\n</div>"
     },
     "execution_count": 20,
     "metadata": {},
     "output_type": "execute_result"
    }
   ],
   "source": [
    "jobs"
   ],
   "metadata": {
    "collapsed": false
   }
  },
  {
   "cell_type": "markdown",
   "source": [
    "## 5. 处理Location列"
   ],
   "metadata": {
    "collapsed": false
   }
  },
  {
   "cell_type": "code",
   "execution_count": 21,
   "outputs": [
    {
     "data": {
      "text/plain": "0       location: Bay of PlentyBay of Plentyarea: Taur...\n1       location: Bay of PlentyBay of Plentyarea: Taur...\n2                              location: AucklandAuckland\n3       location: SouthlandSouthlandarea: Invercargill...\n4       location: CanterburyCanterburyarea: Christchur...\n                              ...                        \n2703    location: AucklandAucklandarea: Auckland Centr...\n2704    location: WellingtonWellingtonarea: Wellington...\n2705    location: WaikatoWaikatoarea: HamiltonHamilton...\n2706    location: WaikatoWaikatoarea: HamiltonHamilton...\n2707                       location: WellingtonWellington\nName: LocationArea, Length: 2708, dtype: object"
     },
     "execution_count": 21,
     "metadata": {},
     "output_type": "execute_result"
    }
   ],
   "source": [
    "jobs_location_area = jobs['LocationArea']\n",
    "jobs_location_area"
   ],
   "metadata": {
    "collapsed": false
   }
  },
  {
   "cell_type": "code",
   "execution_count": 24,
   "outputs": [
    {
     "data": {
      "text/plain": "True"
     },
     "execution_count": 24,
     "metadata": {},
     "output_type": "execute_result"
    }
   ],
   "source": [
    "# 判断是否所有信息都包含location\n",
    "jobs_location_area.str.contains('location').all()"
   ],
   "metadata": {
    "collapsed": false
   }
  },
  {
   "cell_type": "code",
   "execution_count": 22,
   "outputs": [
    {
     "data": {
      "text/plain": "False"
     },
     "execution_count": 22,
     "metadata": {},
     "output_type": "execute_result"
    }
   ],
   "source": [
    "# 判断是否所有信息都包含area\n",
    "jobs_location_area.str.contains('area').all()"
   ],
   "metadata": {
    "collapsed": false
   }
  },
  {
   "cell_type": "code",
   "execution_count": 26,
   "outputs": [],
   "source": [
    "# 将series转化为df，并且对原LocationArea列进行split，对空值填充\n",
    "jobs_location_area = pd.DataFrame(jobs_location_area)\n",
    "\n",
    "jobs_location_area = jobs_location_area.assign(\n",
    "    Location=(jobs_location_area.LocationArea.str.split('area: ').str[0]),\n",
    "    Area=jobs_location_area.LocationArea.str.split('area: ').str[1])\n",
    "\n",
    "jobs_location_area['Area'] = jobs_location_area['Area'].fillna(value=np.nan)"
   ],
   "metadata": {
    "collapsed": false
   }
  },
  {
   "cell_type": "code",
   "execution_count": 27,
   "outputs": [
    {
     "data": {
      "text/plain": "                                           LocationArea  \\\n0     location: Bay of PlentyBay of Plentyarea: Taur...   \n1     location: Bay of PlentyBay of Plentyarea: Taur...   \n2                            location: AucklandAuckland   \n3     location: SouthlandSouthlandarea: Invercargill...   \n4     location: CanterburyCanterburyarea: Christchur...   \n...                                                 ...   \n2703  location: AucklandAucklandarea: Auckland Centr...   \n2704  location: WellingtonWellingtonarea: Wellington...   \n2705  location: WaikatoWaikatoarea: HamiltonHamilton...   \n2706  location: WaikatoWaikatoarea: HamiltonHamilton...   \n2707                     location: WellingtonWellington   \n\n                                  Location  \\\n0     location: Bay of PlentyBay of Plenty   \n1     location: Bay of PlentyBay of Plenty   \n2               location: AucklandAuckland   \n3             location: SouthlandSouthland   \n4           location: CanterburyCanterbury   \n...                                    ...   \n2703            location: AucklandAuckland   \n2704        location: WellingtonWellington   \n2705              location: WaikatoWaikato   \n2706              location: WaikatoWaikato   \n2707        location: WellingtonWellington   \n\n                                                   Area  \n0                                      TaurangaTauranga  \n1                                      TaurangaTauranga  \n2                                                   NaN  \n3                              InvercargillInvercargill  \n4                              ChristchurchChristchurch  \n...                                                 ...  \n2703                   Auckland CentralAuckland Central  \n2704  Wellington CentralWellington Central,Competiti...  \n2705       HamiltonHamilton,Competitive hourly rates $$  \n2706       HamiltonHamilton,Competitive hourly rates $$  \n2707                                                NaN  \n\n[2708 rows x 3 columns]",
      "text/html": "<div>\n<style scoped>\n    .dataframe tbody tr th:only-of-type {\n        vertical-align: middle;\n    }\n\n    .dataframe tbody tr th {\n        vertical-align: top;\n    }\n\n    .dataframe thead th {\n        text-align: right;\n    }\n</style>\n<table border=\"1\" class=\"dataframe\">\n  <thead>\n    <tr style=\"text-align: right;\">\n      <th></th>\n      <th>LocationArea</th>\n      <th>Location</th>\n      <th>Area</th>\n    </tr>\n  </thead>\n  <tbody>\n    <tr>\n      <th>0</th>\n      <td>location: Bay of PlentyBay of Plentyarea: Taur...</td>\n      <td>location: Bay of PlentyBay of Plenty</td>\n      <td>TaurangaTauranga</td>\n    </tr>\n    <tr>\n      <th>1</th>\n      <td>location: Bay of PlentyBay of Plentyarea: Taur...</td>\n      <td>location: Bay of PlentyBay of Plenty</td>\n      <td>TaurangaTauranga</td>\n    </tr>\n    <tr>\n      <th>2</th>\n      <td>location: AucklandAuckland</td>\n      <td>location: AucklandAuckland</td>\n      <td>NaN</td>\n    </tr>\n    <tr>\n      <th>3</th>\n      <td>location: SouthlandSouthlandarea: Invercargill...</td>\n      <td>location: SouthlandSouthland</td>\n      <td>InvercargillInvercargill</td>\n    </tr>\n    <tr>\n      <th>4</th>\n      <td>location: CanterburyCanterburyarea: Christchur...</td>\n      <td>location: CanterburyCanterbury</td>\n      <td>ChristchurchChristchurch</td>\n    </tr>\n    <tr>\n      <th>...</th>\n      <td>...</td>\n      <td>...</td>\n      <td>...</td>\n    </tr>\n    <tr>\n      <th>2703</th>\n      <td>location: AucklandAucklandarea: Auckland Centr...</td>\n      <td>location: AucklandAuckland</td>\n      <td>Auckland CentralAuckland Central</td>\n    </tr>\n    <tr>\n      <th>2704</th>\n      <td>location: WellingtonWellingtonarea: Wellington...</td>\n      <td>location: WellingtonWellington</td>\n      <td>Wellington CentralWellington Central,Competiti...</td>\n    </tr>\n    <tr>\n      <th>2705</th>\n      <td>location: WaikatoWaikatoarea: HamiltonHamilton...</td>\n      <td>location: WaikatoWaikato</td>\n      <td>HamiltonHamilton,Competitive hourly rates $$</td>\n    </tr>\n    <tr>\n      <th>2706</th>\n      <td>location: WaikatoWaikatoarea: HamiltonHamilton...</td>\n      <td>location: WaikatoWaikato</td>\n      <td>HamiltonHamilton,Competitive hourly rates $$</td>\n    </tr>\n    <tr>\n      <th>2707</th>\n      <td>location: WellingtonWellington</td>\n      <td>location: WellingtonWellington</td>\n      <td>NaN</td>\n    </tr>\n  </tbody>\n</table>\n<p>2708 rows × 3 columns</p>\n</div>"
     },
     "execution_count": 27,
     "metadata": {},
     "output_type": "execute_result"
    }
   ],
   "source": [
    "jobs_location_area"
   ],
   "metadata": {
    "collapsed": false
   }
  },
  {
   "cell_type": "markdown",
   "source": [
    "现在来处理字符串重复的问题，观察发现，字符串的重复没有什么特殊性，都是子串*2，因此我们对字符串从中间进行split，新生成两列df，判断是否一致，一致则保留一列的数据到原df上，不一致则不进行修改"
   ],
   "metadata": {
    "collapsed": false
   }
  },
  {
   "cell_type": "code",
   "execution_count": 29,
   "outputs": [],
   "source": [
    "jobs_location_area['Location'] = jobs_location_area.Location.str.replace('location: ', '', )"
   ],
   "metadata": {
    "collapsed": false
   }
  },
  {
   "cell_type": "code",
   "execution_count": 30,
   "outputs": [],
   "source": [
    "# 将字符串从中间位置进行拆分，并且对后半段要判断是否最后还有多余空格\n",
    "jobs_location_area['Location_1'] = jobs_location_area['Location'].apply(lambda x: x[:len(x) // 2])\n",
    "jobs_location_area['Location_2'] = jobs_location_area['Location'].apply(lambda x: x[len(x) // 2:])\n",
    "jobs_location_area['Location_2'] = jobs_location_area['Location_2'].apply(lambda x: x[:-1] if x[-1] == ' ' else x)"
   ],
   "metadata": {
    "collapsed": false
   }
  },
  {
   "cell_type": "code",
   "execution_count": 31,
   "outputs": [],
   "source": [
    "# 使用np.where()函数进行判断，拆分的两个片段如果一致则将第一个片段的信息填充到Location列中，不一致则保留Location列中原信息\n",
    "jobs_location_area['Location'] = np.where(\n",
    "    jobs_location_area['Location_1'] == jobs_location_area['Location_2'],\n",
    "    jobs_location_area['Location_1'],\n",
    "    jobs_location_area['Location'])"
   ],
   "metadata": {
    "collapsed": false
   }
  },
  {
   "cell_type": "code",
   "execution_count": 32,
   "outputs": [
    {
     "data": {
      "text/plain": "                                           LocationArea       Location  \\\n0     location: Bay of PlentyBay of Plentyarea: Taur...  Bay of Plenty   \n1     location: Bay of PlentyBay of Plentyarea: Taur...  Bay of Plenty   \n2                            location: AucklandAuckland       Auckland   \n3     location: SouthlandSouthlandarea: Invercargill...      Southland   \n4     location: CanterburyCanterburyarea: Christchur...     Canterbury   \n...                                                 ...            ...   \n2703  location: AucklandAucklandarea: Auckland Centr...       Auckland   \n2704  location: WellingtonWellingtonarea: Wellington...     Wellington   \n2705  location: WaikatoWaikatoarea: HamiltonHamilton...        Waikato   \n2706  location: WaikatoWaikatoarea: HamiltonHamilton...        Waikato   \n2707                     location: WellingtonWellington     Wellington   \n\n                                                   Area     Location_1  \\\n0                                      TaurangaTauranga  Bay of Plenty   \n1                                      TaurangaTauranga  Bay of Plenty   \n2                                                   NaN       Auckland   \n3                              InvercargillInvercargill      Southland   \n4                              ChristchurchChristchurch     Canterbury   \n...                                                 ...            ...   \n2703                   Auckland CentralAuckland Central       Auckland   \n2704  Wellington CentralWellington Central,Competiti...     Wellington   \n2705       HamiltonHamilton,Competitive hourly rates $$        Waikato   \n2706       HamiltonHamilton,Competitive hourly rates $$        Waikato   \n2707                                                NaN     Wellington   \n\n         Location_2  \n0     Bay of Plenty  \n1     Bay of Plenty  \n2          Auckland  \n3         Southland  \n4        Canterbury  \n...             ...  \n2703       Auckland  \n2704     Wellington  \n2705        Waikato  \n2706        Waikato  \n2707     Wellington  \n\n[2708 rows x 5 columns]",
      "text/html": "<div>\n<style scoped>\n    .dataframe tbody tr th:only-of-type {\n        vertical-align: middle;\n    }\n\n    .dataframe tbody tr th {\n        vertical-align: top;\n    }\n\n    .dataframe thead th {\n        text-align: right;\n    }\n</style>\n<table border=\"1\" class=\"dataframe\">\n  <thead>\n    <tr style=\"text-align: right;\">\n      <th></th>\n      <th>LocationArea</th>\n      <th>Location</th>\n      <th>Area</th>\n      <th>Location_1</th>\n      <th>Location_2</th>\n    </tr>\n  </thead>\n  <tbody>\n    <tr>\n      <th>0</th>\n      <td>location: Bay of PlentyBay of Plentyarea: Taur...</td>\n      <td>Bay of Plenty</td>\n      <td>TaurangaTauranga</td>\n      <td>Bay of Plenty</td>\n      <td>Bay of Plenty</td>\n    </tr>\n    <tr>\n      <th>1</th>\n      <td>location: Bay of PlentyBay of Plentyarea: Taur...</td>\n      <td>Bay of Plenty</td>\n      <td>TaurangaTauranga</td>\n      <td>Bay of Plenty</td>\n      <td>Bay of Plenty</td>\n    </tr>\n    <tr>\n      <th>2</th>\n      <td>location: AucklandAuckland</td>\n      <td>Auckland</td>\n      <td>NaN</td>\n      <td>Auckland</td>\n      <td>Auckland</td>\n    </tr>\n    <tr>\n      <th>3</th>\n      <td>location: SouthlandSouthlandarea: Invercargill...</td>\n      <td>Southland</td>\n      <td>InvercargillInvercargill</td>\n      <td>Southland</td>\n      <td>Southland</td>\n    </tr>\n    <tr>\n      <th>4</th>\n      <td>location: CanterburyCanterburyarea: Christchur...</td>\n      <td>Canterbury</td>\n      <td>ChristchurchChristchurch</td>\n      <td>Canterbury</td>\n      <td>Canterbury</td>\n    </tr>\n    <tr>\n      <th>...</th>\n      <td>...</td>\n      <td>...</td>\n      <td>...</td>\n      <td>...</td>\n      <td>...</td>\n    </tr>\n    <tr>\n      <th>2703</th>\n      <td>location: AucklandAucklandarea: Auckland Centr...</td>\n      <td>Auckland</td>\n      <td>Auckland CentralAuckland Central</td>\n      <td>Auckland</td>\n      <td>Auckland</td>\n    </tr>\n    <tr>\n      <th>2704</th>\n      <td>location: WellingtonWellingtonarea: Wellington...</td>\n      <td>Wellington</td>\n      <td>Wellington CentralWellington Central,Competiti...</td>\n      <td>Wellington</td>\n      <td>Wellington</td>\n    </tr>\n    <tr>\n      <th>2705</th>\n      <td>location: WaikatoWaikatoarea: HamiltonHamilton...</td>\n      <td>Waikato</td>\n      <td>HamiltonHamilton,Competitive hourly rates $$</td>\n      <td>Waikato</td>\n      <td>Waikato</td>\n    </tr>\n    <tr>\n      <th>2706</th>\n      <td>location: WaikatoWaikatoarea: HamiltonHamilton...</td>\n      <td>Waikato</td>\n      <td>HamiltonHamilton,Competitive hourly rates $$</td>\n      <td>Waikato</td>\n      <td>Waikato</td>\n    </tr>\n    <tr>\n      <th>2707</th>\n      <td>location: WellingtonWellington</td>\n      <td>Wellington</td>\n      <td>NaN</td>\n      <td>Wellington</td>\n      <td>Wellington</td>\n    </tr>\n  </tbody>\n</table>\n<p>2708 rows × 5 columns</p>\n</div>"
     },
     "execution_count": 32,
     "metadata": {},
     "output_type": "execute_result"
    }
   ],
   "source": [
    "jobs_location_area"
   ],
   "metadata": {
    "collapsed": false
   }
  },
  {
   "cell_type": "code",
   "execution_count": 33,
   "outputs": [],
   "source": [
    "jobs_location_area['Area_1'] = jobs_location_area['Area'].apply(lambda x: x[:len(x) // 2] if pd.notnull(x) else x)\n",
    "jobs_location_area['Area_2'] = jobs_location_area['Area'].apply(lambda x: x[len(x) // 2:] if pd.notnull(x) else x)"
   ],
   "metadata": {
    "collapsed": false
   }
  },
  {
   "cell_type": "code",
   "execution_count": 34,
   "outputs": [],
   "source": [
    "jobs_location_area['Area'] = np.where(\n",
    "    jobs_location_area['Area_1'] == jobs_location_area['Area_2'],\n",
    "    jobs_location_area['Area_1'],\n",
    "    jobs_location_area['Area'])"
   ],
   "metadata": {
    "collapsed": false
   }
  },
  {
   "cell_type": "code",
   "execution_count": 35,
   "outputs": [
    {
     "data": {
      "text/plain": "                                           LocationArea       Location  \\\n0     location: Bay of PlentyBay of Plentyarea: Taur...  Bay of Plenty   \n1     location: Bay of PlentyBay of Plentyarea: Taur...  Bay of Plenty   \n2                            location: AucklandAuckland       Auckland   \n3     location: SouthlandSouthlandarea: Invercargill...      Southland   \n4     location: CanterburyCanterburyarea: Christchur...     Canterbury   \n...                                                 ...            ...   \n2703  location: AucklandAucklandarea: Auckland Centr...       Auckland   \n2704  location: WellingtonWellingtonarea: Wellington...     Wellington   \n2705  location: WaikatoWaikatoarea: HamiltonHamilton...        Waikato   \n2706  location: WaikatoWaikatoarea: HamiltonHamilton...        Waikato   \n2707                     location: WellingtonWellington     Wellington   \n\n                                                   Area     Location_1  \\\n0                                              Tauranga  Bay of Plenty   \n1                                              Tauranga  Bay of Plenty   \n2                                                   NaN       Auckland   \n3                                          Invercargill      Southland   \n4                                          Christchurch     Canterbury   \n...                                                 ...            ...   \n2703                                   Auckland Central       Auckland   \n2704  Wellington CentralWellington Central,Competiti...     Wellington   \n2705       HamiltonHamilton,Competitive hourly rates $$        Waikato   \n2706       HamiltonHamilton,Competitive hourly rates $$        Waikato   \n2707                                                NaN     Wellington   \n\n         Location_2                          Area_1  \\\n0     Bay of Plenty                        Tauranga   \n1     Bay of Plenty                        Tauranga   \n2          Auckland                             NaN   \n3         Southland                    Invercargill   \n4        Canterbury                    Christchurch   \n...             ...                             ...   \n2703       Auckland                Auckland Central   \n2704     Wellington  Wellington CentralWellington C   \n2705        Waikato          HamiltonHamilton,Compe   \n2706        Waikato          HamiltonHamilton,Compe   \n2707     Wellington                             NaN   \n\n                              Area_2  \n0                           Tauranga  \n1                           Tauranga  \n2                                NaN  \n3                       Invercargill  \n4                       Christchurch  \n...                              ...  \n2703                Auckland Central  \n2704  entral,Competitive hourly rate  \n2705          titive hourly rates $$  \n2706          titive hourly rates $$  \n2707                             NaN  \n\n[2708 rows x 7 columns]",
      "text/html": "<div>\n<style scoped>\n    .dataframe tbody tr th:only-of-type {\n        vertical-align: middle;\n    }\n\n    .dataframe tbody tr th {\n        vertical-align: top;\n    }\n\n    .dataframe thead th {\n        text-align: right;\n    }\n</style>\n<table border=\"1\" class=\"dataframe\">\n  <thead>\n    <tr style=\"text-align: right;\">\n      <th></th>\n      <th>LocationArea</th>\n      <th>Location</th>\n      <th>Area</th>\n      <th>Location_1</th>\n      <th>Location_2</th>\n      <th>Area_1</th>\n      <th>Area_2</th>\n    </tr>\n  </thead>\n  <tbody>\n    <tr>\n      <th>0</th>\n      <td>location: Bay of PlentyBay of Plentyarea: Taur...</td>\n      <td>Bay of Plenty</td>\n      <td>Tauranga</td>\n      <td>Bay of Plenty</td>\n      <td>Bay of Plenty</td>\n      <td>Tauranga</td>\n      <td>Tauranga</td>\n    </tr>\n    <tr>\n      <th>1</th>\n      <td>location: Bay of PlentyBay of Plentyarea: Taur...</td>\n      <td>Bay of Plenty</td>\n      <td>Tauranga</td>\n      <td>Bay of Plenty</td>\n      <td>Bay of Plenty</td>\n      <td>Tauranga</td>\n      <td>Tauranga</td>\n    </tr>\n    <tr>\n      <th>2</th>\n      <td>location: AucklandAuckland</td>\n      <td>Auckland</td>\n      <td>NaN</td>\n      <td>Auckland</td>\n      <td>Auckland</td>\n      <td>NaN</td>\n      <td>NaN</td>\n    </tr>\n    <tr>\n      <th>3</th>\n      <td>location: SouthlandSouthlandarea: Invercargill...</td>\n      <td>Southland</td>\n      <td>Invercargill</td>\n      <td>Southland</td>\n      <td>Southland</td>\n      <td>Invercargill</td>\n      <td>Invercargill</td>\n    </tr>\n    <tr>\n      <th>4</th>\n      <td>location: CanterburyCanterburyarea: Christchur...</td>\n      <td>Canterbury</td>\n      <td>Christchurch</td>\n      <td>Canterbury</td>\n      <td>Canterbury</td>\n      <td>Christchurch</td>\n      <td>Christchurch</td>\n    </tr>\n    <tr>\n      <th>...</th>\n      <td>...</td>\n      <td>...</td>\n      <td>...</td>\n      <td>...</td>\n      <td>...</td>\n      <td>...</td>\n      <td>...</td>\n    </tr>\n    <tr>\n      <th>2703</th>\n      <td>location: AucklandAucklandarea: Auckland Centr...</td>\n      <td>Auckland</td>\n      <td>Auckland Central</td>\n      <td>Auckland</td>\n      <td>Auckland</td>\n      <td>Auckland Central</td>\n      <td>Auckland Central</td>\n    </tr>\n    <tr>\n      <th>2704</th>\n      <td>location: WellingtonWellingtonarea: Wellington...</td>\n      <td>Wellington</td>\n      <td>Wellington CentralWellington Central,Competiti...</td>\n      <td>Wellington</td>\n      <td>Wellington</td>\n      <td>Wellington CentralWellington C</td>\n      <td>entral,Competitive hourly rate</td>\n    </tr>\n    <tr>\n      <th>2705</th>\n      <td>location: WaikatoWaikatoarea: HamiltonHamilton...</td>\n      <td>Waikato</td>\n      <td>HamiltonHamilton,Competitive hourly rates $$</td>\n      <td>Waikato</td>\n      <td>Waikato</td>\n      <td>HamiltonHamilton,Compe</td>\n      <td>titive hourly rates $$</td>\n    </tr>\n    <tr>\n      <th>2706</th>\n      <td>location: WaikatoWaikatoarea: HamiltonHamilton...</td>\n      <td>Waikato</td>\n      <td>HamiltonHamilton,Competitive hourly rates $$</td>\n      <td>Waikato</td>\n      <td>Waikato</td>\n      <td>HamiltonHamilton,Compe</td>\n      <td>titive hourly rates $$</td>\n    </tr>\n    <tr>\n      <th>2707</th>\n      <td>location: WellingtonWellington</td>\n      <td>Wellington</td>\n      <td>NaN</td>\n      <td>Wellington</td>\n      <td>Wellington</td>\n      <td>NaN</td>\n      <td>NaN</td>\n    </tr>\n  </tbody>\n</table>\n<p>2708 rows × 7 columns</p>\n</div>"
     },
     "execution_count": 35,
     "metadata": {},
     "output_type": "execute_result"
    }
   ],
   "source": [
    "jobs_location_area"
   ],
   "metadata": {
    "collapsed": false
   }
  },
  {
   "cell_type": "code",
   "execution_count": 36,
   "outputs": [],
   "source": [
    "jobs.insert(jobs.columns.get_loc('LocationArea'), 'Location', jobs_location_area['Location'])\n",
    "jobs.insert(jobs.columns.get_loc('LocationArea'), 'Area', jobs_location_area['Area'])"
   ],
   "metadata": {
    "collapsed": false
   }
  },
  {
   "cell_type": "code",
   "execution_count": 38,
   "outputs": [
    {
     "data": {
      "text/plain": "                                      Name     JobId   JobType  \\\n0                            Administrator  50582301  promoted   \n1                             Receptionist  50620889  promoted   \n2             Prosecutions Support Officer  50622169  standard   \n3     Early Childhood Centre Administrator  50639620  standard   \n4           Business Support Administrator  50622432  standout   \n...                                    ...       ...       ...   \n2703                   Key Account Manager  50490062  standout   \n2704                   Executive Assistant  50488000  standout   \n2705                Temporary Office Roles  50524865  standout   \n2706                Temporary Office Roles  50477118  standout   \n2707                   Executive Assistant  50496571  standout   \n\n                                                   Link  \\\n0     https://www.seek.co.nz/job/50582301?type=promo...   \n1     https://www.seek.co.nz/job/50620889?type=promo...   \n2     https://www.seek.co.nz/job/50622169?type=stand...   \n3     https://www.seek.co.nz/job/50639620?type=stand...   \n4     https://www.seek.co.nz/job/50622432?type=stand...   \n...                                                 ...   \n2703  https://www.seek.co.nz/job/50490062?type=stand...   \n2704  https://www.seek.co.nz/job/50488000?type=stand...   \n2705  https://www.seek.co.nz/job/50524865?type=stand...   \n2706  https://www.seek.co.nz/job/50477118?type=stand...   \n2707  https://www.seek.co.nz/job/50496571?type=stand...   \n\n                                    Department       Location  \\\n0                                          NaN  Bay of Plenty   \n1                         Avenues Orthodontics  Bay of Plenty   \n2                           New Zealand Police       Auckland   \n3     Kew Pacific Island Early Learning Centre      Southland   \n4                                          NaN     Canterbury   \n...                                        ...            ...   \n2703                     Hays Talent Solutions       Auckland   \n2704                    one eighty recruitment     Wellington   \n2705                     Asset Recruitment Ltd        Waikato   \n2706                     Asset Recruitment Ltd        Waikato   \n2707                    Alpha Recruitment - NZ     Wellington   \n\n                                                   Area  \\\n0                                              Tauranga   \n1                                              Tauranga   \n2                                                   NaN   \n3                                          Invercargill   \n4                                          Christchurch   \n...                                                 ...   \n2703                                   Auckland Central   \n2704  Wellington CentralWellington Central,Competiti...   \n2705       HamiltonHamilton,Competitive hourly rates $$   \n2706       HamiltonHamilton,Competitive hourly rates $$   \n2707                                                NaN   \n\n                         ReleaseTime  \\\n0     Featured,at,Private Advertiser   \n1                        Featured,at   \n2                          4d ago,at   \n3                          1h ago,at   \n4       4d ago,at,Private Advertiser   \n...                              ...   \n2703                      27d ago,at   \n2704                      27d ago,at   \n2705                      20d ago,at   \n2706                      28d ago,at   \n2707                      26d ago,at   \n\n                                         Classification  \n0     classification: Administration & Office Suppor...  \n1     classification: Administration & Office Suppor...  \n2     classification: Administration & Office Suppor...  \n3     classification: Administration & Office Suppor...  \n4     classification: Administration & Office Suppor...  \n...                                                 ...  \n2703  classification: Administration & Office Suppor...  \n2704                            Competitive hourly rate  \n2705                        Competitive hourly rates $$  \n2706                        Competitive hourly rates $$  \n2707  classification: Administration & Office Suppor...  \n\n[2708 rows x 9 columns]",
      "text/html": "<div>\n<style scoped>\n    .dataframe tbody tr th:only-of-type {\n        vertical-align: middle;\n    }\n\n    .dataframe tbody tr th {\n        vertical-align: top;\n    }\n\n    .dataframe thead th {\n        text-align: right;\n    }\n</style>\n<table border=\"1\" class=\"dataframe\">\n  <thead>\n    <tr style=\"text-align: right;\">\n      <th></th>\n      <th>Name</th>\n      <th>JobId</th>\n      <th>JobType</th>\n      <th>Link</th>\n      <th>Department</th>\n      <th>Location</th>\n      <th>Area</th>\n      <th>ReleaseTime</th>\n      <th>Classification</th>\n    </tr>\n  </thead>\n  <tbody>\n    <tr>\n      <th>0</th>\n      <td>Administrator</td>\n      <td>50582301</td>\n      <td>promoted</td>\n      <td>https://www.seek.co.nz/job/50582301?type=promo...</td>\n      <td>NaN</td>\n      <td>Bay of Plenty</td>\n      <td>Tauranga</td>\n      <td>Featured,at,Private Advertiser</td>\n      <td>classification: Administration &amp; Office Suppor...</td>\n    </tr>\n    <tr>\n      <th>1</th>\n      <td>Receptionist</td>\n      <td>50620889</td>\n      <td>promoted</td>\n      <td>https://www.seek.co.nz/job/50620889?type=promo...</td>\n      <td>Avenues Orthodontics</td>\n      <td>Bay of Plenty</td>\n      <td>Tauranga</td>\n      <td>Featured,at</td>\n      <td>classification: Administration &amp; Office Suppor...</td>\n    </tr>\n    <tr>\n      <th>2</th>\n      <td>Prosecutions Support Officer</td>\n      <td>50622169</td>\n      <td>standard</td>\n      <td>https://www.seek.co.nz/job/50622169?type=stand...</td>\n      <td>New Zealand Police</td>\n      <td>Auckland</td>\n      <td>NaN</td>\n      <td>4d ago,at</td>\n      <td>classification: Administration &amp; Office Suppor...</td>\n    </tr>\n    <tr>\n      <th>3</th>\n      <td>Early Childhood Centre Administrator</td>\n      <td>50639620</td>\n      <td>standard</td>\n      <td>https://www.seek.co.nz/job/50639620?type=stand...</td>\n      <td>Kew Pacific Island Early Learning Centre</td>\n      <td>Southland</td>\n      <td>Invercargill</td>\n      <td>1h ago,at</td>\n      <td>classification: Administration &amp; Office Suppor...</td>\n    </tr>\n    <tr>\n      <th>4</th>\n      <td>Business Support Administrator</td>\n      <td>50622432</td>\n      <td>standout</td>\n      <td>https://www.seek.co.nz/job/50622432?type=stand...</td>\n      <td>NaN</td>\n      <td>Canterbury</td>\n      <td>Christchurch</td>\n      <td>4d ago,at,Private Advertiser</td>\n      <td>classification: Administration &amp; Office Suppor...</td>\n    </tr>\n    <tr>\n      <th>...</th>\n      <td>...</td>\n      <td>...</td>\n      <td>...</td>\n      <td>...</td>\n      <td>...</td>\n      <td>...</td>\n      <td>...</td>\n      <td>...</td>\n      <td>...</td>\n    </tr>\n    <tr>\n      <th>2703</th>\n      <td>Key Account Manager</td>\n      <td>50490062</td>\n      <td>standout</td>\n      <td>https://www.seek.co.nz/job/50490062?type=stand...</td>\n      <td>Hays Talent Solutions</td>\n      <td>Auckland</td>\n      <td>Auckland Central</td>\n      <td>27d ago,at</td>\n      <td>classification: Administration &amp; Office Suppor...</td>\n    </tr>\n    <tr>\n      <th>2704</th>\n      <td>Executive Assistant</td>\n      <td>50488000</td>\n      <td>standout</td>\n      <td>https://www.seek.co.nz/job/50488000?type=stand...</td>\n      <td>one eighty recruitment</td>\n      <td>Wellington</td>\n      <td>Wellington CentralWellington Central,Competiti...</td>\n      <td>27d ago,at</td>\n      <td>Competitive hourly rate</td>\n    </tr>\n    <tr>\n      <th>2705</th>\n      <td>Temporary Office Roles</td>\n      <td>50524865</td>\n      <td>standout</td>\n      <td>https://www.seek.co.nz/job/50524865?type=stand...</td>\n      <td>Asset Recruitment Ltd</td>\n      <td>Waikato</td>\n      <td>HamiltonHamilton,Competitive hourly rates $$</td>\n      <td>20d ago,at</td>\n      <td>Competitive hourly rates $$</td>\n    </tr>\n    <tr>\n      <th>2706</th>\n      <td>Temporary Office Roles</td>\n      <td>50477118</td>\n      <td>standout</td>\n      <td>https://www.seek.co.nz/job/50477118?type=stand...</td>\n      <td>Asset Recruitment Ltd</td>\n      <td>Waikato</td>\n      <td>HamiltonHamilton,Competitive hourly rates $$</td>\n      <td>28d ago,at</td>\n      <td>Competitive hourly rates $$</td>\n    </tr>\n    <tr>\n      <th>2707</th>\n      <td>Executive Assistant</td>\n      <td>50496571</td>\n      <td>standout</td>\n      <td>https://www.seek.co.nz/job/50496571?type=stand...</td>\n      <td>Alpha Recruitment - NZ</td>\n      <td>Wellington</td>\n      <td>NaN</td>\n      <td>26d ago,at</td>\n      <td>classification: Administration &amp; Office Suppor...</td>\n    </tr>\n  </tbody>\n</table>\n<p>2708 rows × 9 columns</p>\n</div>"
     },
     "execution_count": 38,
     "metadata": {},
     "output_type": "execute_result"
    }
   ],
   "source": [
    "jobs = jobs.drop(columns='LocationArea')\n",
    "jobs"
   ],
   "metadata": {
    "collapsed": false
   }
  },
  {
   "cell_type": "markdown",
   "source": [
    "## 6. 处理ReleaseTime列"
   ],
   "metadata": {
    "collapsed": false
   }
  },
  {
   "cell_type": "code",
   "execution_count": 40,
   "outputs": [
    {
     "data": {
      "text/plain": "                         ReleaseTime\n0     Featured,at,Private Advertiser\n1                        Featured,at\n2                          4d ago,at\n3                          1h ago,at\n4       4d ago,at,Private Advertiser\n...                              ...\n2703                      27d ago,at\n2704                      27d ago,at\n2705                      20d ago,at\n2706                      28d ago,at\n2707                      26d ago,at\n\n[2708 rows x 1 columns]",
      "text/html": "<div>\n<style scoped>\n    .dataframe tbody tr th:only-of-type {\n        vertical-align: middle;\n    }\n\n    .dataframe tbody tr th {\n        vertical-align: top;\n    }\n\n    .dataframe thead th {\n        text-align: right;\n    }\n</style>\n<table border=\"1\" class=\"dataframe\">\n  <thead>\n    <tr style=\"text-align: right;\">\n      <th></th>\n      <th>ReleaseTime</th>\n    </tr>\n  </thead>\n  <tbody>\n    <tr>\n      <th>0</th>\n      <td>Featured,at,Private Advertiser</td>\n    </tr>\n    <tr>\n      <th>1</th>\n      <td>Featured,at</td>\n    </tr>\n    <tr>\n      <th>2</th>\n      <td>4d ago,at</td>\n    </tr>\n    <tr>\n      <th>3</th>\n      <td>1h ago,at</td>\n    </tr>\n    <tr>\n      <th>4</th>\n      <td>4d ago,at,Private Advertiser</td>\n    </tr>\n    <tr>\n      <th>...</th>\n      <td>...</td>\n    </tr>\n    <tr>\n      <th>2703</th>\n      <td>27d ago,at</td>\n    </tr>\n    <tr>\n      <th>2704</th>\n      <td>27d ago,at</td>\n    </tr>\n    <tr>\n      <th>2705</th>\n      <td>20d ago,at</td>\n    </tr>\n    <tr>\n      <th>2706</th>\n      <td>28d ago,at</td>\n    </tr>\n    <tr>\n      <th>2707</th>\n      <td>26d ago,at</td>\n    </tr>\n  </tbody>\n</table>\n<p>2708 rows × 1 columns</p>\n</div>"
     },
     "execution_count": 40,
     "metadata": {},
     "output_type": "execute_result"
    }
   ],
   "source": [
    "release_time = pd.DataFrame(jobs['ReleaseTime'])\n",
    "release_time"
   ],
   "metadata": {
    "collapsed": false
   }
  },
  {
   "cell_type": "code",
   "execution_count": 41,
   "outputs": [
    {
     "data": {
      "text/plain": "True"
     },
     "execution_count": 41,
     "metadata": {},
     "output_type": "execute_result"
    }
   ],
   "source": [
    "release_time['ReleaseTime'].str.contains('at').all()"
   ],
   "metadata": {
    "collapsed": false
   }
  },
  {
   "cell_type": "code",
   "execution_count": 42,
   "outputs": [],
   "source": [
    "# 有些信息中带有PrivateAdvertiser，因此将其筛选出来，生成新的一列\n",
    "release_time['PrivateAdvertiser'] = release_time['ReleaseTime'].apply(lambda x: 1 if 'Private Advertiser' in x else 0)"
   ],
   "metadata": {
    "collapsed": false
   }
  },
  {
   "cell_type": "code",
   "execution_count": 43,
   "outputs": [
    {
     "data": {
      "text/plain": "                         ReleaseTime  PrivateAdvertiser\n0     Featured,at,Private Advertiser                  1\n1                        Featured,at                  0\n2                          4d ago,at                  0\n3                          1h ago,at                  0\n4       4d ago,at,Private Advertiser                  1\n...                              ...                ...\n2703                      27d ago,at                  0\n2704                      27d ago,at                  0\n2705                      20d ago,at                  0\n2706                      28d ago,at                  0\n2707                      26d ago,at                  0\n\n[2708 rows x 2 columns]",
      "text/html": "<div>\n<style scoped>\n    .dataframe tbody tr th:only-of-type {\n        vertical-align: middle;\n    }\n\n    .dataframe tbody tr th {\n        vertical-align: top;\n    }\n\n    .dataframe thead th {\n        text-align: right;\n    }\n</style>\n<table border=\"1\" class=\"dataframe\">\n  <thead>\n    <tr style=\"text-align: right;\">\n      <th></th>\n      <th>ReleaseTime</th>\n      <th>PrivateAdvertiser</th>\n    </tr>\n  </thead>\n  <tbody>\n    <tr>\n      <th>0</th>\n      <td>Featured,at,Private Advertiser</td>\n      <td>1</td>\n    </tr>\n    <tr>\n      <th>1</th>\n      <td>Featured,at</td>\n      <td>0</td>\n    </tr>\n    <tr>\n      <th>2</th>\n      <td>4d ago,at</td>\n      <td>0</td>\n    </tr>\n    <tr>\n      <th>3</th>\n      <td>1h ago,at</td>\n      <td>0</td>\n    </tr>\n    <tr>\n      <th>4</th>\n      <td>4d ago,at,Private Advertiser</td>\n      <td>1</td>\n    </tr>\n    <tr>\n      <th>...</th>\n      <td>...</td>\n      <td>...</td>\n    </tr>\n    <tr>\n      <th>2703</th>\n      <td>27d ago,at</td>\n      <td>0</td>\n    </tr>\n    <tr>\n      <th>2704</th>\n      <td>27d ago,at</td>\n      <td>0</td>\n    </tr>\n    <tr>\n      <th>2705</th>\n      <td>20d ago,at</td>\n      <td>0</td>\n    </tr>\n    <tr>\n      <th>2706</th>\n      <td>28d ago,at</td>\n      <td>0</td>\n    </tr>\n    <tr>\n      <th>2707</th>\n      <td>26d ago,at</td>\n      <td>0</td>\n    </tr>\n  </tbody>\n</table>\n<p>2708 rows × 2 columns</p>\n</div>"
     },
     "execution_count": 43,
     "metadata": {},
     "output_type": "execute_result"
    }
   ],
   "source": [
    "release_time"
   ],
   "metadata": {
    "collapsed": false
   }
  },
  {
   "cell_type": "code",
   "execution_count": 44,
   "outputs": [
    {
     "data": {
      "text/plain": "d    2672\nh      11\nm       5\nName: ReleaseTime, dtype: int64"
     },
     "execution_count": 44,
     "metadata": {},
     "output_type": "execute_result"
    }
   ],
   "source": [
    "# 查看数据中代表时间的缩写标志一共几个\n",
    "release_time['ReleaseTime'].apply(\n",
    "    lambda x: re.search(r'(\\d+)\\s*([a-z]+)', x).group(2) if re.search(r'(\\d+)\\s*([a-z]+)',\n",
    "                                                                      x) else np.nan).value_counts()"
   ],
   "metadata": {
    "collapsed": false
   }
  },
  {
   "cell_type": "code",
   "execution_count": 45,
   "outputs": [],
   "source": [
    "# 定义一个时间转换的函数\n",
    "def datetime_cal(time_str):\n",
    "    time_match = re.search(r'(\\d+)\\s*([a-z]+)', time_str)\n",
    "    if not time_match:\n",
    "        return np.nan\n",
    "\n",
    "    time_value = int(time_match.group(1))\n",
    "    time_unit = time_match.group(2)\n",
    "\n",
    "    if time_unit == 'd':\n",
    "        datetime = pd.to_datetime('today') - timedelta(days=time_value)\n",
    "    elif time_unit == 'h':\n",
    "        datetime = pd.to_datetime('today') - timedelta(hours=time_value)\n",
    "    elif time_unit == 'm':\n",
    "        datetime = pd.to_datetime('today') - timedelta(minutes=time_value)\n",
    "    else:\n",
    "        return np.nan\n",
    "\n",
    "    return datetime.strftime('%Y-%m-%d %H:%M')"
   ],
   "metadata": {
    "collapsed": false
   }
  },
  {
   "cell_type": "code",
   "execution_count": 46,
   "outputs": [],
   "source": [
    "release_time['Datetime'] = release_time['ReleaseTime'].apply(datetime_cal)"
   ],
   "metadata": {
    "collapsed": false
   }
  },
  {
   "cell_type": "code",
   "execution_count": 47,
   "outputs": [
    {
     "data": {
      "text/plain": "                         ReleaseTime  PrivateAdvertiser          Datetime\n0     Featured,at,Private Advertiser                  1               NaN\n1                        Featured,at                  0               NaN\n2                          4d ago,at                  0  2022-12-23 13:11\n3                          1h ago,at                  0  2022-12-27 12:11\n4       4d ago,at,Private Advertiser                  1  2022-12-23 13:11\n...                              ...                ...               ...\n2703                      27d ago,at                  0  2022-11-30 13:11\n2704                      27d ago,at                  0  2022-11-30 13:11\n2705                      20d ago,at                  0  2022-12-07 13:11\n2706                      28d ago,at                  0  2022-11-29 13:11\n2707                      26d ago,at                  0  2022-12-01 13:11\n\n[2708 rows x 3 columns]",
      "text/html": "<div>\n<style scoped>\n    .dataframe tbody tr th:only-of-type {\n        vertical-align: middle;\n    }\n\n    .dataframe tbody tr th {\n        vertical-align: top;\n    }\n\n    .dataframe thead th {\n        text-align: right;\n    }\n</style>\n<table border=\"1\" class=\"dataframe\">\n  <thead>\n    <tr style=\"text-align: right;\">\n      <th></th>\n      <th>ReleaseTime</th>\n      <th>PrivateAdvertiser</th>\n      <th>Datetime</th>\n    </tr>\n  </thead>\n  <tbody>\n    <tr>\n      <th>0</th>\n      <td>Featured,at,Private Advertiser</td>\n      <td>1</td>\n      <td>NaN</td>\n    </tr>\n    <tr>\n      <th>1</th>\n      <td>Featured,at</td>\n      <td>0</td>\n      <td>NaN</td>\n    </tr>\n    <tr>\n      <th>2</th>\n      <td>4d ago,at</td>\n      <td>0</td>\n      <td>2022-12-23 13:11</td>\n    </tr>\n    <tr>\n      <th>3</th>\n      <td>1h ago,at</td>\n      <td>0</td>\n      <td>2022-12-27 12:11</td>\n    </tr>\n    <tr>\n      <th>4</th>\n      <td>4d ago,at,Private Advertiser</td>\n      <td>1</td>\n      <td>2022-12-23 13:11</td>\n    </tr>\n    <tr>\n      <th>...</th>\n      <td>...</td>\n      <td>...</td>\n      <td>...</td>\n    </tr>\n    <tr>\n      <th>2703</th>\n      <td>27d ago,at</td>\n      <td>0</td>\n      <td>2022-11-30 13:11</td>\n    </tr>\n    <tr>\n      <th>2704</th>\n      <td>27d ago,at</td>\n      <td>0</td>\n      <td>2022-11-30 13:11</td>\n    </tr>\n    <tr>\n      <th>2705</th>\n      <td>20d ago,at</td>\n      <td>0</td>\n      <td>2022-12-07 13:11</td>\n    </tr>\n    <tr>\n      <th>2706</th>\n      <td>28d ago,at</td>\n      <td>0</td>\n      <td>2022-11-29 13:11</td>\n    </tr>\n    <tr>\n      <th>2707</th>\n      <td>26d ago,at</td>\n      <td>0</td>\n      <td>2022-12-01 13:11</td>\n    </tr>\n  </tbody>\n</table>\n<p>2708 rows × 3 columns</p>\n</div>"
     },
     "execution_count": 47,
     "metadata": {},
     "output_type": "execute_result"
    }
   ],
   "source": [
    "release_time"
   ],
   "metadata": {
    "collapsed": false
   }
  },
  {
   "cell_type": "code",
   "execution_count": 48,
   "outputs": [],
   "source": [
    "# 观察发现如果ReleaseTime中不是标注为时间，则只有Featured，因此也将Featured进行筛选，生成新的一列\n",
    "release_time['Featured'] = release_time['ReleaseTime'].apply(lambda x: 1 if 'Featured' in x else 0)"
   ],
   "metadata": {
    "collapsed": false
   }
  },
  {
   "cell_type": "code",
   "execution_count": 49,
   "outputs": [
    {
     "data": {
      "text/plain": "                         ReleaseTime  PrivateAdvertiser          Datetime  \\\n0     Featured,at,Private Advertiser                  1               NaN   \n1                        Featured,at                  0               NaN   \n2                          4d ago,at                  0  2022-12-23 13:11   \n3                          1h ago,at                  0  2022-12-27 12:11   \n4       4d ago,at,Private Advertiser                  1  2022-12-23 13:11   \n...                              ...                ...               ...   \n2703                      27d ago,at                  0  2022-11-30 13:11   \n2704                      27d ago,at                  0  2022-11-30 13:11   \n2705                      20d ago,at                  0  2022-12-07 13:11   \n2706                      28d ago,at                  0  2022-11-29 13:11   \n2707                      26d ago,at                  0  2022-12-01 13:11   \n\n      Featured  \n0            1  \n1            1  \n2            0  \n3            0  \n4            0  \n...        ...  \n2703         0  \n2704         0  \n2705         0  \n2706         0  \n2707         0  \n\n[2708 rows x 4 columns]",
      "text/html": "<div>\n<style scoped>\n    .dataframe tbody tr th:only-of-type {\n        vertical-align: middle;\n    }\n\n    .dataframe tbody tr th {\n        vertical-align: top;\n    }\n\n    .dataframe thead th {\n        text-align: right;\n    }\n</style>\n<table border=\"1\" class=\"dataframe\">\n  <thead>\n    <tr style=\"text-align: right;\">\n      <th></th>\n      <th>ReleaseTime</th>\n      <th>PrivateAdvertiser</th>\n      <th>Datetime</th>\n      <th>Featured</th>\n    </tr>\n  </thead>\n  <tbody>\n    <tr>\n      <th>0</th>\n      <td>Featured,at,Private Advertiser</td>\n      <td>1</td>\n      <td>NaN</td>\n      <td>1</td>\n    </tr>\n    <tr>\n      <th>1</th>\n      <td>Featured,at</td>\n      <td>0</td>\n      <td>NaN</td>\n      <td>1</td>\n    </tr>\n    <tr>\n      <th>2</th>\n      <td>4d ago,at</td>\n      <td>0</td>\n      <td>2022-12-23 13:11</td>\n      <td>0</td>\n    </tr>\n    <tr>\n      <th>3</th>\n      <td>1h ago,at</td>\n      <td>0</td>\n      <td>2022-12-27 12:11</td>\n      <td>0</td>\n    </tr>\n    <tr>\n      <th>4</th>\n      <td>4d ago,at,Private Advertiser</td>\n      <td>1</td>\n      <td>2022-12-23 13:11</td>\n      <td>0</td>\n    </tr>\n    <tr>\n      <th>...</th>\n      <td>...</td>\n      <td>...</td>\n      <td>...</td>\n      <td>...</td>\n    </tr>\n    <tr>\n      <th>2703</th>\n      <td>27d ago,at</td>\n      <td>0</td>\n      <td>2022-11-30 13:11</td>\n      <td>0</td>\n    </tr>\n    <tr>\n      <th>2704</th>\n      <td>27d ago,at</td>\n      <td>0</td>\n      <td>2022-11-30 13:11</td>\n      <td>0</td>\n    </tr>\n    <tr>\n      <th>2705</th>\n      <td>20d ago,at</td>\n      <td>0</td>\n      <td>2022-12-07 13:11</td>\n      <td>0</td>\n    </tr>\n    <tr>\n      <th>2706</th>\n      <td>28d ago,at</td>\n      <td>0</td>\n      <td>2022-11-29 13:11</td>\n      <td>0</td>\n    </tr>\n    <tr>\n      <th>2707</th>\n      <td>26d ago,at</td>\n      <td>0</td>\n      <td>2022-12-01 13:11</td>\n      <td>0</td>\n    </tr>\n  </tbody>\n</table>\n<p>2708 rows × 4 columns</p>\n</div>"
     },
     "execution_count": 49,
     "metadata": {},
     "output_type": "execute_result"
    }
   ],
   "source": [
    "release_time"
   ],
   "metadata": {
    "collapsed": false
   }
  },
  {
   "cell_type": "code",
   "execution_count": 50,
   "outputs": [],
   "source": [
    "jobs.insert(jobs.columns.get_loc('ReleaseTime'), 'PrivateAdvertiser', release_time['PrivateAdvertiser'])\n",
    "jobs.insert(jobs.columns.get_loc('ReleaseTime'), 'Featured', release_time['Featured'])\n",
    "jobs.insert(jobs.columns.get_loc('ReleaseTime'), 'Datetime', release_time['Datetime'])"
   ],
   "metadata": {
    "collapsed": false
   }
  },
  {
   "cell_type": "code",
   "execution_count": 51,
   "outputs": [],
   "source": [
    "jobs = jobs.drop(columns='ReleaseTime')"
   ],
   "metadata": {
    "collapsed": false
   }
  },
  {
   "cell_type": "code",
   "execution_count": 52,
   "outputs": [
    {
     "data": {
      "text/plain": "                                      Name     JobId   JobType  \\\n0                            Administrator  50582301  promoted   \n1                             Receptionist  50620889  promoted   \n2             Prosecutions Support Officer  50622169  standard   \n3     Early Childhood Centre Administrator  50639620  standard   \n4           Business Support Administrator  50622432  standout   \n...                                    ...       ...       ...   \n2703                   Key Account Manager  50490062  standout   \n2704                   Executive Assistant  50488000  standout   \n2705                Temporary Office Roles  50524865  standout   \n2706                Temporary Office Roles  50477118  standout   \n2707                   Executive Assistant  50496571  standout   \n\n                                                   Link  \\\n0     https://www.seek.co.nz/job/50582301?type=promo...   \n1     https://www.seek.co.nz/job/50620889?type=promo...   \n2     https://www.seek.co.nz/job/50622169?type=stand...   \n3     https://www.seek.co.nz/job/50639620?type=stand...   \n4     https://www.seek.co.nz/job/50622432?type=stand...   \n...                                                 ...   \n2703  https://www.seek.co.nz/job/50490062?type=stand...   \n2704  https://www.seek.co.nz/job/50488000?type=stand...   \n2705  https://www.seek.co.nz/job/50524865?type=stand...   \n2706  https://www.seek.co.nz/job/50477118?type=stand...   \n2707  https://www.seek.co.nz/job/50496571?type=stand...   \n\n                                    Department       Location  \\\n0                                          NaN  Bay of Plenty   \n1                         Avenues Orthodontics  Bay of Plenty   \n2                           New Zealand Police       Auckland   \n3     Kew Pacific Island Early Learning Centre      Southland   \n4                                          NaN     Canterbury   \n...                                        ...            ...   \n2703                     Hays Talent Solutions       Auckland   \n2704                    one eighty recruitment     Wellington   \n2705                     Asset Recruitment Ltd        Waikato   \n2706                     Asset Recruitment Ltd        Waikato   \n2707                    Alpha Recruitment - NZ     Wellington   \n\n                                                   Area  PrivateAdvertiser  \\\n0                                              Tauranga                  1   \n1                                              Tauranga                  0   \n2                                                   NaN                  0   \n3                                          Invercargill                  0   \n4                                          Christchurch                  1   \n...                                                 ...                ...   \n2703                                   Auckland Central                  0   \n2704  Wellington CentralWellington Central,Competiti...                  0   \n2705       HamiltonHamilton,Competitive hourly rates $$                  0   \n2706       HamiltonHamilton,Competitive hourly rates $$                  0   \n2707                                                NaN                  0   \n\n      Featured          Datetime  \\\n0            1               NaN   \n1            1               NaN   \n2            0  2022-12-23 13:11   \n3            0  2022-12-27 12:11   \n4            0  2022-12-23 13:11   \n...        ...               ...   \n2703         0  2022-11-30 13:11   \n2704         0  2022-11-30 13:11   \n2705         0  2022-12-07 13:11   \n2706         0  2022-11-29 13:11   \n2707         0  2022-12-01 13:11   \n\n                                         Classification  \n0     classification: Administration & Office Suppor...  \n1     classification: Administration & Office Suppor...  \n2     classification: Administration & Office Suppor...  \n3     classification: Administration & Office Suppor...  \n4     classification: Administration & Office Suppor...  \n...                                                 ...  \n2703  classification: Administration & Office Suppor...  \n2704                            Competitive hourly rate  \n2705                        Competitive hourly rates $$  \n2706                        Competitive hourly rates $$  \n2707  classification: Administration & Office Suppor...  \n\n[2708 rows x 11 columns]",
      "text/html": "<div>\n<style scoped>\n    .dataframe tbody tr th:only-of-type {\n        vertical-align: middle;\n    }\n\n    .dataframe tbody tr th {\n        vertical-align: top;\n    }\n\n    .dataframe thead th {\n        text-align: right;\n    }\n</style>\n<table border=\"1\" class=\"dataframe\">\n  <thead>\n    <tr style=\"text-align: right;\">\n      <th></th>\n      <th>Name</th>\n      <th>JobId</th>\n      <th>JobType</th>\n      <th>Link</th>\n      <th>Department</th>\n      <th>Location</th>\n      <th>Area</th>\n      <th>PrivateAdvertiser</th>\n      <th>Featured</th>\n      <th>Datetime</th>\n      <th>Classification</th>\n    </tr>\n  </thead>\n  <tbody>\n    <tr>\n      <th>0</th>\n      <td>Administrator</td>\n      <td>50582301</td>\n      <td>promoted</td>\n      <td>https://www.seek.co.nz/job/50582301?type=promo...</td>\n      <td>NaN</td>\n      <td>Bay of Plenty</td>\n      <td>Tauranga</td>\n      <td>1</td>\n      <td>1</td>\n      <td>NaN</td>\n      <td>classification: Administration &amp; Office Suppor...</td>\n    </tr>\n    <tr>\n      <th>1</th>\n      <td>Receptionist</td>\n      <td>50620889</td>\n      <td>promoted</td>\n      <td>https://www.seek.co.nz/job/50620889?type=promo...</td>\n      <td>Avenues Orthodontics</td>\n      <td>Bay of Plenty</td>\n      <td>Tauranga</td>\n      <td>0</td>\n      <td>1</td>\n      <td>NaN</td>\n      <td>classification: Administration &amp; Office Suppor...</td>\n    </tr>\n    <tr>\n      <th>2</th>\n      <td>Prosecutions Support Officer</td>\n      <td>50622169</td>\n      <td>standard</td>\n      <td>https://www.seek.co.nz/job/50622169?type=stand...</td>\n      <td>New Zealand Police</td>\n      <td>Auckland</td>\n      <td>NaN</td>\n      <td>0</td>\n      <td>0</td>\n      <td>2022-12-23 13:11</td>\n      <td>classification: Administration &amp; Office Suppor...</td>\n    </tr>\n    <tr>\n      <th>3</th>\n      <td>Early Childhood Centre Administrator</td>\n      <td>50639620</td>\n      <td>standard</td>\n      <td>https://www.seek.co.nz/job/50639620?type=stand...</td>\n      <td>Kew Pacific Island Early Learning Centre</td>\n      <td>Southland</td>\n      <td>Invercargill</td>\n      <td>0</td>\n      <td>0</td>\n      <td>2022-12-27 12:11</td>\n      <td>classification: Administration &amp; Office Suppor...</td>\n    </tr>\n    <tr>\n      <th>4</th>\n      <td>Business Support Administrator</td>\n      <td>50622432</td>\n      <td>standout</td>\n      <td>https://www.seek.co.nz/job/50622432?type=stand...</td>\n      <td>NaN</td>\n      <td>Canterbury</td>\n      <td>Christchurch</td>\n      <td>1</td>\n      <td>0</td>\n      <td>2022-12-23 13:11</td>\n      <td>classification: Administration &amp; Office Suppor...</td>\n    </tr>\n    <tr>\n      <th>...</th>\n      <td>...</td>\n      <td>...</td>\n      <td>...</td>\n      <td>...</td>\n      <td>...</td>\n      <td>...</td>\n      <td>...</td>\n      <td>...</td>\n      <td>...</td>\n      <td>...</td>\n      <td>...</td>\n    </tr>\n    <tr>\n      <th>2703</th>\n      <td>Key Account Manager</td>\n      <td>50490062</td>\n      <td>standout</td>\n      <td>https://www.seek.co.nz/job/50490062?type=stand...</td>\n      <td>Hays Talent Solutions</td>\n      <td>Auckland</td>\n      <td>Auckland Central</td>\n      <td>0</td>\n      <td>0</td>\n      <td>2022-11-30 13:11</td>\n      <td>classification: Administration &amp; Office Suppor...</td>\n    </tr>\n    <tr>\n      <th>2704</th>\n      <td>Executive Assistant</td>\n      <td>50488000</td>\n      <td>standout</td>\n      <td>https://www.seek.co.nz/job/50488000?type=stand...</td>\n      <td>one eighty recruitment</td>\n      <td>Wellington</td>\n      <td>Wellington CentralWellington Central,Competiti...</td>\n      <td>0</td>\n      <td>0</td>\n      <td>2022-11-30 13:11</td>\n      <td>Competitive hourly rate</td>\n    </tr>\n    <tr>\n      <th>2705</th>\n      <td>Temporary Office Roles</td>\n      <td>50524865</td>\n      <td>standout</td>\n      <td>https://www.seek.co.nz/job/50524865?type=stand...</td>\n      <td>Asset Recruitment Ltd</td>\n      <td>Waikato</td>\n      <td>HamiltonHamilton,Competitive hourly rates $$</td>\n      <td>0</td>\n      <td>0</td>\n      <td>2022-12-07 13:11</td>\n      <td>Competitive hourly rates $$</td>\n    </tr>\n    <tr>\n      <th>2706</th>\n      <td>Temporary Office Roles</td>\n      <td>50477118</td>\n      <td>standout</td>\n      <td>https://www.seek.co.nz/job/50477118?type=stand...</td>\n      <td>Asset Recruitment Ltd</td>\n      <td>Waikato</td>\n      <td>HamiltonHamilton,Competitive hourly rates $$</td>\n      <td>0</td>\n      <td>0</td>\n      <td>2022-11-29 13:11</td>\n      <td>Competitive hourly rates $$</td>\n    </tr>\n    <tr>\n      <th>2707</th>\n      <td>Executive Assistant</td>\n      <td>50496571</td>\n      <td>standout</td>\n      <td>https://www.seek.co.nz/job/50496571?type=stand...</td>\n      <td>Alpha Recruitment - NZ</td>\n      <td>Wellington</td>\n      <td>NaN</td>\n      <td>0</td>\n      <td>0</td>\n      <td>2022-12-01 13:11</td>\n      <td>classification: Administration &amp; Office Suppor...</td>\n    </tr>\n  </tbody>\n</table>\n<p>2708 rows × 11 columns</p>\n</div>"
     },
     "execution_count": 52,
     "metadata": {},
     "output_type": "execute_result"
    }
   ],
   "source": [
    "jobs"
   ],
   "metadata": {
    "collapsed": false
   }
  },
  {
   "cell_type": "markdown",
   "source": [
    "## 7. 处理Classification列"
   ],
   "metadata": {
    "collapsed": false
   }
  },
  {
   "cell_type": "code",
   "execution_count": 59,
   "outputs": [
    {
     "data": {
      "text/plain": "                                         Classification\n0     classification: Administration & Office Suppor...\n1     classification: Administration & Office Suppor...\n2     classification: Administration & Office Suppor...\n3     classification: Administration & Office Suppor...\n4     classification: Administration & Office Suppor...\n...                                                 ...\n2703  classification: Administration & Office Suppor...\n2704                            Competitive hourly rate\n2705                        Competitive hourly rates $$\n2706                        Competitive hourly rates $$\n2707  classification: Administration & Office Suppor...\n\n[2708 rows x 1 columns]",
      "text/html": "<div>\n<style scoped>\n    .dataframe tbody tr th:only-of-type {\n        vertical-align: middle;\n    }\n\n    .dataframe tbody tr th {\n        vertical-align: top;\n    }\n\n    .dataframe thead th {\n        text-align: right;\n    }\n</style>\n<table border=\"1\" class=\"dataframe\">\n  <thead>\n    <tr style=\"text-align: right;\">\n      <th></th>\n      <th>Classification</th>\n    </tr>\n  </thead>\n  <tbody>\n    <tr>\n      <th>0</th>\n      <td>classification: Administration &amp; Office Suppor...</td>\n    </tr>\n    <tr>\n      <th>1</th>\n      <td>classification: Administration &amp; Office Suppor...</td>\n    </tr>\n    <tr>\n      <th>2</th>\n      <td>classification: Administration &amp; Office Suppor...</td>\n    </tr>\n    <tr>\n      <th>3</th>\n      <td>classification: Administration &amp; Office Suppor...</td>\n    </tr>\n    <tr>\n      <th>4</th>\n      <td>classification: Administration &amp; Office Suppor...</td>\n    </tr>\n    <tr>\n      <th>...</th>\n      <td>...</td>\n    </tr>\n    <tr>\n      <th>2703</th>\n      <td>classification: Administration &amp; Office Suppor...</td>\n    </tr>\n    <tr>\n      <th>2704</th>\n      <td>Competitive hourly rate</td>\n    </tr>\n    <tr>\n      <th>2705</th>\n      <td>Competitive hourly rates $$</td>\n    </tr>\n    <tr>\n      <th>2706</th>\n      <td>Competitive hourly rates $$</td>\n    </tr>\n    <tr>\n      <th>2707</th>\n      <td>classification: Administration &amp; Office Suppor...</td>\n    </tr>\n  </tbody>\n</table>\n<p>2708 rows × 1 columns</p>\n</div>"
     },
     "execution_count": 59,
     "metadata": {},
     "output_type": "execute_result"
    }
   ],
   "source": [
    "cls = pd.DataFrame(jobs.Classification)\n",
    "cls"
   ],
   "metadata": {
    "collapsed": false
   }
  },
  {
   "cell_type": "code",
   "execution_count": 60,
   "outputs": [],
   "source": [
    "cls['Classification'] = cls['Classification'].apply(lambda x: x.lower())"
   ],
   "metadata": {
    "collapsed": false
   }
  },
  {
   "cell_type": "code",
   "execution_count": 61,
   "outputs": [],
   "source": [
    "cls[[\"class\", \"subclass\"]] = cls[\"Classification\"].str.extract(r\"classification: (.*)subclassification: (.*)\")\n",
    "\n",
    "# 将新列赋值为 NaN，如果原来的列没有匹配项\n",
    "cls[\"class\"].fillna(value=np.nan, inplace=True)\n",
    "cls[\"subclass\"].fillna(value=np.nan, inplace=True)"
   ],
   "metadata": {
    "collapsed": false
   }
  },
  {
   "cell_type": "code",
   "execution_count": 62,
   "outputs": [
    {
     "data": {
      "text/plain": "                                         Classification  \\\n0     classification: administration & office suppor...   \n1     classification: administration & office suppor...   \n2     classification: administration & office suppor...   \n3     classification: administration & office suppor...   \n4     classification: administration & office suppor...   \n...                                                 ...   \n2703  classification: administration & office suppor...   \n2704                            competitive hourly rate   \n2705                        competitive hourly rates $$   \n2706                        competitive hourly rates $$   \n2707  classification: administration & office suppor...   \n\n                                                  class  \\\n0     administration & office supportadministration ...   \n1     administration & office supportadministration ...   \n2     administration & office supportadministration ...   \n3     administration & office supportadministration ...   \n4     administration & office supportadministration ...   \n...                                                 ...   \n2703  administration & office supportadministration ...   \n2704                                                NaN   \n2705                                                NaN   \n2706                                                NaN   \n2707  administration & office supportadministration ...   \n\n                                               subclass  \n0                    office managementoffice management  \n1                            receptionistsreceptionists  \n2                                            otherother  \n3     administrative assistantsadministrative assist...  \n4     client & sales administrationclient & sales ad...  \n...                                                 ...  \n2703  client & sales administrationclient & sales ad...  \n2704                                                NaN  \n2705                                                NaN  \n2706                                                NaN  \n2707           pa, ea & secretarialpa, ea & secretarial  \n\n[2708 rows x 3 columns]",
      "text/html": "<div>\n<style scoped>\n    .dataframe tbody tr th:only-of-type {\n        vertical-align: middle;\n    }\n\n    .dataframe tbody tr th {\n        vertical-align: top;\n    }\n\n    .dataframe thead th {\n        text-align: right;\n    }\n</style>\n<table border=\"1\" class=\"dataframe\">\n  <thead>\n    <tr style=\"text-align: right;\">\n      <th></th>\n      <th>Classification</th>\n      <th>class</th>\n      <th>subclass</th>\n    </tr>\n  </thead>\n  <tbody>\n    <tr>\n      <th>0</th>\n      <td>classification: administration &amp; office suppor...</td>\n      <td>administration &amp; office supportadministration ...</td>\n      <td>office managementoffice management</td>\n    </tr>\n    <tr>\n      <th>1</th>\n      <td>classification: administration &amp; office suppor...</td>\n      <td>administration &amp; office supportadministration ...</td>\n      <td>receptionistsreceptionists</td>\n    </tr>\n    <tr>\n      <th>2</th>\n      <td>classification: administration &amp; office suppor...</td>\n      <td>administration &amp; office supportadministration ...</td>\n      <td>otherother</td>\n    </tr>\n    <tr>\n      <th>3</th>\n      <td>classification: administration &amp; office suppor...</td>\n      <td>administration &amp; office supportadministration ...</td>\n      <td>administrative assistantsadministrative assist...</td>\n    </tr>\n    <tr>\n      <th>4</th>\n      <td>classification: administration &amp; office suppor...</td>\n      <td>administration &amp; office supportadministration ...</td>\n      <td>client &amp; sales administrationclient &amp; sales ad...</td>\n    </tr>\n    <tr>\n      <th>...</th>\n      <td>...</td>\n      <td>...</td>\n      <td>...</td>\n    </tr>\n    <tr>\n      <th>2703</th>\n      <td>classification: administration &amp; office suppor...</td>\n      <td>administration &amp; office supportadministration ...</td>\n      <td>client &amp; sales administrationclient &amp; sales ad...</td>\n    </tr>\n    <tr>\n      <th>2704</th>\n      <td>competitive hourly rate</td>\n      <td>NaN</td>\n      <td>NaN</td>\n    </tr>\n    <tr>\n      <th>2705</th>\n      <td>competitive hourly rates $$</td>\n      <td>NaN</td>\n      <td>NaN</td>\n    </tr>\n    <tr>\n      <th>2706</th>\n      <td>competitive hourly rates $$</td>\n      <td>NaN</td>\n      <td>NaN</td>\n    </tr>\n    <tr>\n      <th>2707</th>\n      <td>classification: administration &amp; office suppor...</td>\n      <td>administration &amp; office supportadministration ...</td>\n      <td>pa, ea &amp; secretarialpa, ea &amp; secretarial</td>\n    </tr>\n  </tbody>\n</table>\n<p>2708 rows × 3 columns</p>\n</div>"
     },
     "execution_count": 62,
     "metadata": {},
     "output_type": "execute_result"
    }
   ],
   "source": [
    "cls"
   ],
   "metadata": {
    "collapsed": false
   }
  },
  {
   "cell_type": "code",
   "execution_count": 63,
   "outputs": [],
   "source": [
    "cls['Classification'] = cls[\"Classification\"].apply(\n",
    "    lambda x: np.nan if re.search(r\"classification: (.*)subclassification: (.*)\", x) else x)"
   ],
   "metadata": {
    "collapsed": false
   }
  },
  {
   "cell_type": "code",
   "execution_count": 64,
   "outputs": [
    {
     "data": {
      "text/plain": "                   Classification  \\\n0                             NaN   \n1                             NaN   \n2                             NaN   \n3                             NaN   \n4                             NaN   \n...                           ...   \n2703                          NaN   \n2704      competitive hourly rate   \n2705  competitive hourly rates $$   \n2706  competitive hourly rates $$   \n2707                          NaN   \n\n                                                  class  \\\n0     administration & office supportadministration ...   \n1     administration & office supportadministration ...   \n2     administration & office supportadministration ...   \n3     administration & office supportadministration ...   \n4     administration & office supportadministration ...   \n...                                                 ...   \n2703  administration & office supportadministration ...   \n2704                                                NaN   \n2705                                                NaN   \n2706                                                NaN   \n2707  administration & office supportadministration ...   \n\n                                               subclass  \n0                    office managementoffice management  \n1                            receptionistsreceptionists  \n2                                            otherother  \n3     administrative assistantsadministrative assist...  \n4     client & sales administrationclient & sales ad...  \n...                                                 ...  \n2703  client & sales administrationclient & sales ad...  \n2704                                                NaN  \n2705                                                NaN  \n2706                                                NaN  \n2707           pa, ea & secretarialpa, ea & secretarial  \n\n[2708 rows x 3 columns]",
      "text/html": "<div>\n<style scoped>\n    .dataframe tbody tr th:only-of-type {\n        vertical-align: middle;\n    }\n\n    .dataframe tbody tr th {\n        vertical-align: top;\n    }\n\n    .dataframe thead th {\n        text-align: right;\n    }\n</style>\n<table border=\"1\" class=\"dataframe\">\n  <thead>\n    <tr style=\"text-align: right;\">\n      <th></th>\n      <th>Classification</th>\n      <th>class</th>\n      <th>subclass</th>\n    </tr>\n  </thead>\n  <tbody>\n    <tr>\n      <th>0</th>\n      <td>NaN</td>\n      <td>administration &amp; office supportadministration ...</td>\n      <td>office managementoffice management</td>\n    </tr>\n    <tr>\n      <th>1</th>\n      <td>NaN</td>\n      <td>administration &amp; office supportadministration ...</td>\n      <td>receptionistsreceptionists</td>\n    </tr>\n    <tr>\n      <th>2</th>\n      <td>NaN</td>\n      <td>administration &amp; office supportadministration ...</td>\n      <td>otherother</td>\n    </tr>\n    <tr>\n      <th>3</th>\n      <td>NaN</td>\n      <td>administration &amp; office supportadministration ...</td>\n      <td>administrative assistantsadministrative assist...</td>\n    </tr>\n    <tr>\n      <th>4</th>\n      <td>NaN</td>\n      <td>administration &amp; office supportadministration ...</td>\n      <td>client &amp; sales administrationclient &amp; sales ad...</td>\n    </tr>\n    <tr>\n      <th>...</th>\n      <td>...</td>\n      <td>...</td>\n      <td>...</td>\n    </tr>\n    <tr>\n      <th>2703</th>\n      <td>NaN</td>\n      <td>administration &amp; office supportadministration ...</td>\n      <td>client &amp; sales administrationclient &amp; sales ad...</td>\n    </tr>\n    <tr>\n      <th>2704</th>\n      <td>competitive hourly rate</td>\n      <td>NaN</td>\n      <td>NaN</td>\n    </tr>\n    <tr>\n      <th>2705</th>\n      <td>competitive hourly rates $$</td>\n      <td>NaN</td>\n      <td>NaN</td>\n    </tr>\n    <tr>\n      <th>2706</th>\n      <td>competitive hourly rates $$</td>\n      <td>NaN</td>\n      <td>NaN</td>\n    </tr>\n    <tr>\n      <th>2707</th>\n      <td>NaN</td>\n      <td>administration &amp; office supportadministration ...</td>\n      <td>pa, ea &amp; secretarialpa, ea &amp; secretarial</td>\n    </tr>\n  </tbody>\n</table>\n<p>2708 rows × 3 columns</p>\n</div>"
     },
     "execution_count": 64,
     "metadata": {},
     "output_type": "execute_result"
    }
   ],
   "source": [
    "cls"
   ],
   "metadata": {
    "collapsed": false
   }
  },
  {
   "cell_type": "code",
   "execution_count": 65,
   "outputs": [
    {
     "data": {
      "text/plain": "True"
     },
     "execution_count": 65,
     "metadata": {},
     "output_type": "execute_result"
    }
   ],
   "source": [
    "# 用于检查class和subclass是否同时存在或者同时不存在，如果判断为真，之后处理class和subclass将会简单一些\n",
    "((cls['class'].isnull() & cls['subclass'].isnull()) | (cls['class'].notnull() & cls['subclass'].notnull())).all()"
   ],
   "metadata": {
    "collapsed": false
   }
  },
  {
   "cell_type": "code",
   "execution_count": 66,
   "outputs": [],
   "source": [
    "# 定义一个函数，用于对class和subclass进行去重\n",
    "def class_drop_duplicate(class_str):\n",
    "    if class_str != np.nan:\n",
    "        class_str = str(class_str)\n",
    "        if class_str[-1] == \" \":\n",
    "            class_str = class_str.replace(class_str[-1], \"\")\n",
    "        return class_str[:len(class_str) // 2] \\\n",
    "            if class_str[:len(class_str) // 2] == class_str[len(class_str) // 2:] \\\n",
    "            else class_str\n",
    "    else:\n",
    "        return class_str"
   ],
   "metadata": {
    "collapsed": false
   }
  },
  {
   "cell_type": "code",
   "execution_count": 67,
   "outputs": [],
   "source": [
    "cls['class'] = cls['class'].apply(class_drop_duplicate)\n",
    "cls['subclass'] = cls['subclass'].apply(class_drop_duplicate)"
   ],
   "metadata": {
    "collapsed": false
   }
  },
  {
   "cell_type": "code",
   "execution_count": 68,
   "outputs": [
    {
     "data": {
      "text/plain": "                   Classification                            class  \\\n0                             NaN  administration & office support   \n1                             NaN  administration & office support   \n2                             NaN  administration & office support   \n3                             NaN  administration & office support   \n4                             NaN  administration & office support   \n...                           ...                              ...   \n2703                          NaN  administration & office support   \n2704      competitive hourly rate                              nan   \n2705  competitive hourly rates $$                              nan   \n2706  competitive hourly rates $$                              nan   \n2707                          NaN  administration & office support   \n\n                           subclass  \n0                 office management  \n1                     receptionists  \n2                             other  \n3         administrative assistants  \n4     client & sales administration  \n...                             ...  \n2703  client & sales administration  \n2704                            nan  \n2705                            nan  \n2706                            nan  \n2707           pa, ea & secretarial  \n\n[2708 rows x 3 columns]",
      "text/html": "<div>\n<style scoped>\n    .dataframe tbody tr th:only-of-type {\n        vertical-align: middle;\n    }\n\n    .dataframe tbody tr th {\n        vertical-align: top;\n    }\n\n    .dataframe thead th {\n        text-align: right;\n    }\n</style>\n<table border=\"1\" class=\"dataframe\">\n  <thead>\n    <tr style=\"text-align: right;\">\n      <th></th>\n      <th>Classification</th>\n      <th>class</th>\n      <th>subclass</th>\n    </tr>\n  </thead>\n  <tbody>\n    <tr>\n      <th>0</th>\n      <td>NaN</td>\n      <td>administration &amp; office support</td>\n      <td>office management</td>\n    </tr>\n    <tr>\n      <th>1</th>\n      <td>NaN</td>\n      <td>administration &amp; office support</td>\n      <td>receptionists</td>\n    </tr>\n    <tr>\n      <th>2</th>\n      <td>NaN</td>\n      <td>administration &amp; office support</td>\n      <td>other</td>\n    </tr>\n    <tr>\n      <th>3</th>\n      <td>NaN</td>\n      <td>administration &amp; office support</td>\n      <td>administrative assistants</td>\n    </tr>\n    <tr>\n      <th>4</th>\n      <td>NaN</td>\n      <td>administration &amp; office support</td>\n      <td>client &amp; sales administration</td>\n    </tr>\n    <tr>\n      <th>...</th>\n      <td>...</td>\n      <td>...</td>\n      <td>...</td>\n    </tr>\n    <tr>\n      <th>2703</th>\n      <td>NaN</td>\n      <td>administration &amp; office support</td>\n      <td>client &amp; sales administration</td>\n    </tr>\n    <tr>\n      <th>2704</th>\n      <td>competitive hourly rate</td>\n      <td>nan</td>\n      <td>nan</td>\n    </tr>\n    <tr>\n      <th>2705</th>\n      <td>competitive hourly rates $$</td>\n      <td>nan</td>\n      <td>nan</td>\n    </tr>\n    <tr>\n      <th>2706</th>\n      <td>competitive hourly rates $$</td>\n      <td>nan</td>\n      <td>nan</td>\n    </tr>\n    <tr>\n      <th>2707</th>\n      <td>NaN</td>\n      <td>administration &amp; office support</td>\n      <td>pa, ea &amp; secretarial</td>\n    </tr>\n  </tbody>\n</table>\n<p>2708 rows × 3 columns</p>\n</div>"
     },
     "execution_count": 68,
     "metadata": {},
     "output_type": "execute_result"
    }
   ],
   "source": [
    "cls"
   ],
   "metadata": {
    "collapsed": false
   }
  },
  {
   "cell_type": "code",
   "execution_count": 69,
   "outputs": [],
   "source": [
    "jobs.insert(jobs.columns.get_loc('Classification'), 'Class', cls['class'])\n",
    "jobs.insert(jobs.columns.get_loc('Classification'), 'Subclass', cls['subclass'])\n",
    "# 因为Classification列中还有些信息，不存在共性，因此将其变成备注比较合适\n",
    "jobs.insert(jobs.columns.get_loc('Classification'), 'Remark', cls['Classification'])"
   ],
   "metadata": {
    "collapsed": false
   }
  },
  {
   "cell_type": "code",
   "execution_count": 70,
   "outputs": [],
   "source": [
    "jobs = jobs.drop(columns = 'Classification')"
   ],
   "metadata": {
    "collapsed": false
   }
  },
  {
   "cell_type": "code",
   "execution_count": 71,
   "outputs": [
    {
     "data": {
      "text/plain": "                                      Name     JobId   JobType  \\\n0                            Administrator  50582301  promoted   \n1                             Receptionist  50620889  promoted   \n2             Prosecutions Support Officer  50622169  standard   \n3     Early Childhood Centre Administrator  50639620  standard   \n4           Business Support Administrator  50622432  standout   \n...                                    ...       ...       ...   \n2703                   Key Account Manager  50490062  standout   \n2704                   Executive Assistant  50488000  standout   \n2705                Temporary Office Roles  50524865  standout   \n2706                Temporary Office Roles  50477118  standout   \n2707                   Executive Assistant  50496571  standout   \n\n                                                   Link  \\\n0     https://www.seek.co.nz/job/50582301?type=promo...   \n1     https://www.seek.co.nz/job/50620889?type=promo...   \n2     https://www.seek.co.nz/job/50622169?type=stand...   \n3     https://www.seek.co.nz/job/50639620?type=stand...   \n4     https://www.seek.co.nz/job/50622432?type=stand...   \n...                                                 ...   \n2703  https://www.seek.co.nz/job/50490062?type=stand...   \n2704  https://www.seek.co.nz/job/50488000?type=stand...   \n2705  https://www.seek.co.nz/job/50524865?type=stand...   \n2706  https://www.seek.co.nz/job/50477118?type=stand...   \n2707  https://www.seek.co.nz/job/50496571?type=stand...   \n\n                                    Department       Location  \\\n0                                          NaN  Bay of Plenty   \n1                         Avenues Orthodontics  Bay of Plenty   \n2                           New Zealand Police       Auckland   \n3     Kew Pacific Island Early Learning Centre      Southland   \n4                                          NaN     Canterbury   \n...                                        ...            ...   \n2703                     Hays Talent Solutions       Auckland   \n2704                    one eighty recruitment     Wellington   \n2705                     Asset Recruitment Ltd        Waikato   \n2706                     Asset Recruitment Ltd        Waikato   \n2707                    Alpha Recruitment - NZ     Wellington   \n\n                                                   Area  PrivateAdvertiser  \\\n0                                              Tauranga                  1   \n1                                              Tauranga                  0   \n2                                                   NaN                  0   \n3                                          Invercargill                  0   \n4                                          Christchurch                  1   \n...                                                 ...                ...   \n2703                                   Auckland Central                  0   \n2704  Wellington CentralWellington Central,Competiti...                  0   \n2705       HamiltonHamilton,Competitive hourly rates $$                  0   \n2706       HamiltonHamilton,Competitive hourly rates $$                  0   \n2707                                                NaN                  0   \n\n      Featured          Datetime                            Class  \\\n0            1               NaN  administration & office support   \n1            1               NaN  administration & office support   \n2            0  2022-12-23 13:11  administration & office support   \n3            0  2022-12-27 12:11  administration & office support   \n4            0  2022-12-23 13:11  administration & office support   \n...        ...               ...                              ...   \n2703         0  2022-11-30 13:11  administration & office support   \n2704         0  2022-11-30 13:11                              nan   \n2705         0  2022-12-07 13:11                              nan   \n2706         0  2022-11-29 13:11                              nan   \n2707         0  2022-12-01 13:11  administration & office support   \n\n                           Subclass                       Remark  \n0                 office management                          NaN  \n1                     receptionists                          NaN  \n2                             other                          NaN  \n3         administrative assistants                          NaN  \n4     client & sales administration                          NaN  \n...                             ...                          ...  \n2703  client & sales administration                          NaN  \n2704                            nan      competitive hourly rate  \n2705                            nan  competitive hourly rates $$  \n2706                            nan  competitive hourly rates $$  \n2707           pa, ea & secretarial                          NaN  \n\n[2708 rows x 13 columns]",
      "text/html": "<div>\n<style scoped>\n    .dataframe tbody tr th:only-of-type {\n        vertical-align: middle;\n    }\n\n    .dataframe tbody tr th {\n        vertical-align: top;\n    }\n\n    .dataframe thead th {\n        text-align: right;\n    }\n</style>\n<table border=\"1\" class=\"dataframe\">\n  <thead>\n    <tr style=\"text-align: right;\">\n      <th></th>\n      <th>Name</th>\n      <th>JobId</th>\n      <th>JobType</th>\n      <th>Link</th>\n      <th>Department</th>\n      <th>Location</th>\n      <th>Area</th>\n      <th>PrivateAdvertiser</th>\n      <th>Featured</th>\n      <th>Datetime</th>\n      <th>Class</th>\n      <th>Subclass</th>\n      <th>Remark</th>\n    </tr>\n  </thead>\n  <tbody>\n    <tr>\n      <th>0</th>\n      <td>Administrator</td>\n      <td>50582301</td>\n      <td>promoted</td>\n      <td>https://www.seek.co.nz/job/50582301?type=promo...</td>\n      <td>NaN</td>\n      <td>Bay of Plenty</td>\n      <td>Tauranga</td>\n      <td>1</td>\n      <td>1</td>\n      <td>NaN</td>\n      <td>administration &amp; office support</td>\n      <td>office management</td>\n      <td>NaN</td>\n    </tr>\n    <tr>\n      <th>1</th>\n      <td>Receptionist</td>\n      <td>50620889</td>\n      <td>promoted</td>\n      <td>https://www.seek.co.nz/job/50620889?type=promo...</td>\n      <td>Avenues Orthodontics</td>\n      <td>Bay of Plenty</td>\n      <td>Tauranga</td>\n      <td>0</td>\n      <td>1</td>\n      <td>NaN</td>\n      <td>administration &amp; office support</td>\n      <td>receptionists</td>\n      <td>NaN</td>\n    </tr>\n    <tr>\n      <th>2</th>\n      <td>Prosecutions Support Officer</td>\n      <td>50622169</td>\n      <td>standard</td>\n      <td>https://www.seek.co.nz/job/50622169?type=stand...</td>\n      <td>New Zealand Police</td>\n      <td>Auckland</td>\n      <td>NaN</td>\n      <td>0</td>\n      <td>0</td>\n      <td>2022-12-23 13:11</td>\n      <td>administration &amp; office support</td>\n      <td>other</td>\n      <td>NaN</td>\n    </tr>\n    <tr>\n      <th>3</th>\n      <td>Early Childhood Centre Administrator</td>\n      <td>50639620</td>\n      <td>standard</td>\n      <td>https://www.seek.co.nz/job/50639620?type=stand...</td>\n      <td>Kew Pacific Island Early Learning Centre</td>\n      <td>Southland</td>\n      <td>Invercargill</td>\n      <td>0</td>\n      <td>0</td>\n      <td>2022-12-27 12:11</td>\n      <td>administration &amp; office support</td>\n      <td>administrative assistants</td>\n      <td>NaN</td>\n    </tr>\n    <tr>\n      <th>4</th>\n      <td>Business Support Administrator</td>\n      <td>50622432</td>\n      <td>standout</td>\n      <td>https://www.seek.co.nz/job/50622432?type=stand...</td>\n      <td>NaN</td>\n      <td>Canterbury</td>\n      <td>Christchurch</td>\n      <td>1</td>\n      <td>0</td>\n      <td>2022-12-23 13:11</td>\n      <td>administration &amp; office support</td>\n      <td>client &amp; sales administration</td>\n      <td>NaN</td>\n    </tr>\n    <tr>\n      <th>...</th>\n      <td>...</td>\n      <td>...</td>\n      <td>...</td>\n      <td>...</td>\n      <td>...</td>\n      <td>...</td>\n      <td>...</td>\n      <td>...</td>\n      <td>...</td>\n      <td>...</td>\n      <td>...</td>\n      <td>...</td>\n      <td>...</td>\n    </tr>\n    <tr>\n      <th>2703</th>\n      <td>Key Account Manager</td>\n      <td>50490062</td>\n      <td>standout</td>\n      <td>https://www.seek.co.nz/job/50490062?type=stand...</td>\n      <td>Hays Talent Solutions</td>\n      <td>Auckland</td>\n      <td>Auckland Central</td>\n      <td>0</td>\n      <td>0</td>\n      <td>2022-11-30 13:11</td>\n      <td>administration &amp; office support</td>\n      <td>client &amp; sales administration</td>\n      <td>NaN</td>\n    </tr>\n    <tr>\n      <th>2704</th>\n      <td>Executive Assistant</td>\n      <td>50488000</td>\n      <td>standout</td>\n      <td>https://www.seek.co.nz/job/50488000?type=stand...</td>\n      <td>one eighty recruitment</td>\n      <td>Wellington</td>\n      <td>Wellington CentralWellington Central,Competiti...</td>\n      <td>0</td>\n      <td>0</td>\n      <td>2022-11-30 13:11</td>\n      <td>nan</td>\n      <td>nan</td>\n      <td>competitive hourly rate</td>\n    </tr>\n    <tr>\n      <th>2705</th>\n      <td>Temporary Office Roles</td>\n      <td>50524865</td>\n      <td>standout</td>\n      <td>https://www.seek.co.nz/job/50524865?type=stand...</td>\n      <td>Asset Recruitment Ltd</td>\n      <td>Waikato</td>\n      <td>HamiltonHamilton,Competitive hourly rates $$</td>\n      <td>0</td>\n      <td>0</td>\n      <td>2022-12-07 13:11</td>\n      <td>nan</td>\n      <td>nan</td>\n      <td>competitive hourly rates $$</td>\n    </tr>\n    <tr>\n      <th>2706</th>\n      <td>Temporary Office Roles</td>\n      <td>50477118</td>\n      <td>standout</td>\n      <td>https://www.seek.co.nz/job/50477118?type=stand...</td>\n      <td>Asset Recruitment Ltd</td>\n      <td>Waikato</td>\n      <td>HamiltonHamilton,Competitive hourly rates $$</td>\n      <td>0</td>\n      <td>0</td>\n      <td>2022-11-29 13:11</td>\n      <td>nan</td>\n      <td>nan</td>\n      <td>competitive hourly rates $$</td>\n    </tr>\n    <tr>\n      <th>2707</th>\n      <td>Executive Assistant</td>\n      <td>50496571</td>\n      <td>standout</td>\n      <td>https://www.seek.co.nz/job/50496571?type=stand...</td>\n      <td>Alpha Recruitment - NZ</td>\n      <td>Wellington</td>\n      <td>NaN</td>\n      <td>0</td>\n      <td>0</td>\n      <td>2022-12-01 13:11</td>\n      <td>administration &amp; office support</td>\n      <td>pa, ea &amp; secretarial</td>\n      <td>NaN</td>\n    </tr>\n  </tbody>\n</table>\n<p>2708 rows × 13 columns</p>\n</div>"
     },
     "execution_count": 71,
     "metadata": {},
     "output_type": "execute_result"
    }
   ],
   "source": [
    "jobs"
   ],
   "metadata": {
    "collapsed": false
   }
  },
  {
   "cell_type": "markdown",
   "source": [
    "## 8. 数据与处理完毕，输出文件"
   ],
   "metadata": {
    "collapsed": false
   }
  },
  {
   "cell_type": "code",
   "execution_count": 72,
   "outputs": [],
   "source": [
    "jobs.to_excel('DataSource_NZSeek/NZ_Admin_JOBS_PREPROCESSED.xlsx')\n",
    "jobs.to_csv('DataSource_NZSeek/NZ_Admin_JOBS_PREPROCESSED.csv')"
   ],
   "metadata": {
    "collapsed": false
   }
  },
  {
   "cell_type": "code",
   "execution_count": null,
   "outputs": [],
   "source": [],
   "metadata": {
    "collapsed": false
   }
  }
 ],
 "metadata": {
  "kernelspec": {
   "display_name": "Python 3",
   "language": "python",
   "name": "python3"
  },
  "language_info": {
   "codemirror_mode": {
    "name": "ipython",
    "version": 2
   },
   "file_extension": ".py",
   "mimetype": "text/x-python",
   "name": "python",
   "nbconvert_exporter": "python",
   "pygments_lexer": "ipython2",
   "version": "2.7.6"
  }
 },
 "nbformat": 4,
 "nbformat_minor": 0
}
