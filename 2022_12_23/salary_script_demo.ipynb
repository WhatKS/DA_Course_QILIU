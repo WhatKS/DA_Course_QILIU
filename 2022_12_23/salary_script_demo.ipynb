{
 "cells": [
  {
   "cell_type": "code",
   "execution_count": 78,
   "metadata": {
    "collapsed": true
   },
   "outputs": [],
   "source": [
    "import pandas as pd\n",
    "import numpy as np\n",
    "import re"
   ]
  },
  {
   "cell_type": "code",
   "execution_count": 79,
   "outputs": [],
   "source": [
    "jobs = pd.read_excel('DataSource_NZSeek/NZ_Admin_JOBS.xlsx', header=None, skiprows=1)"
   ],
   "metadata": {
    "collapsed": false
   }
  },
  {
   "cell_type": "code",
   "execution_count": 80,
   "outputs": [
    {
     "data": {
      "text/plain": "                           0  \\\n2703     Key Account Manager   \n2704     Executive Assistant   \n2705  Temporary Office Roles   \n2706  Temporary Office Roles   \n2707     Executive Assistant   \n\n                                                      1  \\\n2703  https://www.seek.co.nz/job/50490062?type=stand...   \n2704  https://www.seek.co.nz/job/50488000?type=stand...   \n2705  https://www.seek.co.nz/job/50524865?type=stand...   \n2706  https://www.seek.co.nz/job/50477118?type=stand...   \n2707  https://www.seek.co.nz/job/50496571?type=stand...   \n\n                           2  \\\n2703   Hays Talent Solutions   \n2704  one eighty recruitment   \n2705   Asset Recruitment Ltd   \n2706   Asset Recruitment Ltd   \n2707  Alpha Recruitment - NZ   \n\n                                                      3           4  \\\n2703  location: AucklandAucklandarea: Auckland Centr...  27d ago,at   \n2704  location: WellingtonWellingtonarea: Wellington...  27d ago,at   \n2705  location: WaikatoWaikatoarea: HamiltonHamilton...  20d ago,at   \n2706  location: WaikatoWaikatoarea: HamiltonHamilton...  28d ago,at   \n2707                     location: WellingtonWellington  26d ago,at   \n\n                                                      5  \n2703  classification: Administration & Office Suppor...  \n2704                            Competitive hourly rate  \n2705                        Competitive hourly rates $$  \n2706                        Competitive hourly rates $$  \n2707  classification: Administration & Office Suppor...  ",
      "text/html": "<div>\n<style scoped>\n    .dataframe tbody tr th:only-of-type {\n        vertical-align: middle;\n    }\n\n    .dataframe tbody tr th {\n        vertical-align: top;\n    }\n\n    .dataframe thead th {\n        text-align: right;\n    }\n</style>\n<table border=\"1\" class=\"dataframe\">\n  <thead>\n    <tr style=\"text-align: right;\">\n      <th></th>\n      <th>0</th>\n      <th>1</th>\n      <th>2</th>\n      <th>3</th>\n      <th>4</th>\n      <th>5</th>\n    </tr>\n  </thead>\n  <tbody>\n    <tr>\n      <th>2703</th>\n      <td>Key Account Manager</td>\n      <td>https://www.seek.co.nz/job/50490062?type=stand...</td>\n      <td>Hays Talent Solutions</td>\n      <td>location: AucklandAucklandarea: Auckland Centr...</td>\n      <td>27d ago,at</td>\n      <td>classification: Administration &amp; Office Suppor...</td>\n    </tr>\n    <tr>\n      <th>2704</th>\n      <td>Executive Assistant</td>\n      <td>https://www.seek.co.nz/job/50488000?type=stand...</td>\n      <td>one eighty recruitment</td>\n      <td>location: WellingtonWellingtonarea: Wellington...</td>\n      <td>27d ago,at</td>\n      <td>Competitive hourly rate</td>\n    </tr>\n    <tr>\n      <th>2705</th>\n      <td>Temporary Office Roles</td>\n      <td>https://www.seek.co.nz/job/50524865?type=stand...</td>\n      <td>Asset Recruitment Ltd</td>\n      <td>location: WaikatoWaikatoarea: HamiltonHamilton...</td>\n      <td>20d ago,at</td>\n      <td>Competitive hourly rates $$</td>\n    </tr>\n    <tr>\n      <th>2706</th>\n      <td>Temporary Office Roles</td>\n      <td>https://www.seek.co.nz/job/50477118?type=stand...</td>\n      <td>Asset Recruitment Ltd</td>\n      <td>location: WaikatoWaikatoarea: HamiltonHamilton...</td>\n      <td>28d ago,at</td>\n      <td>Competitive hourly rates $$</td>\n    </tr>\n    <tr>\n      <th>2707</th>\n      <td>Executive Assistant</td>\n      <td>https://www.seek.co.nz/job/50496571?type=stand...</td>\n      <td>Alpha Recruitment - NZ</td>\n      <td>location: WellingtonWellington</td>\n      <td>26d ago,at</td>\n      <td>classification: Administration &amp; Office Suppor...</td>\n    </tr>\n  </tbody>\n</table>\n</div>"
     },
     "execution_count": 80,
     "metadata": {},
     "output_type": "execute_result"
    }
   ],
   "source": [
    "jobs.tail()"
   ],
   "metadata": {
    "collapsed": false
   }
  },
  {
   "cell_type": "code",
   "execution_count": 81,
   "outputs": [],
   "source": [
    "salary = pd.concat([jobs[3], jobs[5]], axis=1)"
   ],
   "metadata": {
    "collapsed": false
   }
  },
  {
   "cell_type": "code",
   "execution_count": 82,
   "outputs": [],
   "source": [
    "salary.columns = ['s1', 's2']"
   ],
   "metadata": {
    "collapsed": false
   }
  },
  {
   "cell_type": "code",
   "execution_count": 83,
   "outputs": [
    {
     "data": {
      "text/plain": "                                                     s1  \\\n0     location: Bay of PlentyBay of Plentyarea: Taur...   \n1     location: Bay of PlentyBay of Plentyarea: Taur...   \n2                            location: AucklandAuckland   \n3     location: SouthlandSouthlandarea: Invercargill...   \n4     location: CanterburyCanterburyarea: Christchur...   \n...                                                 ...   \n2703  location: AucklandAucklandarea: Auckland Centr...   \n2704  location: WellingtonWellingtonarea: Wellington...   \n2705  location: WaikatoWaikatoarea: HamiltonHamilton...   \n2706  location: WaikatoWaikatoarea: HamiltonHamilton...   \n2707                     location: WellingtonWellington   \n\n                                                     s2  \n0     classification: Administration & Office Suppor...  \n1     classification: Administration & Office Suppor...  \n2     classification: Administration & Office Suppor...  \n3     classification: Administration & Office Suppor...  \n4     classification: Administration & Office Suppor...  \n...                                                 ...  \n2703  classification: Administration & Office Suppor...  \n2704                            Competitive hourly rate  \n2705                        Competitive hourly rates $$  \n2706                        Competitive hourly rates $$  \n2707  classification: Administration & Office Suppor...  \n\n[2708 rows x 2 columns]",
      "text/html": "<div>\n<style scoped>\n    .dataframe tbody tr th:only-of-type {\n        vertical-align: middle;\n    }\n\n    .dataframe tbody tr th {\n        vertical-align: top;\n    }\n\n    .dataframe thead th {\n        text-align: right;\n    }\n</style>\n<table border=\"1\" class=\"dataframe\">\n  <thead>\n    <tr style=\"text-align: right;\">\n      <th></th>\n      <th>s1</th>\n      <th>s2</th>\n    </tr>\n  </thead>\n  <tbody>\n    <tr>\n      <th>0</th>\n      <td>location: Bay of PlentyBay of Plentyarea: Taur...</td>\n      <td>classification: Administration &amp; Office Suppor...</td>\n    </tr>\n    <tr>\n      <th>1</th>\n      <td>location: Bay of PlentyBay of Plentyarea: Taur...</td>\n      <td>classification: Administration &amp; Office Suppor...</td>\n    </tr>\n    <tr>\n      <th>2</th>\n      <td>location: AucklandAuckland</td>\n      <td>classification: Administration &amp; Office Suppor...</td>\n    </tr>\n    <tr>\n      <th>3</th>\n      <td>location: SouthlandSouthlandarea: Invercargill...</td>\n      <td>classification: Administration &amp; Office Suppor...</td>\n    </tr>\n    <tr>\n      <th>4</th>\n      <td>location: CanterburyCanterburyarea: Christchur...</td>\n      <td>classification: Administration &amp; Office Suppor...</td>\n    </tr>\n    <tr>\n      <th>...</th>\n      <td>...</td>\n      <td>...</td>\n    </tr>\n    <tr>\n      <th>2703</th>\n      <td>location: AucklandAucklandarea: Auckland Centr...</td>\n      <td>classification: Administration &amp; Office Suppor...</td>\n    </tr>\n    <tr>\n      <th>2704</th>\n      <td>location: WellingtonWellingtonarea: Wellington...</td>\n      <td>Competitive hourly rate</td>\n    </tr>\n    <tr>\n      <th>2705</th>\n      <td>location: WaikatoWaikatoarea: HamiltonHamilton...</td>\n      <td>Competitive hourly rates $$</td>\n    </tr>\n    <tr>\n      <th>2706</th>\n      <td>location: WaikatoWaikatoarea: HamiltonHamilton...</td>\n      <td>Competitive hourly rates $$</td>\n    </tr>\n    <tr>\n      <th>2707</th>\n      <td>location: WellingtonWellington</td>\n      <td>classification: Administration &amp; Office Suppor...</td>\n    </tr>\n  </tbody>\n</table>\n<p>2708 rows × 2 columns</p>\n</div>"
     },
     "execution_count": 83,
     "metadata": {},
     "output_type": "execute_result"
    }
   ],
   "source": [
    "salary"
   ],
   "metadata": {
    "collapsed": false
   }
  },
  {
   "cell_type": "code",
   "execution_count": 84,
   "outputs": [],
   "source": [
    "salary['s2'] = salary['s2'].apply(lambda x: np.nan if x.startswith('classification') else x.strip())\n",
    "salary['s1'] = salary['s1'].where(salary['s2'].notnull(), np.nan)"
   ],
   "metadata": {
    "collapsed": false
   }
  },
  {
   "cell_type": "code",
   "execution_count": 127,
   "outputs": [],
   "source": [
    "s = pd.DataFrame(salary['s2'])"
   ],
   "metadata": {
    "collapsed": false
   }
  },
  {
   "cell_type": "code",
   "execution_count": 136,
   "outputs": [
    {
     "data": {
      "text/plain": "                                                 s2\n12                                     $20 per hour\n17                            $20 - $24.99 per hour\n23                              $19 to $22 per hour\n25                            $20 - $24.99 per hour\n36                            $20 - $24.99 per hour\n48                                     $25 per hour\n58                      $60 000 - $70 000 per annum\n59                                  $20.00 per hour\n66                            $20 - $24.99 per hour\n77                                 $20.00 per hour.\n78                            $20 - $24.99 per hour\n81                                     $21 per hour\n103            $55,000 - $60,000 per annum pro rata\n112                           $20 - $24.99 per hour\n114                           $20 - $24.99 per hour\n134                           $20 - $29.99 per hour\n171                           $20 - $29.99 per hour\n173                           $20 - $29.99 per hour\n191                           $20 - $24.99 per hour\n231                          NZD25 - NZD28 per hour\n247                           $20 - $24.99 per hour\n277                                    $22 per hour\n278                              NZD75000 per annum\n282                           $20 - $24.99 per hour\n319                              $50,000 per annum.\n349                              $20 - $25 per hour\n379                           $20 - $24.99 per hour\n464                             $19 to $22 per hour\n478                           $35 - $39.99 per hour\n494  $20 - $24.99 per hour dependent on experience.\n517                           $20 - $24.99 per hour\n530                          NZD19 - NZD23 per hour\n550                                $21-$23 per hour\n560                              $40 - $45 per hour\n569                        $18.50 - $23.50 per hour\n582                          NZD25 - NZD30 per hour\n590                           $25 - $29.99 per hour\n629                           $25 - $29.99 per hour\n633                              $20 - $40 per hour\n653                              $20 - $30 per hour\n663                               $70-75k per annum",
      "text/html": "<div>\n<style scoped>\n    .dataframe tbody tr th:only-of-type {\n        vertical-align: middle;\n    }\n\n    .dataframe tbody tr th {\n        vertical-align: top;\n    }\n\n    .dataframe thead th {\n        text-align: right;\n    }\n</style>\n<table border=\"1\" class=\"dataframe\">\n  <thead>\n    <tr style=\"text-align: right;\">\n      <th></th>\n      <th>s2</th>\n    </tr>\n  </thead>\n  <tbody>\n    <tr>\n      <th>12</th>\n      <td>$20 per hour</td>\n    </tr>\n    <tr>\n      <th>17</th>\n      <td>$20 - $24.99 per hour</td>\n    </tr>\n    <tr>\n      <th>23</th>\n      <td>$19 to $22 per hour</td>\n    </tr>\n    <tr>\n      <th>25</th>\n      <td>$20 - $24.99 per hour</td>\n    </tr>\n    <tr>\n      <th>36</th>\n      <td>$20 - $24.99 per hour</td>\n    </tr>\n    <tr>\n      <th>48</th>\n      <td>$25 per hour</td>\n    </tr>\n    <tr>\n      <th>58</th>\n      <td>$60 000 - $70 000 per annum</td>\n    </tr>\n    <tr>\n      <th>59</th>\n      <td>$20.00 per hour</td>\n    </tr>\n    <tr>\n      <th>66</th>\n      <td>$20 - $24.99 per hour</td>\n    </tr>\n    <tr>\n      <th>77</th>\n      <td>$20.00 per hour.</td>\n    </tr>\n    <tr>\n      <th>78</th>\n      <td>$20 - $24.99 per hour</td>\n    </tr>\n    <tr>\n      <th>81</th>\n      <td>$21 per hour</td>\n    </tr>\n    <tr>\n      <th>103</th>\n      <td>$55,000 - $60,000 per annum pro rata</td>\n    </tr>\n    <tr>\n      <th>112</th>\n      <td>$20 - $24.99 per hour</td>\n    </tr>\n    <tr>\n      <th>114</th>\n      <td>$20 - $24.99 per hour</td>\n    </tr>\n    <tr>\n      <th>134</th>\n      <td>$20 - $29.99 per hour</td>\n    </tr>\n    <tr>\n      <th>171</th>\n      <td>$20 - $29.99 per hour</td>\n    </tr>\n    <tr>\n      <th>173</th>\n      <td>$20 - $29.99 per hour</td>\n    </tr>\n    <tr>\n      <th>191</th>\n      <td>$20 - $24.99 per hour</td>\n    </tr>\n    <tr>\n      <th>231</th>\n      <td>NZD25 - NZD28 per hour</td>\n    </tr>\n    <tr>\n      <th>247</th>\n      <td>$20 - $24.99 per hour</td>\n    </tr>\n    <tr>\n      <th>277</th>\n      <td>$22 per hour</td>\n    </tr>\n    <tr>\n      <th>278</th>\n      <td>NZD75000 per annum</td>\n    </tr>\n    <tr>\n      <th>282</th>\n      <td>$20 - $24.99 per hour</td>\n    </tr>\n    <tr>\n      <th>319</th>\n      <td>$50,000 per annum.</td>\n    </tr>\n    <tr>\n      <th>349</th>\n      <td>$20 - $25 per hour</td>\n    </tr>\n    <tr>\n      <th>379</th>\n      <td>$20 - $24.99 per hour</td>\n    </tr>\n    <tr>\n      <th>464</th>\n      <td>$19 to $22 per hour</td>\n    </tr>\n    <tr>\n      <th>478</th>\n      <td>$35 - $39.99 per hour</td>\n    </tr>\n    <tr>\n      <th>494</th>\n      <td>$20 - $24.99 per hour dependent on experience.</td>\n    </tr>\n    <tr>\n      <th>517</th>\n      <td>$20 - $24.99 per hour</td>\n    </tr>\n    <tr>\n      <th>530</th>\n      <td>NZD19 - NZD23 per hour</td>\n    </tr>\n    <tr>\n      <th>550</th>\n      <td>$21-$23 per hour</td>\n    </tr>\n    <tr>\n      <th>560</th>\n      <td>$40 - $45 per hour</td>\n    </tr>\n    <tr>\n      <th>569</th>\n      <td>$18.50 - $23.50 per hour</td>\n    </tr>\n    <tr>\n      <th>582</th>\n      <td>NZD25 - NZD30 per hour</td>\n    </tr>\n    <tr>\n      <th>590</th>\n      <td>$25 - $29.99 per hour</td>\n    </tr>\n    <tr>\n      <th>629</th>\n      <td>$25 - $29.99 per hour</td>\n    </tr>\n    <tr>\n      <th>633</th>\n      <td>$20 - $40 per hour</td>\n    </tr>\n    <tr>\n      <th>653</th>\n      <td>$20 - $30 per hour</td>\n    </tr>\n    <tr>\n      <th>663</th>\n      <td>$70-75k per annum</td>\n    </tr>\n  </tbody>\n</table>\n</div>"
     },
     "execution_count": 136,
     "metadata": {},
     "output_type": "execute_result"
    }
   ],
   "source": [
    "s[s['s2'].notnull() & s['s2'].str.contains(' per ')]"
   ],
   "metadata": {
    "collapsed": false
   }
  },
  {
   "cell_type": "code",
   "execution_count": 182,
   "outputs": [],
   "source": [
    "import re\n",
    "\n",
    "\n",
    "def salary_extraction_with_per(x):\n",
    "    if x != np.nan and ' per ' in x:\n",
    "        x = x.strip()\n",
    "        numbers = re.findall(r'\\s*\\d+.?\\d*', x)\n",
    "        # numbers = re.findall(r'\\s*\\d+(?:[,\\s]\\d+)*(?:.\\d+)?', x)\n",
    "        # numbers = [re.sub(',', '', num) for num in numbers]\n",
    "        numbers = [num.replace(' ', '') for num in numbers]\n",
    "        print(numbers)\n",
    "        if len(numbers) == 1:\n",
    "            low, high = round(float(numbers[0]), 2), round(float(numbers[0]), 2)\n",
    "        elif len(numbers) == 2:\n",
    "            low = round(float(numbers[0]), 2)\n",
    "            high = round(float(numbers[1]), 2)\n",
    "        else:\n",
    "            low, high = np.nan, np.nan\n",
    "        if 'annum' in x:\n",
    "            # 年薪转化为时薪\n",
    "            low = low / 52 / 40\n",
    "            high = high / 52 / 40\n",
    "\n",
    "            low = round(low, 2)\n",
    "            high = round(high, 2)\n",
    "        return low, high\n",
    "\n",
    "    else:\n",
    "        return np.nan, np.nan"
   ],
   "metadata": {
    "collapsed": false
   }
  },
  {
   "cell_type": "code",
   "execution_count": 183,
   "outputs": [
    {
     "name": "stdout",
     "output_type": "stream",
     "text": [
      "['20', '24.99']\n"
     ]
    },
    {
     "data": {
      "text/plain": "(20.0, 24.99)"
     },
     "execution_count": 183,
     "metadata": {},
     "output_type": "execute_result"
    }
   ],
   "source": [
    "salary_extraction_with_per('$20 - $24.99 per hour')"
   ],
   "metadata": {
    "collapsed": false
   }
  },
  {
   "cell_type": "code",
   "execution_count": 179,
   "outputs": [
    {
     "name": "stdout",
     "output_type": "stream",
     "text": [
      "['60000', '70000']\n"
     ]
    },
    {
     "data": {
      "text/plain": "(28.85, 33.65)"
     },
     "execution_count": 179,
     "metadata": {},
     "output_type": "execute_result"
    }
   ],
   "source": [
    "salary_extraction_with_per('$60 000 - $70 000 per annum')"
   ],
   "metadata": {
    "collapsed": false
   }
  },
  {
   "cell_type": "code",
   "execution_count": 180,
   "outputs": [
    {
     "name": "stdout",
     "output_type": "stream",
     "text": [
      "['20.00']\n"
     ]
    },
    {
     "data": {
      "text/plain": "(20.0, 20.0)"
     },
     "execution_count": 180,
     "metadata": {},
     "output_type": "execute_result"
    }
   ],
   "source": [
    "salary_extraction_with_per('$20.00 per hour.')"
   ],
   "metadata": {
    "collapsed": false
   }
  },
  {
   "cell_type": "code",
   "execution_count": 165,
   "outputs": [
    {
     "data": {
      "text/plain": "0                               NaN\n1                               NaN\n2                               NaN\n3                               NaN\n4                               NaN\n                   ...             \n2703                            NaN\n2704        Competitive hourly rate\n2705    Competitive hourly rates $$\n2706    Competitive hourly rates $$\n2707                            NaN\nName: s2, Length: 2708, dtype: object"
     },
     "execution_count": 165,
     "metadata": {},
     "output_type": "execute_result"
    }
   ],
   "source": [
    "s['s2']"
   ],
   "metadata": {
    "collapsed": false
   }
  },
  {
   "cell_type": "code",
   "execution_count": null,
   "outputs": [],
   "source": [],
   "metadata": {
    "collapsed": false
   }
  }
 ],
 "metadata": {
  "kernelspec": {
   "display_name": "Python 3",
   "language": "python",
   "name": "python3"
  },
  "language_info": {
   "codemirror_mode": {
    "name": "ipython",
    "version": 2
   },
   "file_extension": ".py",
   "mimetype": "text/x-python",
   "name": "python",
   "nbconvert_exporter": "python",
   "pygments_lexer": "ipython2",
   "version": "2.7.6"
  }
 },
 "nbformat": 4,
 "nbformat_minor": 0
}
