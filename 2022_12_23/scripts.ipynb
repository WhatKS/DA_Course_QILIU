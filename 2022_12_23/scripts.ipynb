{
 "cells": [
  {
   "cell_type": "markdown",
   "source": [
    "just a record for future tasks"
   ],
   "metadata": {
    "collapsed": false
   }
  },
  {
   "cell_type": "code",
   "execution_count": 196,
   "metadata": {
    "collapsed": true
   },
   "outputs": [
    {
     "name": "stderr",
     "output_type": "stream",
     "text": [
      "UsageError: Line magic function `%` not found.\n"
     ]
    }
   ],
   "source": [
    "import pandas as pd\n",
    "import numpy as np\n",
    "import matplotlib.pyplot as plt\n",
    "import re\n",
    "from datetime import datetime, timedelta\n",
    "\n",
    "% matplotlib inline"
   ]
  },
  {
   "cell_type": "code",
   "execution_count": 34,
   "outputs": [],
   "source": [
    "jobs = pd.read_excel('DataSource_NZSeek/NZ_Admin_JOBS.xlsx', header=None, skiprows=1)"
   ],
   "metadata": {
    "collapsed": false
   }
  },
  {
   "cell_type": "code",
   "execution_count": 35,
   "outputs": [
    {
     "name": "stdout",
     "output_type": "stream",
     "text": [
      "<class 'pandas.core.frame.DataFrame'>\n",
      "RangeIndex: 2708 entries, 0 to 2707\n",
      "Data columns (total 6 columns):\n",
      " #   Column  Non-Null Count  Dtype \n",
      "---  ------  --------------  ----- \n",
      " 0   0       2708 non-null   object\n",
      " 1   1       2708 non-null   object\n",
      " 2   2       2686 non-null   object\n",
      " 3   3       2708 non-null   object\n",
      " 4   4       2708 non-null   object\n",
      " 5   5       2708 non-null   object\n",
      "dtypes: object(6)\n",
      "memory usage: 127.1+ KB\n"
     ]
    }
   ],
   "source": [
    "jobs.info()"
   ],
   "metadata": {
    "collapsed": false
   }
  },
  {
   "cell_type": "code",
   "execution_count": 36,
   "outputs": [
    {
     "data": {
      "text/plain": "                          0  \\\ncount                  2708   \nunique                  548   \ntop     Executive Assistant   \nfreq                    301   \n\n                                                        1  \\\ncount                                                2708   \nunique                                               2708   \ntop     https://www.seek.co.nz/job/50582301?type=promo...   \nfreq                                                    1   \n\n                                                        2  \\\ncount                                                2686   \nunique                                                475   \ntop     Beyond Recruitment - Winner – Best Innovation ...   \nfreq                                                  285   \n\n                                                        3           4  \\\ncount                                                2708        2708   \nunique                                                147          54   \ntop     location: AucklandAucklandarea: Auckland Centr...  27d ago,at   \nfreq                                                  654         572   \n\n                                                        5  \ncount                                                2708  \nunique                                                 93  \ntop     classification: Administration & Office Suppor...  \nfreq                                                  715  ",
      "text/html": "<div>\n<style scoped>\n    .dataframe tbody tr th:only-of-type {\n        vertical-align: middle;\n    }\n\n    .dataframe tbody tr th {\n        vertical-align: top;\n    }\n\n    .dataframe thead th {\n        text-align: right;\n    }\n</style>\n<table border=\"1\" class=\"dataframe\">\n  <thead>\n    <tr style=\"text-align: right;\">\n      <th></th>\n      <th>0</th>\n      <th>1</th>\n      <th>2</th>\n      <th>3</th>\n      <th>4</th>\n      <th>5</th>\n    </tr>\n  </thead>\n  <tbody>\n    <tr>\n      <th>count</th>\n      <td>2708</td>\n      <td>2708</td>\n      <td>2686</td>\n      <td>2708</td>\n      <td>2708</td>\n      <td>2708</td>\n    </tr>\n    <tr>\n      <th>unique</th>\n      <td>548</td>\n      <td>2708</td>\n      <td>475</td>\n      <td>147</td>\n      <td>54</td>\n      <td>93</td>\n    </tr>\n    <tr>\n      <th>top</th>\n      <td>Executive Assistant</td>\n      <td>https://www.seek.co.nz/job/50582301?type=promo...</td>\n      <td>Beyond Recruitment - Winner – Best Innovation ...</td>\n      <td>location: AucklandAucklandarea: Auckland Centr...</td>\n      <td>27d ago,at</td>\n      <td>classification: Administration &amp; Office Suppor...</td>\n    </tr>\n    <tr>\n      <th>freq</th>\n      <td>301</td>\n      <td>1</td>\n      <td>285</td>\n      <td>654</td>\n      <td>572</td>\n      <td>715</td>\n    </tr>\n  </tbody>\n</table>\n</div>"
     },
     "execution_count": 36,
     "metadata": {},
     "output_type": "execute_result"
    }
   ],
   "source": [
    "jobs.describe()"
   ],
   "metadata": {
    "collapsed": false
   }
  },
  {
   "cell_type": "code",
   "execution_count": 37,
   "outputs": [
    {
     "data": {
      "text/plain": "                                      0  \\\n0                         Administrator   \n1                          Receptionist   \n2          Prosecutions Support Officer   \n3  Early Childhood Centre Administrator   \n4        Business Support Administrator   \n\n                                                   1  \\\n0  https://www.seek.co.nz/job/50582301?type=promo...   \n1  https://www.seek.co.nz/job/50620889?type=promo...   \n2  https://www.seek.co.nz/job/50622169?type=stand...   \n3  https://www.seek.co.nz/job/50639620?type=stand...   \n4  https://www.seek.co.nz/job/50622432?type=stand...   \n\n                                          2  \\\n0                                       NaN   \n1                      Avenues Orthodontics   \n2                        New Zealand Police   \n3  Kew Pacific Island Early Learning Centre   \n4                                       NaN   \n\n                                                   3  \\\n0  location: Bay of PlentyBay of Plentyarea: Taur...   \n1  location: Bay of PlentyBay of Plentyarea: Taur...   \n2                         location: AucklandAuckland   \n3  location: SouthlandSouthlandarea: Invercargill...   \n4  location: CanterburyCanterburyarea: Christchur...   \n\n                                4  \\\n0  Featured,at,Private Advertiser   \n1                     Featured,at   \n2                       4d ago,at   \n3                       1h ago,at   \n4    4d ago,at,Private Advertiser   \n\n                                                   5  \n0  classification: Administration & Office Suppor...  \n1  classification: Administration & Office Suppor...  \n2  classification: Administration & Office Suppor...  \n3  classification: Administration & Office Suppor...  \n4  classification: Administration & Office Suppor...  ",
      "text/html": "<div>\n<style scoped>\n    .dataframe tbody tr th:only-of-type {\n        vertical-align: middle;\n    }\n\n    .dataframe tbody tr th {\n        vertical-align: top;\n    }\n\n    .dataframe thead th {\n        text-align: right;\n    }\n</style>\n<table border=\"1\" class=\"dataframe\">\n  <thead>\n    <tr style=\"text-align: right;\">\n      <th></th>\n      <th>0</th>\n      <th>1</th>\n      <th>2</th>\n      <th>3</th>\n      <th>4</th>\n      <th>5</th>\n    </tr>\n  </thead>\n  <tbody>\n    <tr>\n      <th>0</th>\n      <td>Administrator</td>\n      <td>https://www.seek.co.nz/job/50582301?type=promo...</td>\n      <td>NaN</td>\n      <td>location: Bay of PlentyBay of Plentyarea: Taur...</td>\n      <td>Featured,at,Private Advertiser</td>\n      <td>classification: Administration &amp; Office Suppor...</td>\n    </tr>\n    <tr>\n      <th>1</th>\n      <td>Receptionist</td>\n      <td>https://www.seek.co.nz/job/50620889?type=promo...</td>\n      <td>Avenues Orthodontics</td>\n      <td>location: Bay of PlentyBay of Plentyarea: Taur...</td>\n      <td>Featured,at</td>\n      <td>classification: Administration &amp; Office Suppor...</td>\n    </tr>\n    <tr>\n      <th>2</th>\n      <td>Prosecutions Support Officer</td>\n      <td>https://www.seek.co.nz/job/50622169?type=stand...</td>\n      <td>New Zealand Police</td>\n      <td>location: AucklandAuckland</td>\n      <td>4d ago,at</td>\n      <td>classification: Administration &amp; Office Suppor...</td>\n    </tr>\n    <tr>\n      <th>3</th>\n      <td>Early Childhood Centre Administrator</td>\n      <td>https://www.seek.co.nz/job/50639620?type=stand...</td>\n      <td>Kew Pacific Island Early Learning Centre</td>\n      <td>location: SouthlandSouthlandarea: Invercargill...</td>\n      <td>1h ago,at</td>\n      <td>classification: Administration &amp; Office Suppor...</td>\n    </tr>\n    <tr>\n      <th>4</th>\n      <td>Business Support Administrator</td>\n      <td>https://www.seek.co.nz/job/50622432?type=stand...</td>\n      <td>NaN</td>\n      <td>location: CanterburyCanterburyarea: Christchur...</td>\n      <td>4d ago,at,Private Advertiser</td>\n      <td>classification: Administration &amp; Office Suppor...</td>\n    </tr>\n  </tbody>\n</table>\n</div>"
     },
     "execution_count": 37,
     "metadata": {},
     "output_type": "execute_result"
    }
   ],
   "source": [
    "jobs.head()"
   ],
   "metadata": {
    "collapsed": false
   }
  },
  {
   "cell_type": "code",
   "execution_count": 39,
   "outputs": [
    {
     "data": {
      "text/plain": "0    object\n1    object\n2    object\n3    object\n4    object\n5    object\ndtype: object"
     },
     "execution_count": 39,
     "metadata": {},
     "output_type": "execute_result"
    }
   ],
   "source": [
    "jobs.dtypes"
   ],
   "metadata": {
    "collapsed": false
   }
  },
  {
   "cell_type": "code",
   "execution_count": 40,
   "outputs": [
    {
     "data": {
      "text/plain": "Int64Index([0, 1, 2, 3, 4, 5], dtype='int64')"
     },
     "execution_count": 40,
     "metadata": {},
     "output_type": "execute_result"
    }
   ],
   "source": [
    "jobs.columns"
   ],
   "metadata": {
    "collapsed": false
   }
  },
  {
   "cell_type": "code",
   "execution_count": 41,
   "outputs": [],
   "source": [
    "jobs.columns = ['Name', 'Link', 'Department', 'LocationArea', 'ReleaseTime', 'Classification']"
   ],
   "metadata": {
    "collapsed": false
   }
  },
  {
   "cell_type": "code",
   "execution_count": 42,
   "outputs": [
    {
     "data": {
      "text/plain": "                                      Name  \\\n0                            Administrator   \n1                             Receptionist   \n2             Prosecutions Support Officer   \n3     Early Childhood Centre Administrator   \n4           Business Support Administrator   \n...                                    ...   \n2703                   Key Account Manager   \n2704                   Executive Assistant   \n2705                Temporary Office Roles   \n2706                Temporary Office Roles   \n2707                   Executive Assistant   \n\n                                                   Link  \\\n0     https://www.seek.co.nz/job/50582301?type=promo...   \n1     https://www.seek.co.nz/job/50620889?type=promo...   \n2     https://www.seek.co.nz/job/50622169?type=stand...   \n3     https://www.seek.co.nz/job/50639620?type=stand...   \n4     https://www.seek.co.nz/job/50622432?type=stand...   \n...                                                 ...   \n2703  https://www.seek.co.nz/job/50490062?type=stand...   \n2704  https://www.seek.co.nz/job/50488000?type=stand...   \n2705  https://www.seek.co.nz/job/50524865?type=stand...   \n2706  https://www.seek.co.nz/job/50477118?type=stand...   \n2707  https://www.seek.co.nz/job/50496571?type=stand...   \n\n                                    Department  \\\n0                                          NaN   \n1                         Avenues Orthodontics   \n2                           New Zealand Police   \n3     Kew Pacific Island Early Learning Centre   \n4                                          NaN   \n...                                        ...   \n2703                     Hays Talent Solutions   \n2704                    one eighty recruitment   \n2705                     Asset Recruitment Ltd   \n2706                     Asset Recruitment Ltd   \n2707                    Alpha Recruitment - NZ   \n\n                                           LocationArea  \\\n0     location: Bay of PlentyBay of Plentyarea: Taur...   \n1     location: Bay of PlentyBay of Plentyarea: Taur...   \n2                            location: AucklandAuckland   \n3     location: SouthlandSouthlandarea: Invercargill...   \n4     location: CanterburyCanterburyarea: Christchur...   \n...                                                 ...   \n2703  location: AucklandAucklandarea: Auckland Centr...   \n2704  location: WellingtonWellingtonarea: Wellington...   \n2705  location: WaikatoWaikatoarea: HamiltonHamilton...   \n2706  location: WaikatoWaikatoarea: HamiltonHamilton...   \n2707                     location: WellingtonWellington   \n\n                         ReleaseTime  \\\n0     Featured,at,Private Advertiser   \n1                        Featured,at   \n2                          4d ago,at   \n3                          1h ago,at   \n4       4d ago,at,Private Advertiser   \n...                              ...   \n2703                      27d ago,at   \n2704                      27d ago,at   \n2705                      20d ago,at   \n2706                      28d ago,at   \n2707                      26d ago,at   \n\n                                         Classification  \n0     classification: Administration & Office Suppor...  \n1     classification: Administration & Office Suppor...  \n2     classification: Administration & Office Suppor...  \n3     classification: Administration & Office Suppor...  \n4     classification: Administration & Office Suppor...  \n...                                                 ...  \n2703  classification: Administration & Office Suppor...  \n2704                            Competitive hourly rate  \n2705                        Competitive hourly rates $$  \n2706                        Competitive hourly rates $$  \n2707  classification: Administration & Office Suppor...  \n\n[2708 rows x 6 columns]",
      "text/html": "<div>\n<style scoped>\n    .dataframe tbody tr th:only-of-type {\n        vertical-align: middle;\n    }\n\n    .dataframe tbody tr th {\n        vertical-align: top;\n    }\n\n    .dataframe thead th {\n        text-align: right;\n    }\n</style>\n<table border=\"1\" class=\"dataframe\">\n  <thead>\n    <tr style=\"text-align: right;\">\n      <th></th>\n      <th>Name</th>\n      <th>Link</th>\n      <th>Department</th>\n      <th>LocationArea</th>\n      <th>ReleaseTime</th>\n      <th>Classification</th>\n    </tr>\n  </thead>\n  <tbody>\n    <tr>\n      <th>0</th>\n      <td>Administrator</td>\n      <td>https://www.seek.co.nz/job/50582301?type=promo...</td>\n      <td>NaN</td>\n      <td>location: Bay of PlentyBay of Plentyarea: Taur...</td>\n      <td>Featured,at,Private Advertiser</td>\n      <td>classification: Administration &amp; Office Suppor...</td>\n    </tr>\n    <tr>\n      <th>1</th>\n      <td>Receptionist</td>\n      <td>https://www.seek.co.nz/job/50620889?type=promo...</td>\n      <td>Avenues Orthodontics</td>\n      <td>location: Bay of PlentyBay of Plentyarea: Taur...</td>\n      <td>Featured,at</td>\n      <td>classification: Administration &amp; Office Suppor...</td>\n    </tr>\n    <tr>\n      <th>2</th>\n      <td>Prosecutions Support Officer</td>\n      <td>https://www.seek.co.nz/job/50622169?type=stand...</td>\n      <td>New Zealand Police</td>\n      <td>location: AucklandAuckland</td>\n      <td>4d ago,at</td>\n      <td>classification: Administration &amp; Office Suppor...</td>\n    </tr>\n    <tr>\n      <th>3</th>\n      <td>Early Childhood Centre Administrator</td>\n      <td>https://www.seek.co.nz/job/50639620?type=stand...</td>\n      <td>Kew Pacific Island Early Learning Centre</td>\n      <td>location: SouthlandSouthlandarea: Invercargill...</td>\n      <td>1h ago,at</td>\n      <td>classification: Administration &amp; Office Suppor...</td>\n    </tr>\n    <tr>\n      <th>4</th>\n      <td>Business Support Administrator</td>\n      <td>https://www.seek.co.nz/job/50622432?type=stand...</td>\n      <td>NaN</td>\n      <td>location: CanterburyCanterburyarea: Christchur...</td>\n      <td>4d ago,at,Private Advertiser</td>\n      <td>classification: Administration &amp; Office Suppor...</td>\n    </tr>\n    <tr>\n      <th>...</th>\n      <td>...</td>\n      <td>...</td>\n      <td>...</td>\n      <td>...</td>\n      <td>...</td>\n      <td>...</td>\n    </tr>\n    <tr>\n      <th>2703</th>\n      <td>Key Account Manager</td>\n      <td>https://www.seek.co.nz/job/50490062?type=stand...</td>\n      <td>Hays Talent Solutions</td>\n      <td>location: AucklandAucklandarea: Auckland Centr...</td>\n      <td>27d ago,at</td>\n      <td>classification: Administration &amp; Office Suppor...</td>\n    </tr>\n    <tr>\n      <th>2704</th>\n      <td>Executive Assistant</td>\n      <td>https://www.seek.co.nz/job/50488000?type=stand...</td>\n      <td>one eighty recruitment</td>\n      <td>location: WellingtonWellingtonarea: Wellington...</td>\n      <td>27d ago,at</td>\n      <td>Competitive hourly rate</td>\n    </tr>\n    <tr>\n      <th>2705</th>\n      <td>Temporary Office Roles</td>\n      <td>https://www.seek.co.nz/job/50524865?type=stand...</td>\n      <td>Asset Recruitment Ltd</td>\n      <td>location: WaikatoWaikatoarea: HamiltonHamilton...</td>\n      <td>20d ago,at</td>\n      <td>Competitive hourly rates $$</td>\n    </tr>\n    <tr>\n      <th>2706</th>\n      <td>Temporary Office Roles</td>\n      <td>https://www.seek.co.nz/job/50477118?type=stand...</td>\n      <td>Asset Recruitment Ltd</td>\n      <td>location: WaikatoWaikatoarea: HamiltonHamilton...</td>\n      <td>28d ago,at</td>\n      <td>Competitive hourly rates $$</td>\n    </tr>\n    <tr>\n      <th>2707</th>\n      <td>Executive Assistant</td>\n      <td>https://www.seek.co.nz/job/50496571?type=stand...</td>\n      <td>Alpha Recruitment - NZ</td>\n      <td>location: WellingtonWellington</td>\n      <td>26d ago,at</td>\n      <td>classification: Administration &amp; Office Suppor...</td>\n    </tr>\n  </tbody>\n</table>\n<p>2708 rows × 6 columns</p>\n</div>"
     },
     "execution_count": 42,
     "metadata": {},
     "output_type": "execute_result"
    }
   ],
   "source": [
    "jobs"
   ],
   "metadata": {
    "collapsed": false
   }
  },
  {
   "cell_type": "markdown",
   "source": [
    "### 首先处理第一列"
   ],
   "metadata": {
    "collapsed": false
   }
  },
  {
   "cell_type": "code",
   "execution_count": 43,
   "outputs": [
    {
     "data": {
      "text/plain": "0                              Administrator\n1                               Receptionist\n2               Prosecutions Support Officer\n3       Early Childhood Centre Administrator\n4             Business Support Administrator\n                        ...                 \n2703                     Key Account Manager\n2704                     Executive Assistant\n2705                  Temporary Office Roles\n2706                  Temporary Office Roles\n2707                     Executive Assistant\nName: Name, Length: 2708, dtype: object"
     },
     "execution_count": 43,
     "metadata": {},
     "output_type": "execute_result"
    }
   ],
   "source": [
    "jobs_name = jobs.Name\n",
    "\n",
    "jobs_name"
   ],
   "metadata": {
    "collapsed": false
   }
  },
  {
   "cell_type": "code",
   "execution_count": 44,
   "outputs": [
    {
     "data": {
      "text/plain": "False"
     },
     "execution_count": 44,
     "metadata": {},
     "output_type": "execute_result"
    }
   ],
   "source": [
    "jobs_name_has_missing = jobs_name.isnull().any()\n",
    "jobs_name_has_missing"
   ],
   "metadata": {
    "collapsed": false
   }
  },
  {
   "cell_type": "code",
   "execution_count": 45,
   "outputs": [
    {
     "data": {
      "text/plain": "0                              Administrator\n1                               Receptionist\n2               Prosecutions Support Officer\n3       Early Childhood Centre Administrator\n4             Business Support Administrator\n                        ...                 \n2703                     Key Account Manager\n2704                     Executive Assistant\n2705                  Temporary Office Roles\n2706                  Temporary Office Roles\n2707                     Executive Assistant\nName: Name, Length: 2708, dtype: object"
     },
     "execution_count": 45,
     "metadata": {},
     "output_type": "execute_result"
    }
   ],
   "source": [
    "jobs_name = jobs_name.str.title()\n",
    "\n",
    "jobs_name"
   ],
   "metadata": {
    "collapsed": false
   }
  },
  {
   "cell_type": "code",
   "execution_count": 46,
   "outputs": [
    {
     "data": {
      "text/plain": "count                    2708\nunique                    543\ntop       Executive Assistant\nfreq                      302\nName: Name, dtype: object"
     },
     "execution_count": 46,
     "metadata": {},
     "output_type": "execute_result"
    }
   ],
   "source": [
    "jobs_name.describe()"
   ],
   "metadata": {
    "collapsed": false
   }
  },
  {
   "cell_type": "code",
   "execution_count": 47,
   "outputs": [
    {
     "data": {
      "text/plain": "<Figure size 640x480 with 1 Axes>",
      "image/png": "[encoded data removed]"
     },
     "metadata": {},
     "output_type": "display_data"
    }
   ],
   "source": [
    "from Levenshtein import distance\n",
    "from scipy.cluster.hierarchy import linkage, dendrogram\n",
    "\n",
    "# 计算编辑距离矩阵\n",
    "distances = [[distance(s1, s2) if i != j else 1 for i, s1 in enumerate(jobs_name)] for j, s2 in enumerate(jobs_name)]\n",
    "\n",
    "# 进行聚类\n",
    "linkage_matrix = linkage(distances, 'ward')\n",
    "\n",
    "# 可视化聚类结果\n",
    "dendrogram(linkage_matrix)\n",
    "\n",
    "plt.xticks([])\n",
    "plt.yticks([])\n",
    "\n",
    "# plt.xlabel('')\n",
    "# plt.ylabel('')\n",
    "plt.show()"
   ],
   "metadata": {
    "collapsed": false
   }
  },
  {
   "cell_type": "markdown",
   "source": [
    "发现对jobs_name聚类并没有什么意义，因此jobs_name列preprocess完成，重新赋值到原jobs df中"
   ],
   "metadata": {
    "collapsed": false
   }
  },
  {
   "cell_type": "code",
   "execution_count": 48,
   "outputs": [
    {
     "data": {
      "text/plain": "                                      Name  \\\n0                            Administrator   \n1                             Receptionist   \n2             Prosecutions Support Officer   \n3     Early Childhood Centre Administrator   \n4           Business Support Administrator   \n...                                    ...   \n2703                   Key Account Manager   \n2704                   Executive Assistant   \n2705                Temporary Office Roles   \n2706                Temporary Office Roles   \n2707                   Executive Assistant   \n\n                                                   Link  \\\n0     https://www.seek.co.nz/job/50582301?type=promo...   \n1     https://www.seek.co.nz/job/50620889?type=promo...   \n2     https://www.seek.co.nz/job/50622169?type=stand...   \n3     https://www.seek.co.nz/job/50639620?type=stand...   \n4     https://www.seek.co.nz/job/50622432?type=stand...   \n...                                                 ...   \n2703  https://www.seek.co.nz/job/50490062?type=stand...   \n2704  https://www.seek.co.nz/job/50488000?type=stand...   \n2705  https://www.seek.co.nz/job/50524865?type=stand...   \n2706  https://www.seek.co.nz/job/50477118?type=stand...   \n2707  https://www.seek.co.nz/job/50496571?type=stand...   \n\n                                    Department  \\\n0                                          NaN   \n1                         Avenues Orthodontics   \n2                           New Zealand Police   \n3     Kew Pacific Island Early Learning Centre   \n4                                          NaN   \n...                                        ...   \n2703                     Hays Talent Solutions   \n2704                    one eighty recruitment   \n2705                     Asset Recruitment Ltd   \n2706                     Asset Recruitment Ltd   \n2707                    Alpha Recruitment - NZ   \n\n                                           LocationArea  \\\n0     location: Bay of PlentyBay of Plentyarea: Taur...   \n1     location: Bay of PlentyBay of Plentyarea: Taur...   \n2                            location: AucklandAuckland   \n3     location: SouthlandSouthlandarea: Invercargill...   \n4     location: CanterburyCanterburyarea: Christchur...   \n...                                                 ...   \n2703  location: AucklandAucklandarea: Auckland Centr...   \n2704  location: WellingtonWellingtonarea: Wellington...   \n2705  location: WaikatoWaikatoarea: HamiltonHamilton...   \n2706  location: WaikatoWaikatoarea: HamiltonHamilton...   \n2707                     location: WellingtonWellington   \n\n                         ReleaseTime  \\\n0     Featured,at,Private Advertiser   \n1                        Featured,at   \n2                          4d ago,at   \n3                          1h ago,at   \n4       4d ago,at,Private Advertiser   \n...                              ...   \n2703                      27d ago,at   \n2704                      27d ago,at   \n2705                      20d ago,at   \n2706                      28d ago,at   \n2707                      26d ago,at   \n\n                                         Classification  \n0     classification: Administration & Office Suppor...  \n1     classification: Administration & Office Suppor...  \n2     classification: Administration & Office Suppor...  \n3     classification: Administration & Office Suppor...  \n4     classification: Administration & Office Suppor...  \n...                                                 ...  \n2703  classification: Administration & Office Suppor...  \n2704                            Competitive hourly rate  \n2705                        Competitive hourly rates $$  \n2706                        Competitive hourly rates $$  \n2707  classification: Administration & Office Suppor...  \n\n[2708 rows x 6 columns]",
      "text/html": "<div>\n<style scoped>\n    .dataframe tbody tr th:only-of-type {\n        vertical-align: middle;\n    }\n\n    .dataframe tbody tr th {\n        vertical-align: top;\n    }\n\n    .dataframe thead th {\n        text-align: right;\n    }\n</style>\n<table border=\"1\" class=\"dataframe\">\n  <thead>\n    <tr style=\"text-align: right;\">\n      <th></th>\n      <th>Name</th>\n      <th>Link</th>\n      <th>Department</th>\n      <th>LocationArea</th>\n      <th>ReleaseTime</th>\n      <th>Classification</th>\n    </tr>\n  </thead>\n  <tbody>\n    <tr>\n      <th>0</th>\n      <td>Administrator</td>\n      <td>https://www.seek.co.nz/job/50582301?type=promo...</td>\n      <td>NaN</td>\n      <td>location: Bay of PlentyBay of Plentyarea: Taur...</td>\n      <td>Featured,at,Private Advertiser</td>\n      <td>classification: Administration &amp; Office Suppor...</td>\n    </tr>\n    <tr>\n      <th>1</th>\n      <td>Receptionist</td>\n      <td>https://www.seek.co.nz/job/50620889?type=promo...</td>\n      <td>Avenues Orthodontics</td>\n      <td>location: Bay of PlentyBay of Plentyarea: Taur...</td>\n      <td>Featured,at</td>\n      <td>classification: Administration &amp; Office Suppor...</td>\n    </tr>\n    <tr>\n      <th>2</th>\n      <td>Prosecutions Support Officer</td>\n      <td>https://www.seek.co.nz/job/50622169?type=stand...</td>\n      <td>New Zealand Police</td>\n      <td>location: AucklandAuckland</td>\n      <td>4d ago,at</td>\n      <td>classification: Administration &amp; Office Suppor...</td>\n    </tr>\n    <tr>\n      <th>3</th>\n      <td>Early Childhood Centre Administrator</td>\n      <td>https://www.seek.co.nz/job/50639620?type=stand...</td>\n      <td>Kew Pacific Island Early Learning Centre</td>\n      <td>location: SouthlandSouthlandarea: Invercargill...</td>\n      <td>1h ago,at</td>\n      <td>classification: Administration &amp; Office Suppor...</td>\n    </tr>\n    <tr>\n      <th>4</th>\n      <td>Business Support Administrator</td>\n      <td>https://www.seek.co.nz/job/50622432?type=stand...</td>\n      <td>NaN</td>\n      <td>location: CanterburyCanterburyarea: Christchur...</td>\n      <td>4d ago,at,Private Advertiser</td>\n      <td>classification: Administration &amp; Office Suppor...</td>\n    </tr>\n    <tr>\n      <th>...</th>\n      <td>...</td>\n      <td>...</td>\n      <td>...</td>\n      <td>...</td>\n      <td>...</td>\n      <td>...</td>\n    </tr>\n    <tr>\n      <th>2703</th>\n      <td>Key Account Manager</td>\n      <td>https://www.seek.co.nz/job/50490062?type=stand...</td>\n      <td>Hays Talent Solutions</td>\n      <td>location: AucklandAucklandarea: Auckland Centr...</td>\n      <td>27d ago,at</td>\n      <td>classification: Administration &amp; Office Suppor...</td>\n    </tr>\n    <tr>\n      <th>2704</th>\n      <td>Executive Assistant</td>\n      <td>https://www.seek.co.nz/job/50488000?type=stand...</td>\n      <td>one eighty recruitment</td>\n      <td>location: WellingtonWellingtonarea: Wellington...</td>\n      <td>27d ago,at</td>\n      <td>Competitive hourly rate</td>\n    </tr>\n    <tr>\n      <th>2705</th>\n      <td>Temporary Office Roles</td>\n      <td>https://www.seek.co.nz/job/50524865?type=stand...</td>\n      <td>Asset Recruitment Ltd</td>\n      <td>location: WaikatoWaikatoarea: HamiltonHamilton...</td>\n      <td>20d ago,at</td>\n      <td>Competitive hourly rates $$</td>\n    </tr>\n    <tr>\n      <th>2706</th>\n      <td>Temporary Office Roles</td>\n      <td>https://www.seek.co.nz/job/50477118?type=stand...</td>\n      <td>Asset Recruitment Ltd</td>\n      <td>location: WaikatoWaikatoarea: HamiltonHamilton...</td>\n      <td>28d ago,at</td>\n      <td>Competitive hourly rates $$</td>\n    </tr>\n    <tr>\n      <th>2707</th>\n      <td>Executive Assistant</td>\n      <td>https://www.seek.co.nz/job/50496571?type=stand...</td>\n      <td>Alpha Recruitment - NZ</td>\n      <td>location: WellingtonWellington</td>\n      <td>26d ago,at</td>\n      <td>classification: Administration &amp; Office Suppor...</td>\n    </tr>\n  </tbody>\n</table>\n<p>2708 rows × 6 columns</p>\n</div>"
     },
     "execution_count": 48,
     "metadata": {},
     "output_type": "execute_result"
    }
   ],
   "source": [
    "jobs.Name = jobs_name\n",
    "\n",
    "jobs"
   ],
   "metadata": {
    "collapsed": false
   }
  },
  {
   "cell_type": "markdown",
   "source": [
    "### 接下来对Link列进行处理\n",
    "观察发现，Link列中包含的有用信息为job_id和type，因此我们使用正则提取"
   ],
   "metadata": {
    "collapsed": false
   }
  },
  {
   "cell_type": "code",
   "execution_count": 49,
   "outputs": [
    {
     "data": {
      "text/plain": "0       https://www.seek.co.nz/job/50582301?type=promo...\n1       https://www.seek.co.nz/job/50620889?type=promo...\n2       https://www.seek.co.nz/job/50622169?type=stand...\n3       https://www.seek.co.nz/job/50639620?type=stand...\n4       https://www.seek.co.nz/job/50622432?type=stand...\n                              ...                        \n2703    https://www.seek.co.nz/job/50490062?type=stand...\n2704    https://www.seek.co.nz/job/50488000?type=stand...\n2705    https://www.seek.co.nz/job/50524865?type=stand...\n2706    https://www.seek.co.nz/job/50477118?type=stand...\n2707    https://www.seek.co.nz/job/50496571?type=stand...\nName: Link, Length: 2708, dtype: object"
     },
     "execution_count": 49,
     "metadata": {},
     "output_type": "execute_result"
    }
   ],
   "source": [
    "jobs_link = jobs.Link\n",
    "jobs_link"
   ],
   "metadata": {
    "collapsed": false
   }
  },
  {
   "cell_type": "code",
   "execution_count": 50,
   "outputs": [
    {
     "data": {
      "text/plain": "0       50582301\n1       50620889\n2       50622169\n3       50639620\n4       50622432\n          ...   \n2703    50490062\n2704    50488000\n2705    50524865\n2706    50477118\n2707    50496571\nName: Link, Length: 2708, dtype: object"
     },
     "execution_count": 50,
     "metadata": {},
     "output_type": "execute_result"
    }
   ],
   "source": [
    "jobs_id = jobs_link.apply(lambda x: re.search(r'\\d+', x).group())\n",
    "jobs_id"
   ],
   "metadata": {
    "collapsed": false
   }
  },
  {
   "cell_type": "code",
   "execution_count": 51,
   "outputs": [
    {
     "data": {
      "text/plain": "0       promoted\n1       promoted\n2       standard\n3       standard\n4       standout\n          ...   \n2703    standout\n2704    standout\n2705    standout\n2706    standout\n2707    standout\nName: Link, Length: 2708, dtype: object"
     },
     "execution_count": 51,
     "metadata": {},
     "output_type": "execute_result"
    }
   ],
   "source": [
    "jobs_type = jobs_link.apply(lambda x: re.search(r'type=(\\w+)', x).group(1))\n",
    "jobs_type"
   ],
   "metadata": {
    "collapsed": false
   }
  },
  {
   "cell_type": "code",
   "execution_count": 52,
   "outputs": [
    {
     "data": {
      "text/plain": "count         2708\nunique           3\ntop       standout\nfreq          1877\nName: Link, dtype: object"
     },
     "execution_count": 52,
     "metadata": {},
     "output_type": "execute_result"
    }
   ],
   "source": [
    "jobs_type.describe()"
   ],
   "metadata": {
    "collapsed": false
   }
  },
  {
   "cell_type": "code",
   "execution_count": 53,
   "outputs": [],
   "source": [
    "jobs.insert(jobs.columns.get_loc('Link'), 'JobId', jobs_id)"
   ],
   "metadata": {
    "collapsed": false
   }
  },
  {
   "cell_type": "code",
   "execution_count": 54,
   "outputs": [
    {
     "data": {
      "text/plain": "                                      Name     JobId  \\\n0                            Administrator  50582301   \n1                             Receptionist  50620889   \n2             Prosecutions Support Officer  50622169   \n3     Early Childhood Centre Administrator  50639620   \n4           Business Support Administrator  50622432   \n...                                    ...       ...   \n2703                   Key Account Manager  50490062   \n2704                   Executive Assistant  50488000   \n2705                Temporary Office Roles  50524865   \n2706                Temporary Office Roles  50477118   \n2707                   Executive Assistant  50496571   \n\n                                                   Link  \\\n0     https://www.seek.co.nz/job/50582301?type=promo...   \n1     https://www.seek.co.nz/job/50620889?type=promo...   \n2     https://www.seek.co.nz/job/50622169?type=stand...   \n3     https://www.seek.co.nz/job/50639620?type=stand...   \n4     https://www.seek.co.nz/job/50622432?type=stand...   \n...                                                 ...   \n2703  https://www.seek.co.nz/job/50490062?type=stand...   \n2704  https://www.seek.co.nz/job/50488000?type=stand...   \n2705  https://www.seek.co.nz/job/50524865?type=stand...   \n2706  https://www.seek.co.nz/job/50477118?type=stand...   \n2707  https://www.seek.co.nz/job/50496571?type=stand...   \n\n                                    Department  \\\n0                                          NaN   \n1                         Avenues Orthodontics   \n2                           New Zealand Police   \n3     Kew Pacific Island Early Learning Centre   \n4                                          NaN   \n...                                        ...   \n2703                     Hays Talent Solutions   \n2704                    one eighty recruitment   \n2705                     Asset Recruitment Ltd   \n2706                     Asset Recruitment Ltd   \n2707                    Alpha Recruitment - NZ   \n\n                                           LocationArea  \\\n0     location: Bay of PlentyBay of Plentyarea: Taur...   \n1     location: Bay of PlentyBay of Plentyarea: Taur...   \n2                            location: AucklandAuckland   \n3     location: SouthlandSouthlandarea: Invercargill...   \n4     location: CanterburyCanterburyarea: Christchur...   \n...                                                 ...   \n2703  location: AucklandAucklandarea: Auckland Centr...   \n2704  location: WellingtonWellingtonarea: Wellington...   \n2705  location: WaikatoWaikatoarea: HamiltonHamilton...   \n2706  location: WaikatoWaikatoarea: HamiltonHamilton...   \n2707                     location: WellingtonWellington   \n\n                         ReleaseTime  \\\n0     Featured,at,Private Advertiser   \n1                        Featured,at   \n2                          4d ago,at   \n3                          1h ago,at   \n4       4d ago,at,Private Advertiser   \n...                              ...   \n2703                      27d ago,at   \n2704                      27d ago,at   \n2705                      20d ago,at   \n2706                      28d ago,at   \n2707                      26d ago,at   \n\n                                         Classification  \n0     classification: Administration & Office Suppor...  \n1     classification: Administration & Office Suppor...  \n2     classification: Administration & Office Suppor...  \n3     classification: Administration & Office Suppor...  \n4     classification: Administration & Office Suppor...  \n...                                                 ...  \n2703  classification: Administration & Office Suppor...  \n2704                            Competitive hourly rate  \n2705                        Competitive hourly rates $$  \n2706                        Competitive hourly rates $$  \n2707  classification: Administration & Office Suppor...  \n\n[2708 rows x 7 columns]",
      "text/html": "<div>\n<style scoped>\n    .dataframe tbody tr th:only-of-type {\n        vertical-align: middle;\n    }\n\n    .dataframe tbody tr th {\n        vertical-align: top;\n    }\n\n    .dataframe thead th {\n        text-align: right;\n    }\n</style>\n<table border=\"1\" class=\"dataframe\">\n  <thead>\n    <tr style=\"text-align: right;\">\n      <th></th>\n      <th>Name</th>\n      <th>JobId</th>\n      <th>Link</th>\n      <th>Department</th>\n      <th>LocationArea</th>\n      <th>ReleaseTime</th>\n      <th>Classification</th>\n    </tr>\n  </thead>\n  <tbody>\n    <tr>\n      <th>0</th>\n      <td>Administrator</td>\n      <td>50582301</td>\n      <td>https://www.seek.co.nz/job/50582301?type=promo...</td>\n      <td>NaN</td>\n      <td>location: Bay of PlentyBay of Plentyarea: Taur...</td>\n      <td>Featured,at,Private Advertiser</td>\n      <td>classification: Administration &amp; Office Suppor...</td>\n    </tr>\n    <tr>\n      <th>1</th>\n      <td>Receptionist</td>\n      <td>50620889</td>\n      <td>https://www.seek.co.nz/job/50620889?type=promo...</td>\n      <td>Avenues Orthodontics</td>\n      <td>location: Bay of PlentyBay of Plentyarea: Taur...</td>\n      <td>Featured,at</td>\n      <td>classification: Administration &amp; Office Suppor...</td>\n    </tr>\n    <tr>\n      <th>2</th>\n      <td>Prosecutions Support Officer</td>\n      <td>50622169</td>\n      <td>https://www.seek.co.nz/job/50622169?type=stand...</td>\n      <td>New Zealand Police</td>\n      <td>location: AucklandAuckland</td>\n      <td>4d ago,at</td>\n      <td>classification: Administration &amp; Office Suppor...</td>\n    </tr>\n    <tr>\n      <th>3</th>\n      <td>Early Childhood Centre Administrator</td>\n      <td>50639620</td>\n      <td>https://www.seek.co.nz/job/50639620?type=stand...</td>\n      <td>Kew Pacific Island Early Learning Centre</td>\n      <td>location: SouthlandSouthlandarea: Invercargill...</td>\n      <td>1h ago,at</td>\n      <td>classification: Administration &amp; Office Suppor...</td>\n    </tr>\n    <tr>\n      <th>4</th>\n      <td>Business Support Administrator</td>\n      <td>50622432</td>\n      <td>https://www.seek.co.nz/job/50622432?type=stand...</td>\n      <td>NaN</td>\n      <td>location: CanterburyCanterburyarea: Christchur...</td>\n      <td>4d ago,at,Private Advertiser</td>\n      <td>classification: Administration &amp; Office Suppor...</td>\n    </tr>\n    <tr>\n      <th>...</th>\n      <td>...</td>\n      <td>...</td>\n      <td>...</td>\n      <td>...</td>\n      <td>...</td>\n      <td>...</td>\n      <td>...</td>\n    </tr>\n    <tr>\n      <th>2703</th>\n      <td>Key Account Manager</td>\n      <td>50490062</td>\n      <td>https://www.seek.co.nz/job/50490062?type=stand...</td>\n      <td>Hays Talent Solutions</td>\n      <td>location: AucklandAucklandarea: Auckland Centr...</td>\n      <td>27d ago,at</td>\n      <td>classification: Administration &amp; Office Suppor...</td>\n    </tr>\n    <tr>\n      <th>2704</th>\n      <td>Executive Assistant</td>\n      <td>50488000</td>\n      <td>https://www.seek.co.nz/job/50488000?type=stand...</td>\n      <td>one eighty recruitment</td>\n      <td>location: WellingtonWellingtonarea: Wellington...</td>\n      <td>27d ago,at</td>\n      <td>Competitive hourly rate</td>\n    </tr>\n    <tr>\n      <th>2705</th>\n      <td>Temporary Office Roles</td>\n      <td>50524865</td>\n      <td>https://www.seek.co.nz/job/50524865?type=stand...</td>\n      <td>Asset Recruitment Ltd</td>\n      <td>location: WaikatoWaikatoarea: HamiltonHamilton...</td>\n      <td>20d ago,at</td>\n      <td>Competitive hourly rates $$</td>\n    </tr>\n    <tr>\n      <th>2706</th>\n      <td>Temporary Office Roles</td>\n      <td>50477118</td>\n      <td>https://www.seek.co.nz/job/50477118?type=stand...</td>\n      <td>Asset Recruitment Ltd</td>\n      <td>location: WaikatoWaikatoarea: HamiltonHamilton...</td>\n      <td>28d ago,at</td>\n      <td>Competitive hourly rates $$</td>\n    </tr>\n    <tr>\n      <th>2707</th>\n      <td>Executive Assistant</td>\n      <td>50496571</td>\n      <td>https://www.seek.co.nz/job/50496571?type=stand...</td>\n      <td>Alpha Recruitment - NZ</td>\n      <td>location: WellingtonWellington</td>\n      <td>26d ago,at</td>\n      <td>classification: Administration &amp; Office Suppor...</td>\n    </tr>\n  </tbody>\n</table>\n<p>2708 rows × 7 columns</p>\n</div>"
     },
     "execution_count": 54,
     "metadata": {},
     "output_type": "execute_result"
    }
   ],
   "source": [
    "jobs"
   ],
   "metadata": {
    "collapsed": false
   }
  },
  {
   "cell_type": "code",
   "execution_count": 55,
   "outputs": [],
   "source": [
    "jobs.insert(jobs.columns.get_loc('Link'), 'JobType', jobs_type)"
   ],
   "metadata": {
    "collapsed": false
   }
  },
  {
   "cell_type": "code",
   "execution_count": 56,
   "outputs": [
    {
     "data": {
      "text/plain": "                                      Name     JobId   JobType  \\\n0                            Administrator  50582301  promoted   \n1                             Receptionist  50620889  promoted   \n2             Prosecutions Support Officer  50622169  standard   \n3     Early Childhood Centre Administrator  50639620  standard   \n4           Business Support Administrator  50622432  standout   \n...                                    ...       ...       ...   \n2703                   Key Account Manager  50490062  standout   \n2704                   Executive Assistant  50488000  standout   \n2705                Temporary Office Roles  50524865  standout   \n2706                Temporary Office Roles  50477118  standout   \n2707                   Executive Assistant  50496571  standout   \n\n                                                   Link  \\\n0     https://www.seek.co.nz/job/50582301?type=promo...   \n1     https://www.seek.co.nz/job/50620889?type=promo...   \n2     https://www.seek.co.nz/job/50622169?type=stand...   \n3     https://www.seek.co.nz/job/50639620?type=stand...   \n4     https://www.seek.co.nz/job/50622432?type=stand...   \n...                                                 ...   \n2703  https://www.seek.co.nz/job/50490062?type=stand...   \n2704  https://www.seek.co.nz/job/50488000?type=stand...   \n2705  https://www.seek.co.nz/job/50524865?type=stand...   \n2706  https://www.seek.co.nz/job/50477118?type=stand...   \n2707  https://www.seek.co.nz/job/50496571?type=stand...   \n\n                                    Department  \\\n0                                          NaN   \n1                         Avenues Orthodontics   \n2                           New Zealand Police   \n3     Kew Pacific Island Early Learning Centre   \n4                                          NaN   \n...                                        ...   \n2703                     Hays Talent Solutions   \n2704                    one eighty recruitment   \n2705                     Asset Recruitment Ltd   \n2706                     Asset Recruitment Ltd   \n2707                    Alpha Recruitment - NZ   \n\n                                           LocationArea  \\\n0     location: Bay of PlentyBay of Plentyarea: Taur...   \n1     location: Bay of PlentyBay of Plentyarea: Taur...   \n2                            location: AucklandAuckland   \n3     location: SouthlandSouthlandarea: Invercargill...   \n4     location: CanterburyCanterburyarea: Christchur...   \n...                                                 ...   \n2703  location: AucklandAucklandarea: Auckland Centr...   \n2704  location: WellingtonWellingtonarea: Wellington...   \n2705  location: WaikatoWaikatoarea: HamiltonHamilton...   \n2706  location: WaikatoWaikatoarea: HamiltonHamilton...   \n2707                     location: WellingtonWellington   \n\n                         ReleaseTime  \\\n0     Featured,at,Private Advertiser   \n1                        Featured,at   \n2                          4d ago,at   \n3                          1h ago,at   \n4       4d ago,at,Private Advertiser   \n...                              ...   \n2703                      27d ago,at   \n2704                      27d ago,at   \n2705                      20d ago,at   \n2706                      28d ago,at   \n2707                      26d ago,at   \n\n                                         Classification  \n0     classification: Administration & Office Suppor...  \n1     classification: Administration & Office Suppor...  \n2     classification: Administration & Office Suppor...  \n3     classification: Administration & Office Suppor...  \n4     classification: Administration & Office Suppor...  \n...                                                 ...  \n2703  classification: Administration & Office Suppor...  \n2704                            Competitive hourly rate  \n2705                        Competitive hourly rates $$  \n2706                        Competitive hourly rates $$  \n2707  classification: Administration & Office Suppor...  \n\n[2708 rows x 8 columns]",
      "text/html": "<div>\n<style scoped>\n    .dataframe tbody tr th:only-of-type {\n        vertical-align: middle;\n    }\n\n    .dataframe tbody tr th {\n        vertical-align: top;\n    }\n\n    .dataframe thead th {\n        text-align: right;\n    }\n</style>\n<table border=\"1\" class=\"dataframe\">\n  <thead>\n    <tr style=\"text-align: right;\">\n      <th></th>\n      <th>Name</th>\n      <th>JobId</th>\n      <th>JobType</th>\n      <th>Link</th>\n      <th>Department</th>\n      <th>LocationArea</th>\n      <th>ReleaseTime</th>\n      <th>Classification</th>\n    </tr>\n  </thead>\n  <tbody>\n    <tr>\n      <th>0</th>\n      <td>Administrator</td>\n      <td>50582301</td>\n      <td>promoted</td>\n      <td>https://www.seek.co.nz/job/50582301?type=promo...</td>\n      <td>NaN</td>\n      <td>location: Bay of PlentyBay of Plentyarea: Taur...</td>\n      <td>Featured,at,Private Advertiser</td>\n      <td>classification: Administration &amp; Office Suppor...</td>\n    </tr>\n    <tr>\n      <th>1</th>\n      <td>Receptionist</td>\n      <td>50620889</td>\n      <td>promoted</td>\n      <td>https://www.seek.co.nz/job/50620889?type=promo...</td>\n      <td>Avenues Orthodontics</td>\n      <td>location: Bay of PlentyBay of Plentyarea: Taur...</td>\n      <td>Featured,at</td>\n      <td>classification: Administration &amp; Office Suppor...</td>\n    </tr>\n    <tr>\n      <th>2</th>\n      <td>Prosecutions Support Officer</td>\n      <td>50622169</td>\n      <td>standard</td>\n      <td>https://www.seek.co.nz/job/50622169?type=stand...</td>\n      <td>New Zealand Police</td>\n      <td>location: AucklandAuckland</td>\n      <td>4d ago,at</td>\n      <td>classification: Administration &amp; Office Suppor...</td>\n    </tr>\n    <tr>\n      <th>3</th>\n      <td>Early Childhood Centre Administrator</td>\n      <td>50639620</td>\n      <td>standard</td>\n      <td>https://www.seek.co.nz/job/50639620?type=stand...</td>\n      <td>Kew Pacific Island Early Learning Centre</td>\n      <td>location: SouthlandSouthlandarea: Invercargill...</td>\n      <td>1h ago,at</td>\n      <td>classification: Administration &amp; Office Suppor...</td>\n    </tr>\n    <tr>\n      <th>4</th>\n      <td>Business Support Administrator</td>\n      <td>50622432</td>\n      <td>standout</td>\n      <td>https://www.seek.co.nz/job/50622432?type=stand...</td>\n      <td>NaN</td>\n      <td>location: CanterburyCanterburyarea: Christchur...</td>\n      <td>4d ago,at,Private Advertiser</td>\n      <td>classification: Administration &amp; Office Suppor...</td>\n    </tr>\n    <tr>\n      <th>...</th>\n      <td>...</td>\n      <td>...</td>\n      <td>...</td>\n      <td>...</td>\n      <td>...</td>\n      <td>...</td>\n      <td>...</td>\n      <td>...</td>\n    </tr>\n    <tr>\n      <th>2703</th>\n      <td>Key Account Manager</td>\n      <td>50490062</td>\n      <td>standout</td>\n      <td>https://www.seek.co.nz/job/50490062?type=stand...</td>\n      <td>Hays Talent Solutions</td>\n      <td>location: AucklandAucklandarea: Auckland Centr...</td>\n      <td>27d ago,at</td>\n      <td>classification: Administration &amp; Office Suppor...</td>\n    </tr>\n    <tr>\n      <th>2704</th>\n      <td>Executive Assistant</td>\n      <td>50488000</td>\n      <td>standout</td>\n      <td>https://www.seek.co.nz/job/50488000?type=stand...</td>\n      <td>one eighty recruitment</td>\n      <td>location: WellingtonWellingtonarea: Wellington...</td>\n      <td>27d ago,at</td>\n      <td>Competitive hourly rate</td>\n    </tr>\n    <tr>\n      <th>2705</th>\n      <td>Temporary Office Roles</td>\n      <td>50524865</td>\n      <td>standout</td>\n      <td>https://www.seek.co.nz/job/50524865?type=stand...</td>\n      <td>Asset Recruitment Ltd</td>\n      <td>location: WaikatoWaikatoarea: HamiltonHamilton...</td>\n      <td>20d ago,at</td>\n      <td>Competitive hourly rates $$</td>\n    </tr>\n    <tr>\n      <th>2706</th>\n      <td>Temporary Office Roles</td>\n      <td>50477118</td>\n      <td>standout</td>\n      <td>https://www.seek.co.nz/job/50477118?type=stand...</td>\n      <td>Asset Recruitment Ltd</td>\n      <td>location: WaikatoWaikatoarea: HamiltonHamilton...</td>\n      <td>28d ago,at</td>\n      <td>Competitive hourly rates $$</td>\n    </tr>\n    <tr>\n      <th>2707</th>\n      <td>Executive Assistant</td>\n      <td>50496571</td>\n      <td>standout</td>\n      <td>https://www.seek.co.nz/job/50496571?type=stand...</td>\n      <td>Alpha Recruitment - NZ</td>\n      <td>location: WellingtonWellington</td>\n      <td>26d ago,at</td>\n      <td>classification: Administration &amp; Office Suppor...</td>\n    </tr>\n  </tbody>\n</table>\n<p>2708 rows × 8 columns</p>\n</div>"
     },
     "execution_count": 56,
     "metadata": {},
     "output_type": "execute_result"
    }
   ],
   "source": [
    "jobs"
   ],
   "metadata": {
    "collapsed": false
   }
  },
  {
   "cell_type": "markdown",
   "source": [
    "### Link列处理完毕，接下来处理Location列\n",
    "因为Department列中空值信息可能会从Location列中获取，因此先处理Location列"
   ],
   "metadata": {
    "collapsed": false
   }
  },
  {
   "cell_type": "code",
   "execution_count": 58,
   "outputs": [],
   "source": [
    "jobs_location_area = jobs.LocationArea"
   ],
   "metadata": {
    "collapsed": false
   }
  },
  {
   "cell_type": "code",
   "execution_count": 59,
   "outputs": [
    {
     "data": {
      "text/plain": "0       location: Bay of PlentyBay of Plentyarea: Taur...\n1       location: Bay of PlentyBay of Plentyarea: Taur...\n2                              location: AucklandAuckland\n3       location: SouthlandSouthlandarea: Invercargill...\n4       location: CanterburyCanterburyarea: Christchur...\n                              ...                        \n2703    location: AucklandAucklandarea: Auckland Centr...\n2704    location: WellingtonWellingtonarea: Wellington...\n2705    location: WaikatoWaikatoarea: HamiltonHamilton...\n2706    location: WaikatoWaikatoarea: HamiltonHamilton...\n2707                       location: WellingtonWellington\nName: LocationArea, Length: 2708, dtype: object"
     },
     "execution_count": 59,
     "metadata": {},
     "output_type": "execute_result"
    }
   ],
   "source": [
    "jobs_location_area"
   ],
   "metadata": {
    "collapsed": false
   }
  },
  {
   "cell_type": "code",
   "execution_count": 60,
   "outputs": [
    {
     "data": {
      "text/plain": "0       location: Bay of PlentyBay of Plentyarea: Taur...\n1       location: Bay of PlentyBay of Plentyarea: Taur...\n3       location: SouthlandSouthlandarea: Invercargill...\n4       location: CanterburyCanterburyarea: Christchur...\n5       location: NorthlandNorthlandarea: WhangareiWha...\n                              ...                        \n2702    location: WaikatoWaikatoarea: Rest of WaikatoR...\n2703    location: AucklandAucklandarea: Auckland Centr...\n2704    location: WellingtonWellingtonarea: Wellington...\n2705    location: WaikatoWaikatoarea: HamiltonHamilton...\n2706    location: WaikatoWaikatoarea: HamiltonHamilton...\nName: LocationArea, Length: 2167, dtype: object"
     },
     "execution_count": 60,
     "metadata": {},
     "output_type": "execute_result"
    }
   ],
   "source": [
    "jobs_location_area[jobs_location_area.str.contains('area')]"
   ],
   "metadata": {
    "collapsed": false
   }
  },
  {
   "cell_type": "code",
   "execution_count": 61,
   "outputs": [
    {
     "data": {
      "text/plain": "0        True\n1        True\n2       False\n3        True\n4        True\n        ...  \n2703     True\n2704     True\n2705     True\n2706     True\n2707    False\nName: LocationArea, Length: 2708, dtype: bool"
     },
     "execution_count": 61,
     "metadata": {},
     "output_type": "execute_result"
    }
   ],
   "source": [
    "has_area = jobs_location_area.str.contains('area')\n",
    "\n",
    "has_area"
   ],
   "metadata": {
    "collapsed": false
   }
  },
  {
   "cell_type": "code",
   "execution_count": 71,
   "outputs": [],
   "source": [
    "jobs_location_area = pd.DataFrame(jobs_location_area)"
   ],
   "metadata": {
    "collapsed": false
   }
  },
  {
   "cell_type": "code",
   "execution_count": 93,
   "outputs": [],
   "source": [
    "jobs_location_area = jobs_location_area.assign(\n",
    "    Location=(jobs_location_area.LocationArea.str.split('area: ').str[0]),\n",
    "    Area=jobs_location_area.LocationArea.str.split('area: ').str[1])\n",
    "\n",
    "jobs_location_area['Area'] = jobs_location_area['Area'].fillna(value=np.nan)"
   ],
   "metadata": {
    "collapsed": false
   }
  },
  {
   "cell_type": "code",
   "execution_count": 92,
   "outputs": [],
   "source": [
    "# jobs_location_area = jobs_location_area.drop(columns='Location')\n",
    "# jobs_location_area = jobs_location_area.drop(columns='Area')"
   ],
   "metadata": {
    "collapsed": false
   }
  },
  {
   "cell_type": "code",
   "execution_count": 94,
   "outputs": [
    {
     "data": {
      "text/plain": "0       location: Bay of PlentyBay of Plenty\n1       location: Bay of PlentyBay of Plenty\n2                 location: AucklandAuckland\n3               location: SouthlandSouthland\n4             location: CanterburyCanterbury\n                        ...                 \n2703              location: AucklandAuckland\n2704          location: WellingtonWellington\n2705                location: WaikatoWaikato\n2706                location: WaikatoWaikato\n2707          location: WellingtonWellington\nName: Location, Length: 2708, dtype: object"
     },
     "execution_count": 94,
     "metadata": {},
     "output_type": "execute_result"
    }
   ],
   "source": [
    "jobs_location_area.Location"
   ],
   "metadata": {
    "collapsed": false
   }
  },
  {
   "cell_type": "code",
   "execution_count": 97,
   "outputs": [],
   "source": [
    "jobs_location_area.Location = jobs_location_area.Location.str.replace('location: ', '', )"
   ],
   "metadata": {
    "collapsed": false
   }
  },
  {
   "cell_type": "markdown",
   "source": [
    "现在来处理字符串重复的问题，观察发现，字符串的重复没有什么特殊性，都是子串*2，因此我们对字符串从中间进行split，新生成两列df，判断是否一致，一致则保留一列的数据到原df上，不一致则不进行修改"
   ],
   "metadata": {
    "collapsed": false
   }
  },
  {
   "cell_type": "code",
   "execution_count": 154,
   "outputs": [],
   "source": [
    "jobs_location_area['Location_1'] = jobs_location_area['Location'].apply(lambda x: x[:len(x) // 2])\n",
    "jobs_location_area['Location_2'] = jobs_location_area['Location'].apply(lambda x: x[len(x) // 2:])"
   ],
   "metadata": {
    "collapsed": false
   }
  },
  {
   "cell_type": "code",
   "execution_count": 160,
   "outputs": [],
   "source": [
    "jobs_location_area['Location_2'] = jobs_location_area['Location_2'].apply(lambda x: x[:-1] if x[-1] == ' ' else x)"
   ],
   "metadata": {
    "collapsed": false
   }
  },
  {
   "cell_type": "code",
   "execution_count": 161,
   "outputs": [
    {
     "data": {
      "text/plain": "                                           LocationArea  \\\n0     location: Bay of PlentyBay of Plentyarea: Taur...   \n1     location: Bay of PlentyBay of Plentyarea: Taur...   \n2                            location: AucklandAuckland   \n3     location: SouthlandSouthlandarea: Invercargill...   \n4     location: CanterburyCanterburyarea: Christchur...   \n...                                                 ...   \n2703  location: AucklandAucklandarea: Auckland Centr...   \n2704  location: WellingtonWellingtonarea: Wellington...   \n2705  location: WaikatoWaikatoarea: HamiltonHamilton...   \n2706  location: WaikatoWaikatoarea: HamiltonHamilton...   \n2707                     location: WellingtonWellington   \n\n                        Location  \\\n0     Bay of PlentyBay of Plenty   \n1     Bay of PlentyBay of Plenty   \n2               AucklandAuckland   \n3             SouthlandSouthland   \n4           CanterburyCanterbury   \n...                          ...   \n2703            AucklandAuckland   \n2704        WellingtonWellington   \n2705              WaikatoWaikato   \n2706              WaikatoWaikato   \n2707        WellingtonWellington   \n\n                                                   Area     Location_1  \\\n0                                      TaurangaTauranga  Bay of Plenty   \n1                                      TaurangaTauranga  Bay of Plenty   \n2                                                   NaN       Auckland   \n3                              InvercargillInvercargill      Southland   \n4                              ChristchurchChristchurch     Canterbury   \n...                                                 ...            ...   \n2703                   Auckland CentralAuckland Central       Auckland   \n2704  Wellington CentralWellington Central,Competiti...     Wellington   \n2705       HamiltonHamilton,Competitive hourly rates $$        Waikato   \n2706       HamiltonHamilton,Competitive hourly rates $$        Waikato   \n2707                                                NaN     Wellington   \n\n         Location_2  \n0     Bay of Plenty  \n1     Bay of Plenty  \n2          Auckland  \n3         Southland  \n4        Canterbury  \n...             ...  \n2703       Auckland  \n2704     Wellington  \n2705        Waikato  \n2706        Waikato  \n2707     Wellington  \n\n[2708 rows x 5 columns]",
      "text/html": "<div>\n<style scoped>\n    .dataframe tbody tr th:only-of-type {\n        vertical-align: middle;\n    }\n\n    .dataframe tbody tr th {\n        vertical-align: top;\n    }\n\n    .dataframe thead th {\n        text-align: right;\n    }\n</style>\n<table border=\"1\" class=\"dataframe\">\n  <thead>\n    <tr style=\"text-align: right;\">\n      <th></th>\n      <th>LocationArea</th>\n      <th>Location</th>\n      <th>Area</th>\n      <th>Location_1</th>\n      <th>Location_2</th>\n    </tr>\n  </thead>\n  <tbody>\n    <tr>\n      <th>0</th>\n      <td>location: Bay of PlentyBay of Plentyarea: Taur...</td>\n      <td>Bay of PlentyBay of Plenty</td>\n      <td>TaurangaTauranga</td>\n      <td>Bay of Plenty</td>\n      <td>Bay of Plenty</td>\n    </tr>\n    <tr>\n      <th>1</th>\n      <td>location: Bay of PlentyBay of Plentyarea: Taur...</td>\n      <td>Bay of PlentyBay of Plenty</td>\n      <td>TaurangaTauranga</td>\n      <td>Bay of Plenty</td>\n      <td>Bay of Plenty</td>\n    </tr>\n    <tr>\n      <th>2</th>\n      <td>location: AucklandAuckland</td>\n      <td>AucklandAuckland</td>\n      <td>NaN</td>\n      <td>Auckland</td>\n      <td>Auckland</td>\n    </tr>\n    <tr>\n      <th>3</th>\n      <td>location: SouthlandSouthlandarea: Invercargill...</td>\n      <td>SouthlandSouthland</td>\n      <td>InvercargillInvercargill</td>\n      <td>Southland</td>\n      <td>Southland</td>\n    </tr>\n    <tr>\n      <th>4</th>\n      <td>location: CanterburyCanterburyarea: Christchur...</td>\n      <td>CanterburyCanterbury</td>\n      <td>ChristchurchChristchurch</td>\n      <td>Canterbury</td>\n      <td>Canterbury</td>\n    </tr>\n    <tr>\n      <th>...</th>\n      <td>...</td>\n      <td>...</td>\n      <td>...</td>\n      <td>...</td>\n      <td>...</td>\n    </tr>\n    <tr>\n      <th>2703</th>\n      <td>location: AucklandAucklandarea: Auckland Centr...</td>\n      <td>AucklandAuckland</td>\n      <td>Auckland CentralAuckland Central</td>\n      <td>Auckland</td>\n      <td>Auckland</td>\n    </tr>\n    <tr>\n      <th>2704</th>\n      <td>location: WellingtonWellingtonarea: Wellington...</td>\n      <td>WellingtonWellington</td>\n      <td>Wellington CentralWellington Central,Competiti...</td>\n      <td>Wellington</td>\n      <td>Wellington</td>\n    </tr>\n    <tr>\n      <th>2705</th>\n      <td>location: WaikatoWaikatoarea: HamiltonHamilton...</td>\n      <td>WaikatoWaikato</td>\n      <td>HamiltonHamilton,Competitive hourly rates $$</td>\n      <td>Waikato</td>\n      <td>Waikato</td>\n    </tr>\n    <tr>\n      <th>2706</th>\n      <td>location: WaikatoWaikatoarea: HamiltonHamilton...</td>\n      <td>WaikatoWaikato</td>\n      <td>HamiltonHamilton,Competitive hourly rates $$</td>\n      <td>Waikato</td>\n      <td>Waikato</td>\n    </tr>\n    <tr>\n      <th>2707</th>\n      <td>location: WellingtonWellington</td>\n      <td>WellingtonWellington</td>\n      <td>NaN</td>\n      <td>Wellington</td>\n      <td>Wellington</td>\n    </tr>\n  </tbody>\n</table>\n<p>2708 rows × 5 columns</p>\n</div>"
     },
     "execution_count": 161,
     "metadata": {},
     "output_type": "execute_result"
    }
   ],
   "source": [
    "jobs_location_area"
   ],
   "metadata": {
    "collapsed": false
   }
  },
  {
   "cell_type": "code",
   "execution_count": 162,
   "outputs": [],
   "source": [
    "jobs_location_area['Location'] = np.where(\n",
    "    jobs_location_area['Location_1'] == jobs_location_area['Location_2'],\n",
    "    jobs_location_area['Location_1'],\n",
    "    jobs_location_area['Location']\n",
    ")"
   ],
   "metadata": {
    "collapsed": false
   }
  },
  {
   "cell_type": "code",
   "execution_count": 163,
   "outputs": [
    {
     "data": {
      "text/plain": "                                           LocationArea       Location  \\\n0     location: Bay of PlentyBay of Plentyarea: Taur...  Bay of Plenty   \n1     location: Bay of PlentyBay of Plentyarea: Taur...  Bay of Plenty   \n2                            location: AucklandAuckland       Auckland   \n3     location: SouthlandSouthlandarea: Invercargill...      Southland   \n4     location: CanterburyCanterburyarea: Christchur...     Canterbury   \n...                                                 ...            ...   \n2703  location: AucklandAucklandarea: Auckland Centr...       Auckland   \n2704  location: WellingtonWellingtonarea: Wellington...     Wellington   \n2705  location: WaikatoWaikatoarea: HamiltonHamilton...        Waikato   \n2706  location: WaikatoWaikatoarea: HamiltonHamilton...        Waikato   \n2707                     location: WellingtonWellington     Wellington   \n\n                                                   Area     Location_1  \\\n0                                      TaurangaTauranga  Bay of Plenty   \n1                                      TaurangaTauranga  Bay of Plenty   \n2                                                   NaN       Auckland   \n3                              InvercargillInvercargill      Southland   \n4                              ChristchurchChristchurch     Canterbury   \n...                                                 ...            ...   \n2703                   Auckland CentralAuckland Central       Auckland   \n2704  Wellington CentralWellington Central,Competiti...     Wellington   \n2705       HamiltonHamilton,Competitive hourly rates $$        Waikato   \n2706       HamiltonHamilton,Competitive hourly rates $$        Waikato   \n2707                                                NaN     Wellington   \n\n         Location_2  \n0     Bay of Plenty  \n1     Bay of Plenty  \n2          Auckland  \n3         Southland  \n4        Canterbury  \n...             ...  \n2703       Auckland  \n2704     Wellington  \n2705        Waikato  \n2706        Waikato  \n2707     Wellington  \n\n[2708 rows x 5 columns]",
      "text/html": "<div>\n<style scoped>\n    .dataframe tbody tr th:only-of-type {\n        vertical-align: middle;\n    }\n\n    .dataframe tbody tr th {\n        vertical-align: top;\n    }\n\n    .dataframe thead th {\n        text-align: right;\n    }\n</style>\n<table border=\"1\" class=\"dataframe\">\n  <thead>\n    <tr style=\"text-align: right;\">\n      <th></th>\n      <th>LocationArea</th>\n      <th>Location</th>\n      <th>Area</th>\n      <th>Location_1</th>\n      <th>Location_2</th>\n    </tr>\n  </thead>\n  <tbody>\n    <tr>\n      <th>0</th>\n      <td>location: Bay of PlentyBay of Plentyarea: Taur...</td>\n      <td>Bay of Plenty</td>\n      <td>TaurangaTauranga</td>\n      <td>Bay of Plenty</td>\n      <td>Bay of Plenty</td>\n    </tr>\n    <tr>\n      <th>1</th>\n      <td>location: Bay of PlentyBay of Plentyarea: Taur...</td>\n      <td>Bay of Plenty</td>\n      <td>TaurangaTauranga</td>\n      <td>Bay of Plenty</td>\n      <td>Bay of Plenty</td>\n    </tr>\n    <tr>\n      <th>2</th>\n      <td>location: AucklandAuckland</td>\n      <td>Auckland</td>\n      <td>NaN</td>\n      <td>Auckland</td>\n      <td>Auckland</td>\n    </tr>\n    <tr>\n      <th>3</th>\n      <td>location: SouthlandSouthlandarea: Invercargill...</td>\n      <td>Southland</td>\n      <td>InvercargillInvercargill</td>\n      <td>Southland</td>\n      <td>Southland</td>\n    </tr>\n    <tr>\n      <th>4</th>\n      <td>location: CanterburyCanterburyarea: Christchur...</td>\n      <td>Canterbury</td>\n      <td>ChristchurchChristchurch</td>\n      <td>Canterbury</td>\n      <td>Canterbury</td>\n    </tr>\n    <tr>\n      <th>...</th>\n      <td>...</td>\n      <td>...</td>\n      <td>...</td>\n      <td>...</td>\n      <td>...</td>\n    </tr>\n    <tr>\n      <th>2703</th>\n      <td>location: AucklandAucklandarea: Auckland Centr...</td>\n      <td>Auckland</td>\n      <td>Auckland CentralAuckland Central</td>\n      <td>Auckland</td>\n      <td>Auckland</td>\n    </tr>\n    <tr>\n      <th>2704</th>\n      <td>location: WellingtonWellingtonarea: Wellington...</td>\n      <td>Wellington</td>\n      <td>Wellington CentralWellington Central,Competiti...</td>\n      <td>Wellington</td>\n      <td>Wellington</td>\n    </tr>\n    <tr>\n      <th>2705</th>\n      <td>location: WaikatoWaikatoarea: HamiltonHamilton...</td>\n      <td>Waikato</td>\n      <td>HamiltonHamilton,Competitive hourly rates $$</td>\n      <td>Waikato</td>\n      <td>Waikato</td>\n    </tr>\n    <tr>\n      <th>2706</th>\n      <td>location: WaikatoWaikatoarea: HamiltonHamilton...</td>\n      <td>Waikato</td>\n      <td>HamiltonHamilton,Competitive hourly rates $$</td>\n      <td>Waikato</td>\n      <td>Waikato</td>\n    </tr>\n    <tr>\n      <th>2707</th>\n      <td>location: WellingtonWellington</td>\n      <td>Wellington</td>\n      <td>NaN</td>\n      <td>Wellington</td>\n      <td>Wellington</td>\n    </tr>\n  </tbody>\n</table>\n<p>2708 rows × 5 columns</p>\n</div>"
     },
     "execution_count": 163,
     "metadata": {},
     "output_type": "execute_result"
    }
   ],
   "source": [
    "jobs_location_area"
   ],
   "metadata": {
    "collapsed": false
   }
  },
  {
   "cell_type": "code",
   "execution_count": 168,
   "outputs": [],
   "source": [
    "jobs_location_area['Area_1'] = jobs_location_area['Area'].apply(lambda x: x[:len(x) // 2] if pd.notnull(x) else x)\n",
    "jobs_location_area['Area_2'] = jobs_location_area['Area'].apply(lambda x: x[len(x) // 2:] if pd.notnull(x) else x)"
   ],
   "metadata": {
    "collapsed": false
   }
  },
  {
   "cell_type": "code",
   "execution_count": 169,
   "outputs": [
    {
     "data": {
      "text/plain": "                                           LocationArea       Location  \\\n0     location: Bay of PlentyBay of Plentyarea: Taur...  Bay of Plenty   \n1     location: Bay of PlentyBay of Plentyarea: Taur...  Bay of Plenty   \n2                            location: AucklandAuckland       Auckland   \n3     location: SouthlandSouthlandarea: Invercargill...      Southland   \n4     location: CanterburyCanterburyarea: Christchur...     Canterbury   \n...                                                 ...            ...   \n2703  location: AucklandAucklandarea: Auckland Centr...       Auckland   \n2704  location: WellingtonWellingtonarea: Wellington...     Wellington   \n2705  location: WaikatoWaikatoarea: HamiltonHamilton...        Waikato   \n2706  location: WaikatoWaikatoarea: HamiltonHamilton...        Waikato   \n2707                     location: WellingtonWellington     Wellington   \n\n                                                   Area     Location_1  \\\n0                                      TaurangaTauranga  Bay of Plenty   \n1                                      TaurangaTauranga  Bay of Plenty   \n2                                                   NaN       Auckland   \n3                              InvercargillInvercargill      Southland   \n4                              ChristchurchChristchurch     Canterbury   \n...                                                 ...            ...   \n2703                   Auckland CentralAuckland Central       Auckland   \n2704  Wellington CentralWellington Central,Competiti...     Wellington   \n2705       HamiltonHamilton,Competitive hourly rates $$        Waikato   \n2706       HamiltonHamilton,Competitive hourly rates $$        Waikato   \n2707                                                NaN     Wellington   \n\n         Location_2                          Area_1  \\\n0     Bay of Plenty                        Tauranga   \n1     Bay of Plenty                        Tauranga   \n2          Auckland                             NaN   \n3         Southland                    Invercargill   \n4        Canterbury                    Christchurch   \n...             ...                             ...   \n2703       Auckland                Auckland Central   \n2704     Wellington  Wellington CentralWellington C   \n2705        Waikato          HamiltonHamilton,Compe   \n2706        Waikato          HamiltonHamilton,Compe   \n2707     Wellington                             NaN   \n\n                              Area_2  \n0                           Tauranga  \n1                           Tauranga  \n2                                NaN  \n3                       Invercargill  \n4                       Christchurch  \n...                              ...  \n2703                Auckland Central  \n2704  entral,Competitive hourly rate  \n2705          titive hourly rates $$  \n2706          titive hourly rates $$  \n2707                             NaN  \n\n[2708 rows x 7 columns]",
      "text/html": "<div>\n<style scoped>\n    .dataframe tbody tr th:only-of-type {\n        vertical-align: middle;\n    }\n\n    .dataframe tbody tr th {\n        vertical-align: top;\n    }\n\n    .dataframe thead th {\n        text-align: right;\n    }\n</style>\n<table border=\"1\" class=\"dataframe\">\n  <thead>\n    <tr style=\"text-align: right;\">\n      <th></th>\n      <th>LocationArea</th>\n      <th>Location</th>\n      <th>Area</th>\n      <th>Location_1</th>\n      <th>Location_2</th>\n      <th>Area_1</th>\n      <th>Area_2</th>\n    </tr>\n  </thead>\n  <tbody>\n    <tr>\n      <th>0</th>\n      <td>location: Bay of PlentyBay of Plentyarea: Taur...</td>\n      <td>Bay of Plenty</td>\n      <td>TaurangaTauranga</td>\n      <td>Bay of Plenty</td>\n      <td>Bay of Plenty</td>\n      <td>Tauranga</td>\n      <td>Tauranga</td>\n    </tr>\n    <tr>\n      <th>1</th>\n      <td>location: Bay of PlentyBay of Plentyarea: Taur...</td>\n      <td>Bay of Plenty</td>\n      <td>TaurangaTauranga</td>\n      <td>Bay of Plenty</td>\n      <td>Bay of Plenty</td>\n      <td>Tauranga</td>\n      <td>Tauranga</td>\n    </tr>\n    <tr>\n      <th>2</th>\n      <td>location: AucklandAuckland</td>\n      <td>Auckland</td>\n      <td>NaN</td>\n      <td>Auckland</td>\n      <td>Auckland</td>\n      <td>NaN</td>\n      <td>NaN</td>\n    </tr>\n    <tr>\n      <th>3</th>\n      <td>location: SouthlandSouthlandarea: Invercargill...</td>\n      <td>Southland</td>\n      <td>InvercargillInvercargill</td>\n      <td>Southland</td>\n      <td>Southland</td>\n      <td>Invercargill</td>\n      <td>Invercargill</td>\n    </tr>\n    <tr>\n      <th>4</th>\n      <td>location: CanterburyCanterburyarea: Christchur...</td>\n      <td>Canterbury</td>\n      <td>ChristchurchChristchurch</td>\n      <td>Canterbury</td>\n      <td>Canterbury</td>\n      <td>Christchurch</td>\n      <td>Christchurch</td>\n    </tr>\n    <tr>\n      <th>...</th>\n      <td>...</td>\n      <td>...</td>\n      <td>...</td>\n      <td>...</td>\n      <td>...</td>\n      <td>...</td>\n      <td>...</td>\n    </tr>\n    <tr>\n      <th>2703</th>\n      <td>location: AucklandAucklandarea: Auckland Centr...</td>\n      <td>Auckland</td>\n      <td>Auckland CentralAuckland Central</td>\n      <td>Auckland</td>\n      <td>Auckland</td>\n      <td>Auckland Central</td>\n      <td>Auckland Central</td>\n    </tr>\n    <tr>\n      <th>2704</th>\n      <td>location: WellingtonWellingtonarea: Wellington...</td>\n      <td>Wellington</td>\n      <td>Wellington CentralWellington Central,Competiti...</td>\n      <td>Wellington</td>\n      <td>Wellington</td>\n      <td>Wellington CentralWellington C</td>\n      <td>entral,Competitive hourly rate</td>\n    </tr>\n    <tr>\n      <th>2705</th>\n      <td>location: WaikatoWaikatoarea: HamiltonHamilton...</td>\n      <td>Waikato</td>\n      <td>HamiltonHamilton,Competitive hourly rates $$</td>\n      <td>Waikato</td>\n      <td>Waikato</td>\n      <td>HamiltonHamilton,Compe</td>\n      <td>titive hourly rates $$</td>\n    </tr>\n    <tr>\n      <th>2706</th>\n      <td>location: WaikatoWaikatoarea: HamiltonHamilton...</td>\n      <td>Waikato</td>\n      <td>HamiltonHamilton,Competitive hourly rates $$</td>\n      <td>Waikato</td>\n      <td>Waikato</td>\n      <td>HamiltonHamilton,Compe</td>\n      <td>titive hourly rates $$</td>\n    </tr>\n    <tr>\n      <th>2707</th>\n      <td>location: WellingtonWellington</td>\n      <td>Wellington</td>\n      <td>NaN</td>\n      <td>Wellington</td>\n      <td>Wellington</td>\n      <td>NaN</td>\n      <td>NaN</td>\n    </tr>\n  </tbody>\n</table>\n<p>2708 rows × 7 columns</p>\n</div>"
     },
     "execution_count": 169,
     "metadata": {},
     "output_type": "execute_result"
    }
   ],
   "source": [
    "jobs_location_area"
   ],
   "metadata": {
    "collapsed": false
   }
  },
  {
   "cell_type": "code",
   "execution_count": 170,
   "outputs": [],
   "source": [
    "jobs_location_area['Area'] = np.where(\n",
    "    jobs_location_area['Area_1'] == jobs_location_area['Area_2'],\n",
    "    jobs_location_area['Area_1'],\n",
    "    jobs_location_area['Area']\n",
    ")"
   ],
   "metadata": {
    "collapsed": false
   }
  },
  {
   "cell_type": "code",
   "execution_count": 171,
   "outputs": [
    {
     "data": {
      "text/plain": "                                           LocationArea       Location  \\\n0     location: Bay of PlentyBay of Plentyarea: Taur...  Bay of Plenty   \n1     location: Bay of PlentyBay of Plentyarea: Taur...  Bay of Plenty   \n2                            location: AucklandAuckland       Auckland   \n3     location: SouthlandSouthlandarea: Invercargill...      Southland   \n4     location: CanterburyCanterburyarea: Christchur...     Canterbury   \n...                                                 ...            ...   \n2703  location: AucklandAucklandarea: Auckland Centr...       Auckland   \n2704  location: WellingtonWellingtonarea: Wellington...     Wellington   \n2705  location: WaikatoWaikatoarea: HamiltonHamilton...        Waikato   \n2706  location: WaikatoWaikatoarea: HamiltonHamilton...        Waikato   \n2707                     location: WellingtonWellington     Wellington   \n\n                                                   Area     Location_1  \\\n0                                              Tauranga  Bay of Plenty   \n1                                              Tauranga  Bay of Plenty   \n2                                                   NaN       Auckland   \n3                                          Invercargill      Southland   \n4                                          Christchurch     Canterbury   \n...                                                 ...            ...   \n2703                                   Auckland Central       Auckland   \n2704  Wellington CentralWellington Central,Competiti...     Wellington   \n2705       HamiltonHamilton,Competitive hourly rates $$        Waikato   \n2706       HamiltonHamilton,Competitive hourly rates $$        Waikato   \n2707                                                NaN     Wellington   \n\n         Location_2                          Area_1  \\\n0     Bay of Plenty                        Tauranga   \n1     Bay of Plenty                        Tauranga   \n2          Auckland                             NaN   \n3         Southland                    Invercargill   \n4        Canterbury                    Christchurch   \n...             ...                             ...   \n2703       Auckland                Auckland Central   \n2704     Wellington  Wellington CentralWellington C   \n2705        Waikato          HamiltonHamilton,Compe   \n2706        Waikato          HamiltonHamilton,Compe   \n2707     Wellington                             NaN   \n\n                              Area_2  \n0                           Tauranga  \n1                           Tauranga  \n2                                NaN  \n3                       Invercargill  \n4                       Christchurch  \n...                              ...  \n2703                Auckland Central  \n2704  entral,Competitive hourly rate  \n2705          titive hourly rates $$  \n2706          titive hourly rates $$  \n2707                             NaN  \n\n[2708 rows x 7 columns]",
      "text/html": "<div>\n<style scoped>\n    .dataframe tbody tr th:only-of-type {\n        vertical-align: middle;\n    }\n\n    .dataframe tbody tr th {\n        vertical-align: top;\n    }\n\n    .dataframe thead th {\n        text-align: right;\n    }\n</style>\n<table border=\"1\" class=\"dataframe\">\n  <thead>\n    <tr style=\"text-align: right;\">\n      <th></th>\n      <th>LocationArea</th>\n      <th>Location</th>\n      <th>Area</th>\n      <th>Location_1</th>\n      <th>Location_2</th>\n      <th>Area_1</th>\n      <th>Area_2</th>\n    </tr>\n  </thead>\n  <tbody>\n    <tr>\n      <th>0</th>\n      <td>location: Bay of PlentyBay of Plentyarea: Taur...</td>\n      <td>Bay of Plenty</td>\n      <td>Tauranga</td>\n      <td>Bay of Plenty</td>\n      <td>Bay of Plenty</td>\n      <td>Tauranga</td>\n      <td>Tauranga</td>\n    </tr>\n    <tr>\n      <th>1</th>\n      <td>location: Bay of PlentyBay of Plentyarea: Taur...</td>\n      <td>Bay of Plenty</td>\n      <td>Tauranga</td>\n      <td>Bay of Plenty</td>\n      <td>Bay of Plenty</td>\n      <td>Tauranga</td>\n      <td>Tauranga</td>\n    </tr>\n    <tr>\n      <th>2</th>\n      <td>location: AucklandAuckland</td>\n      <td>Auckland</td>\n      <td>NaN</td>\n      <td>Auckland</td>\n      <td>Auckland</td>\n      <td>NaN</td>\n      <td>NaN</td>\n    </tr>\n    <tr>\n      <th>3</th>\n      <td>location: SouthlandSouthlandarea: Invercargill...</td>\n      <td>Southland</td>\n      <td>Invercargill</td>\n      <td>Southland</td>\n      <td>Southland</td>\n      <td>Invercargill</td>\n      <td>Invercargill</td>\n    </tr>\n    <tr>\n      <th>4</th>\n      <td>location: CanterburyCanterburyarea: Christchur...</td>\n      <td>Canterbury</td>\n      <td>Christchurch</td>\n      <td>Canterbury</td>\n      <td>Canterbury</td>\n      <td>Christchurch</td>\n      <td>Christchurch</td>\n    </tr>\n    <tr>\n      <th>...</th>\n      <td>...</td>\n      <td>...</td>\n      <td>...</td>\n      <td>...</td>\n      <td>...</td>\n      <td>...</td>\n      <td>...</td>\n    </tr>\n    <tr>\n      <th>2703</th>\n      <td>location: AucklandAucklandarea: Auckland Centr...</td>\n      <td>Auckland</td>\n      <td>Auckland Central</td>\n      <td>Auckland</td>\n      <td>Auckland</td>\n      <td>Auckland Central</td>\n      <td>Auckland Central</td>\n    </tr>\n    <tr>\n      <th>2704</th>\n      <td>location: WellingtonWellingtonarea: Wellington...</td>\n      <td>Wellington</td>\n      <td>Wellington CentralWellington Central,Competiti...</td>\n      <td>Wellington</td>\n      <td>Wellington</td>\n      <td>Wellington CentralWellington C</td>\n      <td>entral,Competitive hourly rate</td>\n    </tr>\n    <tr>\n      <th>2705</th>\n      <td>location: WaikatoWaikatoarea: HamiltonHamilton...</td>\n      <td>Waikato</td>\n      <td>HamiltonHamilton,Competitive hourly rates $$</td>\n      <td>Waikato</td>\n      <td>Waikato</td>\n      <td>HamiltonHamilton,Compe</td>\n      <td>titive hourly rates $$</td>\n    </tr>\n    <tr>\n      <th>2706</th>\n      <td>location: WaikatoWaikatoarea: HamiltonHamilton...</td>\n      <td>Waikato</td>\n      <td>HamiltonHamilton,Competitive hourly rates $$</td>\n      <td>Waikato</td>\n      <td>Waikato</td>\n      <td>HamiltonHamilton,Compe</td>\n      <td>titive hourly rates $$</td>\n    </tr>\n    <tr>\n      <th>2707</th>\n      <td>location: WellingtonWellington</td>\n      <td>Wellington</td>\n      <td>NaN</td>\n      <td>Wellington</td>\n      <td>Wellington</td>\n      <td>NaN</td>\n      <td>NaN</td>\n    </tr>\n  </tbody>\n</table>\n<p>2708 rows × 7 columns</p>\n</div>"
     },
     "execution_count": 171,
     "metadata": {},
     "output_type": "execute_result"
    }
   ],
   "source": [
    "jobs_location_area"
   ],
   "metadata": {
    "collapsed": false
   }
  },
  {
   "cell_type": "code",
   "execution_count": 180,
   "outputs": [
    {
     "data": {
      "text/plain": "                                      Name       Location  \\\n0                            Administrator  Bay of Plenty   \n1                             Receptionist  Bay of Plenty   \n2             Prosecutions Support Officer       Auckland   \n3     Early Childhood Centre Administrator      Southland   \n4           Business Support Administrator     Canterbury   \n...                                    ...            ...   \n2703                   Key Account Manager       Auckland   \n2704                   Executive Assistant     Wellington   \n2705                Temporary Office Roles        Waikato   \n2706                Temporary Office Roles        Waikato   \n2707                   Executive Assistant     Wellington   \n\n                                                   Area     JobId   JobType  \\\n0                                              Tauranga  50582301  promoted   \n1                                              Tauranga  50620889  promoted   \n2                                                   NaN  50622169  standard   \n3                                          Invercargill  50639620  standard   \n4                                          Christchurch  50622432  standout   \n...                                                 ...       ...       ...   \n2703                                   Auckland Central  50490062  standout   \n2704  Wellington CentralWellington Central,Competiti...  50488000  standout   \n2705       HamiltonHamilton,Competitive hourly rates $$  50524865  standout   \n2706       HamiltonHamilton,Competitive hourly rates $$  50477118  standout   \n2707                                                NaN  50496571  standout   \n\n                                                   Link  \\\n0     https://www.seek.co.nz/job/50582301?type=promo...   \n1     https://www.seek.co.nz/job/50620889?type=promo...   \n2     https://www.seek.co.nz/job/50622169?type=stand...   \n3     https://www.seek.co.nz/job/50639620?type=stand...   \n4     https://www.seek.co.nz/job/50622432?type=stand...   \n...                                                 ...   \n2703  https://www.seek.co.nz/job/50490062?type=stand...   \n2704  https://www.seek.co.nz/job/50488000?type=stand...   \n2705  https://www.seek.co.nz/job/50524865?type=stand...   \n2706  https://www.seek.co.nz/job/50477118?type=stand...   \n2707  https://www.seek.co.nz/job/50496571?type=stand...   \n\n                                    Department  \\\n0                                          NaN   \n1                         Avenues Orthodontics   \n2                           New Zealand Police   \n3     Kew Pacific Island Early Learning Centre   \n4                                          NaN   \n...                                        ...   \n2703                     Hays Talent Solutions   \n2704                    one eighty recruitment   \n2705                     Asset Recruitment Ltd   \n2706                     Asset Recruitment Ltd   \n2707                    Alpha Recruitment - NZ   \n\n                         ReleaseTime  \\\n0     Featured,at,Private Advertiser   \n1                        Featured,at   \n2                          4d ago,at   \n3                          1h ago,at   \n4       4d ago,at,Private Advertiser   \n...                              ...   \n2703                      27d ago,at   \n2704                      27d ago,at   \n2705                      20d ago,at   \n2706                      28d ago,at   \n2707                      26d ago,at   \n\n                                         Classification  \n0     classification: Administration & Office Suppor...  \n1     classification: Administration & Office Suppor...  \n2     classification: Administration & Office Suppor...  \n3     classification: Administration & Office Suppor...  \n4     classification: Administration & Office Suppor...  \n...                                                 ...  \n2703  classification: Administration & Office Suppor...  \n2704                            Competitive hourly rate  \n2705                        Competitive hourly rates $$  \n2706                        Competitive hourly rates $$  \n2707  classification: Administration & Office Suppor...  \n\n[2708 rows x 9 columns]",
      "text/html": "<div>\n<style scoped>\n    .dataframe tbody tr th:only-of-type {\n        vertical-align: middle;\n    }\n\n    .dataframe tbody tr th {\n        vertical-align: top;\n    }\n\n    .dataframe thead th {\n        text-align: right;\n    }\n</style>\n<table border=\"1\" class=\"dataframe\">\n  <thead>\n    <tr style=\"text-align: right;\">\n      <th></th>\n      <th>Name</th>\n      <th>Location</th>\n      <th>Area</th>\n      <th>JobId</th>\n      <th>JobType</th>\n      <th>Link</th>\n      <th>Department</th>\n      <th>ReleaseTime</th>\n      <th>Classification</th>\n    </tr>\n  </thead>\n  <tbody>\n    <tr>\n      <th>0</th>\n      <td>Administrator</td>\n      <td>Bay of Plenty</td>\n      <td>Tauranga</td>\n      <td>50582301</td>\n      <td>promoted</td>\n      <td>https://www.seek.co.nz/job/50582301?type=promo...</td>\n      <td>NaN</td>\n      <td>Featured,at,Private Advertiser</td>\n      <td>classification: Administration &amp; Office Suppor...</td>\n    </tr>\n    <tr>\n      <th>1</th>\n      <td>Receptionist</td>\n      <td>Bay of Plenty</td>\n      <td>Tauranga</td>\n      <td>50620889</td>\n      <td>promoted</td>\n      <td>https://www.seek.co.nz/job/50620889?type=promo...</td>\n      <td>Avenues Orthodontics</td>\n      <td>Featured,at</td>\n      <td>classification: Administration &amp; Office Suppor...</td>\n    </tr>\n    <tr>\n      <th>2</th>\n      <td>Prosecutions Support Officer</td>\n      <td>Auckland</td>\n      <td>NaN</td>\n      <td>50622169</td>\n      <td>standard</td>\n      <td>https://www.seek.co.nz/job/50622169?type=stand...</td>\n      <td>New Zealand Police</td>\n      <td>4d ago,at</td>\n      <td>classification: Administration &amp; Office Suppor...</td>\n    </tr>\n    <tr>\n      <th>3</th>\n      <td>Early Childhood Centre Administrator</td>\n      <td>Southland</td>\n      <td>Invercargill</td>\n      <td>50639620</td>\n      <td>standard</td>\n      <td>https://www.seek.co.nz/job/50639620?type=stand...</td>\n      <td>Kew Pacific Island Early Learning Centre</td>\n      <td>1h ago,at</td>\n      <td>classification: Administration &amp; Office Suppor...</td>\n    </tr>\n    <tr>\n      <th>4</th>\n      <td>Business Support Administrator</td>\n      <td>Canterbury</td>\n      <td>Christchurch</td>\n      <td>50622432</td>\n      <td>standout</td>\n      <td>https://www.seek.co.nz/job/50622432?type=stand...</td>\n      <td>NaN</td>\n      <td>4d ago,at,Private Advertiser</td>\n      <td>classification: Administration &amp; Office Suppor...</td>\n    </tr>\n    <tr>\n      <th>...</th>\n      <td>...</td>\n      <td>...</td>\n      <td>...</td>\n      <td>...</td>\n      <td>...</td>\n      <td>...</td>\n      <td>...</td>\n      <td>...</td>\n      <td>...</td>\n    </tr>\n    <tr>\n      <th>2703</th>\n      <td>Key Account Manager</td>\n      <td>Auckland</td>\n      <td>Auckland Central</td>\n      <td>50490062</td>\n      <td>standout</td>\n      <td>https://www.seek.co.nz/job/50490062?type=stand...</td>\n      <td>Hays Talent Solutions</td>\n      <td>27d ago,at</td>\n      <td>classification: Administration &amp; Office Suppor...</td>\n    </tr>\n    <tr>\n      <th>2704</th>\n      <td>Executive Assistant</td>\n      <td>Wellington</td>\n      <td>Wellington CentralWellington Central,Competiti...</td>\n      <td>50488000</td>\n      <td>standout</td>\n      <td>https://www.seek.co.nz/job/50488000?type=stand...</td>\n      <td>one eighty recruitment</td>\n      <td>27d ago,at</td>\n      <td>Competitive hourly rate</td>\n    </tr>\n    <tr>\n      <th>2705</th>\n      <td>Temporary Office Roles</td>\n      <td>Waikato</td>\n      <td>HamiltonHamilton,Competitive hourly rates $$</td>\n      <td>50524865</td>\n      <td>standout</td>\n      <td>https://www.seek.co.nz/job/50524865?type=stand...</td>\n      <td>Asset Recruitment Ltd</td>\n      <td>20d ago,at</td>\n      <td>Competitive hourly rates $$</td>\n    </tr>\n    <tr>\n      <th>2706</th>\n      <td>Temporary Office Roles</td>\n      <td>Waikato</td>\n      <td>HamiltonHamilton,Competitive hourly rates $$</td>\n      <td>50477118</td>\n      <td>standout</td>\n      <td>https://www.seek.co.nz/job/50477118?type=stand...</td>\n      <td>Asset Recruitment Ltd</td>\n      <td>28d ago,at</td>\n      <td>Competitive hourly rates $$</td>\n    </tr>\n    <tr>\n      <th>2707</th>\n      <td>Executive Assistant</td>\n      <td>Wellington</td>\n      <td>NaN</td>\n      <td>50496571</td>\n      <td>standout</td>\n      <td>https://www.seek.co.nz/job/50496571?type=stand...</td>\n      <td>Alpha Recruitment - NZ</td>\n      <td>26d ago,at</td>\n      <td>classification: Administration &amp; Office Suppor...</td>\n    </tr>\n  </tbody>\n</table>\n<p>2708 rows × 9 columns</p>\n</div>"
     },
     "execution_count": 180,
     "metadata": {},
     "output_type": "execute_result"
    }
   ],
   "source": [
    "jobs.insert(jobs.columns.get_loc('LocationArea'), 'Location', jobs_location_area.Location)\n",
    "jobs.insert(jobs.columns.get_loc('LocationArea'), 'Area', jobs_location_area.Area)"
   ],
   "metadata": {
    "collapsed": false
   }
  },
  {
   "cell_type": "code",
   "execution_count": 184,
   "outputs": [
    {
     "ename": "KeyError",
     "evalue": "\"['LocationArea'] not found in axis\"",
     "output_type": "error",
     "traceback": [
      "\u001B[0;31m---------------------------------------------------------------------------\u001B[0m",
      "\u001B[0;31mKeyError\u001B[0m                                  Traceback (most recent call last)",
      "Cell \u001B[0;32mIn[184], line 1\u001B[0m\n\u001B[0;32m----> 1\u001B[0m jobs \u001B[38;5;241m=\u001B[39m \u001B[43mjobs\u001B[49m\u001B[38;5;241;43m.\u001B[39;49m\u001B[43mdrop\u001B[49m\u001B[43m(\u001B[49m\u001B[43mcolumns\u001B[49m\u001B[38;5;241;43m=\u001B[39;49m\u001B[38;5;124;43m'\u001B[39;49m\u001B[38;5;124;43mLocationArea\u001B[39;49m\u001B[38;5;124;43m'\u001B[39;49m\u001B[43m)\u001B[49m\n",
      "File \u001B[0;32m~/opt/anaconda3/lib/python3.8/site-packages/pandas/util/_decorators.py:311\u001B[0m, in \u001B[0;36mdeprecate_nonkeyword_arguments.<locals>.decorate.<locals>.wrapper\u001B[0;34m(*args, **kwargs)\u001B[0m\n\u001B[1;32m    305\u001B[0m \u001B[38;5;28;01mif\u001B[39;00m \u001B[38;5;28mlen\u001B[39m(args) \u001B[38;5;241m>\u001B[39m num_allow_args:\n\u001B[1;32m    306\u001B[0m     warnings\u001B[38;5;241m.\u001B[39mwarn(\n\u001B[1;32m    307\u001B[0m         msg\u001B[38;5;241m.\u001B[39mformat(arguments\u001B[38;5;241m=\u001B[39marguments),\n\u001B[1;32m    308\u001B[0m         \u001B[38;5;167;01mFutureWarning\u001B[39;00m,\n\u001B[1;32m    309\u001B[0m         stacklevel\u001B[38;5;241m=\u001B[39mstacklevel,\n\u001B[1;32m    310\u001B[0m     )\n\u001B[0;32m--> 311\u001B[0m \u001B[38;5;28;01mreturn\u001B[39;00m \u001B[43mfunc\u001B[49m\u001B[43m(\u001B[49m\u001B[38;5;241;43m*\u001B[39;49m\u001B[43margs\u001B[49m\u001B[43m,\u001B[49m\u001B[43m \u001B[49m\u001B[38;5;241;43m*\u001B[39;49m\u001B[38;5;241;43m*\u001B[39;49m\u001B[43mkwargs\u001B[49m\u001B[43m)\u001B[49m\n",
      "File \u001B[0;32m~/opt/anaconda3/lib/python3.8/site-packages/pandas/core/frame.py:4957\u001B[0m, in \u001B[0;36mDataFrame.drop\u001B[0;34m(self, labels, axis, index, columns, level, inplace, errors)\u001B[0m\n\u001B[1;32m   4809\u001B[0m \u001B[38;5;129m@deprecate_nonkeyword_arguments\u001B[39m(version\u001B[38;5;241m=\u001B[39m\u001B[38;5;28;01mNone\u001B[39;00m, allowed_args\u001B[38;5;241m=\u001B[39m[\u001B[38;5;124m\"\u001B[39m\u001B[38;5;124mself\u001B[39m\u001B[38;5;124m\"\u001B[39m, \u001B[38;5;124m\"\u001B[39m\u001B[38;5;124mlabels\u001B[39m\u001B[38;5;124m\"\u001B[39m])\n\u001B[1;32m   4810\u001B[0m \u001B[38;5;28;01mdef\u001B[39;00m \u001B[38;5;21mdrop\u001B[39m(\n\u001B[1;32m   4811\u001B[0m     \u001B[38;5;28mself\u001B[39m,\n\u001B[0;32m   (...)\u001B[0m\n\u001B[1;32m   4818\u001B[0m     errors: \u001B[38;5;28mstr\u001B[39m \u001B[38;5;241m=\u001B[39m \u001B[38;5;124m\"\u001B[39m\u001B[38;5;124mraise\u001B[39m\u001B[38;5;124m\"\u001B[39m,\n\u001B[1;32m   4819\u001B[0m ):\n\u001B[1;32m   4820\u001B[0m     \u001B[38;5;124;03m\"\"\"\u001B[39;00m\n\u001B[1;32m   4821\u001B[0m \u001B[38;5;124;03m    Drop specified labels from rows or columns.\u001B[39;00m\n\u001B[1;32m   4822\u001B[0m \n\u001B[0;32m   (...)\u001B[0m\n\u001B[1;32m   4955\u001B[0m \u001B[38;5;124;03m            weight  1.0     0.8\u001B[39;00m\n\u001B[1;32m   4956\u001B[0m \u001B[38;5;124;03m    \"\"\"\u001B[39;00m\n\u001B[0;32m-> 4957\u001B[0m     \u001B[38;5;28;01mreturn\u001B[39;00m \u001B[38;5;28;43msuper\u001B[39;49m\u001B[43m(\u001B[49m\u001B[43m)\u001B[49m\u001B[38;5;241;43m.\u001B[39;49m\u001B[43mdrop\u001B[49m\u001B[43m(\u001B[49m\n\u001B[1;32m   4958\u001B[0m \u001B[43m        \u001B[49m\u001B[43mlabels\u001B[49m\u001B[38;5;241;43m=\u001B[39;49m\u001B[43mlabels\u001B[49m\u001B[43m,\u001B[49m\n\u001B[1;32m   4959\u001B[0m \u001B[43m        \u001B[49m\u001B[43maxis\u001B[49m\u001B[38;5;241;43m=\u001B[39;49m\u001B[43maxis\u001B[49m\u001B[43m,\u001B[49m\n\u001B[1;32m   4960\u001B[0m \u001B[43m        \u001B[49m\u001B[43mindex\u001B[49m\u001B[38;5;241;43m=\u001B[39;49m\u001B[43mindex\u001B[49m\u001B[43m,\u001B[49m\n\u001B[1;32m   4961\u001B[0m \u001B[43m        \u001B[49m\u001B[43mcolumns\u001B[49m\u001B[38;5;241;43m=\u001B[39;49m\u001B[43mcolumns\u001B[49m\u001B[43m,\u001B[49m\n\u001B[1;32m   4962\u001B[0m \u001B[43m        \u001B[49m\u001B[43mlevel\u001B[49m\u001B[38;5;241;43m=\u001B[39;49m\u001B[43mlevel\u001B[49m\u001B[43m,\u001B[49m\n\u001B[1;32m   4963\u001B[0m \u001B[43m        \u001B[49m\u001B[43minplace\u001B[49m\u001B[38;5;241;43m=\u001B[39;49m\u001B[43minplace\u001B[49m\u001B[43m,\u001B[49m\n\u001B[1;32m   4964\u001B[0m \u001B[43m        \u001B[49m\u001B[43merrors\u001B[49m\u001B[38;5;241;43m=\u001B[39;49m\u001B[43merrors\u001B[49m\u001B[43m,\u001B[49m\n\u001B[1;32m   4965\u001B[0m \u001B[43m    \u001B[49m\u001B[43m)\u001B[49m\n",
      "File \u001B[0;32m~/opt/anaconda3/lib/python3.8/site-packages/pandas/core/generic.py:4267\u001B[0m, in \u001B[0;36mNDFrame.drop\u001B[0;34m(self, labels, axis, index, columns, level, inplace, errors)\u001B[0m\n\u001B[1;32m   4265\u001B[0m \u001B[38;5;28;01mfor\u001B[39;00m axis, labels \u001B[38;5;129;01min\u001B[39;00m axes\u001B[38;5;241m.\u001B[39mitems():\n\u001B[1;32m   4266\u001B[0m     \u001B[38;5;28;01mif\u001B[39;00m labels \u001B[38;5;129;01mis\u001B[39;00m \u001B[38;5;129;01mnot\u001B[39;00m \u001B[38;5;28;01mNone\u001B[39;00m:\n\u001B[0;32m-> 4267\u001B[0m         obj \u001B[38;5;241m=\u001B[39m \u001B[43mobj\u001B[49m\u001B[38;5;241;43m.\u001B[39;49m\u001B[43m_drop_axis\u001B[49m\u001B[43m(\u001B[49m\u001B[43mlabels\u001B[49m\u001B[43m,\u001B[49m\u001B[43m \u001B[49m\u001B[43maxis\u001B[49m\u001B[43m,\u001B[49m\u001B[43m \u001B[49m\u001B[43mlevel\u001B[49m\u001B[38;5;241;43m=\u001B[39;49m\u001B[43mlevel\u001B[49m\u001B[43m,\u001B[49m\u001B[43m \u001B[49m\u001B[43merrors\u001B[49m\u001B[38;5;241;43m=\u001B[39;49m\u001B[43merrors\u001B[49m\u001B[43m)\u001B[49m\n\u001B[1;32m   4269\u001B[0m \u001B[38;5;28;01mif\u001B[39;00m inplace:\n\u001B[1;32m   4270\u001B[0m     \u001B[38;5;28mself\u001B[39m\u001B[38;5;241m.\u001B[39m_update_inplace(obj)\n",
      "File \u001B[0;32m~/opt/anaconda3/lib/python3.8/site-packages/pandas/core/generic.py:4311\u001B[0m, in \u001B[0;36mNDFrame._drop_axis\u001B[0;34m(self, labels, axis, level, errors, consolidate, only_slice)\u001B[0m\n\u001B[1;32m   4309\u001B[0m         new_axis \u001B[38;5;241m=\u001B[39m axis\u001B[38;5;241m.\u001B[39mdrop(labels, level\u001B[38;5;241m=\u001B[39mlevel, errors\u001B[38;5;241m=\u001B[39merrors)\n\u001B[1;32m   4310\u001B[0m     \u001B[38;5;28;01melse\u001B[39;00m:\n\u001B[0;32m-> 4311\u001B[0m         new_axis \u001B[38;5;241m=\u001B[39m \u001B[43maxis\u001B[49m\u001B[38;5;241;43m.\u001B[39;49m\u001B[43mdrop\u001B[49m\u001B[43m(\u001B[49m\u001B[43mlabels\u001B[49m\u001B[43m,\u001B[49m\u001B[43m \u001B[49m\u001B[43merrors\u001B[49m\u001B[38;5;241;43m=\u001B[39;49m\u001B[43merrors\u001B[49m\u001B[43m)\u001B[49m\n\u001B[1;32m   4312\u001B[0m     indexer \u001B[38;5;241m=\u001B[39m axis\u001B[38;5;241m.\u001B[39mget_indexer(new_axis)\n\u001B[1;32m   4314\u001B[0m \u001B[38;5;66;03m# Case for non-unique axis\u001B[39;00m\n\u001B[1;32m   4315\u001B[0m \u001B[38;5;28;01melse\u001B[39;00m:\n",
      "File \u001B[0;32m~/opt/anaconda3/lib/python3.8/site-packages/pandas/core/indexes/base.py:6661\u001B[0m, in \u001B[0;36mIndex.drop\u001B[0;34m(self, labels, errors)\u001B[0m\n\u001B[1;32m   6659\u001B[0m \u001B[38;5;28;01mif\u001B[39;00m mask\u001B[38;5;241m.\u001B[39many():\n\u001B[1;32m   6660\u001B[0m     \u001B[38;5;28;01mif\u001B[39;00m errors \u001B[38;5;241m!=\u001B[39m \u001B[38;5;124m\"\u001B[39m\u001B[38;5;124mignore\u001B[39m\u001B[38;5;124m\"\u001B[39m:\n\u001B[0;32m-> 6661\u001B[0m         \u001B[38;5;28;01mraise\u001B[39;00m \u001B[38;5;167;01mKeyError\u001B[39;00m(\u001B[38;5;124mf\u001B[39m\u001B[38;5;124m\"\u001B[39m\u001B[38;5;132;01m{\u001B[39;00m\u001B[38;5;28mlist\u001B[39m(labels[mask])\u001B[38;5;132;01m}\u001B[39;00m\u001B[38;5;124m not found in axis\u001B[39m\u001B[38;5;124m\"\u001B[39m)\n\u001B[1;32m   6662\u001B[0m     indexer \u001B[38;5;241m=\u001B[39m indexer[\u001B[38;5;241m~\u001B[39mmask]\n\u001B[1;32m   6663\u001B[0m \u001B[38;5;28;01mreturn\u001B[39;00m \u001B[38;5;28mself\u001B[39m\u001B[38;5;241m.\u001B[39mdelete(indexer)\n",
      "\u001B[0;31mKeyError\u001B[0m: \"['LocationArea'] not found in axis\""
     ]
    }
   ],
   "source": [
    "jobs = jobs.drop(columns='LocationArea')"
   ],
   "metadata": {
    "collapsed": false
   }
  },
  {
   "cell_type": "code",
   "execution_count": 185,
   "outputs": [
    {
     "data": {
      "text/plain": "                                      Name       Location  \\\n0                            Administrator  Bay of Plenty   \n1                             Receptionist  Bay of Plenty   \n2             Prosecutions Support Officer       Auckland   \n3     Early Childhood Centre Administrator      Southland   \n4           Business Support Administrator     Canterbury   \n...                                    ...            ...   \n2703                   Key Account Manager       Auckland   \n2704                   Executive Assistant     Wellington   \n2705                Temporary Office Roles        Waikato   \n2706                Temporary Office Roles        Waikato   \n2707                   Executive Assistant     Wellington   \n\n                                                   Area     JobId   JobType  \\\n0                                              Tauranga  50582301  promoted   \n1                                              Tauranga  50620889  promoted   \n2                                                   NaN  50622169  standard   \n3                                          Invercargill  50639620  standard   \n4                                          Christchurch  50622432  standout   \n...                                                 ...       ...       ...   \n2703                                   Auckland Central  50490062  standout   \n2704  Wellington CentralWellington Central,Competiti...  50488000  standout   \n2705       HamiltonHamilton,Competitive hourly rates $$  50524865  standout   \n2706       HamiltonHamilton,Competitive hourly rates $$  50477118  standout   \n2707                                                NaN  50496571  standout   \n\n                                                   Link  \\\n0     https://www.seek.co.nz/job/50582301?type=promo...   \n1     https://www.seek.co.nz/job/50620889?type=promo...   \n2     https://www.seek.co.nz/job/50622169?type=stand...   \n3     https://www.seek.co.nz/job/50639620?type=stand...   \n4     https://www.seek.co.nz/job/50622432?type=stand...   \n...                                                 ...   \n2703  https://www.seek.co.nz/job/50490062?type=stand...   \n2704  https://www.seek.co.nz/job/50488000?type=stand...   \n2705  https://www.seek.co.nz/job/50524865?type=stand...   \n2706  https://www.seek.co.nz/job/50477118?type=stand...   \n2707  https://www.seek.co.nz/job/50496571?type=stand...   \n\n                                    Department  \\\n0                                          NaN   \n1                         Avenues Orthodontics   \n2                           New Zealand Police   \n3     Kew Pacific Island Early Learning Centre   \n4                                          NaN   \n...                                        ...   \n2703                     Hays Talent Solutions   \n2704                    one eighty recruitment   \n2705                     Asset Recruitment Ltd   \n2706                     Asset Recruitment Ltd   \n2707                    Alpha Recruitment - NZ   \n\n                         ReleaseTime  \\\n0     Featured,at,Private Advertiser   \n1                        Featured,at   \n2                          4d ago,at   \n3                          1h ago,at   \n4       4d ago,at,Private Advertiser   \n...                              ...   \n2703                      27d ago,at   \n2704                      27d ago,at   \n2705                      20d ago,at   \n2706                      28d ago,at   \n2707                      26d ago,at   \n\n                                         Classification  \n0     classification: Administration & Office Suppor...  \n1     classification: Administration & Office Suppor...  \n2     classification: Administration & Office Suppor...  \n3     classification: Administration & Office Suppor...  \n4     classification: Administration & Office Suppor...  \n...                                                 ...  \n2703  classification: Administration & Office Suppor...  \n2704                            Competitive hourly rate  \n2705                        Competitive hourly rates $$  \n2706                        Competitive hourly rates $$  \n2707  classification: Administration & Office Suppor...  \n\n[2708 rows x 9 columns]",
      "text/html": "<div>\n<style scoped>\n    .dataframe tbody tr th:only-of-type {\n        vertical-align: middle;\n    }\n\n    .dataframe tbody tr th {\n        vertical-align: top;\n    }\n\n    .dataframe thead th {\n        text-align: right;\n    }\n</style>\n<table border=\"1\" class=\"dataframe\">\n  <thead>\n    <tr style=\"text-align: right;\">\n      <th></th>\n      <th>Name</th>\n      <th>Location</th>\n      <th>Area</th>\n      <th>JobId</th>\n      <th>JobType</th>\n      <th>Link</th>\n      <th>Department</th>\n      <th>ReleaseTime</th>\n      <th>Classification</th>\n    </tr>\n  </thead>\n  <tbody>\n    <tr>\n      <th>0</th>\n      <td>Administrator</td>\n      <td>Bay of Plenty</td>\n      <td>Tauranga</td>\n      <td>50582301</td>\n      <td>promoted</td>\n      <td>https://www.seek.co.nz/job/50582301?type=promo...</td>\n      <td>NaN</td>\n      <td>Featured,at,Private Advertiser</td>\n      <td>classification: Administration &amp; Office Suppor...</td>\n    </tr>\n    <tr>\n      <th>1</th>\n      <td>Receptionist</td>\n      <td>Bay of Plenty</td>\n      <td>Tauranga</td>\n      <td>50620889</td>\n      <td>promoted</td>\n      <td>https://www.seek.co.nz/job/50620889?type=promo...</td>\n      <td>Avenues Orthodontics</td>\n      <td>Featured,at</td>\n      <td>classification: Administration &amp; Office Suppor...</td>\n    </tr>\n    <tr>\n      <th>2</th>\n      <td>Prosecutions Support Officer</td>\n      <td>Auckland</td>\n      <td>NaN</td>\n      <td>50622169</td>\n      <td>standard</td>\n      <td>https://www.seek.co.nz/job/50622169?type=stand...</td>\n      <td>New Zealand Police</td>\n      <td>4d ago,at</td>\n      <td>classification: Administration &amp; Office Suppor...</td>\n    </tr>\n    <tr>\n      <th>3</th>\n      <td>Early Childhood Centre Administrator</td>\n      <td>Southland</td>\n      <td>Invercargill</td>\n      <td>50639620</td>\n      <td>standard</td>\n      <td>https://www.seek.co.nz/job/50639620?type=stand...</td>\n      <td>Kew Pacific Island Early Learning Centre</td>\n      <td>1h ago,at</td>\n      <td>classification: Administration &amp; Office Suppor...</td>\n    </tr>\n    <tr>\n      <th>4</th>\n      <td>Business Support Administrator</td>\n      <td>Canterbury</td>\n      <td>Christchurch</td>\n      <td>50622432</td>\n      <td>standout</td>\n      <td>https://www.seek.co.nz/job/50622432?type=stand...</td>\n      <td>NaN</td>\n      <td>4d ago,at,Private Advertiser</td>\n      <td>classification: Administration &amp; Office Suppor...</td>\n    </tr>\n    <tr>\n      <th>...</th>\n      <td>...</td>\n      <td>...</td>\n      <td>...</td>\n      <td>...</td>\n      <td>...</td>\n      <td>...</td>\n      <td>...</td>\n      <td>...</td>\n      <td>...</td>\n    </tr>\n    <tr>\n      <th>2703</th>\n      <td>Key Account Manager</td>\n      <td>Auckland</td>\n      <td>Auckland Central</td>\n      <td>50490062</td>\n      <td>standout</td>\n      <td>https://www.seek.co.nz/job/50490062?type=stand...</td>\n      <td>Hays Talent Solutions</td>\n      <td>27d ago,at</td>\n      <td>classification: Administration &amp; Office Suppor...</td>\n    </tr>\n    <tr>\n      <th>2704</th>\n      <td>Executive Assistant</td>\n      <td>Wellington</td>\n      <td>Wellington CentralWellington Central,Competiti...</td>\n      <td>50488000</td>\n      <td>standout</td>\n      <td>https://www.seek.co.nz/job/50488000?type=stand...</td>\n      <td>one eighty recruitment</td>\n      <td>27d ago,at</td>\n      <td>Competitive hourly rate</td>\n    </tr>\n    <tr>\n      <th>2705</th>\n      <td>Temporary Office Roles</td>\n      <td>Waikato</td>\n      <td>HamiltonHamilton,Competitive hourly rates $$</td>\n      <td>50524865</td>\n      <td>standout</td>\n      <td>https://www.seek.co.nz/job/50524865?type=stand...</td>\n      <td>Asset Recruitment Ltd</td>\n      <td>20d ago,at</td>\n      <td>Competitive hourly rates $$</td>\n    </tr>\n    <tr>\n      <th>2706</th>\n      <td>Temporary Office Roles</td>\n      <td>Waikato</td>\n      <td>HamiltonHamilton,Competitive hourly rates $$</td>\n      <td>50477118</td>\n      <td>standout</td>\n      <td>https://www.seek.co.nz/job/50477118?type=stand...</td>\n      <td>Asset Recruitment Ltd</td>\n      <td>28d ago,at</td>\n      <td>Competitive hourly rates $$</td>\n    </tr>\n    <tr>\n      <th>2707</th>\n      <td>Executive Assistant</td>\n      <td>Wellington</td>\n      <td>NaN</td>\n      <td>50496571</td>\n      <td>standout</td>\n      <td>https://www.seek.co.nz/job/50496571?type=stand...</td>\n      <td>Alpha Recruitment - NZ</td>\n      <td>26d ago,at</td>\n      <td>classification: Administration &amp; Office Suppor...</td>\n    </tr>\n  </tbody>\n</table>\n<p>2708 rows × 9 columns</p>\n</div>"
     },
     "execution_count": 185,
     "metadata": {},
     "output_type": "execute_result"
    }
   ],
   "source": [
    "jobs"
   ],
   "metadata": {
    "collapsed": false
   }
  },
  {
   "cell_type": "markdown",
   "source": [
    "### 接下来我们先处理ReleaseTime"
   ],
   "metadata": {
    "collapsed": false
   }
  },
  {
   "cell_type": "code",
   "execution_count": 190,
   "outputs": [],
   "source": [
    "release_time = pd.DataFrame(jobs.ReleaseTime)"
   ],
   "metadata": {
    "collapsed": false
   }
  },
  {
   "cell_type": "code",
   "execution_count": 193,
   "outputs": [
    {
     "data": {
      "text/plain": "True"
     },
     "execution_count": 193,
     "metadata": {},
     "output_type": "execute_result"
    }
   ],
   "source": [
    "release_time['ReleaseTime'].str.contains('at').all()"
   ],
   "metadata": {
    "collapsed": false
   }
  },
  {
   "cell_type": "code",
   "execution_count": 194,
   "outputs": [],
   "source": [
    "release_time['PrivateAdvertiser'] = release_time['ReleaseTime'].apply(lambda x: 1 if 'Private Advertiser' in x else 0)"
   ],
   "metadata": {
    "collapsed": false
   }
  },
  {
   "cell_type": "code",
   "execution_count": 195,
   "outputs": [
    {
     "data": {
      "text/plain": "                         ReleaseTime  PrivateAdvertiser\n0     Featured,at,Private Advertiser                  1\n1                        Featured,at                  0\n2                          4d ago,at                  0\n3                          1h ago,at                  0\n4       4d ago,at,Private Advertiser                  1\n...                              ...                ...\n2703                      27d ago,at                  0\n2704                      27d ago,at                  0\n2705                      20d ago,at                  0\n2706                      28d ago,at                  0\n2707                      26d ago,at                  0\n\n[2708 rows x 2 columns]",
      "text/html": "<div>\n<style scoped>\n    .dataframe tbody tr th:only-of-type {\n        vertical-align: middle;\n    }\n\n    .dataframe tbody tr th {\n        vertical-align: top;\n    }\n\n    .dataframe thead th {\n        text-align: right;\n    }\n</style>\n<table border=\"1\" class=\"dataframe\">\n  <thead>\n    <tr style=\"text-align: right;\">\n      <th></th>\n      <th>ReleaseTime</th>\n      <th>PrivateAdvertiser</th>\n    </tr>\n  </thead>\n  <tbody>\n    <tr>\n      <th>0</th>\n      <td>Featured,at,Private Advertiser</td>\n      <td>1</td>\n    </tr>\n    <tr>\n      <th>1</th>\n      <td>Featured,at</td>\n      <td>0</td>\n    </tr>\n    <tr>\n      <th>2</th>\n      <td>4d ago,at</td>\n      <td>0</td>\n    </tr>\n    <tr>\n      <th>3</th>\n      <td>1h ago,at</td>\n      <td>0</td>\n    </tr>\n    <tr>\n      <th>4</th>\n      <td>4d ago,at,Private Advertiser</td>\n      <td>1</td>\n    </tr>\n    <tr>\n      <th>...</th>\n      <td>...</td>\n      <td>...</td>\n    </tr>\n    <tr>\n      <th>2703</th>\n      <td>27d ago,at</td>\n      <td>0</td>\n    </tr>\n    <tr>\n      <th>2704</th>\n      <td>27d ago,at</td>\n      <td>0</td>\n    </tr>\n    <tr>\n      <th>2705</th>\n      <td>20d ago,at</td>\n      <td>0</td>\n    </tr>\n    <tr>\n      <th>2706</th>\n      <td>28d ago,at</td>\n      <td>0</td>\n    </tr>\n    <tr>\n      <th>2707</th>\n      <td>26d ago,at</td>\n      <td>0</td>\n    </tr>\n  </tbody>\n</table>\n<p>2708 rows × 2 columns</p>\n</div>"
     },
     "execution_count": 195,
     "metadata": {},
     "output_type": "execute_result"
    }
   ],
   "source": [
    "release_time"
   ],
   "metadata": {
    "collapsed": false
   }
  },
  {
   "cell_type": "code",
   "execution_count": 203,
   "outputs": [
    {
     "data": {
      "text/plain": "'d'"
     },
     "execution_count": 203,
     "metadata": {},
     "output_type": "execute_result"
    }
   ],
   "source": [
    "re.search(r'(\\d+)\\s*([a-z]+)', \"4d ago,at\").group(2)"
   ],
   "metadata": {
    "collapsed": false
   }
  },
  {
   "cell_type": "code",
   "execution_count": 204,
   "outputs": [
    {
     "data": {
      "text/plain": "d    2672\nh      11\nm       5\nName: ReleaseTime, dtype: int64"
     },
     "execution_count": 204,
     "metadata": {},
     "output_type": "execute_result"
    }
   ],
   "source": [
    "release_time['ReleaseTime'].apply(\n",
    "    lambda x: re.search(r'(\\d+)\\s*([a-z]+)', x).group(2) if re.search(r'(\\d+)\\s*([a-z]+)',\n",
    "                                                                      x) else np.nan).value_counts()"
   ],
   "metadata": {
    "collapsed": false
   }
  },
  {
   "cell_type": "code",
   "execution_count": 207,
   "outputs": [],
   "source": [
    "def datetime_cal(time_str):\n",
    "    time_match = re.search(r'(\\d+)\\s*([a-z]+)', time_str)\n",
    "    if not time_match:\n",
    "        return np.nan\n",
    "\n",
    "    time_value = int(time_match.group(1))\n",
    "    time_unit = time_match.group(2)\n",
    "\n",
    "    if time_unit == 'd':\n",
    "        datetime = pd.to_datetime('today') - timedelta(days=time_value)\n",
    "    elif time_unit == 'h':\n",
    "        datetime = pd.to_datetime('today') - timedelta(hours=time_value)\n",
    "    elif time_unit == 'm':\n",
    "        datetime = pd.to_datetime('today') - timedelta(minutes=time_value)\n",
    "    else:\n",
    "        return np.nan\n",
    "\n",
    "    return datetime.strftime('%Y-%m-%d %H:%M')\n"
   ],
   "metadata": {
    "collapsed": false
   }
  },
  {
   "cell_type": "code",
   "execution_count": 209,
   "outputs": [],
   "source": [
    "release_time['Datetime'] = release_time['ReleaseTime'].apply(datetime_cal)"
   ],
   "metadata": {
    "collapsed": false
   }
  },
  {
   "cell_type": "code",
   "execution_count": 210,
   "outputs": [
    {
     "data": {
      "text/plain": "                         ReleaseTime  PrivateAdvertiser          Datetime\n0     Featured,at,Private Advertiser                  1               NaN\n1                        Featured,at                  0               NaN\n2                          4d ago,at                  0  2022-12-20 16:59\n3                          1h ago,at                  0  2022-12-24 15:59\n4       4d ago,at,Private Advertiser                  1  2022-12-20 16:59\n...                              ...                ...               ...\n2703                      27d ago,at                  0  2022-11-27 16:59\n2704                      27d ago,at                  0  2022-11-27 16:59\n2705                      20d ago,at                  0  2022-12-04 16:59\n2706                      28d ago,at                  0  2022-11-26 16:59\n2707                      26d ago,at                  0  2022-11-28 16:59\n\n[2708 rows x 3 columns]",
      "text/html": "<div>\n<style scoped>\n    .dataframe tbody tr th:only-of-type {\n        vertical-align: middle;\n    }\n\n    .dataframe tbody tr th {\n        vertical-align: top;\n    }\n\n    .dataframe thead th {\n        text-align: right;\n    }\n</style>\n<table border=\"1\" class=\"dataframe\">\n  <thead>\n    <tr style=\"text-align: right;\">\n      <th></th>\n      <th>ReleaseTime</th>\n      <th>PrivateAdvertiser</th>\n      <th>Datetime</th>\n    </tr>\n  </thead>\n  <tbody>\n    <tr>\n      <th>0</th>\n      <td>Featured,at,Private Advertiser</td>\n      <td>1</td>\n      <td>NaN</td>\n    </tr>\n    <tr>\n      <th>1</th>\n      <td>Featured,at</td>\n      <td>0</td>\n      <td>NaN</td>\n    </tr>\n    <tr>\n      <th>2</th>\n      <td>4d ago,at</td>\n      <td>0</td>\n      <td>2022-12-20 16:59</td>\n    </tr>\n    <tr>\n      <th>3</th>\n      <td>1h ago,at</td>\n      <td>0</td>\n      <td>2022-12-24 15:59</td>\n    </tr>\n    <tr>\n      <th>4</th>\n      <td>4d ago,at,Private Advertiser</td>\n      <td>1</td>\n      <td>2022-12-20 16:59</td>\n    </tr>\n    <tr>\n      <th>...</th>\n      <td>...</td>\n      <td>...</td>\n      <td>...</td>\n    </tr>\n    <tr>\n      <th>2703</th>\n      <td>27d ago,at</td>\n      <td>0</td>\n      <td>2022-11-27 16:59</td>\n    </tr>\n    <tr>\n      <th>2704</th>\n      <td>27d ago,at</td>\n      <td>0</td>\n      <td>2022-11-27 16:59</td>\n    </tr>\n    <tr>\n      <th>2705</th>\n      <td>20d ago,at</td>\n      <td>0</td>\n      <td>2022-12-04 16:59</td>\n    </tr>\n    <tr>\n      <th>2706</th>\n      <td>28d ago,at</td>\n      <td>0</td>\n      <td>2022-11-26 16:59</td>\n    </tr>\n    <tr>\n      <th>2707</th>\n      <td>26d ago,at</td>\n      <td>0</td>\n      <td>2022-11-28 16:59</td>\n    </tr>\n  </tbody>\n</table>\n<p>2708 rows × 3 columns</p>\n</div>"
     },
     "execution_count": 210,
     "metadata": {},
     "output_type": "execute_result"
    }
   ],
   "source": [
    "release_time"
   ],
   "metadata": {
    "collapsed": false
   }
  },
  {
   "cell_type": "code",
   "execution_count": 211,
   "outputs": [],
   "source": [
    "release_time['Featured'] = release_time['ReleaseTime'].apply(lambda x: 1 if 'Featured' in x else 0)"
   ],
   "metadata": {
    "collapsed": false
   }
  },
  {
   "cell_type": "code",
   "execution_count": 212,
   "outputs": [
    {
     "data": {
      "text/plain": "                         ReleaseTime  PrivateAdvertiser          Datetime  \\\n0     Featured,at,Private Advertiser                  1               NaN   \n1                        Featured,at                  0               NaN   \n2                          4d ago,at                  0  2022-12-20 16:59   \n3                          1h ago,at                  0  2022-12-24 15:59   \n4       4d ago,at,Private Advertiser                  1  2022-12-20 16:59   \n...                              ...                ...               ...   \n2703                      27d ago,at                  0  2022-11-27 16:59   \n2704                      27d ago,at                  0  2022-11-27 16:59   \n2705                      20d ago,at                  0  2022-12-04 16:59   \n2706                      28d ago,at                  0  2022-11-26 16:59   \n2707                      26d ago,at                  0  2022-11-28 16:59   \n\n      Featured  \n0            1  \n1            1  \n2            0  \n3            0  \n4            0  \n...        ...  \n2703         0  \n2704         0  \n2705         0  \n2706         0  \n2707         0  \n\n[2708 rows x 4 columns]",
      "text/html": "<div>\n<style scoped>\n    .dataframe tbody tr th:only-of-type {\n        vertical-align: middle;\n    }\n\n    .dataframe tbody tr th {\n        vertical-align: top;\n    }\n\n    .dataframe thead th {\n        text-align: right;\n    }\n</style>\n<table border=\"1\" class=\"dataframe\">\n  <thead>\n    <tr style=\"text-align: right;\">\n      <th></th>\n      <th>ReleaseTime</th>\n      <th>PrivateAdvertiser</th>\n      <th>Datetime</th>\n      <th>Featured</th>\n    </tr>\n  </thead>\n  <tbody>\n    <tr>\n      <th>0</th>\n      <td>Featured,at,Private Advertiser</td>\n      <td>1</td>\n      <td>NaN</td>\n      <td>1</td>\n    </tr>\n    <tr>\n      <th>1</th>\n      <td>Featured,at</td>\n      <td>0</td>\n      <td>NaN</td>\n      <td>1</td>\n    </tr>\n    <tr>\n      <th>2</th>\n      <td>4d ago,at</td>\n      <td>0</td>\n      <td>2022-12-20 16:59</td>\n      <td>0</td>\n    </tr>\n    <tr>\n      <th>3</th>\n      <td>1h ago,at</td>\n      <td>0</td>\n      <td>2022-12-24 15:59</td>\n      <td>0</td>\n    </tr>\n    <tr>\n      <th>4</th>\n      <td>4d ago,at,Private Advertiser</td>\n      <td>1</td>\n      <td>2022-12-20 16:59</td>\n      <td>0</td>\n    </tr>\n    <tr>\n      <th>...</th>\n      <td>...</td>\n      <td>...</td>\n      <td>...</td>\n      <td>...</td>\n    </tr>\n    <tr>\n      <th>2703</th>\n      <td>27d ago,at</td>\n      <td>0</td>\n      <td>2022-11-27 16:59</td>\n      <td>0</td>\n    </tr>\n    <tr>\n      <th>2704</th>\n      <td>27d ago,at</td>\n      <td>0</td>\n      <td>2022-11-27 16:59</td>\n      <td>0</td>\n    </tr>\n    <tr>\n      <th>2705</th>\n      <td>20d ago,at</td>\n      <td>0</td>\n      <td>2022-12-04 16:59</td>\n      <td>0</td>\n    </tr>\n    <tr>\n      <th>2706</th>\n      <td>28d ago,at</td>\n      <td>0</td>\n      <td>2022-11-26 16:59</td>\n      <td>0</td>\n    </tr>\n    <tr>\n      <th>2707</th>\n      <td>26d ago,at</td>\n      <td>0</td>\n      <td>2022-11-28 16:59</td>\n      <td>0</td>\n    </tr>\n  </tbody>\n</table>\n<p>2708 rows × 4 columns</p>\n</div>"
     },
     "execution_count": 212,
     "metadata": {},
     "output_type": "execute_result"
    }
   ],
   "source": [
    "release_time"
   ],
   "metadata": {
    "collapsed": false
   }
  },
  {
   "cell_type": "code",
   "execution_count": 213,
   "outputs": [
    {
     "data": {
      "text/plain": "                                      Name       Location  \\\n0                            Administrator  Bay of Plenty   \n1                             Receptionist  Bay of Plenty   \n2             Prosecutions Support Officer       Auckland   \n3     Early Childhood Centre Administrator      Southland   \n4           Business Support Administrator     Canterbury   \n...                                    ...            ...   \n2703                   Key Account Manager       Auckland   \n2704                   Executive Assistant     Wellington   \n2705                Temporary Office Roles        Waikato   \n2706                Temporary Office Roles        Waikato   \n2707                   Executive Assistant     Wellington   \n\n                                                   Area     JobId   JobType  \\\n0                                              Tauranga  50582301  promoted   \n1                                              Tauranga  50620889  promoted   \n2                                                   NaN  50622169  standard   \n3                                          Invercargill  50639620  standard   \n4                                          Christchurch  50622432  standout   \n...                                                 ...       ...       ...   \n2703                                   Auckland Central  50490062  standout   \n2704  Wellington CentralWellington Central,Competiti...  50488000  standout   \n2705       HamiltonHamilton,Competitive hourly rates $$  50524865  standout   \n2706       HamiltonHamilton,Competitive hourly rates $$  50477118  standout   \n2707                                                NaN  50496571  standout   \n\n                                                   Link  \\\n0     https://www.seek.co.nz/job/50582301?type=promo...   \n1     https://www.seek.co.nz/job/50620889?type=promo...   \n2     https://www.seek.co.nz/job/50622169?type=stand...   \n3     https://www.seek.co.nz/job/50639620?type=stand...   \n4     https://www.seek.co.nz/job/50622432?type=stand...   \n...                                                 ...   \n2703  https://www.seek.co.nz/job/50490062?type=stand...   \n2704  https://www.seek.co.nz/job/50488000?type=stand...   \n2705  https://www.seek.co.nz/job/50524865?type=stand...   \n2706  https://www.seek.co.nz/job/50477118?type=stand...   \n2707  https://www.seek.co.nz/job/50496571?type=stand...   \n\n                                    Department  \\\n0                                          NaN   \n1                         Avenues Orthodontics   \n2                           New Zealand Police   \n3     Kew Pacific Island Early Learning Centre   \n4                                          NaN   \n...                                        ...   \n2703                     Hays Talent Solutions   \n2704                    one eighty recruitment   \n2705                     Asset Recruitment Ltd   \n2706                     Asset Recruitment Ltd   \n2707                    Alpha Recruitment - NZ   \n\n                         ReleaseTime  \\\n0     Featured,at,Private Advertiser   \n1                        Featured,at   \n2                          4d ago,at   \n3                          1h ago,at   \n4       4d ago,at,Private Advertiser   \n...                              ...   \n2703                      27d ago,at   \n2704                      27d ago,at   \n2705                      20d ago,at   \n2706                      28d ago,at   \n2707                      26d ago,at   \n\n                                         Classification  \n0     classification: Administration & Office Suppor...  \n1     classification: Administration & Office Suppor...  \n2     classification: Administration & Office Suppor...  \n3     classification: Administration & Office Suppor...  \n4     classification: Administration & Office Suppor...  \n...                                                 ...  \n2703  classification: Administration & Office Suppor...  \n2704                            Competitive hourly rate  \n2705                        Competitive hourly rates $$  \n2706                        Competitive hourly rates $$  \n2707  classification: Administration & Office Suppor...  \n\n[2708 rows x 9 columns]",
      "text/html": "<div>\n<style scoped>\n    .dataframe tbody tr th:only-of-type {\n        vertical-align: middle;\n    }\n\n    .dataframe tbody tr th {\n        vertical-align: top;\n    }\n\n    .dataframe thead th {\n        text-align: right;\n    }\n</style>\n<table border=\"1\" class=\"dataframe\">\n  <thead>\n    <tr style=\"text-align: right;\">\n      <th></th>\n      <th>Name</th>\n      <th>Location</th>\n      <th>Area</th>\n      <th>JobId</th>\n      <th>JobType</th>\n      <th>Link</th>\n      <th>Department</th>\n      <th>ReleaseTime</th>\n      <th>Classification</th>\n    </tr>\n  </thead>\n  <tbody>\n    <tr>\n      <th>0</th>\n      <td>Administrator</td>\n      <td>Bay of Plenty</td>\n      <td>Tauranga</td>\n      <td>50582301</td>\n      <td>promoted</td>\n      <td>https://www.seek.co.nz/job/50582301?type=promo...</td>\n      <td>NaN</td>\n      <td>Featured,at,Private Advertiser</td>\n      <td>classification: Administration &amp; Office Suppor...</td>\n    </tr>\n    <tr>\n      <th>1</th>\n      <td>Receptionist</td>\n      <td>Bay of Plenty</td>\n      <td>Tauranga</td>\n      <td>50620889</td>\n      <td>promoted</td>\n      <td>https://www.seek.co.nz/job/50620889?type=promo...</td>\n      <td>Avenues Orthodontics</td>\n      <td>Featured,at</td>\n      <td>classification: Administration &amp; Office Suppor...</td>\n    </tr>\n    <tr>\n      <th>2</th>\n      <td>Prosecutions Support Officer</td>\n      <td>Auckland</td>\n      <td>NaN</td>\n      <td>50622169</td>\n      <td>standard</td>\n      <td>https://www.seek.co.nz/job/50622169?type=stand...</td>\n      <td>New Zealand Police</td>\n      <td>4d ago,at</td>\n      <td>classification: Administration &amp; Office Suppor...</td>\n    </tr>\n    <tr>\n      <th>3</th>\n      <td>Early Childhood Centre Administrator</td>\n      <td>Southland</td>\n      <td>Invercargill</td>\n      <td>50639620</td>\n      <td>standard</td>\n      <td>https://www.seek.co.nz/job/50639620?type=stand...</td>\n      <td>Kew Pacific Island Early Learning Centre</td>\n      <td>1h ago,at</td>\n      <td>classification: Administration &amp; Office Suppor...</td>\n    </tr>\n    <tr>\n      <th>4</th>\n      <td>Business Support Administrator</td>\n      <td>Canterbury</td>\n      <td>Christchurch</td>\n      <td>50622432</td>\n      <td>standout</td>\n      <td>https://www.seek.co.nz/job/50622432?type=stand...</td>\n      <td>NaN</td>\n      <td>4d ago,at,Private Advertiser</td>\n      <td>classification: Administration &amp; Office Suppor...</td>\n    </tr>\n    <tr>\n      <th>...</th>\n      <td>...</td>\n      <td>...</td>\n      <td>...</td>\n      <td>...</td>\n      <td>...</td>\n      <td>...</td>\n      <td>...</td>\n      <td>...</td>\n      <td>...</td>\n    </tr>\n    <tr>\n      <th>2703</th>\n      <td>Key Account Manager</td>\n      <td>Auckland</td>\n      <td>Auckland Central</td>\n      <td>50490062</td>\n      <td>standout</td>\n      <td>https://www.seek.co.nz/job/50490062?type=stand...</td>\n      <td>Hays Talent Solutions</td>\n      <td>27d ago,at</td>\n      <td>classification: Administration &amp; Office Suppor...</td>\n    </tr>\n    <tr>\n      <th>2704</th>\n      <td>Executive Assistant</td>\n      <td>Wellington</td>\n      <td>Wellington CentralWellington Central,Competiti...</td>\n      <td>50488000</td>\n      <td>standout</td>\n      <td>https://www.seek.co.nz/job/50488000?type=stand...</td>\n      <td>one eighty recruitment</td>\n      <td>27d ago,at</td>\n      <td>Competitive hourly rate</td>\n    </tr>\n    <tr>\n      <th>2705</th>\n      <td>Temporary Office Roles</td>\n      <td>Waikato</td>\n      <td>HamiltonHamilton,Competitive hourly rates $$</td>\n      <td>50524865</td>\n      <td>standout</td>\n      <td>https://www.seek.co.nz/job/50524865?type=stand...</td>\n      <td>Asset Recruitment Ltd</td>\n      <td>20d ago,at</td>\n      <td>Competitive hourly rates $$</td>\n    </tr>\n    <tr>\n      <th>2706</th>\n      <td>Temporary Office Roles</td>\n      <td>Waikato</td>\n      <td>HamiltonHamilton,Competitive hourly rates $$</td>\n      <td>50477118</td>\n      <td>standout</td>\n      <td>https://www.seek.co.nz/job/50477118?type=stand...</td>\n      <td>Asset Recruitment Ltd</td>\n      <td>28d ago,at</td>\n      <td>Competitive hourly rates $$</td>\n    </tr>\n    <tr>\n      <th>2707</th>\n      <td>Executive Assistant</td>\n      <td>Wellington</td>\n      <td>NaN</td>\n      <td>50496571</td>\n      <td>standout</td>\n      <td>https://www.seek.co.nz/job/50496571?type=stand...</td>\n      <td>Alpha Recruitment - NZ</td>\n      <td>26d ago,at</td>\n      <td>classification: Administration &amp; Office Suppor...</td>\n    </tr>\n  </tbody>\n</table>\n<p>2708 rows × 9 columns</p>\n</div>"
     },
     "execution_count": 213,
     "metadata": {},
     "output_type": "execute_result"
    }
   ],
   "source": [
    "jobs"
   ],
   "metadata": {
    "collapsed": false
   }
  },
  {
   "cell_type": "code",
   "execution_count": 214,
   "outputs": [],
   "source": [
    "jobs.insert(jobs.columns.get_loc('ReleaseTime'), 'PrivateAdvertiser', release_time.PrivateAdvertiser)\n",
    "jobs.insert(jobs.columns.get_loc('ReleaseTime'), 'Featured', release_time.Featured)\n",
    "jobs.insert(jobs.columns.get_loc('ReleaseTime'), 'Datetime', release_time.Datetime)"
   ],
   "metadata": {
    "collapsed": false
   }
  },
  {
   "cell_type": "code",
   "execution_count": 215,
   "outputs": [
    {
     "data": {
      "text/plain": "                                      Name       Location  \\\n0                            Administrator  Bay of Plenty   \n1                             Receptionist  Bay of Plenty   \n2             Prosecutions Support Officer       Auckland   \n3     Early Childhood Centre Administrator      Southland   \n4           Business Support Administrator     Canterbury   \n...                                    ...            ...   \n2703                   Key Account Manager       Auckland   \n2704                   Executive Assistant     Wellington   \n2705                Temporary Office Roles        Waikato   \n2706                Temporary Office Roles        Waikato   \n2707                   Executive Assistant     Wellington   \n\n                                                   Area     JobId   JobType  \\\n0                                              Tauranga  50582301  promoted   \n1                                              Tauranga  50620889  promoted   \n2                                                   NaN  50622169  standard   \n3                                          Invercargill  50639620  standard   \n4                                          Christchurch  50622432  standout   \n...                                                 ...       ...       ...   \n2703                                   Auckland Central  50490062  standout   \n2704  Wellington CentralWellington Central,Competiti...  50488000  standout   \n2705       HamiltonHamilton,Competitive hourly rates $$  50524865  standout   \n2706       HamiltonHamilton,Competitive hourly rates $$  50477118  standout   \n2707                                                NaN  50496571  standout   \n\n                                                   Link  \\\n0     https://www.seek.co.nz/job/50582301?type=promo...   \n1     https://www.seek.co.nz/job/50620889?type=promo...   \n2     https://www.seek.co.nz/job/50622169?type=stand...   \n3     https://www.seek.co.nz/job/50639620?type=stand...   \n4     https://www.seek.co.nz/job/50622432?type=stand...   \n...                                                 ...   \n2703  https://www.seek.co.nz/job/50490062?type=stand...   \n2704  https://www.seek.co.nz/job/50488000?type=stand...   \n2705  https://www.seek.co.nz/job/50524865?type=stand...   \n2706  https://www.seek.co.nz/job/50477118?type=stand...   \n2707  https://www.seek.co.nz/job/50496571?type=stand...   \n\n                                    Department  PrivateAdvertiser  Featured  \\\n0                                          NaN                  1         1   \n1                         Avenues Orthodontics                  0         1   \n2                           New Zealand Police                  0         0   \n3     Kew Pacific Island Early Learning Centre                  0         0   \n4                                          NaN                  1         0   \n...                                        ...                ...       ...   \n2703                     Hays Talent Solutions                  0         0   \n2704                    one eighty recruitment                  0         0   \n2705                     Asset Recruitment Ltd                  0         0   \n2706                     Asset Recruitment Ltd                  0         0   \n2707                    Alpha Recruitment - NZ                  0         0   \n\n              Datetime                     ReleaseTime  \\\n0                  NaN  Featured,at,Private Advertiser   \n1                  NaN                     Featured,at   \n2     2022-12-20 16:59                       4d ago,at   \n3     2022-12-24 15:59                       1h ago,at   \n4     2022-12-20 16:59    4d ago,at,Private Advertiser   \n...                ...                             ...   \n2703  2022-11-27 16:59                      27d ago,at   \n2704  2022-11-27 16:59                      27d ago,at   \n2705  2022-12-04 16:59                      20d ago,at   \n2706  2022-11-26 16:59                      28d ago,at   \n2707  2022-11-28 16:59                      26d ago,at   \n\n                                         Classification  \n0     classification: Administration & Office Suppor...  \n1     classification: Administration & Office Suppor...  \n2     classification: Administration & Office Suppor...  \n3     classification: Administration & Office Suppor...  \n4     classification: Administration & Office Suppor...  \n...                                                 ...  \n2703  classification: Administration & Office Suppor...  \n2704                            Competitive hourly rate  \n2705                        Competitive hourly rates $$  \n2706                        Competitive hourly rates $$  \n2707  classification: Administration & Office Suppor...  \n\n[2708 rows x 12 columns]",
      "text/html": "<div>\n<style scoped>\n    .dataframe tbody tr th:only-of-type {\n        vertical-align: middle;\n    }\n\n    .dataframe tbody tr th {\n        vertical-align: top;\n    }\n\n    .dataframe thead th {\n        text-align: right;\n    }\n</style>\n<table border=\"1\" class=\"dataframe\">\n  <thead>\n    <tr style=\"text-align: right;\">\n      <th></th>\n      <th>Name</th>\n      <th>Location</th>\n      <th>Area</th>\n      <th>JobId</th>\n      <th>JobType</th>\n      <th>Link</th>\n      <th>Department</th>\n      <th>PrivateAdvertiser</th>\n      <th>Featured</th>\n      <th>Datetime</th>\n      <th>ReleaseTime</th>\n      <th>Classification</th>\n    </tr>\n  </thead>\n  <tbody>\n    <tr>\n      <th>0</th>\n      <td>Administrator</td>\n      <td>Bay of Plenty</td>\n      <td>Tauranga</td>\n      <td>50582301</td>\n      <td>promoted</td>\n      <td>https://www.seek.co.nz/job/50582301?type=promo...</td>\n      <td>NaN</td>\n      <td>1</td>\n      <td>1</td>\n      <td>NaN</td>\n      <td>Featured,at,Private Advertiser</td>\n      <td>classification: Administration &amp; Office Suppor...</td>\n    </tr>\n    <tr>\n      <th>1</th>\n      <td>Receptionist</td>\n      <td>Bay of Plenty</td>\n      <td>Tauranga</td>\n      <td>50620889</td>\n      <td>promoted</td>\n      <td>https://www.seek.co.nz/job/50620889?type=promo...</td>\n      <td>Avenues Orthodontics</td>\n      <td>0</td>\n      <td>1</td>\n      <td>NaN</td>\n      <td>Featured,at</td>\n      <td>classification: Administration &amp; Office Suppor...</td>\n    </tr>\n    <tr>\n      <th>2</th>\n      <td>Prosecutions Support Officer</td>\n      <td>Auckland</td>\n      <td>NaN</td>\n      <td>50622169</td>\n      <td>standard</td>\n      <td>https://www.seek.co.nz/job/50622169?type=stand...</td>\n      <td>New Zealand Police</td>\n      <td>0</td>\n      <td>0</td>\n      <td>2022-12-20 16:59</td>\n      <td>4d ago,at</td>\n      <td>classification: Administration &amp; Office Suppor...</td>\n    </tr>\n    <tr>\n      <th>3</th>\n      <td>Early Childhood Centre Administrator</td>\n      <td>Southland</td>\n      <td>Invercargill</td>\n      <td>50639620</td>\n      <td>standard</td>\n      <td>https://www.seek.co.nz/job/50639620?type=stand...</td>\n      <td>Kew Pacific Island Early Learning Centre</td>\n      <td>0</td>\n      <td>0</td>\n      <td>2022-12-24 15:59</td>\n      <td>1h ago,at</td>\n      <td>classification: Administration &amp; Office Suppor...</td>\n    </tr>\n    <tr>\n      <th>4</th>\n      <td>Business Support Administrator</td>\n      <td>Canterbury</td>\n      <td>Christchurch</td>\n      <td>50622432</td>\n      <td>standout</td>\n      <td>https://www.seek.co.nz/job/50622432?type=stand...</td>\n      <td>NaN</td>\n      <td>1</td>\n      <td>0</td>\n      <td>2022-12-20 16:59</td>\n      <td>4d ago,at,Private Advertiser</td>\n      <td>classification: Administration &amp; Office Suppor...</td>\n    </tr>\n    <tr>\n      <th>...</th>\n      <td>...</td>\n      <td>...</td>\n      <td>...</td>\n      <td>...</td>\n      <td>...</td>\n      <td>...</td>\n      <td>...</td>\n      <td>...</td>\n      <td>...</td>\n      <td>...</td>\n      <td>...</td>\n      <td>...</td>\n    </tr>\n    <tr>\n      <th>2703</th>\n      <td>Key Account Manager</td>\n      <td>Auckland</td>\n      <td>Auckland Central</td>\n      <td>50490062</td>\n      <td>standout</td>\n      <td>https://www.seek.co.nz/job/50490062?type=stand...</td>\n      <td>Hays Talent Solutions</td>\n      <td>0</td>\n      <td>0</td>\n      <td>2022-11-27 16:59</td>\n      <td>27d ago,at</td>\n      <td>classification: Administration &amp; Office Suppor...</td>\n    </tr>\n    <tr>\n      <th>2704</th>\n      <td>Executive Assistant</td>\n      <td>Wellington</td>\n      <td>Wellington CentralWellington Central,Competiti...</td>\n      <td>50488000</td>\n      <td>standout</td>\n      <td>https://www.seek.co.nz/job/50488000?type=stand...</td>\n      <td>one eighty recruitment</td>\n      <td>0</td>\n      <td>0</td>\n      <td>2022-11-27 16:59</td>\n      <td>27d ago,at</td>\n      <td>Competitive hourly rate</td>\n    </tr>\n    <tr>\n      <th>2705</th>\n      <td>Temporary Office Roles</td>\n      <td>Waikato</td>\n      <td>HamiltonHamilton,Competitive hourly rates $$</td>\n      <td>50524865</td>\n      <td>standout</td>\n      <td>https://www.seek.co.nz/job/50524865?type=stand...</td>\n      <td>Asset Recruitment Ltd</td>\n      <td>0</td>\n      <td>0</td>\n      <td>2022-12-04 16:59</td>\n      <td>20d ago,at</td>\n      <td>Competitive hourly rates $$</td>\n    </tr>\n    <tr>\n      <th>2706</th>\n      <td>Temporary Office Roles</td>\n      <td>Waikato</td>\n      <td>HamiltonHamilton,Competitive hourly rates $$</td>\n      <td>50477118</td>\n      <td>standout</td>\n      <td>https://www.seek.co.nz/job/50477118?type=stand...</td>\n      <td>Asset Recruitment Ltd</td>\n      <td>0</td>\n      <td>0</td>\n      <td>2022-11-26 16:59</td>\n      <td>28d ago,at</td>\n      <td>Competitive hourly rates $$</td>\n    </tr>\n    <tr>\n      <th>2707</th>\n      <td>Executive Assistant</td>\n      <td>Wellington</td>\n      <td>NaN</td>\n      <td>50496571</td>\n      <td>standout</td>\n      <td>https://www.seek.co.nz/job/50496571?type=stand...</td>\n      <td>Alpha Recruitment - NZ</td>\n      <td>0</td>\n      <td>0</td>\n      <td>2022-11-28 16:59</td>\n      <td>26d ago,at</td>\n      <td>classification: Administration &amp; Office Suppor...</td>\n    </tr>\n  </tbody>\n</table>\n<p>2708 rows × 12 columns</p>\n</div>"
     },
     "execution_count": 215,
     "metadata": {},
     "output_type": "execute_result"
    }
   ],
   "source": [
    "jobs"
   ],
   "metadata": {
    "collapsed": false
   }
  },
  {
   "cell_type": "code",
   "execution_count": 217,
   "outputs": [],
   "source": [
    "jobs = jobs.drop(columns='ReleaseTime')"
   ],
   "metadata": {
    "collapsed": false
   }
  },
  {
   "cell_type": "code",
   "execution_count": 218,
   "outputs": [
    {
     "data": {
      "text/plain": "                                      Name       Location  \\\n0                            Administrator  Bay of Plenty   \n1                             Receptionist  Bay of Plenty   \n2             Prosecutions Support Officer       Auckland   \n3     Early Childhood Centre Administrator      Southland   \n4           Business Support Administrator     Canterbury   \n...                                    ...            ...   \n2703                   Key Account Manager       Auckland   \n2704                   Executive Assistant     Wellington   \n2705                Temporary Office Roles        Waikato   \n2706                Temporary Office Roles        Waikato   \n2707                   Executive Assistant     Wellington   \n\n                                                   Area     JobId   JobType  \\\n0                                              Tauranga  50582301  promoted   \n1                                              Tauranga  50620889  promoted   \n2                                                   NaN  50622169  standard   \n3                                          Invercargill  50639620  standard   \n4                                          Christchurch  50622432  standout   \n...                                                 ...       ...       ...   \n2703                                   Auckland Central  50490062  standout   \n2704  Wellington CentralWellington Central,Competiti...  50488000  standout   \n2705       HamiltonHamilton,Competitive hourly rates $$  50524865  standout   \n2706       HamiltonHamilton,Competitive hourly rates $$  50477118  standout   \n2707                                                NaN  50496571  standout   \n\n                                                   Link  \\\n0     https://www.seek.co.nz/job/50582301?type=promo...   \n1     https://www.seek.co.nz/job/50620889?type=promo...   \n2     https://www.seek.co.nz/job/50622169?type=stand...   \n3     https://www.seek.co.nz/job/50639620?type=stand...   \n4     https://www.seek.co.nz/job/50622432?type=stand...   \n...                                                 ...   \n2703  https://www.seek.co.nz/job/50490062?type=stand...   \n2704  https://www.seek.co.nz/job/50488000?type=stand...   \n2705  https://www.seek.co.nz/job/50524865?type=stand...   \n2706  https://www.seek.co.nz/job/50477118?type=stand...   \n2707  https://www.seek.co.nz/job/50496571?type=stand...   \n\n                                    Department  PrivateAdvertiser  Featured  \\\n0                                          NaN                  1         1   \n1                         Avenues Orthodontics                  0         1   \n2                           New Zealand Police                  0         0   \n3     Kew Pacific Island Early Learning Centre                  0         0   \n4                                          NaN                  1         0   \n...                                        ...                ...       ...   \n2703                     Hays Talent Solutions                  0         0   \n2704                    one eighty recruitment                  0         0   \n2705                     Asset Recruitment Ltd                  0         0   \n2706                     Asset Recruitment Ltd                  0         0   \n2707                    Alpha Recruitment - NZ                  0         0   \n\n              Datetime                                     Classification  \n0                  NaN  classification: Administration & Office Suppor...  \n1                  NaN  classification: Administration & Office Suppor...  \n2     2022-12-20 16:59  classification: Administration & Office Suppor...  \n3     2022-12-24 15:59  classification: Administration & Office Suppor...  \n4     2022-12-20 16:59  classification: Administration & Office Suppor...  \n...                ...                                                ...  \n2703  2022-11-27 16:59  classification: Administration & Office Suppor...  \n2704  2022-11-27 16:59                            Competitive hourly rate  \n2705  2022-12-04 16:59                        Competitive hourly rates $$  \n2706  2022-11-26 16:59                        Competitive hourly rates $$  \n2707  2022-11-28 16:59  classification: Administration & Office Suppor...  \n\n[2708 rows x 11 columns]",
      "text/html": "<div>\n<style scoped>\n    .dataframe tbody tr th:only-of-type {\n        vertical-align: middle;\n    }\n\n    .dataframe tbody tr th {\n        vertical-align: top;\n    }\n\n    .dataframe thead th {\n        text-align: right;\n    }\n</style>\n<table border=\"1\" class=\"dataframe\">\n  <thead>\n    <tr style=\"text-align: right;\">\n      <th></th>\n      <th>Name</th>\n      <th>Location</th>\n      <th>Area</th>\n      <th>JobId</th>\n      <th>JobType</th>\n      <th>Link</th>\n      <th>Department</th>\n      <th>PrivateAdvertiser</th>\n      <th>Featured</th>\n      <th>Datetime</th>\n      <th>Classification</th>\n    </tr>\n  </thead>\n  <tbody>\n    <tr>\n      <th>0</th>\n      <td>Administrator</td>\n      <td>Bay of Plenty</td>\n      <td>Tauranga</td>\n      <td>50582301</td>\n      <td>promoted</td>\n      <td>https://www.seek.co.nz/job/50582301?type=promo...</td>\n      <td>NaN</td>\n      <td>1</td>\n      <td>1</td>\n      <td>NaN</td>\n      <td>classification: Administration &amp; Office Suppor...</td>\n    </tr>\n    <tr>\n      <th>1</th>\n      <td>Receptionist</td>\n      <td>Bay of Plenty</td>\n      <td>Tauranga</td>\n      <td>50620889</td>\n      <td>promoted</td>\n      <td>https://www.seek.co.nz/job/50620889?type=promo...</td>\n      <td>Avenues Orthodontics</td>\n      <td>0</td>\n      <td>1</td>\n      <td>NaN</td>\n      <td>classification: Administration &amp; Office Suppor...</td>\n    </tr>\n    <tr>\n      <th>2</th>\n      <td>Prosecutions Support Officer</td>\n      <td>Auckland</td>\n      <td>NaN</td>\n      <td>50622169</td>\n      <td>standard</td>\n      <td>https://www.seek.co.nz/job/50622169?type=stand...</td>\n      <td>New Zealand Police</td>\n      <td>0</td>\n      <td>0</td>\n      <td>2022-12-20 16:59</td>\n      <td>classification: Administration &amp; Office Suppor...</td>\n    </tr>\n    <tr>\n      <th>3</th>\n      <td>Early Childhood Centre Administrator</td>\n      <td>Southland</td>\n      <td>Invercargill</td>\n      <td>50639620</td>\n      <td>standard</td>\n      <td>https://www.seek.co.nz/job/50639620?type=stand...</td>\n      <td>Kew Pacific Island Early Learning Centre</td>\n      <td>0</td>\n      <td>0</td>\n      <td>2022-12-24 15:59</td>\n      <td>classification: Administration &amp; Office Suppor...</td>\n    </tr>\n    <tr>\n      <th>4</th>\n      <td>Business Support Administrator</td>\n      <td>Canterbury</td>\n      <td>Christchurch</td>\n      <td>50622432</td>\n      <td>standout</td>\n      <td>https://www.seek.co.nz/job/50622432?type=stand...</td>\n      <td>NaN</td>\n      <td>1</td>\n      <td>0</td>\n      <td>2022-12-20 16:59</td>\n      <td>classification: Administration &amp; Office Suppor...</td>\n    </tr>\n    <tr>\n      <th>...</th>\n      <td>...</td>\n      <td>...</td>\n      <td>...</td>\n      <td>...</td>\n      <td>...</td>\n      <td>...</td>\n      <td>...</td>\n      <td>...</td>\n      <td>...</td>\n      <td>...</td>\n      <td>...</td>\n    </tr>\n    <tr>\n      <th>2703</th>\n      <td>Key Account Manager</td>\n      <td>Auckland</td>\n      <td>Auckland Central</td>\n      <td>50490062</td>\n      <td>standout</td>\n      <td>https://www.seek.co.nz/job/50490062?type=stand...</td>\n      <td>Hays Talent Solutions</td>\n      <td>0</td>\n      <td>0</td>\n      <td>2022-11-27 16:59</td>\n      <td>classification: Administration &amp; Office Suppor...</td>\n    </tr>\n    <tr>\n      <th>2704</th>\n      <td>Executive Assistant</td>\n      <td>Wellington</td>\n      <td>Wellington CentralWellington Central,Competiti...</td>\n      <td>50488000</td>\n      <td>standout</td>\n      <td>https://www.seek.co.nz/job/50488000?type=stand...</td>\n      <td>one eighty recruitment</td>\n      <td>0</td>\n      <td>0</td>\n      <td>2022-11-27 16:59</td>\n      <td>Competitive hourly rate</td>\n    </tr>\n    <tr>\n      <th>2705</th>\n      <td>Temporary Office Roles</td>\n      <td>Waikato</td>\n      <td>HamiltonHamilton,Competitive hourly rates $$</td>\n      <td>50524865</td>\n      <td>standout</td>\n      <td>https://www.seek.co.nz/job/50524865?type=stand...</td>\n      <td>Asset Recruitment Ltd</td>\n      <td>0</td>\n      <td>0</td>\n      <td>2022-12-04 16:59</td>\n      <td>Competitive hourly rates $$</td>\n    </tr>\n    <tr>\n      <th>2706</th>\n      <td>Temporary Office Roles</td>\n      <td>Waikato</td>\n      <td>HamiltonHamilton,Competitive hourly rates $$</td>\n      <td>50477118</td>\n      <td>standout</td>\n      <td>https://www.seek.co.nz/job/50477118?type=stand...</td>\n      <td>Asset Recruitment Ltd</td>\n      <td>0</td>\n      <td>0</td>\n      <td>2022-11-26 16:59</td>\n      <td>Competitive hourly rates $$</td>\n    </tr>\n    <tr>\n      <th>2707</th>\n      <td>Executive Assistant</td>\n      <td>Wellington</td>\n      <td>NaN</td>\n      <td>50496571</td>\n      <td>standout</td>\n      <td>https://www.seek.co.nz/job/50496571?type=stand...</td>\n      <td>Alpha Recruitment - NZ</td>\n      <td>0</td>\n      <td>0</td>\n      <td>2022-11-28 16:59</td>\n      <td>classification: Administration &amp; Office Suppor...</td>\n    </tr>\n  </tbody>\n</table>\n<p>2708 rows × 11 columns</p>\n</div>"
     },
     "execution_count": 218,
     "metadata": {},
     "output_type": "execute_result"
    }
   ],
   "source": [
    "jobs"
   ],
   "metadata": {
    "collapsed": false
   }
  },
  {
   "cell_type": "markdown",
   "source": [
    "### Time相关的处理完毕，接下来处理Classification"
   ],
   "metadata": {
    "collapsed": false
   }
  },
  {
   "cell_type": "code",
   "execution_count": 220,
   "outputs": [
    {
     "data": {
      "text/plain": "                                         Classification\n0     classification: Administration & Office Suppor...\n1     classification: Administration & Office Suppor...\n2     classification: Administration & Office Suppor...\n3     classification: Administration & Office Suppor...\n4     classification: Administration & Office Suppor...\n...                                                 ...\n2703  classification: Administration & Office Suppor...\n2704                            Competitive hourly rate\n2705                        Competitive hourly rates $$\n2706                        Competitive hourly rates $$\n2707  classification: Administration & Office Suppor...\n\n[2708 rows x 1 columns]",
      "text/html": "<div>\n<style scoped>\n    .dataframe tbody tr th:only-of-type {\n        vertical-align: middle;\n    }\n\n    .dataframe tbody tr th {\n        vertical-align: top;\n    }\n\n    .dataframe thead th {\n        text-align: right;\n    }\n</style>\n<table border=\"1\" class=\"dataframe\">\n  <thead>\n    <tr style=\"text-align: right;\">\n      <th></th>\n      <th>Classification</th>\n    </tr>\n  </thead>\n  <tbody>\n    <tr>\n      <th>0</th>\n      <td>classification: Administration &amp; Office Suppor...</td>\n    </tr>\n    <tr>\n      <th>1</th>\n      <td>classification: Administration &amp; Office Suppor...</td>\n    </tr>\n    <tr>\n      <th>2</th>\n      <td>classification: Administration &amp; Office Suppor...</td>\n    </tr>\n    <tr>\n      <th>3</th>\n      <td>classification: Administration &amp; Office Suppor...</td>\n    </tr>\n    <tr>\n      <th>4</th>\n      <td>classification: Administration &amp; Office Suppor...</td>\n    </tr>\n    <tr>\n      <th>...</th>\n      <td>...</td>\n    </tr>\n    <tr>\n      <th>2703</th>\n      <td>classification: Administration &amp; Office Suppor...</td>\n    </tr>\n    <tr>\n      <th>2704</th>\n      <td>Competitive hourly rate</td>\n    </tr>\n    <tr>\n      <th>2705</th>\n      <td>Competitive hourly rates $$</td>\n    </tr>\n    <tr>\n      <th>2706</th>\n      <td>Competitive hourly rates $$</td>\n    </tr>\n    <tr>\n      <th>2707</th>\n      <td>classification: Administration &amp; Office Suppor...</td>\n    </tr>\n  </tbody>\n</table>\n<p>2708 rows × 1 columns</p>\n</div>"
     },
     "execution_count": 220,
     "metadata": {},
     "output_type": "execute_result"
    }
   ],
   "source": [
    "cls = pd.DataFrame(jobs.Classification)\n",
    "cls"
   ],
   "metadata": {
    "collapsed": false
   }
  },
  {
   "cell_type": "code",
   "execution_count": 222,
   "outputs": [
    {
     "data": {
      "text/plain": "False"
     },
     "execution_count": 222,
     "metadata": {},
     "output_type": "execute_result"
    }
   ],
   "source": [
    "cls['Classification'].str.contains('classification').all()"
   ],
   "metadata": {
    "collapsed": false
   }
  },
  {
   "cell_type": "code",
   "execution_count": 223,
   "outputs": [
    {
     "data": {
      "text/plain": "False"
     },
     "execution_count": 223,
     "metadata": {},
     "output_type": "execute_result"
    }
   ],
   "source": [
    "cls['Classification'].str.contains('subClassification').all()"
   ],
   "metadata": {
    "collapsed": false
   }
  },
  {
   "cell_type": "code",
   "execution_count": 226,
   "outputs": [],
   "source": [
    "test = cls['Classification'].apply(lambda x: x[:14])"
   ],
   "metadata": {
    "collapsed": false
   }
  },
  {
   "cell_type": "code",
   "execution_count": 227,
   "outputs": [
    {
     "data": {
      "text/plain": "0       classification\n1       classification\n2       classification\n3       classification\n4       classification\n             ...      \n2703    classification\n2704    Competitive ho\n2705    Competitive ho\n2706    Competitive ho\n2707    classification\nName: Classification, Length: 2708, dtype: object"
     },
     "execution_count": 227,
     "metadata": {},
     "output_type": "execute_result"
    }
   ],
   "source": [
    "test"
   ],
   "metadata": {
    "collapsed": false
   }
  },
  {
   "cell_type": "code",
   "execution_count": 228,
   "outputs": [
    {
     "data": {
      "text/plain": "count               2708\nunique                79\ntop       classification\nfreq                2105\nName: Classification, dtype: object"
     },
     "execution_count": 228,
     "metadata": {},
     "output_type": "execute_result"
    }
   ],
   "source": [
    "test.describe()"
   ],
   "metadata": {
    "collapsed": false
   }
  },
  {
   "cell_type": "code",
   "execution_count": 229,
   "outputs": [
    {
     "data": {
      "text/plain": "<bound method Series.info of 0       classification\n1       classification\n2       classification\n3       classification\n4       classification\n             ...      \n2703    classification\n2704    Competitive ho\n2705    Competitive ho\n2706    Competitive ho\n2707    classification\nName: Classification, Length: 2708, dtype: object>"
     },
     "execution_count": 229,
     "metadata": {},
     "output_type": "execute_result"
    }
   ],
   "source": [
    "test.info"
   ],
   "metadata": {
    "collapsed": false
   }
  },
  {
   "cell_type": "code",
   "execution_count": 231,
   "outputs": [
    {
     "data": {
      "text/plain": "                                         Classification\n0     classification: administration & office suppor...\n1     classification: administration & office suppor...\n2     classification: administration & office suppor...\n3     classification: administration & office suppor...\n4     classification: administration & office suppor...\n...                                                 ...\n2703  classification: administration & office suppor...\n2704                            competitive hourly rate\n2705                        competitive hourly rates $$\n2706                        competitive hourly rates $$\n2707  classification: administration & office suppor...\n\n[2708 rows x 1 columns]",
      "text/html": "<div>\n<style scoped>\n    .dataframe tbody tr th:only-of-type {\n        vertical-align: middle;\n    }\n\n    .dataframe tbody tr th {\n        vertical-align: top;\n    }\n\n    .dataframe thead th {\n        text-align: right;\n    }\n</style>\n<table border=\"1\" class=\"dataframe\">\n  <thead>\n    <tr style=\"text-align: right;\">\n      <th></th>\n      <th>Classification</th>\n    </tr>\n  </thead>\n  <tbody>\n    <tr>\n      <th>0</th>\n      <td>classification: administration &amp; office suppor...</td>\n    </tr>\n    <tr>\n      <th>1</th>\n      <td>classification: administration &amp; office suppor...</td>\n    </tr>\n    <tr>\n      <th>2</th>\n      <td>classification: administration &amp; office suppor...</td>\n    </tr>\n    <tr>\n      <th>3</th>\n      <td>classification: administration &amp; office suppor...</td>\n    </tr>\n    <tr>\n      <th>4</th>\n      <td>classification: administration &amp; office suppor...</td>\n    </tr>\n    <tr>\n      <th>...</th>\n      <td>...</td>\n    </tr>\n    <tr>\n      <th>2703</th>\n      <td>classification: administration &amp; office suppor...</td>\n    </tr>\n    <tr>\n      <th>2704</th>\n      <td>competitive hourly rate</td>\n    </tr>\n    <tr>\n      <th>2705</th>\n      <td>competitive hourly rates $$</td>\n    </tr>\n    <tr>\n      <th>2706</th>\n      <td>competitive hourly rates $$</td>\n    </tr>\n    <tr>\n      <th>2707</th>\n      <td>classification: administration &amp; office suppor...</td>\n    </tr>\n  </tbody>\n</table>\n<p>2708 rows × 1 columns</p>\n</div>"
     },
     "execution_count": 231,
     "metadata": {},
     "output_type": "execute_result"
    }
   ],
   "source": [
    "cls['Classification'] = cls['Classification'].apply(lambda x: x.lower())\n",
    "cls"
   ],
   "metadata": {
    "collapsed": false
   }
  },
  {
   "cell_type": "code",
   "execution_count": 237,
   "outputs": [
    {
     "name": "stdout",
     "output_type": "stream",
     "text": [
      "                                         Classification  cls_subcls  \\\n",
      "0     classification: administration & office suppor...         NaN   \n",
      "1     classification: administration & office suppor...         NaN   \n",
      "2     classification: administration & office suppor...         NaN   \n",
      "3     classification: administration & office suppor...         NaN   \n",
      "4     classification: administration & office suppor...         NaN   \n",
      "...                                                 ...         ...   \n",
      "2703  classification: administration & office suppor...         NaN   \n",
      "2704                            competitive hourly rate         NaN   \n",
      "2705                        competitive hourly rates $$         NaN   \n",
      "2706                        competitive hourly rates $$         NaN   \n",
      "2707  classification: administration & office suppor...         NaN   \n",
      "\n",
      "                                                  class  \\\n",
      "0     administration & office supportadministration ...   \n",
      "1     administration & office supportadministration ...   \n",
      "2     administration & office supportadministration ...   \n",
      "3     administration & office supportadministration ...   \n",
      "4     administration & office supportadministration ...   \n",
      "...                                                 ...   \n",
      "2703  administration & office supportadministration ...   \n",
      "2704                                                NaN   \n",
      "2705                                                NaN   \n",
      "2706                                                NaN   \n",
      "2707  administration & office supportadministration ...   \n",
      "\n",
      "                                               subclass  \n",
      "0                    office managementoffice management  \n",
      "1                            receptionistsreceptionists  \n",
      "2                                            otherother  \n",
      "3     administrative assistantsadministrative assist...  \n",
      "4     client & sales administrationclient & sales ad...  \n",
      "...                                                 ...  \n",
      "2703  client & sales administrationclient & sales ad...  \n",
      "2704                                                NaN  \n",
      "2705                                                NaN  \n",
      "2706                                                NaN  \n",
      "2707           pa, ea & secretarialpa, ea & secretarial  \n",
      "\n",
      "[2708 rows x 4 columns]\n"
     ]
    }
   ],
   "source": [
    "cls[[\"class\", \"subclass\"]] = cls[\"Classification\"].str.extract(r\"classification: (.*)subclassification: (.*)\")\n",
    "\n",
    "# 将新列赋值为 NaN，如果原来的列没有匹配项\n",
    "cls[\"class\"].fillna(value=np.nan, inplace=True)\n",
    "cls[\"subclass\"].fillna(value=np.nan, inplace=True)"
   ],
   "metadata": {
    "collapsed": false
   }
  },
  {
   "cell_type": "code",
   "execution_count": 241,
   "outputs": [
    {
     "name": "stderr",
     "output_type": "stream",
     "text": [
      "/var/folders/kb/y3v1ngq94_l3715rqgy7fttw0000gn/T/ipykernel_93619/2264536357.py:1: UserWarning: This pattern is interpreted as a regular expression, and has match groups. To actually get the groups, use str.extract.\n",
      "  cls[\"Classification\"].str.contains(r\"classification: (.*)subclassification: (.*)\")\n"
     ]
    },
    {
     "data": {
      "text/plain": "0        True\n1        True\n2        True\n3        True\n4        True\n        ...  \n2703     True\n2704    False\n2705    False\n2706    False\n2707     True\nName: Classification, Length: 2708, dtype: bool"
     },
     "execution_count": 241,
     "metadata": {},
     "output_type": "execute_result"
    }
   ],
   "source": [
    "cls[\"Classification\"].str.contains(r\"classification: (.*)subclassification: (.*)\")"
   ],
   "metadata": {
    "collapsed": false
   }
  },
  {
   "cell_type": "code",
   "execution_count": 245,
   "outputs": [],
   "source": [
    "cls['Classification'] = cls[\"Classification\"].apply(\n",
    "    lambda x: 'done' if re.search(r\"classification: (.*)subclassification: (.*)\", x) else x)"
   ],
   "metadata": {
    "collapsed": false
   }
  },
  {
   "cell_type": "code",
   "execution_count": 246,
   "outputs": [
    {
     "data": {
      "text/plain": "                   Classification  \\\n0                            done   \n1                            done   \n2                            done   \n3                            done   \n4                            done   \n...                           ...   \n2703                         done   \n2704      competitive hourly rate   \n2705  competitive hourly rates $$   \n2706  competitive hourly rates $$   \n2707                         done   \n\n                                                  class  \\\n0     administration & office supportadministration ...   \n1     administration & office supportadministration ...   \n2     administration & office supportadministration ...   \n3     administration & office supportadministration ...   \n4     administration & office supportadministration ...   \n...                                                 ...   \n2703  administration & office supportadministration ...   \n2704                                                NaN   \n2705                                                NaN   \n2706                                                NaN   \n2707  administration & office supportadministration ...   \n\n                                               subclass  \n0                    office managementoffice management  \n1                            receptionistsreceptionists  \n2                                            otherother  \n3     administrative assistantsadministrative assist...  \n4     client & sales administrationclient & sales ad...  \n...                                                 ...  \n2703  client & sales administrationclient & sales ad...  \n2704                                                NaN  \n2705                                                NaN  \n2706                                                NaN  \n2707           pa, ea & secretarialpa, ea & secretarial  \n\n[2708 rows x 3 columns]",
      "text/html": "<div>\n<style scoped>\n    .dataframe tbody tr th:only-of-type {\n        vertical-align: middle;\n    }\n\n    .dataframe tbody tr th {\n        vertical-align: top;\n    }\n\n    .dataframe thead th {\n        text-align: right;\n    }\n</style>\n<table border=\"1\" class=\"dataframe\">\n  <thead>\n    <tr style=\"text-align: right;\">\n      <th></th>\n      <th>Classification</th>\n      <th>class</th>\n      <th>subclass</th>\n    </tr>\n  </thead>\n  <tbody>\n    <tr>\n      <th>0</th>\n      <td>done</td>\n      <td>administration &amp; office supportadministration ...</td>\n      <td>office managementoffice management</td>\n    </tr>\n    <tr>\n      <th>1</th>\n      <td>done</td>\n      <td>administration &amp; office supportadministration ...</td>\n      <td>receptionistsreceptionists</td>\n    </tr>\n    <tr>\n      <th>2</th>\n      <td>done</td>\n      <td>administration &amp; office supportadministration ...</td>\n      <td>otherother</td>\n    </tr>\n    <tr>\n      <th>3</th>\n      <td>done</td>\n      <td>administration &amp; office supportadministration ...</td>\n      <td>administrative assistantsadministrative assist...</td>\n    </tr>\n    <tr>\n      <th>4</th>\n      <td>done</td>\n      <td>administration &amp; office supportadministration ...</td>\n      <td>client &amp; sales administrationclient &amp; sales ad...</td>\n    </tr>\n    <tr>\n      <th>...</th>\n      <td>...</td>\n      <td>...</td>\n      <td>...</td>\n    </tr>\n    <tr>\n      <th>2703</th>\n      <td>done</td>\n      <td>administration &amp; office supportadministration ...</td>\n      <td>client &amp; sales administrationclient &amp; sales ad...</td>\n    </tr>\n    <tr>\n      <th>2704</th>\n      <td>competitive hourly rate</td>\n      <td>NaN</td>\n      <td>NaN</td>\n    </tr>\n    <tr>\n      <th>2705</th>\n      <td>competitive hourly rates $$</td>\n      <td>NaN</td>\n      <td>NaN</td>\n    </tr>\n    <tr>\n      <th>2706</th>\n      <td>competitive hourly rates $$</td>\n      <td>NaN</td>\n      <td>NaN</td>\n    </tr>\n    <tr>\n      <th>2707</th>\n      <td>done</td>\n      <td>administration &amp; office supportadministration ...</td>\n      <td>pa, ea &amp; secretarialpa, ea &amp; secretarial</td>\n    </tr>\n  </tbody>\n</table>\n<p>2708 rows × 3 columns</p>\n</div>"
     },
     "execution_count": 246,
     "metadata": {},
     "output_type": "execute_result"
    }
   ],
   "source": [
    "cls"
   ],
   "metadata": {
    "collapsed": false
   }
  },
  {
   "cell_type": "code",
   "execution_count": 247,
   "outputs": [
    {
     "data": {
      "text/plain": "False"
     },
     "execution_count": 247,
     "metadata": {},
     "output_type": "execute_result"
    }
   ],
   "source": [
    "cls['Classification'].isnull().any()"
   ],
   "metadata": {
    "collapsed": false
   }
  },
  {
   "cell_type": "code",
   "execution_count": 248,
   "outputs": [],
   "source": [
    "cls['Classification'] = cls[\"Classification\"].apply(lambda x: np.nan if x == \"done\" else x)"
   ],
   "metadata": {
    "collapsed": false
   }
  },
  {
   "cell_type": "code",
   "execution_count": 250,
   "outputs": [
    {
     "data": {
      "text/plain": "                   Classification  \\\n0                             NaN   \n1                             NaN   \n2                             NaN   \n3                             NaN   \n4                             NaN   \n...                           ...   \n2703                          NaN   \n2704      competitive hourly rate   \n2705  competitive hourly rates $$   \n2706  competitive hourly rates $$   \n2707                          NaN   \n\n                                                  class  \\\n0     administration & office supportadministration ...   \n1     administration & office supportadministration ...   \n2     administration & office supportadministration ...   \n3     administration & office supportadministration ...   \n4     administration & office supportadministration ...   \n...                                                 ...   \n2703  administration & office supportadministration ...   \n2704                                                NaN   \n2705                                                NaN   \n2706                                                NaN   \n2707  administration & office supportadministration ...   \n\n                                               subclass  \n0                    office managementoffice management  \n1                            receptionistsreceptionists  \n2                                            otherother  \n3     administrative assistantsadministrative assist...  \n4     client & sales administrationclient & sales ad...  \n...                                                 ...  \n2703  client & sales administrationclient & sales ad...  \n2704                                                NaN  \n2705                                                NaN  \n2706                                                NaN  \n2707           pa, ea & secretarialpa, ea & secretarial  \n\n[2708 rows x 3 columns]",
      "text/html": "<div>\n<style scoped>\n    .dataframe tbody tr th:only-of-type {\n        vertical-align: middle;\n    }\n\n    .dataframe tbody tr th {\n        vertical-align: top;\n    }\n\n    .dataframe thead th {\n        text-align: right;\n    }\n</style>\n<table border=\"1\" class=\"dataframe\">\n  <thead>\n    <tr style=\"text-align: right;\">\n      <th></th>\n      <th>Classification</th>\n      <th>class</th>\n      <th>subclass</th>\n    </tr>\n  </thead>\n  <tbody>\n    <tr>\n      <th>0</th>\n      <td>NaN</td>\n      <td>administration &amp; office supportadministration ...</td>\n      <td>office managementoffice management</td>\n    </tr>\n    <tr>\n      <th>1</th>\n      <td>NaN</td>\n      <td>administration &amp; office supportadministration ...</td>\n      <td>receptionistsreceptionists</td>\n    </tr>\n    <tr>\n      <th>2</th>\n      <td>NaN</td>\n      <td>administration &amp; office supportadministration ...</td>\n      <td>otherother</td>\n    </tr>\n    <tr>\n      <th>3</th>\n      <td>NaN</td>\n      <td>administration &amp; office supportadministration ...</td>\n      <td>administrative assistantsadministrative assist...</td>\n    </tr>\n    <tr>\n      <th>4</th>\n      <td>NaN</td>\n      <td>administration &amp; office supportadministration ...</td>\n      <td>client &amp; sales administrationclient &amp; sales ad...</td>\n    </tr>\n    <tr>\n      <th>...</th>\n      <td>...</td>\n      <td>...</td>\n      <td>...</td>\n    </tr>\n    <tr>\n      <th>2703</th>\n      <td>NaN</td>\n      <td>administration &amp; office supportadministration ...</td>\n      <td>client &amp; sales administrationclient &amp; sales ad...</td>\n    </tr>\n    <tr>\n      <th>2704</th>\n      <td>competitive hourly rate</td>\n      <td>NaN</td>\n      <td>NaN</td>\n    </tr>\n    <tr>\n      <th>2705</th>\n      <td>competitive hourly rates $$</td>\n      <td>NaN</td>\n      <td>NaN</td>\n    </tr>\n    <tr>\n      <th>2706</th>\n      <td>competitive hourly rates $$</td>\n      <td>NaN</td>\n      <td>NaN</td>\n    </tr>\n    <tr>\n      <th>2707</th>\n      <td>NaN</td>\n      <td>administration &amp; office supportadministration ...</td>\n      <td>pa, ea &amp; secretarialpa, ea &amp; secretarial</td>\n    </tr>\n  </tbody>\n</table>\n<p>2708 rows × 3 columns</p>\n</div>"
     },
     "execution_count": 250,
     "metadata": {},
     "output_type": "execute_result"
    }
   ],
   "source": [
    "cls"
   ],
   "metadata": {
    "collapsed": false
   }
  },
  {
   "cell_type": "code",
   "execution_count": 256,
   "outputs": [
    {
     "data": {
      "text/plain": "True"
     },
     "execution_count": 256,
     "metadata": {},
     "output_type": "execute_result"
    }
   ],
   "source": [
    "# 用于检查class和subclass是否同时存在或者同时不存在，如果判断为真，之后处理class和subclass将会简单一些\n",
    "((cls['class'].isnull() & cls['subclass'].isnull()) | (cls['class'].notnull() & cls['subclass'].notnull())).all()"
   ],
   "metadata": {
    "collapsed": false
   }
  },
  {
   "cell_type": "code",
   "execution_count": 270,
   "outputs": [],
   "source": [
    "def class_drop_duplicate(class_str):\n",
    "    if class_str != np.nan:\n",
    "        class_str = str(class_str)\n",
    "        if class_str[-1] == \" \":\n",
    "            class_str = class_str.replace(class_str[-1], \"\")\n",
    "        return class_str[:len(class_str) // 2] \\\n",
    "            if class_str[:len(class_str) // 2] == class_str[len(class_str) // 2:] \\\n",
    "            else class_str\n",
    "    else:\n",
    "        return class_str"
   ],
   "metadata": {
    "collapsed": false
   }
  },
  {
   "cell_type": "code",
   "execution_count": 271,
   "outputs": [],
   "source": [
    "cls['class'] = cls['class'].apply(class_drop_duplicate)"
   ],
   "metadata": {
    "collapsed": false
   }
  },
  {
   "cell_type": "code",
   "execution_count": 273,
   "outputs": [],
   "source": [
    "cls['subclass'] = cls['subclass'].apply(class_drop_duplicate)"
   ],
   "metadata": {
    "collapsed": false
   }
  },
  {
   "cell_type": "code",
   "execution_count": 274,
   "outputs": [
    {
     "data": {
      "text/plain": "                   Classification                            class  \\\n0                             NaN  administration & office support   \n1                             NaN  administration & office support   \n2                             NaN  administration & office support   \n3                             NaN  administration & office support   \n4                             NaN  administration & office support   \n...                           ...                              ...   \n2703                          NaN  administration & office support   \n2704      competitive hourly rate                              nan   \n2705  competitive hourly rates $$                              nan   \n2706  competitive hourly rates $$                              nan   \n2707                          NaN  administration & office support   \n\n                           subclass  \n0                 office management  \n1                     receptionists  \n2                             other  \n3         administrative assistants  \n4     client & sales administration  \n...                             ...  \n2703  client & sales administration  \n2704                            nan  \n2705                            nan  \n2706                            nan  \n2707           pa, ea & secretarial  \n\n[2708 rows x 3 columns]",
      "text/html": "<div>\n<style scoped>\n    .dataframe tbody tr th:only-of-type {\n        vertical-align: middle;\n    }\n\n    .dataframe tbody tr th {\n        vertical-align: top;\n    }\n\n    .dataframe thead th {\n        text-align: right;\n    }\n</style>\n<table border=\"1\" class=\"dataframe\">\n  <thead>\n    <tr style=\"text-align: right;\">\n      <th></th>\n      <th>Classification</th>\n      <th>class</th>\n      <th>subclass</th>\n    </tr>\n  </thead>\n  <tbody>\n    <tr>\n      <th>0</th>\n      <td>NaN</td>\n      <td>administration &amp; office support</td>\n      <td>office management</td>\n    </tr>\n    <tr>\n      <th>1</th>\n      <td>NaN</td>\n      <td>administration &amp; office support</td>\n      <td>receptionists</td>\n    </tr>\n    <tr>\n      <th>2</th>\n      <td>NaN</td>\n      <td>administration &amp; office support</td>\n      <td>other</td>\n    </tr>\n    <tr>\n      <th>3</th>\n      <td>NaN</td>\n      <td>administration &amp; office support</td>\n      <td>administrative assistants</td>\n    </tr>\n    <tr>\n      <th>4</th>\n      <td>NaN</td>\n      <td>administration &amp; office support</td>\n      <td>client &amp; sales administration</td>\n    </tr>\n    <tr>\n      <th>...</th>\n      <td>...</td>\n      <td>...</td>\n      <td>...</td>\n    </tr>\n    <tr>\n      <th>2703</th>\n      <td>NaN</td>\n      <td>administration &amp; office support</td>\n      <td>client &amp; sales administration</td>\n    </tr>\n    <tr>\n      <th>2704</th>\n      <td>competitive hourly rate</td>\n      <td>nan</td>\n      <td>nan</td>\n    </tr>\n    <tr>\n      <th>2705</th>\n      <td>competitive hourly rates $$</td>\n      <td>nan</td>\n      <td>nan</td>\n    </tr>\n    <tr>\n      <th>2706</th>\n      <td>competitive hourly rates $$</td>\n      <td>nan</td>\n      <td>nan</td>\n    </tr>\n    <tr>\n      <th>2707</th>\n      <td>NaN</td>\n      <td>administration &amp; office support</td>\n      <td>pa, ea &amp; secretarial</td>\n    </tr>\n  </tbody>\n</table>\n<p>2708 rows × 3 columns</p>\n</div>"
     },
     "execution_count": 274,
     "metadata": {},
     "output_type": "execute_result"
    }
   ],
   "source": [
    "cls"
   ],
   "metadata": {
    "collapsed": false
   }
  },
  {
   "cell_type": "code",
   "execution_count": 275,
   "outputs": [
    {
     "data": {
      "text/plain": "                                      Name       Location  \\\n0                            Administrator  Bay of Plenty   \n1                             Receptionist  Bay of Plenty   \n2             Prosecutions Support Officer       Auckland   \n3     Early Childhood Centre Administrator      Southland   \n4           Business Support Administrator     Canterbury   \n...                                    ...            ...   \n2703                   Key Account Manager       Auckland   \n2704                   Executive Assistant     Wellington   \n2705                Temporary Office Roles        Waikato   \n2706                Temporary Office Roles        Waikato   \n2707                   Executive Assistant     Wellington   \n\n                                                   Area     JobId   JobType  \\\n0                                              Tauranga  50582301  promoted   \n1                                              Tauranga  50620889  promoted   \n2                                                   NaN  50622169  standard   \n3                                          Invercargill  50639620  standard   \n4                                          Christchurch  50622432  standout   \n...                                                 ...       ...       ...   \n2703                                   Auckland Central  50490062  standout   \n2704  Wellington CentralWellington Central,Competiti...  50488000  standout   \n2705       HamiltonHamilton,Competitive hourly rates $$  50524865  standout   \n2706       HamiltonHamilton,Competitive hourly rates $$  50477118  standout   \n2707                                                NaN  50496571  standout   \n\n                                                   Link  \\\n0     https://www.seek.co.nz/job/50582301?type=promo...   \n1     https://www.seek.co.nz/job/50620889?type=promo...   \n2     https://www.seek.co.nz/job/50622169?type=stand...   \n3     https://www.seek.co.nz/job/50639620?type=stand...   \n4     https://www.seek.co.nz/job/50622432?type=stand...   \n...                                                 ...   \n2703  https://www.seek.co.nz/job/50490062?type=stand...   \n2704  https://www.seek.co.nz/job/50488000?type=stand...   \n2705  https://www.seek.co.nz/job/50524865?type=stand...   \n2706  https://www.seek.co.nz/job/50477118?type=stand...   \n2707  https://www.seek.co.nz/job/50496571?type=stand...   \n\n                                    Department  PrivateAdvertiser  Featured  \\\n0                                          NaN                  1         1   \n1                         Avenues Orthodontics                  0         1   \n2                           New Zealand Police                  0         0   \n3     Kew Pacific Island Early Learning Centre                  0         0   \n4                                          NaN                  1         0   \n...                                        ...                ...       ...   \n2703                     Hays Talent Solutions                  0         0   \n2704                    one eighty recruitment                  0         0   \n2705                     Asset Recruitment Ltd                  0         0   \n2706                     Asset Recruitment Ltd                  0         0   \n2707                    Alpha Recruitment - NZ                  0         0   \n\n              Datetime                                     Classification  \n0                  NaN  classification: Administration & Office Suppor...  \n1                  NaN  classification: Administration & Office Suppor...  \n2     2022-12-20 16:59  classification: Administration & Office Suppor...  \n3     2022-12-24 15:59  classification: Administration & Office Suppor...  \n4     2022-12-20 16:59  classification: Administration & Office Suppor...  \n...                ...                                                ...  \n2703  2022-11-27 16:59  classification: Administration & Office Suppor...  \n2704  2022-11-27 16:59                            Competitive hourly rate  \n2705  2022-12-04 16:59                        Competitive hourly rates $$  \n2706  2022-11-26 16:59                        Competitive hourly rates $$  \n2707  2022-11-28 16:59  classification: Administration & Office Suppor...  \n\n[2708 rows x 11 columns]",
      "text/html": "<div>\n<style scoped>\n    .dataframe tbody tr th:only-of-type {\n        vertical-align: middle;\n    }\n\n    .dataframe tbody tr th {\n        vertical-align: top;\n    }\n\n    .dataframe thead th {\n        text-align: right;\n    }\n</style>\n<table border=\"1\" class=\"dataframe\">\n  <thead>\n    <tr style=\"text-align: right;\">\n      <th></th>\n      <th>Name</th>\n      <th>Location</th>\n      <th>Area</th>\n      <th>JobId</th>\n      <th>JobType</th>\n      <th>Link</th>\n      <th>Department</th>\n      <th>PrivateAdvertiser</th>\n      <th>Featured</th>\n      <th>Datetime</th>\n      <th>Classification</th>\n    </tr>\n  </thead>\n  <tbody>\n    <tr>\n      <th>0</th>\n      <td>Administrator</td>\n      <td>Bay of Plenty</td>\n      <td>Tauranga</td>\n      <td>50582301</td>\n      <td>promoted</td>\n      <td>https://www.seek.co.nz/job/50582301?type=promo...</td>\n      <td>NaN</td>\n      <td>1</td>\n      <td>1</td>\n      <td>NaN</td>\n      <td>classification: Administration &amp; Office Suppor...</td>\n    </tr>\n    <tr>\n      <th>1</th>\n      <td>Receptionist</td>\n      <td>Bay of Plenty</td>\n      <td>Tauranga</td>\n      <td>50620889</td>\n      <td>promoted</td>\n      <td>https://www.seek.co.nz/job/50620889?type=promo...</td>\n      <td>Avenues Orthodontics</td>\n      <td>0</td>\n      <td>1</td>\n      <td>NaN</td>\n      <td>classification: Administration &amp; Office Suppor...</td>\n    </tr>\n    <tr>\n      <th>2</th>\n      <td>Prosecutions Support Officer</td>\n      <td>Auckland</td>\n      <td>NaN</td>\n      <td>50622169</td>\n      <td>standard</td>\n      <td>https://www.seek.co.nz/job/50622169?type=stand...</td>\n      <td>New Zealand Police</td>\n      <td>0</td>\n      <td>0</td>\n      <td>2022-12-20 16:59</td>\n      <td>classification: Administration &amp; Office Suppor...</td>\n    </tr>\n    <tr>\n      <th>3</th>\n      <td>Early Childhood Centre Administrator</td>\n      <td>Southland</td>\n      <td>Invercargill</td>\n      <td>50639620</td>\n      <td>standard</td>\n      <td>https://www.seek.co.nz/job/50639620?type=stand...</td>\n      <td>Kew Pacific Island Early Learning Centre</td>\n      <td>0</td>\n      <td>0</td>\n      <td>2022-12-24 15:59</td>\n      <td>classification: Administration &amp; Office Suppor...</td>\n    </tr>\n    <tr>\n      <th>4</th>\n      <td>Business Support Administrator</td>\n      <td>Canterbury</td>\n      <td>Christchurch</td>\n      <td>50622432</td>\n      <td>standout</td>\n      <td>https://www.seek.co.nz/job/50622432?type=stand...</td>\n      <td>NaN</td>\n      <td>1</td>\n      <td>0</td>\n      <td>2022-12-20 16:59</td>\n      <td>classification: Administration &amp; Office Suppor...</td>\n    </tr>\n    <tr>\n      <th>...</th>\n      <td>...</td>\n      <td>...</td>\n      <td>...</td>\n      <td>...</td>\n      <td>...</td>\n      <td>...</td>\n      <td>...</td>\n      <td>...</td>\n      <td>...</td>\n      <td>...</td>\n      <td>...</td>\n    </tr>\n    <tr>\n      <th>2703</th>\n      <td>Key Account Manager</td>\n      <td>Auckland</td>\n      <td>Auckland Central</td>\n      <td>50490062</td>\n      <td>standout</td>\n      <td>https://www.seek.co.nz/job/50490062?type=stand...</td>\n      <td>Hays Talent Solutions</td>\n      <td>0</td>\n      <td>0</td>\n      <td>2022-11-27 16:59</td>\n      <td>classification: Administration &amp; Office Suppor...</td>\n    </tr>\n    <tr>\n      <th>2704</th>\n      <td>Executive Assistant</td>\n      <td>Wellington</td>\n      <td>Wellington CentralWellington Central,Competiti...</td>\n      <td>50488000</td>\n      <td>standout</td>\n      <td>https://www.seek.co.nz/job/50488000?type=stand...</td>\n      <td>one eighty recruitment</td>\n      <td>0</td>\n      <td>0</td>\n      <td>2022-11-27 16:59</td>\n      <td>Competitive hourly rate</td>\n    </tr>\n    <tr>\n      <th>2705</th>\n      <td>Temporary Office Roles</td>\n      <td>Waikato</td>\n      <td>HamiltonHamilton,Competitive hourly rates $$</td>\n      <td>50524865</td>\n      <td>standout</td>\n      <td>https://www.seek.co.nz/job/50524865?type=stand...</td>\n      <td>Asset Recruitment Ltd</td>\n      <td>0</td>\n      <td>0</td>\n      <td>2022-12-04 16:59</td>\n      <td>Competitive hourly rates $$</td>\n    </tr>\n    <tr>\n      <th>2706</th>\n      <td>Temporary Office Roles</td>\n      <td>Waikato</td>\n      <td>HamiltonHamilton,Competitive hourly rates $$</td>\n      <td>50477118</td>\n      <td>standout</td>\n      <td>https://www.seek.co.nz/job/50477118?type=stand...</td>\n      <td>Asset Recruitment Ltd</td>\n      <td>0</td>\n      <td>0</td>\n      <td>2022-11-26 16:59</td>\n      <td>Competitive hourly rates $$</td>\n    </tr>\n    <tr>\n      <th>2707</th>\n      <td>Executive Assistant</td>\n      <td>Wellington</td>\n      <td>NaN</td>\n      <td>50496571</td>\n      <td>standout</td>\n      <td>https://www.seek.co.nz/job/50496571?type=stand...</td>\n      <td>Alpha Recruitment - NZ</td>\n      <td>0</td>\n      <td>0</td>\n      <td>2022-11-28 16:59</td>\n      <td>classification: Administration &amp; Office Suppor...</td>\n    </tr>\n  </tbody>\n</table>\n<p>2708 rows × 11 columns</p>\n</div>"
     },
     "execution_count": 275,
     "metadata": {},
     "output_type": "execute_result"
    }
   ],
   "source": [
    "jobs"
   ],
   "metadata": {
    "collapsed": false
   }
  },
  {
   "cell_type": "code",
   "execution_count": 276,
   "outputs": [],
   "source": [
    "jobs.insert(jobs.columns.get_loc('Classification'), 'Class', cls['class'])\n",
    "jobs.insert(jobs.columns.get_loc('Classification'), 'Subclass', cls['subclass'])\n",
    "jobs.insert(jobs.columns.get_loc('Classification'), 'Remark', cls['Classification'])"
   ],
   "metadata": {
    "collapsed": false
   }
  },
  {
   "cell_type": "code",
   "execution_count": 278,
   "outputs": [],
   "source": [
    "jobs = jobs.drop(columns = 'Classification')"
   ],
   "metadata": {
    "collapsed": false
   }
  },
  {
   "cell_type": "code",
   "execution_count": 279,
   "outputs": [
    {
     "data": {
      "text/plain": "                                      Name       Location  \\\n0                            Administrator  Bay of Plenty   \n1                             Receptionist  Bay of Plenty   \n2             Prosecutions Support Officer       Auckland   \n3     Early Childhood Centre Administrator      Southland   \n4           Business Support Administrator     Canterbury   \n...                                    ...            ...   \n2703                   Key Account Manager       Auckland   \n2704                   Executive Assistant     Wellington   \n2705                Temporary Office Roles        Waikato   \n2706                Temporary Office Roles        Waikato   \n2707                   Executive Assistant     Wellington   \n\n                                                   Area     JobId   JobType  \\\n0                                              Tauranga  50582301  promoted   \n1                                              Tauranga  50620889  promoted   \n2                                                   NaN  50622169  standard   \n3                                          Invercargill  50639620  standard   \n4                                          Christchurch  50622432  standout   \n...                                                 ...       ...       ...   \n2703                                   Auckland Central  50490062  standout   \n2704  Wellington CentralWellington Central,Competiti...  50488000  standout   \n2705       HamiltonHamilton,Competitive hourly rates $$  50524865  standout   \n2706       HamiltonHamilton,Competitive hourly rates $$  50477118  standout   \n2707                                                NaN  50496571  standout   \n\n                                                   Link  \\\n0     https://www.seek.co.nz/job/50582301?type=promo...   \n1     https://www.seek.co.nz/job/50620889?type=promo...   \n2     https://www.seek.co.nz/job/50622169?type=stand...   \n3     https://www.seek.co.nz/job/50639620?type=stand...   \n4     https://www.seek.co.nz/job/50622432?type=stand...   \n...                                                 ...   \n2703  https://www.seek.co.nz/job/50490062?type=stand...   \n2704  https://www.seek.co.nz/job/50488000?type=stand...   \n2705  https://www.seek.co.nz/job/50524865?type=stand...   \n2706  https://www.seek.co.nz/job/50477118?type=stand...   \n2707  https://www.seek.co.nz/job/50496571?type=stand...   \n\n                                    Department  PrivateAdvertiser  Featured  \\\n0                                          NaN                  1         1   \n1                         Avenues Orthodontics                  0         1   \n2                           New Zealand Police                  0         0   \n3     Kew Pacific Island Early Learning Centre                  0         0   \n4                                          NaN                  1         0   \n...                                        ...                ...       ...   \n2703                     Hays Talent Solutions                  0         0   \n2704                    one eighty recruitment                  0         0   \n2705                     Asset Recruitment Ltd                  0         0   \n2706                     Asset Recruitment Ltd                  0         0   \n2707                    Alpha Recruitment - NZ                  0         0   \n\n              Datetime                            Class  \\\n0                  NaN  administration & office support   \n1                  NaN  administration & office support   \n2     2022-12-20 16:59  administration & office support   \n3     2022-12-24 15:59  administration & office support   \n4     2022-12-20 16:59  administration & office support   \n...                ...                              ...   \n2703  2022-11-27 16:59  administration & office support   \n2704  2022-11-27 16:59                              nan   \n2705  2022-12-04 16:59                              nan   \n2706  2022-11-26 16:59                              nan   \n2707  2022-11-28 16:59  administration & office support   \n\n                           Subclass                       Remark  \n0                 office management                          NaN  \n1                     receptionists                          NaN  \n2                             other                          NaN  \n3         administrative assistants                          NaN  \n4     client & sales administration                          NaN  \n...                             ...                          ...  \n2703  client & sales administration                          NaN  \n2704                            nan      competitive hourly rate  \n2705                            nan  competitive hourly rates $$  \n2706                            nan  competitive hourly rates $$  \n2707           pa, ea & secretarial                          NaN  \n\n[2708 rows x 13 columns]",
      "text/html": "<div>\n<style scoped>\n    .dataframe tbody tr th:only-of-type {\n        vertical-align: middle;\n    }\n\n    .dataframe tbody tr th {\n        vertical-align: top;\n    }\n\n    .dataframe thead th {\n        text-align: right;\n    }\n</style>\n<table border=\"1\" class=\"dataframe\">\n  <thead>\n    <tr style=\"text-align: right;\">\n      <th></th>\n      <th>Name</th>\n      <th>Location</th>\n      <th>Area</th>\n      <th>JobId</th>\n      <th>JobType</th>\n      <th>Link</th>\n      <th>Department</th>\n      <th>PrivateAdvertiser</th>\n      <th>Featured</th>\n      <th>Datetime</th>\n      <th>Class</th>\n      <th>Subclass</th>\n      <th>Remark</th>\n    </tr>\n  </thead>\n  <tbody>\n    <tr>\n      <th>0</th>\n      <td>Administrator</td>\n      <td>Bay of Plenty</td>\n      <td>Tauranga</td>\n      <td>50582301</td>\n      <td>promoted</td>\n      <td>https://www.seek.co.nz/job/50582301?type=promo...</td>\n      <td>NaN</td>\n      <td>1</td>\n      <td>1</td>\n      <td>NaN</td>\n      <td>administration &amp; office support</td>\n      <td>office management</td>\n      <td>NaN</td>\n    </tr>\n    <tr>\n      <th>1</th>\n      <td>Receptionist</td>\n      <td>Bay of Plenty</td>\n      <td>Tauranga</td>\n      <td>50620889</td>\n      <td>promoted</td>\n      <td>https://www.seek.co.nz/job/50620889?type=promo...</td>\n      <td>Avenues Orthodontics</td>\n      <td>0</td>\n      <td>1</td>\n      <td>NaN</td>\n      <td>administration &amp; office support</td>\n      <td>receptionists</td>\n      <td>NaN</td>\n    </tr>\n    <tr>\n      <th>2</th>\n      <td>Prosecutions Support Officer</td>\n      <td>Auckland</td>\n      <td>NaN</td>\n      <td>50622169</td>\n      <td>standard</td>\n      <td>https://www.seek.co.nz/job/50622169?type=stand...</td>\n      <td>New Zealand Police</td>\n      <td>0</td>\n      <td>0</td>\n      <td>2022-12-20 16:59</td>\n      <td>administration &amp; office support</td>\n      <td>other</td>\n      <td>NaN</td>\n    </tr>\n    <tr>\n      <th>3</th>\n      <td>Early Childhood Centre Administrator</td>\n      <td>Southland</td>\n      <td>Invercargill</td>\n      <td>50639620</td>\n      <td>standard</td>\n      <td>https://www.seek.co.nz/job/50639620?type=stand...</td>\n      <td>Kew Pacific Island Early Learning Centre</td>\n      <td>0</td>\n      <td>0</td>\n      <td>2022-12-24 15:59</td>\n      <td>administration &amp; office support</td>\n      <td>administrative assistants</td>\n      <td>NaN</td>\n    </tr>\n    <tr>\n      <th>4</th>\n      <td>Business Support Administrator</td>\n      <td>Canterbury</td>\n      <td>Christchurch</td>\n      <td>50622432</td>\n      <td>standout</td>\n      <td>https://www.seek.co.nz/job/50622432?type=stand...</td>\n      <td>NaN</td>\n      <td>1</td>\n      <td>0</td>\n      <td>2022-12-20 16:59</td>\n      <td>administration &amp; office support</td>\n      <td>client &amp; sales administration</td>\n      <td>NaN</td>\n    </tr>\n    <tr>\n      <th>...</th>\n      <td>...</td>\n      <td>...</td>\n      <td>...</td>\n      <td>...</td>\n      <td>...</td>\n      <td>...</td>\n      <td>...</td>\n      <td>...</td>\n      <td>...</td>\n      <td>...</td>\n      <td>...</td>\n      <td>...</td>\n      <td>...</td>\n    </tr>\n    <tr>\n      <th>2703</th>\n      <td>Key Account Manager</td>\n      <td>Auckland</td>\n      <td>Auckland Central</td>\n      <td>50490062</td>\n      <td>standout</td>\n      <td>https://www.seek.co.nz/job/50490062?type=stand...</td>\n      <td>Hays Talent Solutions</td>\n      <td>0</td>\n      <td>0</td>\n      <td>2022-11-27 16:59</td>\n      <td>administration &amp; office support</td>\n      <td>client &amp; sales administration</td>\n      <td>NaN</td>\n    </tr>\n    <tr>\n      <th>2704</th>\n      <td>Executive Assistant</td>\n      <td>Wellington</td>\n      <td>Wellington CentralWellington Central,Competiti...</td>\n      <td>50488000</td>\n      <td>standout</td>\n      <td>https://www.seek.co.nz/job/50488000?type=stand...</td>\n      <td>one eighty recruitment</td>\n      <td>0</td>\n      <td>0</td>\n      <td>2022-11-27 16:59</td>\n      <td>nan</td>\n      <td>nan</td>\n      <td>competitive hourly rate</td>\n    </tr>\n    <tr>\n      <th>2705</th>\n      <td>Temporary Office Roles</td>\n      <td>Waikato</td>\n      <td>HamiltonHamilton,Competitive hourly rates $$</td>\n      <td>50524865</td>\n      <td>standout</td>\n      <td>https://www.seek.co.nz/job/50524865?type=stand...</td>\n      <td>Asset Recruitment Ltd</td>\n      <td>0</td>\n      <td>0</td>\n      <td>2022-12-04 16:59</td>\n      <td>nan</td>\n      <td>nan</td>\n      <td>competitive hourly rates $$</td>\n    </tr>\n    <tr>\n      <th>2706</th>\n      <td>Temporary Office Roles</td>\n      <td>Waikato</td>\n      <td>HamiltonHamilton,Competitive hourly rates $$</td>\n      <td>50477118</td>\n      <td>standout</td>\n      <td>https://www.seek.co.nz/job/50477118?type=stand...</td>\n      <td>Asset Recruitment Ltd</td>\n      <td>0</td>\n      <td>0</td>\n      <td>2022-11-26 16:59</td>\n      <td>nan</td>\n      <td>nan</td>\n      <td>competitive hourly rates $$</td>\n    </tr>\n    <tr>\n      <th>2707</th>\n      <td>Executive Assistant</td>\n      <td>Wellington</td>\n      <td>NaN</td>\n      <td>50496571</td>\n      <td>standout</td>\n      <td>https://www.seek.co.nz/job/50496571?type=stand...</td>\n      <td>Alpha Recruitment - NZ</td>\n      <td>0</td>\n      <td>0</td>\n      <td>2022-11-28 16:59</td>\n      <td>administration &amp; office support</td>\n      <td>pa, ea &amp; secretarial</td>\n      <td>NaN</td>\n    </tr>\n  </tbody>\n</table>\n<p>2708 rows × 13 columns</p>\n</div>"
     },
     "execution_count": 279,
     "metadata": {},
     "output_type": "execute_result"
    }
   ],
   "source": [
    "jobs"
   ],
   "metadata": {
    "collapsed": false
   }
  },
  {
   "cell_type": "markdown",
   "source": [
    "### 数据初步预处理完成，输出文件"
   ],
   "metadata": {
    "collapsed": false
   }
  },
  {
   "cell_type": "code",
   "execution_count": 280,
   "outputs": [],
   "source": [
    "jobs.to_excel('DataSource_NZSeek/NZ_Admin_JOBS_PREPROCESSED.xlsx')\n",
    "jobs.to_csv('DataSource_NZSeek/NZ_Admin_JOBS_PREPROCESSED.csv')"
   ],
   "metadata": {
    "collapsed": false
   }
  },
  {
   "cell_type": "code",
   "execution_count": null,
   "outputs": [],
   "source": [],
   "metadata": {
    "collapsed": false
   }
  }
 ],
 "metadata": {
  "kernelspec": {
   "display_name": "Python 3",
   "language": "python",
   "name": "python3"
  },
  "language_info": {
   "codemirror_mode": {
    "name": "ipython",
    "version": 2
   },
   "file_extension": ".py",
   "mimetype": "text/x-python",
   "name": "python",
   "nbconvert_exporter": "python",
   "pygments_lexer": "ipython2",
   "version": "2.7.6"
  }
 },
 "nbformat": 4,
 "nbformat_minor": 0
}
